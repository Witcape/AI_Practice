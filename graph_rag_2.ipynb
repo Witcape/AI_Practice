{
  "nbformat": 4,
  "nbformat_minor": 0,
  "metadata": {
    "colab": {
      "provenance": [],
      "include_colab_link": true
    },
    "kernelspec": {
      "name": "python3",
      "display_name": "Python 3"
    },
    "language_info": {
      "name": "python"
    }
  },
  "cells": [
    {
      "cell_type": "markdown",
      "metadata": {
        "id": "view-in-github",
        "colab_type": "text"
      },
      "source": [
        "<a href=\"https://colab.research.google.com/github/Witcape/AI_Practice/blob/main/graph_rag_2.ipynb\" target=\"_parent\"><img src=\"https://colab.research.google.com/assets/colab-badge.svg\" alt=\"Open In Colab\"/></a>"
      ]
    },
    {
      "cell_type": "code",
      "source": [
        "# !pip install langchain-experimental langchain-community langchain networkx langchain-google-genai langchain-core json-repair"
      ],
      "metadata": {
        "id": "x1xnr5GGyTRg"
      },
      "execution_count": 1,
      "outputs": []
    },
    {
      "cell_type": "code",
      "execution_count": 2,
      "metadata": {
        "id": "D5WvDx7wxOhE"
      },
      "outputs": [],
      "source": [
        "# import os\n",
        "# import time\n",
        "# import networkx as nx\n",
        "# import google.generativeai as genai\n",
        "# from langchain_experimental.graph_transformers import LLMGraphTransformer\n",
        "# from langchain_google_genai import GoogleGenerativeAI\n",
        "# from langchain.chains import GraphQAChain\n",
        "# from langchain_core.documents import Document\n",
        "# from langchain_community.graphs.networkx_graph import NetworkxEntityGraph"
      ]
    },
    {
      "cell_type": "code",
      "source": [
        "# import google.generativeai as genai\n",
        "# from google.colab import userdata\n",
        "\n",
        "# GOOGLE_API_KEY=userdata.get('GOOGLE_API_KEY')\n",
        "# genai.configure(api_key=GOOGLE_API_KEY)\n",
        "# llm = GoogleGenerativeAI(model=\"gemini-pro\", google_api_key=GOOGLE_API_KEY)"
      ],
      "metadata": {
        "id": "AodhDowAx6kw"
      },
      "execution_count": 3,
      "outputs": []
    },
    {
      "cell_type": "code",
      "source": [
        "# # Input text\n",
        "# doc_text = \"\"\"\n",
        "# A traveler, John Doe, lost his black Samsonite suitcase at JFK Airport on February 20th.\n",
        "# He last saw it at the security checkpoint in Terminal 4 before proceeding to Gate B22 for his flight to London.\n",
        "# The suitcase contains important documents, a laptop, and personal belongings.\n",
        "# Airport security reviewed footage from multiple CCTV cameras along the route from security to the boarding gate.\n",
        "# It was last seen near a coffee shop in the terminal before disappearing from view.\n",
        "# The airport authorities are investigating whether it was misplaced, stolen, or mistakenly taken by another passenger.\n",
        "# \"\"\"\n",
        "\n",
        "# documents = [Document(page_content=doc_text)]"
      ],
      "metadata": {
        "id": "hmcipNeAyhOk"
      },
      "execution_count": 4,
      "outputs": []
    },
    {
      "cell_type": "code",
      "source": [
        "# # Initialize the Graph Transformer\n",
        "# llm_transformer = LLMGraphTransformer(llm=llm)\n",
        "# graph_documents = llm_transformer.convert_to_graph_documents(documents)\n",
        "\n",
        "# # Filter Graph Transformer\n",
        "# llm_transformer_filtered = LLMGraphTransformer(\n",
        "#     llm=llm,\n",
        "#     allowed_nodes=[\"Person\", \"Item\", \"Location\", \"Event\"],\n",
        "#     allowed_relationships=[\"LAST_SEEN_AT\", \"OWNED_BY\", \"INVESTIGATED_BY\", \"RECORDED_BY\", \"CONNECTED_TO\", \"CONTAINS\"],\n",
        "# )\n",
        "# graph_documents_filtered = llm_transformer_filtered.convert_to_graph_documents(documents)\n",
        "\n",
        "# # Create NetworkX Graph\n",
        "# graph = NetworkxEntityGraph()"
      ],
      "metadata": {
        "id": "j0AHAb3nzVOU"
      },
      "execution_count": 5,
      "outputs": []
    },
    {
      "cell_type": "code",
      "source": [
        "# # Add nodes to the graph\n",
        "# for node in graph_documents_filtered[0].nodes:\n",
        "#     graph.add_node(node.id)\n",
        "\n",
        "# # Add edges to the graph\n",
        "# for edge in graph_documents_filtered[0].relationships:\n",
        "#     graph._graph.add_edge(edge.source.id, edge.target.id, relation=edge.type)\n"
      ],
      "metadata": {
        "id": "mUM6Y2hmzX4y"
      },
      "execution_count": 6,
      "outputs": []
    },
    {
      "cell_type": "code",
      "source": [
        "# # Initialize the GraphQAChain\n",
        "# chain = GraphQAChain.from_llm(llm=llm, graph=graph, verbose=True)"
      ],
      "metadata": {
        "id": "FBrM75Zezbjp"
      },
      "execution_count": 7,
      "outputs": []
    },
    {
      "cell_type": "code",
      "source": [
        "# # Query the graph\n",
        "# question = \"Where was john doe's suitcase seen?\"\n",
        "# response = chain.run(question)\n",
        "# print(response)"
      ],
      "metadata": {
        "id": "PC3LvK3azelp"
      },
      "execution_count": 8,
      "outputs": []
    },
    {
      "cell_type": "code",
      "source": [
        "!pip install langchain-experimental langchain-community langchain networkx langchain-google-genai langchain-core json-repair matplotlib"
      ],
      "metadata": {
        "colab": {
          "base_uri": "https://localhost:8080/"
        },
        "id": "STn-o3lWze43",
        "outputId": "026cca96-0d5a-4148-c80f-1ba97d6c1cea"
      },
      "execution_count": 1,
      "outputs": [
        {
          "output_type": "stream",
          "name": "stdout",
          "text": [
            "Requirement already satisfied: langchain-experimental in /usr/local/lib/python3.11/dist-packages (0.3.4)\n",
            "Requirement already satisfied: langchain-community in /usr/local/lib/python3.11/dist-packages (0.3.18)\n",
            "Requirement already satisfied: langchain in /usr/local/lib/python3.11/dist-packages (0.3.19)\n",
            "Requirement already satisfied: networkx in /usr/local/lib/python3.11/dist-packages (3.4.2)\n",
            "Requirement already satisfied: langchain-google-genai in /usr/local/lib/python3.11/dist-packages (2.0.11)\n",
            "Requirement already satisfied: langchain-core in /usr/local/lib/python3.11/dist-packages (0.3.37)\n",
            "Requirement already satisfied: json-repair in /usr/local/lib/python3.11/dist-packages (0.39.1)\n",
            "Requirement already satisfied: matplotlib in /usr/local/lib/python3.11/dist-packages (3.10.0)\n",
            "Requirement already satisfied: SQLAlchemy<3,>=1.4 in /usr/local/lib/python3.11/dist-packages (from langchain-community) (2.0.38)\n",
            "Requirement already satisfied: requests<3,>=2 in /usr/local/lib/python3.11/dist-packages (from langchain-community) (2.32.3)\n",
            "Requirement already satisfied: PyYAML>=5.3 in /usr/local/lib/python3.11/dist-packages (from langchain-community) (6.0.2)\n",
            "Requirement already satisfied: aiohttp<4.0.0,>=3.8.3 in /usr/local/lib/python3.11/dist-packages (from langchain-community) (3.11.12)\n",
            "Requirement already satisfied: tenacity!=8.4.0,<10,>=8.1.0 in /usr/local/lib/python3.11/dist-packages (from langchain-community) (9.0.0)\n",
            "Requirement already satisfied: dataclasses-json<0.7,>=0.5.7 in /usr/local/lib/python3.11/dist-packages (from langchain-community) (0.6.7)\n",
            "Requirement already satisfied: pydantic-settings<3.0.0,>=2.4.0 in /usr/local/lib/python3.11/dist-packages (from langchain-community) (2.8.0)\n",
            "Requirement already satisfied: langsmith<0.4,>=0.1.125 in /usr/local/lib/python3.11/dist-packages (from langchain-community) (0.3.8)\n",
            "Requirement already satisfied: httpx-sse<1.0.0,>=0.4.0 in /usr/local/lib/python3.11/dist-packages (from langchain-community) (0.4.0)\n",
            "Requirement already satisfied: numpy<2,>=1.26.4 in /usr/local/lib/python3.11/dist-packages (from langchain-community) (1.26.4)\n",
            "Requirement already satisfied: langchain-text-splitters<1.0.0,>=0.3.6 in /usr/local/lib/python3.11/dist-packages (from langchain) (0.3.6)\n",
            "Requirement already satisfied: pydantic<3.0.0,>=2.7.4 in /usr/local/lib/python3.11/dist-packages (from langchain) (2.10.6)\n",
            "Requirement already satisfied: filetype<2.0.0,>=1.2.0 in /usr/local/lib/python3.11/dist-packages (from langchain-google-genai) (1.2.0)\n",
            "Requirement already satisfied: google-ai-generativelanguage<0.7.0,>=0.6.16 in /usr/local/lib/python3.11/dist-packages (from langchain-google-genai) (0.6.16)\n",
            "Requirement already satisfied: jsonpatch<2.0,>=1.33 in /usr/local/lib/python3.11/dist-packages (from langchain-core) (1.33)\n",
            "Requirement already satisfied: packaging<25,>=23.2 in /usr/local/lib/python3.11/dist-packages (from langchain-core) (24.2)\n",
            "Requirement already satisfied: typing-extensions>=4.7 in /usr/local/lib/python3.11/dist-packages (from langchain-core) (4.12.2)\n",
            "Requirement already satisfied: contourpy>=1.0.1 in /usr/local/lib/python3.11/dist-packages (from matplotlib) (1.3.1)\n",
            "Requirement already satisfied: cycler>=0.10 in /usr/local/lib/python3.11/dist-packages (from matplotlib) (0.12.1)\n",
            "Requirement already satisfied: fonttools>=4.22.0 in /usr/local/lib/python3.11/dist-packages (from matplotlib) (4.56.0)\n",
            "Requirement already satisfied: kiwisolver>=1.3.1 in /usr/local/lib/python3.11/dist-packages (from matplotlib) (1.4.8)\n",
            "Requirement already satisfied: pillow>=8 in /usr/local/lib/python3.11/dist-packages (from matplotlib) (11.1.0)\n",
            "Requirement already satisfied: pyparsing>=2.3.1 in /usr/local/lib/python3.11/dist-packages (from matplotlib) (3.2.1)\n",
            "Requirement already satisfied: python-dateutil>=2.7 in /usr/local/lib/python3.11/dist-packages (from matplotlib) (2.8.2)\n",
            "Requirement already satisfied: aiohappyeyeballs>=2.3.0 in /usr/local/lib/python3.11/dist-packages (from aiohttp<4.0.0,>=3.8.3->langchain-community) (2.4.6)\n",
            "Requirement already satisfied: aiosignal>=1.1.2 in /usr/local/lib/python3.11/dist-packages (from aiohttp<4.0.0,>=3.8.3->langchain-community) (1.3.2)\n",
            "Requirement already satisfied: attrs>=17.3.0 in /usr/local/lib/python3.11/dist-packages (from aiohttp<4.0.0,>=3.8.3->langchain-community) (25.1.0)\n",
            "Requirement already satisfied: frozenlist>=1.1.1 in /usr/local/lib/python3.11/dist-packages (from aiohttp<4.0.0,>=3.8.3->langchain-community) (1.5.0)\n",
            "Requirement already satisfied: multidict<7.0,>=4.5 in /usr/local/lib/python3.11/dist-packages (from aiohttp<4.0.0,>=3.8.3->langchain-community) (6.1.0)\n",
            "Requirement already satisfied: propcache>=0.2.0 in /usr/local/lib/python3.11/dist-packages (from aiohttp<4.0.0,>=3.8.3->langchain-community) (0.2.1)\n",
            "Requirement already satisfied: yarl<2.0,>=1.17.0 in /usr/local/lib/python3.11/dist-packages (from aiohttp<4.0.0,>=3.8.3->langchain-community) (1.18.3)\n",
            "Requirement already satisfied: marshmallow<4.0.0,>=3.18.0 in /usr/local/lib/python3.11/dist-packages (from dataclasses-json<0.7,>=0.5.7->langchain-community) (3.26.1)\n",
            "Requirement already satisfied: typing-inspect<1,>=0.4.0 in /usr/local/lib/python3.11/dist-packages (from dataclasses-json<0.7,>=0.5.7->langchain-community) (0.9.0)\n",
            "Requirement already satisfied: google-api-core!=2.0.*,!=2.1.*,!=2.10.*,!=2.2.*,!=2.3.*,!=2.4.*,!=2.5.*,!=2.6.*,!=2.7.*,!=2.8.*,!=2.9.*,<3.0.0dev,>=1.34.1 in /usr/local/lib/python3.11/dist-packages (from google-api-core[grpc]!=2.0.*,!=2.1.*,!=2.10.*,!=2.2.*,!=2.3.*,!=2.4.*,!=2.5.*,!=2.6.*,!=2.7.*,!=2.8.*,!=2.9.*,<3.0.0dev,>=1.34.1->google-ai-generativelanguage<0.7.0,>=0.6.16->langchain-google-genai) (2.24.1)\n",
            "Requirement already satisfied: google-auth!=2.24.0,!=2.25.0,<3.0.0dev,>=2.14.1 in /usr/local/lib/python3.11/dist-packages (from google-ai-generativelanguage<0.7.0,>=0.6.16->langchain-google-genai) (2.27.0)\n",
            "Requirement already satisfied: proto-plus<2.0.0dev,>=1.22.3 in /usr/local/lib/python3.11/dist-packages (from google-ai-generativelanguage<0.7.0,>=0.6.16->langchain-google-genai) (1.26.0)\n",
            "Requirement already satisfied: protobuf!=4.21.0,!=4.21.1,!=4.21.2,!=4.21.3,!=4.21.4,!=4.21.5,<6.0.0dev,>=3.20.2 in /usr/local/lib/python3.11/dist-packages (from google-ai-generativelanguage<0.7.0,>=0.6.16->langchain-google-genai) (4.25.6)\n",
            "Requirement already satisfied: jsonpointer>=1.9 in /usr/local/lib/python3.11/dist-packages (from jsonpatch<2.0,>=1.33->langchain-core) (3.0.0)\n",
            "Requirement already satisfied: httpx<1,>=0.23.0 in /usr/local/lib/python3.11/dist-packages (from langsmith<0.4,>=0.1.125->langchain-community) (0.28.1)\n",
            "Requirement already satisfied: orjson<4.0.0,>=3.9.14 in /usr/local/lib/python3.11/dist-packages (from langsmith<0.4,>=0.1.125->langchain-community) (3.10.15)\n",
            "Requirement already satisfied: requests-toolbelt<2.0.0,>=1.0.0 in /usr/local/lib/python3.11/dist-packages (from langsmith<0.4,>=0.1.125->langchain-community) (1.0.0)\n",
            "Requirement already satisfied: zstandard<0.24.0,>=0.23.0 in /usr/local/lib/python3.11/dist-packages (from langsmith<0.4,>=0.1.125->langchain-community) (0.23.0)\n",
            "Requirement already satisfied: annotated-types>=0.6.0 in /usr/local/lib/python3.11/dist-packages (from pydantic<3.0.0,>=2.7.4->langchain) (0.7.0)\n",
            "Requirement already satisfied: pydantic-core==2.27.2 in /usr/local/lib/python3.11/dist-packages (from pydantic<3.0.0,>=2.7.4->langchain) (2.27.2)\n",
            "Requirement already satisfied: python-dotenv>=0.21.0 in /usr/local/lib/python3.11/dist-packages (from pydantic-settings<3.0.0,>=2.4.0->langchain-community) (1.0.1)\n",
            "Requirement already satisfied: six>=1.5 in /usr/local/lib/python3.11/dist-packages (from python-dateutil>=2.7->matplotlib) (1.17.0)\n",
            "Requirement already satisfied: charset-normalizer<4,>=2 in /usr/local/lib/python3.11/dist-packages (from requests<3,>=2->langchain-community) (3.4.1)\n",
            "Requirement already satisfied: idna<4,>=2.5 in /usr/local/lib/python3.11/dist-packages (from requests<3,>=2->langchain-community) (3.10)\n",
            "Requirement already satisfied: urllib3<3,>=1.21.1 in /usr/local/lib/python3.11/dist-packages (from requests<3,>=2->langchain-community) (2.3.0)\n",
            "Requirement already satisfied: certifi>=2017.4.17 in /usr/local/lib/python3.11/dist-packages (from requests<3,>=2->langchain-community) (2025.1.31)\n",
            "Requirement already satisfied: greenlet!=0.4.17 in /usr/local/lib/python3.11/dist-packages (from SQLAlchemy<3,>=1.4->langchain-community) (3.1.1)\n",
            "Requirement already satisfied: googleapis-common-protos<2.0.dev0,>=1.56.2 in /usr/local/lib/python3.11/dist-packages (from google-api-core!=2.0.*,!=2.1.*,!=2.10.*,!=2.2.*,!=2.3.*,!=2.4.*,!=2.5.*,!=2.6.*,!=2.7.*,!=2.8.*,!=2.9.*,<3.0.0dev,>=1.34.1->google-api-core[grpc]!=2.0.*,!=2.1.*,!=2.10.*,!=2.2.*,!=2.3.*,!=2.4.*,!=2.5.*,!=2.6.*,!=2.7.*,!=2.8.*,!=2.9.*,<3.0.0dev,>=1.34.1->google-ai-generativelanguage<0.7.0,>=0.6.16->langchain-google-genai) (1.67.0)\n",
            "Requirement already satisfied: grpcio<2.0dev,>=1.33.2 in /usr/local/lib/python3.11/dist-packages (from google-api-core[grpc]!=2.0.*,!=2.1.*,!=2.10.*,!=2.2.*,!=2.3.*,!=2.4.*,!=2.5.*,!=2.6.*,!=2.7.*,!=2.8.*,!=2.9.*,<3.0.0dev,>=1.34.1->google-ai-generativelanguage<0.7.0,>=0.6.16->langchain-google-genai) (1.70.0)\n",
            "Requirement already satisfied: grpcio-status<2.0.dev0,>=1.33.2 in /usr/local/lib/python3.11/dist-packages (from google-api-core[grpc]!=2.0.*,!=2.1.*,!=2.10.*,!=2.2.*,!=2.3.*,!=2.4.*,!=2.5.*,!=2.6.*,!=2.7.*,!=2.8.*,!=2.9.*,<3.0.0dev,>=1.34.1->google-ai-generativelanguage<0.7.0,>=0.6.16->langchain-google-genai) (1.62.3)\n",
            "Requirement already satisfied: cachetools<6.0,>=2.0.0 in /usr/local/lib/python3.11/dist-packages (from google-auth!=2.24.0,!=2.25.0,<3.0.0dev,>=2.14.1->google-ai-generativelanguage<0.7.0,>=0.6.16->langchain-google-genai) (5.5.1)\n",
            "Requirement already satisfied: pyasn1-modules>=0.2.1 in /usr/local/lib/python3.11/dist-packages (from google-auth!=2.24.0,!=2.25.0,<3.0.0dev,>=2.14.1->google-ai-generativelanguage<0.7.0,>=0.6.16->langchain-google-genai) (0.4.1)\n",
            "Requirement already satisfied: rsa<5,>=3.1.4 in /usr/local/lib/python3.11/dist-packages (from google-auth!=2.24.0,!=2.25.0,<3.0.0dev,>=2.14.1->google-ai-generativelanguage<0.7.0,>=0.6.16->langchain-google-genai) (4.9)\n",
            "Requirement already satisfied: anyio in /usr/local/lib/python3.11/dist-packages (from httpx<1,>=0.23.0->langsmith<0.4,>=0.1.125->langchain-community) (3.7.1)\n",
            "Requirement already satisfied: httpcore==1.* in /usr/local/lib/python3.11/dist-packages (from httpx<1,>=0.23.0->langsmith<0.4,>=0.1.125->langchain-community) (1.0.7)\n",
            "Requirement already satisfied: h11<0.15,>=0.13 in /usr/local/lib/python3.11/dist-packages (from httpcore==1.*->httpx<1,>=0.23.0->langsmith<0.4,>=0.1.125->langchain-community) (0.14.0)\n",
            "Requirement already satisfied: mypy-extensions>=0.3.0 in /usr/local/lib/python3.11/dist-packages (from typing-inspect<1,>=0.4.0->dataclasses-json<0.7,>=0.5.7->langchain-community) (1.0.0)\n",
            "Requirement already satisfied: pyasn1<0.7.0,>=0.4.6 in /usr/local/lib/python3.11/dist-packages (from pyasn1-modules>=0.2.1->google-auth!=2.24.0,!=2.25.0,<3.0.0dev,>=2.14.1->google-ai-generativelanguage<0.7.0,>=0.6.16->langchain-google-genai) (0.6.1)\n",
            "Requirement already satisfied: sniffio>=1.1 in /usr/local/lib/python3.11/dist-packages (from anyio->httpx<1,>=0.23.0->langsmith<0.4,>=0.1.125->langchain-community) (1.3.1)\n"
          ]
        }
      ]
    },
    {
      "cell_type": "code",
      "source": [
        "import os\n",
        "import time\n",
        "import networkx as nx\n",
        "import requests\n",
        "import matplotlib.pyplot as plt\n",
        "import google.generativeai as genai\n",
        "from langchain_experimental.graph_transformers import LLMGraphTransformer\n",
        "from langchain_google_genai import GoogleGenerativeAI\n",
        "from langchain.chains import GraphQAChain  # Fixed import\n",
        "from langchain_core.documents import Document\n",
        "from langchain_community.graphs.networkx_graph import NetworkxEntityGraph"
      ],
      "metadata": {
        "id": "Pp1khBlo0vgk"
      },
      "execution_count": 2,
      "outputs": []
    },
    {
      "cell_type": "code",
      "source": [
        "import google.generativeai as genai\n",
        "from google.colab import userdata\n",
        "\n",
        "GOOGLE_API_KEY=userdata.get('GOOGLE_API_KEY')\n",
        "genai.configure(api_key=GOOGLE_API_KEY)\n",
        "llm = GoogleGenerativeAI(model=\"gemini-2.0-flash\", google_api_key=GOOGLE_API_KEY)"
      ],
      "metadata": {
        "id": "YzRiyYEh031e"
      },
      "execution_count": 3,
      "outputs": []
    },
    {
      "cell_type": "code",
      "source": [
        "# Input text - Lost suitcase scenario\n",
        "text = \"\"\"\n",
        "A black suitcase was lost at JFK Airport. Last seen at the security checkpoint in Terminal 4 at 3:30 PM\n",
        "\"\"\"\n",
        "\n",
        "documents = [Document(page_content=text)]"
      ],
      "metadata": {
        "id": "RDttBa792L5r"
      },
      "execution_count": 4,
      "outputs": []
    },
    {
      "cell_type": "code",
      "source": [
        "# Initialize the Graph Transformer\n",
        "llm_transformer = LLMGraphTransformer(llm=llm)\n",
        "graph_documents = llm_transformer.convert_to_graph_documents(documents)"
      ],
      "metadata": {
        "id": "uY3W51UB2NxY"
      },
      "execution_count": 5,
      "outputs": []
    },
    {
      "cell_type": "code",
      "source": [
        "response = requests.get(\"http://34.136.67.113:1234/getAllClassNames\")\n",
        "data = response.json()\n",
        "classNames = data[\"classNames\"]\n",
        "print(\"Allowed Class Names:\", classNames)"
      ],
      "metadata": {
        "colab": {
          "base_uri": "https://localhost:8080/"
        },
        "id": "QVE8qIkqNIRb",
        "outputId": "d25fecc0-f7c0-402a-d88d-7d3979606d09"
      },
      "execution_count": 6,
      "outputs": [
        {
          "output_type": "stream",
          "name": "stdout",
          "text": [
            "Allowed Class Names: ['arachnid', 'armadillo', 'bear', 'bird', 'bug', 'butterfly', 'cat', 'coral', 'crocodile', 'crustacean', 'dinosaur', 'dog', 'echinoderms', 'ferret', 'fish', 'flower', 'frog', 'fruit', 'fungus', 'hog', 'lizard', 'marine mammals', 'marsupial', 'mollusk', 'mongoose', 'monotreme', 'person', 'plant', 'primate', 'rabbit', 'rodent', 'salamander', 'shark', 'sloth', 'snake', 'trilobite', 'turtle', 'ungulate', 'vegetable', 'wild cat', 'wild dog', 'accessory', 'aircraft', 'ball', 'boat', 'building', 'clothing', 'container', 'cooking', 'decor', 'electronics', 'fence', 'food', 'furniture', 'hat', 'instrument', 'lab equipment', 'other', 'outdoor scene', 'paper', 'sports equipment', 'technology', 'tool', 'toy', 'train', 'vehicle', 'weapon']\n"
          ]
        }
      ]
    },
    {
      "cell_type": "code",
      "source": [
        "# llm_transformer_filtered = LLMGraphTransformer(\n",
        "#     llm=llm,\n",
        "#     allowed_nodes=classNames,\n",
        "# )\n",
        "# graph_documents_filtered = llm_transformer_filtered.convert_to_graph_documents(documents)"
      ],
      "metadata": {
        "id": "GvB1MvZU2QPO"
      },
      "execution_count": 7,
      "outputs": []
    },
    {
      "cell_type": "code",
      "source": [
        "# Create NetworkX Graph\n",
        "graph = NetworkxEntityGraph()"
      ],
      "metadata": {
        "id": "j3CeFQhO2R3B"
      },
      "execution_count": 8,
      "outputs": []
    },
    {
      "cell_type": "code",
      "source": [
        "# # Manually add nodes and edges\n",
        "# for doc in graph_documents_filtered:\n",
        "#     for node in doc.nodes:\n",
        "#         graph._graph.add_node(node.id, type=node.type)\n",
        "#     for edge in doc.relationships:\n",
        "#         graph._graph.add_edge(edge.source?.id, edge.target.id, relation=edge.type)"
      ],
      "metadata": {
        "id": "wLrNjKDX2Tpd"
      },
      "execution_count": 16,
      "outputs": []
    },
    {
      "cell_type": "code",
      "source": [
        "# AUTOMATIC NODE GEN\n",
        "\n",
        "for doc in graph_documents:\n",
        "    for node in doc.nodes:\n",
        "        graph._graph.add_node(node.id, label=node.type)\n",
        "    for edge in doc.relationships:\n",
        "        graph._graph.add_edge(edge.source.id, edge.target.id, relation=edge.type)"
      ],
      "metadata": {
        "id": "5z008D5N6_8U"
      },
      "execution_count": 10,
      "outputs": []
    },
    {
      "cell_type": "code",
      "source": [
        "# Debug: Print extracted graph structure\n",
        "print(\"\\nExtracted Graph Documents:\\n\", graph_documents)\n",
        "print(\"\\nGenerated Graph Nodes:\", graph._graph.nodes(data=True))\n",
        "print(\"\\nGenerated Graph Edges:\", graph._graph.edges(data=True))\n",
        "# {\n",
        "#   \"embedding\": [0.4, 0.5, 0.6],\n",
        "#   \"metadata\": {\"color\": \"black\", \"material\": \"steel\"},\n",
        "#   \"image\": \"/images/hammer_003.jpg\"\n",
        "# }\n",
        "\n"
      ],
      "metadata": {
        "colab": {
          "base_uri": "https://localhost:8080/"
        },
        "id": "c-UEbc_02XA_",
        "outputId": "6abce5fb-9324-4c1a-ca40-045b420f90f7"
      },
      "execution_count": 11,
      "outputs": [
        {
          "output_type": "stream",
          "name": "stdout",
          "text": [
            "\n",
            "Extracted Graph Documents:\n",
            " [GraphDocument(nodes=[Node(id='black suitcase', type='Object', properties={}), Node(id='security checkpoint', type='Location', properties={}), Node(id='JFK Airport', type='Location', properties={}), Node(id='Terminal 4', type='Location', properties={})], relationships=[Relationship(source=Node(id='black suitcase', type='Object', properties={}), target=Node(id='JFK Airport', type='Location', properties={}), type='LOCATED_AT', properties={}), Relationship(source=Node(id='black suitcase', type='Object', properties={}), target=Node(id='security checkpoint', type='Location', properties={}), type='LAST_SEEN_AT', properties={}), Relationship(source=Node(id='security checkpoint', type='Location', properties={}), target=Node(id='Terminal 4', type='Location', properties={}), type='LOCATED_IN', properties={})], source=Document(metadata={}, page_content='\\nA black suitcase was lost at JFK Airport. Last seen at the security checkpoint in Terminal 4 at 3:30 PM\\n'))]\n",
            "\n",
            "Generated Graph Nodes: [('black suitcase', {'label': 'Object'}), ('security checkpoint', {'label': 'Location'}), ('JFK Airport', {'label': 'Location'}), ('Terminal 4', {'label': 'Location'})]\n",
            "\n",
            "Generated Graph Edges: [('black suitcase', 'JFK Airport', {'relation': 'LOCATED_AT'}), ('black suitcase', 'security checkpoint', {'relation': 'LAST_SEEN_AT'}), ('security checkpoint', 'Terminal 4', {'relation': 'LOCATED_IN'})]\n"
          ]
        }
      ]
    },
    {
      "cell_type": "code",
      "source": [
        "# Initialize the GraphQAChain\n",
        "chain = GraphQAChain.from_llm(llm=llm, graph=graph, verbose=True)"
      ],
      "metadata": {
        "id": "4xaCai732YcR"
      },
      "execution_count": 12,
      "outputs": []
    },
    {
      "cell_type": "code",
      "source": [
        "question = f\"Based on this, {graph_documents}. Where was the suitcase seen\"\n",
        "response = chain.run(question)\n",
        "print(\"\\nGraph Query Response:\", response)"
      ],
      "metadata": {
        "colab": {
          "base_uri": "https://localhost:8080/"
        },
        "id": "lyaAuCLg2ZpP",
        "outputId": "c642e040-29b7-4a5c-fdff-e60a41765749"
      },
      "execution_count": 20,
      "outputs": [
        {
          "output_type": "stream",
          "name": "stdout",
          "text": [
            "\n",
            "\n",
            "\u001b[1m> Entering new GraphQAChain chain...\u001b[0m\n",
            "Entities Extracted:\n",
            "\u001b[32;1m\u001b[1;3mJFK Airport, Terminal 4\u001b[0m\n",
            "Full Context:\n",
            "\u001b[32;1m\u001b[1;3m\u001b[0m\n",
            "\n",
            "\u001b[1m> Finished chain.\u001b[0m\n",
            "\n",
            "Graph Query Response: The suitcase was last seen at the security checkpoint in Terminal 4.\n"
          ]
        }
      ]
    },
    {
      "cell_type": "code",
      "source": [],
      "metadata": {
        "id": "e-8YSjd2OQoB"
      },
      "execution_count": 20,
      "outputs": []
    },
    {
      "cell_type": "code",
      "source": [
        "question = f\"Based on {graph_documents}, check for a single best class from {classNames}. If nothing fits perfectly, create one yourself, make it specific\"\n",
        "response_1 = chain.run(question)\n",
        "print(\"\\nGraph Query Response:\", response_1)"
      ],
      "metadata": {
        "colab": {
          "base_uri": "https://localhost:8080/"
        },
        "id": "bbuyAgIqOL4b",
        "outputId": "485bc52e-0a7d-4afe-97bc-e51abead74e4"
      },
      "execution_count": 28,
      "outputs": [
        {
          "output_type": "stream",
          "name": "stdout",
          "text": [
            "\n",
            "\n",
            "\u001b[1m> Entering new GraphQAChain chain...\u001b[0m\n",
            "Entities Extracted:\n",
            "\u001b[32;1m\u001b[1;3mGraphDocument, Node, Object, Location, JFK Airport, Terminal 4, Relationship, Document\u001b[0m\n",
            "Full Context:\n",
            "\u001b[32;1m\u001b[1;3m\u001b[0m\n",
            "\n",
            "\u001b[1m> Finished chain.\u001b[0m\n",
            "\n",
            "Graph Query Response: accessory\n"
          ]
        }
      ]
    },
    {
      "cell_type": "code",
      "source": [
        "question = f\"Based on {graph_documents}Choose a single best categories that our item fits in from the the list of {response_1}, if noone fits then choose a name for the category yourself\"\n",
        "response_2 = chain.run(question)\n",
        "print(\"\\nGraph Query Response:\", response_2)"
      ],
      "metadata": {
        "id": "iCZZo2FTN93B"
      },
      "execution_count": null,
      "outputs": []
    },
    {
      "cell_type": "code",
      "source": [
        "import requests\n",
        "selectedClassName=\"paper\"\n",
        "response=requests.get(f\"http://34.136.67.113:1234/getCategoriesByClassName?className=Accessory\")\n",
        "data=response.json();\n",
        "categories = data.get(\"categories\", [])\n",
        "print(categories)"
      ],
      "metadata": {
        "colab": {
          "base_uri": "https://localhost:8080/"
        },
        "id": "BrWuZOVXOL6-",
        "outputId": "78f350af-a824-4deb-fd64-873512257a4c"
      },
      "execution_count": 29,
      "outputs": [
        {
          "output_type": "stream",
          "name": "stdout",
          "text": [
            "[]\n"
          ]
        }
      ]
    },
    {
      "cell_type": "code",
      "source": [
        "question = f\"Based on {graph_documents} and {response_1} Choose a single best categories that our item fits in from the the list of {categories}, if none fits then make one broad category yourself\"\n",
        "response_3 = chain.run(question)\n",
        "print(\"\\nGraph Query Response:\", response_3)"
      ],
      "metadata": {
        "colab": {
          "base_uri": "https://localhost:8080/"
        },
        "id": "E4tfipZMOL9U",
        "outputId": "7906feb0-51cf-4829-aabb-54ba403efb16"
      },
      "execution_count": 34,
      "outputs": [
        {
          "output_type": "stream",
          "name": "stdout",
          "text": [
            "\n",
            "\n",
            "\u001b[1m> Entering new GraphQAChain chain...\u001b[0m\n",
            "Entities Extracted:\n",
            "\u001b[32;1m\u001b[1;3mJFK Airport, Terminal 4\u001b[0m\n",
            "Full Context:\n",
            "\u001b[32;1m\u001b[1;3m\u001b[0m\n",
            "\n",
            "\u001b[1m> Finished chain.\u001b[0m\n",
            "\n",
            "Graph Query Response: Accessory category: Luggage.\n"
          ]
        }
      ]
    },
    {
      "cell_type": "code",
      "source": [
        "question = f\"Based on {graph_documents} and {response_1} Choose a single best categories that our item fits in from the the list of {categories}, if none fits then make one broad category yourself\"\n",
        "response_3 = chain.run(question)\n",
        "print(\"\\nGraph Query Response:\", response_3)"
      ],
      "metadata": {
        "id": "VZEmM9UtOL_7"
      },
      "execution_count": null,
      "outputs": []
    },
    {
      "cell_type": "code",
      "source": [
        "# Visualize the graph\n",
        "def visualize_graph(graph):\n",
        "    plt.figure(figsize=(10, 6))\n",
        "    pos = nx.spring_layout(graph._graph)\n",
        "    labels = nx.get_edge_attributes(graph._graph, 'relation')\n",
        "    nx.draw(graph._graph, pos, with_labels=True, node_color='lightblue', edge_color='gray', node_size=3000, font_size=10, font_weight='bold')\n",
        "    nx.draw_networkx_edge_labels(graph._graph, pos, edge_labels=labels, font_size=8, font_color='red')\n",
        "    plt.title(\"Graph Representation of Lost Suitcase Case\")\n",
        "    plt.show()\n",
        "\n",
        "# Call visualization function\n",
        "visualize_graph(graph)"
      ],
      "metadata": {
        "colab": {
          "base_uri": "https://localhost:8080/",
          "height": 659
        },
        "id": "BdgrVfer2alj",
        "outputId": "281757b1-9883-418c-ec0a-142a7650f4a3"
      },
      "execution_count": 14,
      "outputs": [
        {
          "output_type": "display_data",
          "data": {
            "text/plain": [
              "<Figure size 1000x600 with 1 Axes>"
            ],
            "image/png": "[encoded data removed]"
          },
          "metadata": {}
        }
      ]
    },
    {
      "cell_type": "code",
      "source": [
        "# Improved Input text - Lost suitcase scenario with clearer relationships\n",
        "doc_text = \"\"\"\n",
        "Incident Report: Lost Suitcase at JFK Airport\n",
        "\n",
        "John Doe, a traveler, reported losing his black Samsonite suitcase at JFK Airport on February 20th at 3:45 PM.\n",
        "He last physically saw the suitcase at the security checkpoint in Terminal 4 at 3:30 PM before proceeding towards Gate B22 for his flight to London.\n",
        "\n",
        "The suitcase was recorded on CCTV footage at 3:35 PM near the duty-free store, and at 3:40 PM near a coffee shop in Terminal 4.\n",
        "At 3:50 PM, security footage showed an unknown individual picking up a suitcase near the coffee shop and walking towards the exit.\n",
        "\n",
        "The airport authorities and security team are currently investigating the case, reviewing CCTV footage, and checking passenger logs to determine whether it was misplaced, stolen, or mistakenly taken by another passenger.\n",
        "\"\"\"\n",
        "\n",
        "documents = [Document(page_content=doc_text)]\n",
        "\n",
        "# Initialize the Graph Transformer\n",
        "llm_transformer = LLMGraphTransformer(llm=llm)\n",
        "graph_documents = llm_transformer.convert_to_graph_documents(documents)\n",
        "\n",
        "# Filter Graph Transformer\n",
        "llm_transformer_filtered = LLMGraphTransformer(\n",
        "    llm=llm,\n",
        "    allowed_nodes=[\"Person\", \"Item\", \"Location\", \"Event\"],\n",
        "    allowed_relationships=[\"LAST_SEEN_AT\", \"OWNED_BY\", \"INVESTIGATED_BY\", \"RECORDED_BY\", \"CONNECTED_TO\", \"CONTAINS\", \"PICKED_UP_BY\"],\n",
        ")\n",
        "graph_documents_filtered = llm_transformer_filtered.convert_to_graph_documents(documents)\n",
        "\n",
        "# Create NetworkX Graph\n",
        "graph = NetworkxEntityGraph()\n",
        "\n",
        "# Manually add nodes and edges\n",
        "for doc in graph_documents_filtered:\n",
        "    for node in doc.nodes:\n",
        "        graph._graph.add_node(node.id, type=node.type)\n",
        "    for edge in doc.relationships:\n",
        "        graph._graph.add_edge(edge.source.id, edge.target.id, relation=edge.type)\n",
        "\n",
        "# Debugging: Print extracted nodes and edges\n",
        "print(\"Extracted Nodes:\")\n",
        "print(graph._graph.nodes(data=True))\n",
        "print(\"\\nExtracted Edges:\")\n",
        "print(graph._graph.edges(data=True))\n",
        "\n",
        "# Initialize the GraphQAChain\n",
        "chain = GraphQAChain.from_llm(llm=llm, graph=graph, verbose=True)\n",
        "\n",
        "# Query the graph\n",
        "question = \"Where was John Doe's suitcase last seen?\"\n",
        "response = chain.run(question)\n",
        "print(\"\\nGraph Query Response:\", response)\n",
        "\n"
      ],
      "metadata": {
        "colab": {
          "base_uri": "https://localhost:8080/"
        },
        "id": "P9aNO1Kq2_rf",
        "outputId": "4b4e7606-5dde-4f00-e8d9-49e7d1932415"
      },
      "execution_count": 25,
      "outputs": [
        {
          "output_type": "stream",
          "name": "stdout",
          "text": [
            "Extracted Nodes:\n",
            "[('CCTV footage', {'type': 'Item'}), ('Terminal 4', {'type': 'Location'}), ('black Samsonite suitcase', {'type': 'Item'}), ('duty-free store', {'type': 'Location'}), ('John Doe', {'type': 'Person'}), ('security checkpoint', {'type': 'Location'}), ('coffee shop', {'type': 'Location'}), ('unknown individual', {'type': 'Person'}), ('airport authorities', {'type': 'Person'}), ('security team', {'type': 'Person'})]\n",
            "\n",
            "Extracted Edges:\n",
            "[('CCTV footage', 'black Samsonite suitcase', {'relation': 'RECORDED_BY'}), ('black Samsonite suitcase', 'security checkpoint', {'relation': 'LAST_SEEN_AT'}), ('black Samsonite suitcase', 'Terminal 4', {'relation': 'LAST_SEEN_AT'}), ('black Samsonite suitcase', 'duty-free store', {'relation': 'LAST_SEEN_AT'}), ('black Samsonite suitcase', 'coffee shop', {'relation': 'LAST_SEEN_AT'}), ('John Doe', 'black Samsonite suitcase', {'relation': 'OWNED_BY'}), ('unknown individual', 'black Samsonite suitcase', {'relation': 'PICKED_UP_BY'}), ('airport authorities', 'John Doe', {'relation': 'INVESTIGATED_BY'}), ('security team', 'John Doe', {'relation': 'INVESTIGATED_BY'})]\n",
            "\n",
            "\n",
            "\u001b[1m> Entering new GraphQAChain chain...\u001b[0m\n",
            "Entities Extracted:\n",
            "\u001b[32;1m\u001b[1;3mJohn Doe\u001b[0m\n",
            "Full Context:\n",
            "\u001b[32;1m\u001b[1;3mJohn Doe OWNED_BY black Samsonite suitcase\u001b[0m\n",
            "\n",
            "\u001b[1m> Finished chain.\u001b[0m\n",
            "\n",
            "Graph Query Response: I don't know.\n"
          ]
        }
      ]
    },
    {
      "cell_type": "code",
      "source": [
        "# Improved input text - lost suitcase scenario\n",
        "doc_text = doc_text = \"\"\"\n",
        "Lost Luggage Report:\n",
        "- Item: Black Suitcase\n",
        "- Last Seen Location: Security checkpoint, Terminal 4, JFK Airport\n",
        "- Last Seen Time: 3:30 PM\n",
        "\"\"\"\n",
        "\n",
        "documents = [Document(page_content=doc_text)]\n",
        "\n",
        "# Retrieve allowed class names from remote endpoint\n",
        "response = requests.get(\"http://34.136.67.113:1234/getAllClassNames\")\n",
        "data = response.json()\n",
        "classNames = data[\"classNames\"]\n",
        "print(\"Allowed Class Names:\", classNames)\n",
        "\n",
        "# Initialize Graph Transformer (unfiltered)\n",
        "llm_transformer = LLMGraphTransformer(llm=llm)\n",
        "graph_documents = llm_transformer.convert_to_graph_documents(documents)\n",
        "\n",
        "# Filter Graph Transformer using allowed_nodes from classNames\n",
        "llm_transformer_filtered = LLMGraphTransformer(\n",
        "    llm=llm,\n",
        "    # allowed_nodes=classNames,\n",
        "    allowed_relationships=[\"LAST_SEEN_AT\", \"OWNED_BY\", \"INVESTIGATED_BY\", \"RECORDED_BY\", \"CONNECTED_TO\", \"CONTAINS\", \"PICKED_UP_BY\"],\n",
        "    # allowed_relationships can also be provided if needed\n",
        ")\n",
        "graph_documents_filtered = llm_transformer_filtered.convert_to_graph_documents(documents)\n",
        "\n",
        "# Create a NetworkX Graph\n",
        "graph = NetworkxEntityGraph()\n",
        "\n",
        "# Enforce allowed nodes by filtering out any node whose type isn't in the allowed set\n",
        "allowed_set = set(classNames)\n",
        "\n",
        "# Populate the graph dynamically, only including allowed nodes and edges\n",
        "for doc in graph_documents_filtered:\n",
        "    for node in doc.nodes:\n",
        "        if node.type in allowed_set:\n",
        "            graph._graph.add_node(node.id, type=node.type)\n",
        "    for edge in doc.relationships:\n",
        "        if edge.source.type in allowed_set and edge.target.type in allowed_set:\n",
        "            graph._graph.add_edge(edge.source.id, edge.target.id, relation=edge.type)\n",
        "\n",
        "# Debugging: Print extracted nodes and edges\n",
        "print(\"Extracted Nodes:\")\n",
        "print(graph._graph.nodes(data=True))\n",
        "print(\"\\nExtracted Edges:\")\n",
        "print(graph._graph.edges(data=True))\n",
        "\n",
        "# Initialize the GraphQAChain\n",
        "chain = GraphQAChain.from_llm(llm=llm, graph=graph, verbose=True)\n",
        "\n",
        "# Query the graph\n",
        "question = f\"Where is the suitcase?\"\n",
        "response = chain.run(question)\n",
        "print(\"\\nGraph Query Response:\", response)\n"
      ],
      "metadata": {
        "colab": {
          "base_uri": "https://localhost:8080/"
        },
        "id": "zTOTS9HkJQrt",
        "outputId": "8a3d2e4e-7498-4ef8-96ee-f5d9dcf2adfb"
      },
      "execution_count": 32,
      "outputs": [
        {
          "output_type": "stream",
          "name": "stdout",
          "text": [
            "Allowed Class Names: ['arachnid', 'armadillo', 'bear', 'bird', 'bug', 'butterfly', 'cat', 'coral', 'crocodile', 'crustacean', 'dinosaur', 'dog', 'echinoderms', 'ferret', 'fish', 'flower', 'frog', 'fruit', 'fungus', 'hog', 'lizard', 'marine mammals', 'marsupial', 'mollusk', 'mongoose', 'monotreme', 'person', 'plant', 'primate', 'rabbit', 'rodent', 'salamander', 'shark', 'sloth', 'snake', 'trilobite', 'turtle', 'ungulate', 'vegetable', 'wild cat', 'wild dog', 'accessory', 'aircraft', 'ball', 'boat', 'building', 'clothing', 'container', 'cooking', 'decor', 'electronics', 'fence', 'food', 'furniture', 'hat', 'instrument', 'lab equipment', 'other', 'outdoor scene', 'paper', 'sports equipment', 'technology', 'tool', 'toy', 'train', 'vehicle', 'weapon']\n",
            "Extracted Nodes:\n",
            "[]\n",
            "\n",
            "Extracted Edges:\n",
            "[]\n",
            "\n",
            "\n",
            "\u001b[1m> Entering new GraphQAChain chain...\u001b[0m\n",
            "Entities Extracted:\n",
            "\u001b[32;1m\u001b[1;3mNONE\u001b[0m\n",
            "Full Context:\n",
            "\u001b[32;1m\u001b[1;3m\u001b[0m\n",
            "\n",
            "\u001b[1m> Finished chain.\u001b[0m\n",
            "\n",
            "Graph Query Response: I don't have any information about a suitcase. I need some knowledge triplets to answer your question. For example:\n",
            "\n",
            "*   (suitcase, location, bedroom)\n",
            "*   (bedroom, type, room)\n",
            "\n",
            "If you provide me with some knowledge triplets like these, I can attempt to answer your question.\n"
          ]
        }
      ]
    },
    {
      "cell_type": "code",
      "source": [
        "question = f\"Choose a single best class that our item fits in from the the list of {classNames}, take this as context, {new_response}\"\n",
        "new_response = chain.run(question)\n",
        "print(\"\\nGraph Query Response:\", response)"
      ],
      "metadata": {
        "colab": {
          "base_uri": "https://localhost:8080/"
        },
        "id": "c2QwgFqlKHUd",
        "outputId": "4a2b713c-f5c9-4eb3-909b-5dd81efdff8a"
      },
      "execution_count": 16,
      "outputs": [
        {
          "output_type": "stream",
          "name": "stdout",
          "text": [
            "\n",
            "\n",
            "\u001b[1m> Entering new GraphQAChain chain...\u001b[0m\n",
            "Entities Extracted:\n",
            "\u001b[32;1m\u001b[1;3mNONE\u001b[0m\n",
            "Full Context:\n",
            "\u001b[32;1m\u001b[1;3m\u001b[0m\n",
            "\n",
            "\u001b[1m> Finished chain.\u001b[0m\n",
            "\n",
            "Graph Query Response: I cannot answer the question because no information about suitcases was provided in the given knowledge triplets.\n"
          ]
        }
      ]
    },
    {
      "cell_type": "code",
      "source": [
        "# Visualize the graph\n",
        "def visualize_graph(graph):\n",
        "    plt.figure(figsize=(10, 6))\n",
        "    pos = nx.spring_layout(graph._graph)\n",
        "    labels = nx.get_edge_attributes(graph._graph, 'relation')\n",
        "    nx.draw(graph._graph, pos, with_labels=True, node_color='lightblue', edge_color='gray', node_size=3000, font_size=10, font_weight='bold')\n",
        "    nx.draw_networkx_edge_labels(graph._graph, pos, edge_labels=labels, font_size=8, font_color='red')\n",
        "    plt.title(\"Graph Representation of Lost Suitcase Case\")\n",
        "    plt.show()\n",
        "\n",
        "# Call visualization function\n",
        "visualize_graph(graph)"
      ],
      "metadata": {
        "id": "TIPyXofU_T1j",
        "outputId": "473e9616-6906-4d3e-cb85-8a1de1ac0d83",
        "colab": {
          "base_uri": "https://localhost:8080/",
          "height": 659
        }
      },
      "execution_count": 17,
      "outputs": [
        {
          "output_type": "display_data",
          "data": {
            "text/plain": [
              "<Figure size 1000x600 with 1 Axes>"
            ],
            "image/png": "[encoded data removed]"
          },
          "metadata": {}
        }
      ]
    },
    {
      "cell_type": "code",
      "source": [],
      "metadata": {
        "id": "qHWMILOi8CSW"
      },
      "execution_count": null,
      "outputs": []
    },
    {
      "cell_type": "code",
      "source": [],
      "metadata": {
        "id": "TL6fAfmlLcTI"
      },
      "execution_count": null,
      "outputs": []
    },
    {
      "cell_type": "code",
      "source": [],
      "metadata": {
        "id": "21xZQ48JLcU_"
      },
      "execution_count": null,
      "outputs": []
    },
    {
      "cell_type": "code",
      "source": [],
      "metadata": {
        "id": "KRRziR1SLcXb"
      },
      "execution_count": null,
      "outputs": []
    },
    {
      "cell_type": "code",
      "source": [],
      "metadata": {
        "id": "aZ0G1O5-LcZb"
      },
      "execution_count": null,
      "outputs": []
    },
    {
      "cell_type": "code",
      "source": [],
      "metadata": {
        "id": "5xvdCrebLccE"
      },
      "execution_count": null,
      "outputs": []
    },
    {
      "cell_type": "code",
      "source": [],
      "metadata": {
        "colab": {
          "base_uri": "https://localhost:8080/"
        },
        "id": "3IhezR7vLcen",
        "outputId": "0925d15e-4566-4f8d-81c8-c8b873d45389"
      },
      "execution_count": 23,
      "outputs": [
        {
          "output_type": "stream",
          "name": "stdout",
          "text": [
            "Allowed Class Names: ['arachnid', 'armadillo', 'bear', 'bird', 'bug', 'butterfly', 'cat', 'coral', 'crocodile', 'crustacean', 'dinosaur', 'dog', 'echinoderms', 'ferret', 'fish', 'flower', 'frog', 'fruit', 'fungus', 'hog', 'lizard', 'marine mammals', 'marsupial', 'mollusk', 'mongoose', 'monotreme', 'person', 'plant', 'primate', 'rabbit', 'rodent', 'salamander', 'shark', 'sloth', 'snake', 'trilobite', 'turtle', 'ungulate', 'vegetable', 'wild cat', 'wild dog', 'accessory', 'aircraft', 'ball', 'boat', 'building', 'clothing', 'container', 'cooking', 'decor', 'electronics', 'fence', 'food', 'furniture', 'hat', 'instrument', 'lab equipment', 'other', 'outdoor scene', 'paper', 'sports equipment', 'technology', 'tool', 'toy', 'train', 'vehicle', 'weapon']\n",
            "Extracted Nodes:\n",
            "[('Terminal 4', {'type': 'building'}), ('Black Suitcase', {'type': 'clothing'}), ('Security checkpoint', {'type': 'building'}), ('JFK Airport', {'type': 'building'})]\n",
            "\n",
            "Extracted Edges:\n",
            "[('Black Suitcase', 'Security checkpoint', {'relation': 'LOCATED_AT'}), ('Black Suitcase', 'Terminal 4', {'relation': 'LOCATED_AT'}), ('Black Suitcase', 'JFK Airport', {'relation': 'LOCATED_AT'})]\n",
            "\n",
            "\n",
            "\u001b[1m> Entering new GraphQAChain chain...\u001b[0m\n",
            "Entities Extracted:\n",
            "\u001b[32;1m\u001b[1;3mNONE\u001b[0m\n",
            "Full Context:\n",
            "\u001b[32;1m\u001b[1;3m\u001b[0m\n",
            "\n",
            "\u001b[1m> Finished chain.\u001b[0m\n",
            "\n",
            "Graph Query Response: Please provide the knowledge triplets. I need the information in the triplets to answer the question about \"Suitcase?\".\n"
          ]
        }
      ]
    },
    {
      "cell_type": "code",
      "source": [],
      "metadata": {
        "id": "yPMfPyx6Mp7T"
      },
      "execution_count": null,
      "outputs": []
    }
  ]
}
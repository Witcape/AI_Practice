{
  "nbformat": 4,
  "nbformat_minor": 0,
  "metadata": {
    "colab": {
      "provenance": [],
      "gpuType": "T4",
      "authorship_tag": "ABX9TyPKG3qeY+QSL0hJsrAVEXfB",
      "include_colab_link": true
    },
    "kernelspec": {
      "name": "python3",
      "display_name": "Python 3"
    },
    "language_info": {
      "name": "python"
    },
    "accelerator": "GPU"
  },
  "cells": [
    {
      "cell_type": "markdown",
      "metadata": {
        "id": "view-in-github",
        "colab_type": "text"
      },
      "source": [
        "<a href=\"https://colab.research.google.com/github/Witcape/AI_Practice/blob/main/Hugging_face.ipynb\" target=\"_parent\"><img src=\"https://colab.research.google.com/assets/colab-badge.svg\" alt=\"Open In Colab\"/></a>"
      ]
    },
    {
      "cell_type": "code",
      "execution_count": 14,
      "metadata": {
        "id": "Gr-Rptx5bfUa"
      },
      "outputs": [],
      "source": [
        "import numpy as np\n",
        "import matplotlib.pyplot as plt\n",
        "import tensorflow as tf\n",
        "from transformers import pipeline\n",
        "from transformers import AutoTokenizer, AutoModelForSequenceClassification"
      ]
    },
    {
      "cell_type": "code",
      "source": [
        "generator = pipeline(\"text-generation\")\n",
        "\n",
        "result = generator(\n",
        "    \"in this notebook, we'll learn about\",\n",
        "    max_length = 50,\n",
        "    num_return_sequences = 2\n",
        ")\n",
        "\n",
        "print(result)"
      ],
      "metadata": {
        "colab": {
          "base_uri": "https://localhost:8080/"
        },
        "id": "BRFxtjg8bqmj",
        "outputId": "a00f4f86-1794-46be-af7e-e787b5ba73cc"
      },
      "execution_count": 15,
      "outputs": [
        {
          "output_type": "stream",
          "name": "stderr",
          "text": [
            "No model was supplied, defaulted to gpt2 and revision 6c0e608 (https://huggingface.co/gpt2).\n",
            "Using a pipeline without specifying a model name and revision in production is not recommended.\n",
            "Setting `pad_token_id` to `eos_token_id`:50256 for open-end generation.\n"
          ]
        },
        {
          "output_type": "stream",
          "name": "stdout",
          "text": [
            "[{'generated_text': \"in this notebook, we'll learn about a few of the changes Apple announced in iOS 7, so check out those pages by clicking here.\\n\\nAnd we'll check out the updated specs of the Mac App Store.\"}, {'generated_text': \"in this notebook, we'll learn about the way an ancient tablet works.\\n\\nWhy the Book of Judges\\n\\nIn the Middle Ages, the judges' role in public life was largely limited to what people could buy and sell. The judge's\"}]\n"
          ]
        }
      ]
    },
    {
      "cell_type": "code",
      "source": [
        "generator = pipeline(\"zero-shot-classification\")\n",
        "\n",
        "result = generator(\n",
        "    \"This new apple iphone 15 has 16 gbs of RAM, 128 gbs or rom, and comes equipped with a great graphics card\",\n",
        "    candidate_labels = [\"car\", \"phone\", \"bus\"]\n",
        ")\n",
        "\n",
        "print(result)"
      ],
      "metadata": {
        "colab": {
          "base_uri": "https://localhost:8080/"
        },
        "id": "gevlq5sQcBac",
        "outputId": "2c5d3309-dc19-474d-a808-06d194064ac8"
      },
      "execution_count": 16,
      "outputs": [
        {
          "output_type": "stream",
          "name": "stderr",
          "text": [
            "No model was supplied, defaulted to facebook/bart-large-mnli and revision c626438 (https://huggingface.co/facebook/bart-large-mnli).\n",
            "Using a pipeline without specifying a model name and revision in production is not recommended.\n"
          ]
        },
        {
          "output_type": "stream",
          "name": "stdout",
          "text": [
            "{'sequence': 'This new apple iphone 15 has 16 gbs of RAM, 128 gbs or rom, and comes equipped with a great graphics card', 'labels': ['phone', 'bus', 'car'], 'scores': [0.9422172904014587, 0.05542833358049393, 0.0023543634451925755]}\n"
          ]
        }
      ]
    },
    {
      "cell_type": "code",
      "source": [
        "generator = pipeline(\"zero-shot-classification\",model=\"facebook/bart-large-mnli\")\n",
        "\n",
        "result = generator(\n",
        "    \"This is a nice 12 gb phone\",\n",
        "    candidate_labels = [\"car\", \"phone\", \"bus\"],\n",
        ")\n",
        "print(result)\n",
        "\n",
        "model_name = \"facebook/bart-large-mnli\"\n",
        "model = AutoModelForSequenceClassification.from_pretrained(model_name)\n",
        "tokenizer = AutoTokenizer.from_pretrained(model_name)"
      ],
      "metadata": {
        "colab": {
          "base_uri": "https://localhost:8080/"
        },
        "id": "y-CNqGtZeP46",
        "outputId": "5887fbb0-6a17-466b-ea24-bfad4b93a223"
      },
      "execution_count": 18,
      "outputs": [
        {
          "output_type": "stream",
          "name": "stdout",
          "text": [
            "{'sequence': 'This is a nice 12 gb phone', 'labels': ['phone', 'bus', 'car'], 'scores': [0.9961028695106506, 0.0022535554599016905, 0.0016435998259112239]}\n"
          ]
        }
      ]
    },
    {
      "cell_type": "code",
      "source": [
        "x_train = [\"This is a nice phone\",\"This device has high specs, and great ram\", \"The device Comes with a great graphics card\", \"It's very tasty, it's almost mouth watering\"]"
      ],
      "metadata": {
        "id": "t4awK00RkM5S"
      },
      "execution_count": 23,
      "outputs": []
    },
    {
      "cell_type": "code",
      "source": [
        "generator = pipeline(\"zero-shot-classification\", model = model, tokenizer = tokenizer)\n",
        "\n",
        "result = generator(\n",
        "    x_train,\n",
        "    candidate_labels = [\"car\", \"phone\", \"food\"]\n",
        ")\n",
        "print(result)"
      ],
      "metadata": {
        "colab": {
          "base_uri": "https://localhost:8080/"
        },
        "id": "UfQbnhNEjBtn",
        "outputId": "9f802c63-5bfd-4ed2-8d2d-6ba689b55b32"
      },
      "execution_count": 24,
      "outputs": [
        {
          "output_type": "stream",
          "name": "stdout",
          "text": [
            "[{'sequence': 'This is a nice phone', 'labels': ['phone', 'car', 'food'], 'scores': [0.9981666803359985, 0.0009774818317964673, 0.0008558182162232697]}, {'sequence': 'This device has high specs, and great ram', 'labels': ['phone', 'car', 'food'], 'scores': [0.7569838762283325, 0.15813112258911133, 0.08488497883081436]}, {'sequence': 'The device Comes with a great graphics card', 'labels': ['phone', 'car', 'food'], 'scores': [0.5039768815040588, 0.3485906720161438, 0.14743240177631378]}, {'sequence': \"It's very tasty, it's almost mouth watering\", 'labels': ['food', 'phone', 'car'], 'scores': [0.9455909132957458, 0.03066715970635414, 0.023741956800222397]}]\n"
          ]
        }
      ]
    },
    {
      "cell_type": "code",
      "source": [],
      "metadata": {
        "id": "FiLMYUBUjywd"
      },
      "execution_count": null,
      "outputs": []
    }
  ]
}
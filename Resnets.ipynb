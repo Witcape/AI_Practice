{
  "nbformat": 4,
  "nbformat_minor": 0,
  "metadata": {
    "colab": {
      "provenance": [],
      "authorship_tag": "ABX9TyPTGD7F9Py9Fd3wjO7Swi8P",
      "include_colab_link": true
    },
    "kernelspec": {
      "name": "python3",
      "display_name": "Python 3"
    },
    "language_info": {
      "name": "python"
    }
  },
  "cells": [
    {
      "cell_type": "markdown",
      "metadata": {
        "id": "view-in-github",
        "colab_type": "text"
      },
      "source": [
        "<a href=\"https://colab.research.google.com/github/Witcape/AI_Practice/blob/main/Resnets.ipynb\" target=\"_parent\"><img src=\"https://colab.research.google.com/assets/colab-badge.svg\" alt=\"Open In Colab\"/></a>"
      ]
    },
    {
      "cell_type": "code",
      "execution_count": 2,
      "metadata": {
        "id": "oTXETXSTnNK8"
      },
      "outputs": [],
      "source": [
        "import numpy as np\n",
        "import matplotlib.pyplot as plt\n",
        "import tensorflow as tf\n",
        "from tensorflow.keras.applications.resnet_v2 import ResNet50V2\n",
        "from tensorflow.keras.preprocessing import image\n",
        "from tensorflow.keras.layers import Dense, Add, Activation, ZeroPadding2D, MaxPooling2D, Conv2D, Flatten, BatchNormalization\n",
        "from tensorflow.keras.activations import relu\n",
        "from tensorflow.keras.initializers import random_uniform, glorot_uniform"
      ]
    },
    {
      "cell_type": "code",
      "source": [
        "def identity_block(X, f, filters, initializer = random_uniform):\n",
        "  F1, F2, F3 = filters\n",
        "  X_Shortcut = X\n",
        "\n",
        "  X = Conv2D(filters = F1, kernal_size = (1,1), strides = (1,1), padding = 'valid', kernal_initializer = initializer(seed = 0))(X),\n",
        "  X = BatchNormalization(axis = 3)(X),\n",
        "  X = Activation('relu')(X,),\n",
        "\n",
        "  X = Conv2D(filters = F2, kernal_size = (f,f), strides = (1,1), padding = 'same', kernal_initializer = initializer(seed = 0))(X),\n",
        "  X = BatchNormalization(axis = 3)(X),\n",
        "  X = Activation('relu')(X),\n",
        "\n",
        "  X = Conv2D(filters = F3, kernal_size = (1,1), strides = (1,1), padding = 'same', kernal_initializer = initializer(seed = 0))(X),\n",
        "  X = BatchNormalization(axis = 3)(X),\n",
        "\n",
        "  X = Add()([X, X_Shortcut]),\n",
        "  X = Activation('relu')(X),"
      ],
      "metadata": {
        "id": "rXknA6VhtKrU"
      },
      "execution_count": 3,
      "outputs": []
    },
    {
      "cell_type": "code",
      "source": [
        "def convolution_block(X, f, filters, s = 2, initializer = glorot_uniform):\n",
        "  F1, F2, F3 = filters\n",
        "  X_Shortcut = X\n",
        "\n",
        "  X = Conv2D(filters = F1, kernel_size = (1,1), strides = (s,s), padding = 'valid', kernel_initializer = initializer(seed = 0))(X),\n",
        "  X = BatchNormalization(axis = 3)(X),\n",
        "  X = Activation('relu')(X,),\n",
        "\n",
        "  X = Conv2D(filters = F2, kernel_size = (f,f), strides = (1,1), padding = 'same', kernel_initializer = initializer(seed = 0))(X),\n",
        "  X = BatchNormalization(axis = 3)(X),\n",
        "  X = Activation('relu')(X),\n",
        "\n",
        "  X = Conv2D(filters = F3, kernel_size = (1,1), strides = (1,1), padding = 'same', kernel_initializer = initializer(seed = 0))(X),\n",
        "  X = BatchNormalization(axis = 3)(X),\n",
        "\n",
        "  X = Add()([X_shortcut,X])\n",
        "  X = Activation('relu')(X)\n",
        "\n",
        "  X = Add()([X, X_Shortcut]),\n",
        "  X = Activation('relu')(X),"
      ],
      "metadata": {
        "id": "2SsIT8TuELK4"
      },
      "execution_count": 6,
      "outputs": []
    },
    {
      "cell_type": "code",
      "source": [],
      "metadata": {
        "id": "NsfgwgaAlII5"
      },
      "execution_count": null,
      "outputs": []
    }
  ]
}
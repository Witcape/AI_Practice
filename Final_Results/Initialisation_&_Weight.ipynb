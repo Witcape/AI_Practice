{
  "nbformat": 4,
  "nbformat_minor": 0,
  "metadata": {
    "colab": {
      "provenance": [],
      "collapsed_sections": [
        "9uP6rkKmNnMe",
        "O3lGLSWa-T7s",
        "ADdA1m-zbqZ6"
      ],
      "include_colab_link": true
    },
    "kernelspec": {
      "name": "python3",
      "display_name": "Python 3"
    },
    "language_info": {
      "name": "python"
    }
  },
  "cells": [
    {
      "cell_type": "markdown",
      "metadata": {
        "id": "view-in-github",
        "colab_type": "text"
      },
      "source": [
        "<a href=\"https://colab.research.google.com/github/Witcape/AI_Practice/blob/main/Final_Results/Initialisation_%26_Weight.ipynb\" target=\"_parent\"><img src=\"https://colab.research.google.com/assets/colab-badge.svg\" alt=\"Open In Colab\"/></a>"
      ]
    },
    {
      "cell_type": "markdown",
      "source": [
        "###Installing LLM"
      ],
      "metadata": {
        "id": "9uP6rkKmNnMe"
      }
    },
    {
      "cell_type": "code",
      "source": [
        "# !pip install accelerate\n",
        "# import accelerate"
      ],
      "metadata": {
        "id": "kY6BJbl4e8Fb"
      },
      "execution_count": 59,
      "outputs": []
    },
    {
      "cell_type": "code",
      "source": [
        "!pip install -q -U google-generativeai"
      ],
      "metadata": {
        "id": "r9Zicm-7rE2F"
      },
      "execution_count": 60,
      "outputs": []
    },
    {
      "cell_type": "code",
      "source": [
        "# Import the Python SDK\n",
        "import google.generativeai as genai\n",
        "# Used to securely store your API key\n",
        "from google.colab import userdata\n",
        "\n",
        "GOOGLE_API_KEY=userdata.get('GOOGLE_API_KEY')\n",
        "genai.configure(api_key=GOOGLE_API_KEY)"
      ],
      "metadata": {
        "id": "JdYHgW6-rE46"
      },
      "execution_count": 61,
      "outputs": []
    },
    {
      "cell_type": "code",
      "source": [
        "model = genai.GenerativeModel('gemini-1.0-pro')"
      ],
      "metadata": {
        "id": "Iu_eQLazrFCp"
      },
      "execution_count": 62,
      "outputs": []
    },
    {
      "cell_type": "code",
      "source": [
        "# response = model.generate_content(\"give me 50 values between 5 and -5, just give the values in a comma seperated manner, and nothing else\")\n",
        "# print(response.text)"
      ],
      "metadata": {
        "id": "iyJtfI8srFIG"
      },
      "execution_count": 63,
      "outputs": []
    },
    {
      "cell_type": "code",
      "execution_count": 64,
      "metadata": {
        "id": "LI3J3o7JdXmC"
      },
      "outputs": [],
      "source": [
        "# !CMAKE_ARGS=\"-DLLAMA_CUBLAS=on\" FORCE_CMAKE=1 pip install llama-cpp-python==0.1.78 numpy==1.23.4 --force-reinstall --upgrade --no-cache-dir --verbose\n",
        "# !pip install huggingface_hub\n",
        "# !pip install llama-cpp-python==0.1.78\n",
        "# !pip install numpy==1.23.4"
      ]
    },
    {
      "cell_type": "code",
      "source": [
        "# model_name_or_path = \"TheBloke/Llama-2-13B-chat-GGML\"\n",
        "# model_basename = \"llama-2-13b-chat.ggmlv3.q5_1.bin\""
      ],
      "metadata": {
        "id": "N_vy42pqdcVV"
      },
      "execution_count": 65,
      "outputs": []
    },
    {
      "cell_type": "code",
      "source": [
        "# from huggingface_hub import hf_hub_download\n",
        "# from llama_cpp import Llama\n",
        "# import matplotlib.pyplot as plt"
      ],
      "metadata": {
        "id": "qvTgXraAlBHe"
      },
      "execution_count": 66,
      "outputs": []
    },
    {
      "cell_type": "code",
      "source": [
        "# model_path = hf_hub_download(repo_id=model_name_or_path, filename=model_basename)"
      ],
      "metadata": {
        "id": "VI4g2cvtlEmy"
      },
      "execution_count": 67,
      "outputs": []
    },
    {
      "cell_type": "code",
      "source": [
        "# # GPU\n",
        "# lcpp_llm = None\n",
        "# lcpp_llm = Llama(\n",
        "#     model_path=model_path,\n",
        "#     n_threads=2, # CPU cores\n",
        "#     n_batch=512, # Should be between 1 and n_ctx, consider the amount of VRAM in your GPU.\n",
        "#     n_gpu_layers=32 # Change this value based on your model and your GPU VRAM pool.\n",
        "#     )"
      ],
      "metadata": {
        "id": "JBKdKYX4mclG"
      },
      "execution_count": 68,
      "outputs": []
    },
    {
      "cell_type": "code",
      "source": [
        "# lcpp_llm.params.n_gpu_layers"
      ],
      "metadata": {
        "id": "XwOKn14tm6N1"
      },
      "execution_count": 69,
      "outputs": []
    },
    {
      "cell_type": "markdown",
      "source": [
        "### Generating Population with Quasi Initialisation"
      ],
      "metadata": {
        "id": "O3lGLSWa-T7s"
      }
    },
    {
      "cell_type": "code",
      "source": [
        "# method =' Quasi-Random Sequence'\n",
        "# prompt = f\"generate 20 numbers between -10 to 10 by using {method}, only 2 decimal places, \"\n",
        "# prompt_template = f'''SYSTEM: You are a helpful, respectful, and honest assistant. Always answer as helpfully.\n",
        "\n",
        "# USER: {prompt}\n",
        "\n",
        "# ASSISTANT:\n",
        "# '''"
      ],
      "metadata": {
        "id": "j-n9esA-bqZ5"
      },
      "execution_count": 70,
      "outputs": []
    },
    {
      "cell_type": "code",
      "source": [
        "method =' Quasi-Random Sequence'\n",
        "response = model.generate_content(\"Generate 20 numbers between -10 and 10 using the Quasi-Random Sequence method. The numbers should have exactly 2 decimal places and be returned as a comma-separated list with no additional text or formatting.\")\n",
        "print(response.text)"
      ],
      "metadata": {
        "id": "MaMLs1qbrQ7q",
        "outputId": "426735a0-5ef9-4982-9125-acd0ee51f27d",
        "colab": {
          "base_uri": "https://localhost:8080/",
          "height": 0
        }
      },
      "execution_count": 71,
      "outputs": [
        {
          "output_type": "stream",
          "name": "stderr",
          "text": [
            "2025-01-17 02:15:49,363 - tornado.access - INFO - 200 POST /v1beta/models/gemini-1.0-pro:generateContent?%24alt=json%3Benum-encoding%3Dint (127.0.0.1) 6144.62ms\n"
          ]
        },
        {
          "output_type": "stream",
          "name": "stdout",
          "text": [
            "-8.81, -6.85, -2.16, -8.02, -0.84, 9.71, 3.76, 6.69, 4.16, 7.93, -7.29, -4.92, 0.72, 5.37, 1.52, -9.48, -6.36, -2.78, -7.59, -0.41\n"
          ]
        }
      ]
    },
    {
      "cell_type": "code",
      "source": [
        "Quasi_Random_Sequence_Initialisation = [float(x) for x in response.text.split(\",\")]\n",
        "\n",
        "# Print the array\n",
        "numbers = Quasi_Random_Sequence_Initialisation\n",
        "print(Quasi_Random_Sequence_Initialisation)"
      ],
      "metadata": {
        "id": "-AvoUfaxsDdp",
        "outputId": "fefebdc2-c6e1-420f-bb52-308b74706f86",
        "colab": {
          "base_uri": "https://localhost:8080/"
        }
      },
      "execution_count": 72,
      "outputs": [
        {
          "output_type": "stream",
          "name": "stdout",
          "text": [
            "[-8.81, -6.85, -2.16, -8.02, -0.84, 9.71, 3.76, 6.69, 4.16, 7.93, -7.29, -4.92, 0.72, 5.37, 1.52, -9.48, -6.36, -2.78, -7.59, -0.41]\n"
          ]
        }
      ]
    },
    {
      "cell_type": "code",
      "source": [
        "# response=lcpp_llm(prompt=prompt_template, max_tokens=256, temperature=0.5, top_p=0.95,\n",
        "#                   repeat_penalty=1.2, top_k=150,\n",
        "#                   echo=True)"
      ],
      "metadata": {
        "id": "XVBhHn-3bqZ6"
      },
      "execution_count": 73,
      "outputs": []
    },
    {
      "cell_type": "code",
      "source": [
        "# print(response)"
      ],
      "metadata": {
        "id": "vpwQ60hxbqZ6"
      },
      "execution_count": 74,
      "outputs": []
    },
    {
      "cell_type": "code",
      "source": [
        "# import re\n",
        "\n",
        "# text_response = response['choices'][0]['text']\n",
        "\n",
        "# # Use a regular expression to find all numbers in the response\n",
        "# numbers = re.findall(r'-?\\d+\\.\\d+', text_response)\n",
        "\n",
        "# # Convert the numbers to floats\n",
        "# numbers = [float(num) for num in numbers]\n",
        "\n",
        "# Quasi_Random_Sequence_Initialisation = numbers\n",
        "# print(Quasi_Random_Sequence_Initialisation)"
      ],
      "metadata": {
        "id": "nGfPm4AAbqZ6"
      },
      "execution_count": 75,
      "outputs": []
    },
    {
      "cell_type": "markdown",
      "source": [
        "### PSO Parameters"
      ],
      "metadata": {
        "id": "ADdA1m-zbqZ6"
      }
    },
    {
      "cell_type": "code",
      "source": [
        "!pip install pyswarms\n",
        "import numpy as np\n",
        "import pyswarms as ps\n",
        "# from pso.cost_functions import sphere"
      ],
      "metadata": {
        "id": "cVQT_MjRbqZ6",
        "colab": {
          "base_uri": "https://localhost:8080/"
        },
        "outputId": "2731b28b-bdb6-414a-8a97-438811c6c414"
      },
      "execution_count": 76,
      "outputs": [
        {
          "output_type": "stream",
          "name": "stdout",
          "text": [
            "Requirement already satisfied: pyswarms in /usr/local/lib/python3.11/dist-packages (1.3.0)\n",
            "Requirement already satisfied: scipy in /usr/local/lib/python3.11/dist-packages (from pyswarms) (1.13.1)\n",
            "Requirement already satisfied: numpy in /usr/local/lib/python3.11/dist-packages (from pyswarms) (1.26.4)\n",
            "Requirement already satisfied: matplotlib>=1.3.1 in /usr/local/lib/python3.11/dist-packages (from pyswarms) (3.10.0)\n",
            "Requirement already satisfied: attrs in /usr/local/lib/python3.11/dist-packages (from pyswarms) (24.3.0)\n",
            "Requirement already satisfied: tqdm in /usr/local/lib/python3.11/dist-packages (from pyswarms) (4.67.1)\n",
            "Requirement already satisfied: future in /usr/local/lib/python3.11/dist-packages (from pyswarms) (1.0.0)\n",
            "Requirement already satisfied: pyyaml in /usr/local/lib/python3.11/dist-packages (from pyswarms) (6.0.2)\n",
            "Requirement already satisfied: contourpy>=1.0.1 in /usr/local/lib/python3.11/dist-packages (from matplotlib>=1.3.1->pyswarms) (1.3.1)\n",
            "Requirement already satisfied: cycler>=0.10 in /usr/local/lib/python3.11/dist-packages (from matplotlib>=1.3.1->pyswarms) (0.12.1)\n",
            "Requirement already satisfied: fonttools>=4.22.0 in /usr/local/lib/python3.11/dist-packages (from matplotlib>=1.3.1->pyswarms) (4.55.3)\n",
            "Requirement already satisfied: kiwisolver>=1.3.1 in /usr/local/lib/python3.11/dist-packages (from matplotlib>=1.3.1->pyswarms) (1.4.8)\n",
            "Requirement already satisfied: packaging>=20.0 in /usr/local/lib/python3.11/dist-packages (from matplotlib>=1.3.1->pyswarms) (24.2)\n",
            "Requirement already satisfied: pillow>=8 in /usr/local/lib/python3.11/dist-packages (from matplotlib>=1.3.1->pyswarms) (11.1.0)\n",
            "Requirement already satisfied: pyparsing>=2.3.1 in /usr/local/lib/python3.11/dist-packages (from matplotlib>=1.3.1->pyswarms) (3.2.1)\n",
            "Requirement already satisfied: python-dateutil>=2.7 in /usr/local/lib/python3.11/dist-packages (from matplotlib>=1.3.1->pyswarms) (2.8.2)\n",
            "Requirement already satisfied: six>=1.5 in /usr/local/lib/python3.11/dist-packages (from python-dateutil>=2.7->matplotlib>=1.3.1->pyswarms) (1.17.0)\n"
          ]
        }
      ]
    },
    {
      "cell_type": "code",
      "source": [
        "# initial_position = np.array(numbers)\n",
        "\n",
        "# def objective_function(x):\n",
        "#     return np.sum(x**2)\n",
        "\n",
        "# bounds = (np.array([-10]), np.array([10]))\n",
        "\n",
        "# options = {'c1': 0.5, 'c2': 0.3, 'w': 0.9}\n",
        "\n",
        "# optimizer = ps.single.GlobalBestPSO(n_particles=len(numbers), dimensions=1, options=options, bounds=bounds, init_pos=initial_position.reshape(-1, 1))\n",
        "\n",
        "# best_cost, best_pos = optimizer.optimize(objective_function, iters=100)\n",
        "\n",
        "# print('Best position:', best_pos)\n",
        "# print('Best objective:', best_cost)\n"
      ],
      "metadata": {
        "id": "inajwBxcbqZ6"
      },
      "execution_count": 77,
      "outputs": []
    },
    {
      "cell_type": "code",
      "source": [
        "def sphere(x):\n",
        "    return sum(x**2)"
      ],
      "metadata": {
        "id": "lK4Uz0hrbqZ6"
      },
      "execution_count": 78,
      "outputs": []
    },
    {
      "cell_type": "code",
      "source": [
        "CostFunction = sphere  #\n",
        "nVar = 10  # Number of Decision Variables\n",
        "VarSize = (nVar,)  # Size of Decision Variables Matrix\n",
        "VarMin = -10  # Lower Bound of Variables\n",
        "VarMax = 10  # Upper Bound of Variables"
      ],
      "metadata": {
        "id": "N1eqZ2gmbqZ6"
      },
      "execution_count": 79,
      "outputs": []
    },
    {
      "cell_type": "code",
      "source": [
        "MaxIt = 20  # Maximum Number of Iterations\n",
        "nPop = np.size(numbers)  # Population Size (Swarm Size)\n",
        "if(nPop > 20):\n",
        "  numbers = numbers[:19]\n",
        "print(nPop)"
      ],
      "metadata": {
        "colab": {
          "base_uri": "https://localhost:8080/"
        },
        "outputId": "bfab7073-d353-4796-f3e8-cdeeacf7c58e",
        "id": "0ldAV-8BbqZ6"
      },
      "execution_count": 80,
      "outputs": [
        {
          "output_type": "stream",
          "name": "stdout",
          "text": [
            "20\n"
          ]
        }
      ]
    },
    {
      "cell_type": "code",
      "source": [
        "w = 1  # Inertia Weight\n",
        "wdamp = 0.99  # Inertia Weight Damping Ratio\n",
        "c1 = 1.5  # Personal Learning Coefficient\n",
        "c2 = 2.0  # Global Learning Coefficient"
      ],
      "metadata": {
        "id": "c4qkdpTjbqZ7"
      },
      "execution_count": 81,
      "outputs": []
    },
    {
      "cell_type": "code",
      "source": [
        "# Velocity Limits                        HOWW. ASK BHAIYA ABOUT THIS\n",
        "VelMax = 0.1 * (VarMax - VarMin)\n",
        "VelMin = -VelMax"
      ],
      "metadata": {
        "id": "UJnvyRXrbqZ7"
      },
      "execution_count": 82,
      "outputs": []
    },
    {
      "cell_type": "code",
      "source": [
        "particles = []\n",
        "\n",
        "for i in range(nPop):\n",
        "    position = np.array([Quasi_Random_Sequence_Initialisation[i]] * nVar)\n",
        "    velocity = np.zeros(VarSize)\n",
        "    cost = CostFunction(position)\n",
        "    best_position = position.copy()\n",
        "    best_cost = cost\n",
        "    particles.append({\n",
        "        'Position': position,\n",
        "        'Velocity': velocity,\n",
        "        'Cost': cost,\n",
        "        'Best': {\n",
        "            'Position': best_position,\n",
        "            'Cost': best_cost\n",
        "        }\n",
        "    })\n",
        "print(np.size(particles))\n"
      ],
      "metadata": {
        "colab": {
          "base_uri": "https://localhost:8080/"
        },
        "outputId": "54a827ad-4fab-4703-ef12-881e69083abd",
        "id": "bxhWa-mUbqZ7"
      },
      "execution_count": 83,
      "outputs": [
        {
          "output_type": "stream",
          "name": "stdout",
          "text": [
            "20\n"
          ]
        }
      ]
    },
    {
      "cell_type": "code",
      "source": [
        "GlobalBest = {'Position': None, 'Cost': np.inf}\n",
        "\n",
        "for p in particles:\n",
        "    if p['Cost'] < GlobalBest['Cost']:\n",
        "        GlobalBest = {'Position': p['Best']['Position'].copy(), 'Cost': p['Best']['Cost']}\n",
        "\n",
        "BestCost = np.zeros(MaxIt)"
      ],
      "metadata": {
        "id": "WVS6KENDbqZ7"
      },
      "execution_count": 84,
      "outputs": []
    },
    {
      "cell_type": "markdown",
      "source": [
        "### Running PSO"
      ],
      "metadata": {
        "id": "_g07ctCqbqZ7"
      }
    },
    {
      "cell_type": "code",
      "source": [
        "w_values = []  # To store weight values\n",
        "g_values = []  # To store global best cost values\n",
        "\n",
        "for it in range(MaxIt):\n",
        "    for p in particles:\n",
        "        # Update Velocity\n",
        "        r1 = np.random.rand(*VarSize)\n",
        "        r2 = np.random.rand(*VarSize)\n",
        "        p['Velocity'] = (\n",
        "            w * p['Velocity']\n",
        "            + c1 * r1 * (p['Best']['Position'] - p['Position'])\n",
        "            + c2 * r2 * (GlobalBest['Position'] - p['Position'])\n",
        "        )\n",
        "\n",
        "        # Apply Velocity Limits\n",
        "        p['Velocity'] = np.maximum(p['Velocity'], VelMin)\n",
        "        p['Velocity'] = np.minimum(p['Velocity'], VelMax)\n",
        "\n",
        "        # Update Position\n",
        "        p['Position'] += p['Velocity']\n",
        "\n",
        "        # Velocity Mirror Effect\n",
        "        IsOutside = (p['Position'] < VarMin) | (p['Position'] > VarMax)\n",
        "        p['Velocity'][IsOutside] = -p['Velocity'][IsOutside]\n",
        "\n",
        "        # Apply Position Limits\n",
        "        p['Position'] = np.maximum(p['Position'], VarMin)\n",
        "        p['Position'] = np.minimum(p['Position'], VarMax)\n",
        "\n",
        "        # Evaluation\n",
        "        p['Cost'] = CostFunction(p['Position'])\n",
        "\n",
        "        # Update Personal Best\n",
        "        if p['Cost'] < p['Best']['Cost']:\n",
        "            p['Best']['Position'] = p['Position'].copy()\n",
        "            p['Best']['Cost'] = p['Cost']\n",
        "\n",
        "            # Update Global Best\n",
        "            if p['Best']['Cost'] < GlobalBest['Cost']:\n",
        "                GlobalBest = {'Position': p['Best']['Position'].copy(), 'Cost': p['Best']['Cost']}\n",
        "\n",
        "    # Store the global best cost\n",
        "    g_values.append(GlobalBest['Cost'])\n",
        "\n",
        "    # Generate new weight using the API\n",
        "    response = model.generate_content(\n",
        "        f\"Given the following information:\\n\"\n",
        "        f\"1. Last 5 Weight Values: {w_values[-5:]}. These weights influence the optimization objective.\\n\"\n",
        "        f\"2. Last 5 Cost Values: {g_values[-5:]}. These costs represent the results of applying the respective weights, and the goal is to minimize them.\\n\"\n",
        "        f\"3. Optimization Context: Analyze the trends and suggest a new weight value that continues to reduce the cost effectively. \"\n",
        "        f\"Focus on identifying patterns and ensuring the cost reduction objective is met.\\n\"\n",
        "        f\"4. Precision: The new weight should be returned as a single numerical value rounded to exactly 4 decimal places.\\n\"\n",
        "        f\"5. Output Format: Return only the new weight value without any additional text or explanation.\\n\\n\"\n",
        "        f\"Provide the output as a single number.\"\n",
        "    )\n",
        "\n",
        "    new_weight = float(response.text.strip())  # Extract the new weight\n",
        "\n",
        "    # Update the weight and append it to w_values\n",
        "    w = new_weight\n",
        "    w_values.append(w)\n",
        "\n",
        "    # Print iteration details\n",
        "    print(f\"Iteration {it + 1}: Best Cost = {GlobalBest['Cost']}, New Weight = {new_weight}\")\n",
        "\n",
        "# Print final weights\n",
        "print(\"All Weights:\", w_values)\n"
      ],
      "metadata": {
        "colab": {
          "base_uri": "https://localhost:8080/",
          "height": 769
        },
        "outputId": "68ad2276-6062-4627-acce-a1ed20fe0d61",
        "id": "2sTSfCukbqZ7"
      },
      "execution_count": 85,
      "outputs": [
        {
          "output_type": "stream",
          "name": "stderr",
          "text": [
            "2025-01-17 02:15:58,173 - tornado.access - INFO - 200 POST /v1beta/models/gemini-1.0-pro:generateContent?%24alt=json%3Benum-encoding%3Dint (127.0.0.1) 2453.15ms\n"
          ]
        },
        {
          "output_type": "stream",
          "name": "stdout",
          "text": [
            "Iteration 1: Best Cost = 1.6809999999999994, New Weight = 0.001\n"
          ]
        },
        {
          "output_type": "stream",
          "name": "stderr",
          "text": [
            "2025-01-17 02:16:01,146 - tornado.access - INFO - 200 POST /v1beta/models/gemini-1.0-pro:generateContent?%24alt=json%3Benum-encoding%3Dint (127.0.0.1) 2954.52ms\n"
          ]
        },
        {
          "output_type": "stream",
          "name": "stdout",
          "text": [
            "Iteration 2: Best Cost = 1.6809999999999994, New Weight = 0.0009\n"
          ]
        },
        {
          "output_type": "stream",
          "name": "stderr",
          "text": [
            "2025-01-17 02:16:03,997 - tornado.access - INFO - 200 POST /v1beta/models/gemini-1.0-pro:generateContent?%24alt=json%3Benum-encoding%3Dint (127.0.0.1) 2835.93ms\n"
          ]
        },
        {
          "output_type": "stream",
          "name": "stdout",
          "text": [
            "Iteration 3: Best Cost = 1.229237983654165, New Weight = 0.0008\n"
          ]
        },
        {
          "output_type": "stream",
          "name": "stderr",
          "text": [
            "2025-01-17 02:16:06,725 - tornado.access - INFO - 200 POST /v1beta/models/gemini-1.0-pro:generateContent?%24alt=json%3Benum-encoding%3Dint (127.0.0.1) 2702.86ms\n"
          ]
        },
        {
          "output_type": "stream",
          "name": "stdout",
          "text": [
            "Iteration 4: Best Cost = 1.229237983654165, New Weight = 0.0007\n"
          ]
        },
        {
          "output_type": "stream",
          "name": "stderr",
          "text": [
            "2025-01-17 02:16:09,622 - tornado.access - INFO - 200 POST /v1beta/models/gemini-1.0-pro:generateContent?%24alt=json%3Benum-encoding%3Dint (127.0.0.1) 2886.38ms\n"
          ]
        },
        {
          "output_type": "stream",
          "name": "stdout",
          "text": [
            "Iteration 5: Best Cost = 0.8631942772667984, New Weight = 0.0006\n"
          ]
        },
        {
          "output_type": "stream",
          "name": "stderr",
          "text": [
            "2025-01-17 02:16:12,333 - tornado.access - INFO - 200 POST /v1beta/models/gemini-1.0-pro:generateContent?%24alt=json%3Benum-encoding%3Dint (127.0.0.1) 2706.35ms\n"
          ]
        },
        {
          "output_type": "stream",
          "name": "stdout",
          "text": [
            "Iteration 6: Best Cost = 0.6813114839374347, New Weight = 0.0005\n"
          ]
        },
        {
          "output_type": "stream",
          "name": "stderr",
          "text": [
            "2025-01-17 02:16:31,246 - tornado.access - INFO - 200 POST /v1beta/models/gemini-1.0-pro:generateContent?%24alt=json%3Benum-encoding%3Dint (127.0.0.1) 18903.48ms\n"
          ]
        },
        {
          "output_type": "stream",
          "name": "stdout",
          "text": [
            "Iteration 7: Best Cost = 0.60063447102356, New Weight = 0.0004\n"
          ]
        },
        {
          "output_type": "stream",
          "name": "stderr",
          "text": [
            "2025-01-17 02:16:33,094 - tornado.access - INFO - 200 POST /v1beta/models/gemini-1.0-pro:generateContent?%24alt=json%3Benum-encoding%3Dint (127.0.0.1) 1831.62ms\n"
          ]
        },
        {
          "output_type": "stream",
          "name": "stdout",
          "text": [
            "Iteration 8: Best Cost = 0.3789034587377577, New Weight = 0.0003\n"
          ]
        },
        {
          "output_type": "stream",
          "name": "stderr",
          "text": [
            "2025-01-17 02:16:34,924 - tornado.access - INFO - 200 POST /v1beta/models/gemini-1.0-pro:generateContent?%24alt=json%3Benum-encoding%3Dint (127.0.0.1) 1821.86ms\n"
          ]
        },
        {
          "output_type": "stream",
          "name": "stdout",
          "text": [
            "Iteration 9: Best Cost = 0.21437474267032786, New Weight = 0.0002\n"
          ]
        },
        {
          "output_type": "stream",
          "name": "stderr",
          "text": [
            "2025-01-17 02:16:36,756 - tornado.access - INFO - 200 POST /v1beta/models/gemini-1.0-pro:generateContent?%24alt=json%3Benum-encoding%3Dint (127.0.0.1) 1822.94ms\n"
          ]
        },
        {
          "output_type": "stream",
          "name": "stdout",
          "text": [
            "Iteration 10: Best Cost = 0.052586755404054095, New Weight = 0.0001\n"
          ]
        },
        {
          "output_type": "stream",
          "name": "stderr",
          "text": [
            "2025-01-17 02:16:38,839 - tornado.access - INFO - 200 POST /v1beta/models/gemini-1.0-pro:generateContent?%24alt=json%3Benum-encoding%3Dint (127.0.0.1) 2074.36ms\n"
          ]
        },
        {
          "output_type": "stream",
          "name": "stdout",
          "text": [
            "Iteration 11: Best Cost = 0.03344940403330995, New Weight = 5e-05\n"
          ]
        },
        {
          "output_type": "stream",
          "name": "stderr",
          "text": [
            "2025-01-17 02:16:40,854 - tornado.access - INFO - 200 POST /v1beta/models/gemini-1.0-pro:generateContent?%24alt=json%3Benum-encoding%3Dint (127.0.0.1) 2004.56ms\n"
          ]
        },
        {
          "output_type": "stream",
          "name": "stdout",
          "text": [
            "Iteration 12: Best Cost = 0.031176752031585604, New Weight = 5e-05\n"
          ]
        },
        {
          "output_type": "stream",
          "name": "stderr",
          "text": [
            "2025-01-17 02:16:42,763 - tornado.access - INFO - 200 POST /v1beta/models/gemini-1.0-pro:generateContent?%24alt=json%3Benum-encoding%3Dint (127.0.0.1) 1899.75ms\n"
          ]
        },
        {
          "output_type": "stream",
          "name": "stdout",
          "text": [
            "Iteration 13: Best Cost = 0.013998890565475194, New Weight = 5e-05\n"
          ]
        },
        {
          "output_type": "stream",
          "name": "stderr",
          "text": [
            "2025-01-17 02:16:44,694 - tornado.access - INFO - 200 POST /v1beta/models/gemini-1.0-pro:generateContent?%24alt=json%3Benum-encoding%3Dint (127.0.0.1) 1924.20ms\n"
          ]
        },
        {
          "output_type": "stream",
          "name": "stdout",
          "text": [
            "Iteration 14: Best Cost = 0.009531324493960311, New Weight = 2.5e-05\n"
          ]
        },
        {
          "output_type": "stream",
          "name": "stderr",
          "text": [
            "2025-01-17 02:16:48,951 - tornado.access - INFO - 200 POST /v1beta/models/gemini-1.0-pro:generateContent?%24alt=json%3Benum-encoding%3Dint (127.0.0.1) 4248.35ms\n"
          ]
        },
        {
          "output_type": "stream",
          "name": "stdout",
          "text": [
            "Iteration 15: Best Cost = 0.00660514397957562, New Weight = 1e-05\n"
          ]
        },
        {
          "output_type": "stream",
          "name": "stderr",
          "text": [
            "2025-01-17 02:16:50,783 - tornado.access - INFO - 200 POST /v1beta/models/gemini-1.0-pro:generateContent?%24alt=json%3Benum-encoding%3Dint (127.0.0.1) 1821.09ms\n"
          ]
        },
        {
          "output_type": "stream",
          "name": "stdout",
          "text": [
            "Iteration 16: Best Cost = 0.004892337626560269, New Weight = 5e-06\n"
          ]
        },
        {
          "output_type": "stream",
          "name": "stderr",
          "text": [
            "2025-01-17 02:16:52,790 - tornado.access - INFO - 200 POST /v1beta/models/gemini-1.0-pro:generateContent?%24alt=json%3Benum-encoding%3Dint (127.0.0.1) 1998.98ms\n"
          ]
        },
        {
          "output_type": "stream",
          "name": "stdout",
          "text": [
            "Iteration 17: Best Cost = 0.00436048739892975, New Weight = 4e-06\n"
          ]
        },
        {
          "output_type": "stream",
          "name": "stderr",
          "text": [
            "2025-01-17 02:16:54,625 - tornado.access - INFO - 200 POST /v1beta/models/gemini-1.0-pro:generateContent?%24alt=json%3Benum-encoding%3Dint (127.0.0.1) 1824.50ms\n"
          ]
        },
        {
          "output_type": "stream",
          "name": "stdout",
          "text": [
            "Iteration 18: Best Cost = 0.0031775926316788793, New Weight = 2.5e-06\n"
          ]
        },
        {
          "output_type": "stream",
          "name": "stderr",
          "text": [
            "2025-01-17 02:16:58,881 - tornado.access - INFO - 200 POST /v1beta/models/gemini-1.0-pro:generateContent?%24alt=json%3Benum-encoding%3Dint (127.0.0.1) 4247.57ms\n"
          ]
        },
        {
          "output_type": "stream",
          "name": "stdout",
          "text": [
            "Iteration 19: Best Cost = 0.001093990796007483, New Weight = 1e-06\n",
            "Iteration 20: Best Cost = 0.0007979843687096447, New Weight = 5e-07\n",
            "All Weights: [0.001, 0.0009, 0.0008, 0.0007, 0.0006, 0.0005, 0.0004, 0.0003, 0.0002, 0.0001, 5e-05, 5e-05, 5e-05, 2.5e-05, 1e-05, 5e-06, 4e-06, 2.5e-06, 1e-06, 5e-07]\n"
          ]
        },
        {
          "output_type": "stream",
          "name": "stderr",
          "text": [
            "2025-01-17 02:17:00,736 - tornado.access - INFO - 200 POST /v1beta/models/gemini-1.0-pro:generateContent?%24alt=json%3Benum-encoding%3Dint (127.0.0.1) 1845.64ms\n"
          ]
        }
      ]
    },
    {
      "cell_type": "code",
      "source": [
        "import matplotlib.pyplot as plt\n",
        "plt.plot(w_values)\n",
        "plt.xlabel(\"Iteration\")\n",
        "plt.ylabel(\"w\")\n",
        "plt.title(\"Values of w over Iterations\")\n",
        "plt.show()"
      ],
      "metadata": {
        "id": "kD6zl3i0uRfp",
        "outputId": "10032cac-75a3-4a9e-a513-d4fc1f56d724",
        "colab": {
          "base_uri": "https://localhost:8080/",
          "height": 472
        }
      },
      "execution_count": 86,
      "outputs": [
        {
          "output_type": "display_data",
          "data": {
            "text/plain": [
              "<Figure size 640x480 with 1 Axes>"
            ],
            "image/png": "[encoded data removed]"
          },
          "metadata": {}
        }
      ]
    },
    {
      "cell_type": "code",
      "source": [
        "plt.plot(w_values)\n",
        "plt.xlabel(\"Iteration\")\n",
        "plt.ylabel(\"w\")\n",
        "plt.title(\"Values of w over Iterations\")\n",
        "plt.show()"
      ],
      "metadata": {
        "colab": {
          "base_uri": "https://localhost:8080/",
          "height": 472
        },
        "id": "DWljCYnx_pXs",
        "outputId": "90548dda-3297-493a-c99b-f80e8dab6e01"
      },
      "execution_count": 87,
      "outputs": [
        {
          "output_type": "display_data",
          "data": {
            "text/plain": [
              "<Figure size 640x480 with 1 Axes>"
            ],
            "image/png": "[encoded data removed]"
          },
          "metadata": {}
        }
      ]
    },
    {
      "cell_type": "code",
      "source": [
        "G_values_Quasi_weights = g_values\n",
        "print(G_values_Quasi_weights)\n",
        "\n",
        "plt.plot(G_values_Quasi_weights)\n",
        "plt.xlabel(\"Iteration\")\n",
        "plt.ylabel(\"g_best\")\n",
        "plt.title(\"Values of G_Best over Iterations for LLM Quasi Initialisation and LLM weights\")\n",
        "plt.show()"
      ],
      "metadata": {
        "id": "hppuZAHvuTWo",
        "outputId": "044878ac-9afe-494c-9ca5-0e0fe81e48f7",
        "colab": {
          "base_uri": "https://localhost:8080/",
          "height": 510
        }
      },
      "execution_count": 88,
      "outputs": [
        {
          "output_type": "stream",
          "name": "stdout",
          "text": [
            "[1.6809999999999994, 1.6809999999999994, 1.229237983654165, 1.229237983654165, 0.8631942772667984, 0.6813114839374347, 0.60063447102356, 0.3789034587377577, 0.21437474267032786, 0.052586755404054095, 0.03344940403330995, 0.031176752031585604, 0.013998890565475194, 0.009531324493960311, 0.00660514397957562, 0.004892337626560269, 0.00436048739892975, 0.0031775926316788793, 0.001093990796007483, 0.0007979843687096447]\n"
          ]
        },
        {
          "output_type": "display_data",
          "data": {
            "text/plain": [
              "<Figure size 640x480 with 1 Axes>"
            ],
            "image/png": "[encoded data removed]"
          },
          "metadata": {}
        }
      ]
    },
    {
      "cell_type": "code",
      "source": [
        "G_values_Quasi_weights = g_values\n",
        "print(G_values_Quasi_weights)\n",
        "\n",
        "plt.plot(G_values_Quasi_weights)\n",
        "plt.xlabel(\"Iteration\")\n",
        "plt.ylabel(\"g_best\")\n",
        "plt.title(\"Values of G_Best over Iterations for LLM Quasi Initialisation and LLM weights\")\n",
        "plt.show()"
      ],
      "metadata": {
        "colab": {
          "base_uri": "https://localhost:8080/",
          "height": 510
        },
        "outputId": "6bb6fe65-17bf-4053-a711-130db24b686d",
        "id": "UYoob2_SbqZ7"
      },
      "execution_count": 89,
      "outputs": [
        {
          "output_type": "stream",
          "name": "stdout",
          "text": [
            "[1.6809999999999994, 1.6809999999999994, 1.229237983654165, 1.229237983654165, 0.8631942772667984, 0.6813114839374347, 0.60063447102356, 0.3789034587377577, 0.21437474267032786, 0.052586755404054095, 0.03344940403330995, 0.031176752031585604, 0.013998890565475194, 0.009531324493960311, 0.00660514397957562, 0.004892337626560269, 0.00436048739892975, 0.0031775926316788793, 0.001093990796007483, 0.0007979843687096447]\n"
          ]
        },
        {
          "output_type": "display_data",
          "data": {
            "text/plain": [
              "<Figure size 640x480 with 1 Axes>"
            ],
            "image/png": "[encoded data removed]"
          },
          "metadata": {}
        }
      ]
    },
    {
      "cell_type": "code",
      "source": [],
      "metadata": {
        "id": "SGI30jVc_ohf"
      },
      "execution_count": 89,
      "outputs": []
    }
  ]
}
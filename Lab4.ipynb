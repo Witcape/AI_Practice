{
  "nbformat": 4,
  "nbformat_minor": 0,
  "metadata": {
    "colab": {
      "provenance": [],
      "authorship_tag": "ABX9TyOb512y0MAMk2ed2PYJYrxM",
      "include_colab_link": true
    },
    "kernelspec": {
      "name": "python3",
      "display_name": "Python 3"
    },
    "language_info": {
      "name": "python"
    }
  },
  "cells": [
    {
      "cell_type": "markdown",
      "metadata": {
        "id": "view-in-github",
        "colab_type": "text"
      },
      "source": [
        "<a href=\"https://colab.research.google.com/github/Witcape/AI_Practice/blob/main/Lab4.ipynb\" target=\"_parent\"><img src=\"https://colab.research.google.com/assets/colab-badge.svg\" alt=\"Open In Colab\"/></a>"
      ]
    },
    {
      "cell_type": "code",
      "execution_count": 1,
      "metadata": {
        "id": "Td_vCEqe1-bq"
      },
      "outputs": [],
      "source": [
        "import numpy as np\n",
        "import pandas as pd"
      ]
    },
    {
      "cell_type": "code",
      "source": [
        "def search(g):\n",
        "  global q\n",
        "  c = 0\n",
        "\n",
        "  while(1):\n",
        "    c += 1\n",
        "    curr_state = q[0][1]\n",
        "    parent_heuristic = q[0][0]\n",
        "    q = []\n",
        "\n",
        "    if compare(curr_state , g)==1:\n",
        "      print(\"Found\")\n",
        "      print(len(visited))\n",
        "      break\n",
        "    generate_children(curr_state)\n",
        "    visited.append(curr_state)\n",
        "\n",
        "    q.sort()\n",
        "    best_state = q[0][1]\n",
        "    if q[0][0] <= parent_heuristic:\n",
        "      exit()"
      ],
      "metadata": {
        "id": "sWHKnmRR9Tnb"
      },
      "execution_count": 2,
      "outputs": []
    },
    {
      "cell_type": "code",
      "source": [
        "def generate_children(s):\n",
        "  global g\n",
        "  global q\n",
        "  global visited\n",
        "\n",
        "  new_state = up(s)\n",
        "  if new_state not in visited and new_state not in q:\n",
        "    q.append([distance(new_state), new_state])\n",
        "\n",
        "  new_state = down(s)\n",
        "  if new_state not in visited and new_state not in q:\n",
        "    q.append([distance(new_state), new_state])\n",
        "\n",
        "  new_state = left(s)\n",
        "  if new_state not in visited and new_state not in q:\n",
        "    q.append([distance(new_state), new_state])\n",
        "\n",
        "  new_state = right(s)\n",
        "  if new_state not in visited and new_state not in q:\n",
        "    q.append([distance(new_state), new_state])"
      ],
      "metadata": {
        "id": "5UzwwS-SQoPp"
      },
      "execution_count": 3,
      "outputs": []
    },
    {
      "cell_type": "code",
      "source": [
        "def compare(s,g):\n",
        "\n",
        "  for i in range(len(s)):\n",
        "    for j in range(len(s[0])):\n",
        "      if(s[i][j] != g[i][j]):\n",
        "        return 0\n",
        "  return 1"
      ],
      "metadata": {
        "id": "mL3lbQsqQoTg"
      },
      "execution_count": 4,
      "outputs": []
    },
    {
      "cell_type": "code",
      "source": [
        "def find_pos(s):\n",
        "  global g\n",
        "\n",
        "  for i in range(len(s)):\n",
        "    for j in range(len(s[0])):\n",
        "      if(s[i][j] == 0):\n",
        "        return i,j"
      ],
      "metadata": {
        "id": "BZXMXllc9Tt8"
      },
      "execution_count": 5,
      "outputs": []
    },
    {
      "cell_type": "code",
      "source": [
        "def distance(s):\n",
        "  global g\n",
        "  dist = 0\n",
        "  for i in range(len(s)):\n",
        "    for j in range(len(s[0])):\n",
        "      if(s[i][j] != g[i][j]):\n",
        "        dist += 1\n",
        "\n",
        "  return dist"
      ],
      "metadata": {
        "id": "bMdoFpO99Tz-"
      },
      "execution_count": 6,
      "outputs": []
    },
    {
      "cell_type": "code",
      "source": [
        "def up(s):\n",
        "  global g\n",
        "  i, j = find_pos(s)\n",
        "\n",
        "  new_state = copy.deepcopy(s)\n",
        "  if i > 0:\n",
        "    new_state[i][j], new_state[i-1][j] = new_state[i-1][j], new_state[i][j]\n",
        "\n",
        "  return new_state"
      ],
      "metadata": {
        "id": "uNzBBBGf9T43"
      },
      "execution_count": 7,
      "outputs": []
    },
    {
      "cell_type": "code",
      "source": [
        "def down(s):\n",
        "  global g\n",
        "  i, j = find_pos(s)\n",
        "\n",
        "  new_state = copy.deepcopy(s)\n",
        "  if i < 2:\n",
        "\n",
        "    new_state[i][j] = new_state[i+1][j]\n",
        "    new_state[i+1][j] = 0\n",
        "\n",
        "  return new_state"
      ],
      "metadata": {
        "id": "mZA8mfmE9UIq"
      },
      "execution_count": 8,
      "outputs": []
    },
    {
      "cell_type": "code",
      "source": [
        "def left(s):\n",
        "    pos = find_pos(s)\n",
        "    row = pos[0]\n",
        "    col = pos[1]\n",
        "\n",
        "    new_state = copy.deepcopy(s)\n",
        "    if col > 0:\n",
        "        new_state[row][col] = new_state[row][col-1]\n",
        "        new_state[row][col-1] = 0\n",
        "\n",
        "    return new_state\n"
      ],
      "metadata": {
        "id": "d_R0xlAl9UMN"
      },
      "execution_count": 9,
      "outputs": []
    },
    {
      "cell_type": "code",
      "source": [
        "def right(s):\n",
        "\n",
        "    pos = find_pos(s)\n",
        "    row = pos[0]\n",
        "    col = pos[1]\n",
        "\n",
        "    new_state = copy.deepcopy(s)\n",
        "    if col < 2:\n",
        "        new_state[row][col] = new_state[row][col+1]\n",
        "        new_state[row][col+1] = 0\n",
        "\n",
        "    return new_state\n"
      ],
      "metadata": {
        "id": "oc98W5A59UPz"
      },
      "execution_count": 10,
      "outputs": []
    },
    {
      "cell_type": "code",
      "source": [
        "def search(g):\n",
        "  global q\n",
        "  c = 0\n",
        "\n",
        "  while(1):\n",
        "    c+=1\n",
        "    curr_state = q[0][1]\n",
        "    del(q[0])\n",
        "    q.sort()\n",
        "    if compare(curr_state , g)==1:\n",
        "      print(\"Found\")\n",
        "      print(len(visited))\n",
        "      exit()\n",
        "    generate_children(curr_state)\n",
        "    visited.append(curr_state)\n",
        "  print(c)"
      ],
      "metadata": {
        "id": "QyOQHS-iUXdj"
      },
      "execution_count": 11,
      "outputs": []
    },
    {
      "cell_type": "code",
      "source": [
        "import copy\n",
        "q = []\n",
        "visited = []"
      ],
      "metadata": {
        "id": "u93MJsoFVb4W"
      },
      "execution_count": 12,
      "outputs": []
    },
    {
      "cell_type": "code",
      "source": [
        "global q\n",
        "global g\n",
        "\n",
        "\n",
        "s = [[1,2,3],\n",
        "     [8,0,4],\n",
        "     [7,6,5]]\n",
        "\n",
        "g = [[2,8,1],\n",
        "     [0,4,3],\n",
        "     [7,6,5]]\n",
        "\n",
        "q.append([distance(s),s])\n",
        "search(g)"
      ],
      "metadata": {
        "colab": {
          "base_uri": "https://localhost:8080/"
        },
        "id": "0cuUn6_i5fQE",
        "outputId": "024f9b9b-89f6-4398-e6c9-4073fb5ee0d7"
      },
      "execution_count": null,
      "outputs": [
        {
          "output_type": "stream",
          "name": "stdout",
          "text": [
            "Found\n",
            "4781\n",
            "Found\n",
            "4782\n",
            "Found\n",
            "4783\n"
          ]
        }
      ]
    },
    {
      "cell_type": "code",
      "source": [],
      "metadata": {
        "id": "2SCsrSyrU4JM"
      },
      "execution_count": null,
      "outputs": []
    }
  ]
}
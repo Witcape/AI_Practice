{
  "nbformat": 4,
  "nbformat_minor": 0,
  "metadata": {
    "colab": {
      "provenance": [],
      "authorship_tag": "ABX9TyOO45I1s4Jjdw5/BcoM56Nc",
      "include_colab_link": true
    },
    "kernelspec": {
      "name": "python3",
      "display_name": "Python 3"
    },
    "language_info": {
      "name": "python"
    }
  },
  "cells": [
    {
      "cell_type": "markdown",
      "metadata": {
        "id": "view-in-github",
        "colab_type": "text"
      },
      "source": [
        "<a href=\"https://colab.research.google.com/github/Witcape/AI_Practice/blob/main/AI_Lab_Practice.ipynb\" target=\"_parent\"><img src=\"https://colab.research.google.com/assets/colab-badge.svg\" alt=\"Open In Colab\"/></a>"
      ]
    },
    {
      "cell_type": "markdown",
      "source": [
        "## Question 1"
      ],
      "metadata": {
        "id": "Eg6GcSy0TPCw"
      }
    },
    {
      "cell_type": "code",
      "execution_count": 1,
      "metadata": {
        "id": "6b8BpjJurE_6"
      },
      "outputs": [],
      "source": [
        "import numpy as np\n",
        "import matplotlib.pyplot as plt"
      ]
    },
    {
      "cell_type": "code",
      "source": [
        "# Solve the given 0/1 knapsack problem by considering the following points:\n",
        "# Chromosome is a 4-bit string. – {xA xB xC xD}\n",
        "\n",
        "# Population size = 4, Maximum Capacity of the bag (W) = 100.\n",
        "# First two fittest chromosomes selected as it is.\n",
        "# 3rd and 4th fittest use for one-point crossover in the middle followed by single bit mutation of first offspring.\n",
        "# Bits chosen for mutation follows this cyclic order (xD, xC, xB, xA).\n",
        "# Initial population: {1 1 1 1, 1 0 0 0, 1 0 1 0, 1 0 0 1}.\n",
        "# Output the result after 10 iterations."
      ],
      "metadata": {
        "id": "nhZmdGo1rNSK"
      },
      "execution_count": 126,
      "outputs": []
    },
    {
      "cell_type": "code",
      "source": [
        "items = {\n",
        "    'A': {'weight': 45, 'value': 3},\n",
        "    'B': {'weight': 40, 'value': 5},\n",
        "    'C': {'weight': 50, 'value': 8},\n",
        "    'D': {'weight': 90, 'value': 10}\n",
        "}\n",
        "\n",
        "population_size = 4\n",
        "maximum_capacity = 100\n",
        "population = ['1111', '1000', '1010', '1001']\n",
        "iteration = 10\n",
        "mutation_bits = ['D', 'C', 'B', 'A']"
      ],
      "metadata": {
        "id": "6AuXWkeZraBR"
      },
      "execution_count": 161,
      "outputs": []
    },
    {
      "cell_type": "code",
      "source": [
        "def crossover(parent1, parent2):\n",
        "  mid = len(parent1) // 2\n",
        "  child1 = parent1[:mid] + parent2[mid:]\n",
        "  child2 = parent2[:mid] + parent1[mid:]\n",
        "  return child1, child2"
      ],
      "metadata": {
        "id": "4dn0Mifgrysc"
      },
      "execution_count": 162,
      "outputs": []
    },
    {
      "cell_type": "code",
      "source": [
        "def mutation(parent):\n",
        "  bit = mutation_bits.pop(0)\n",
        "  index = list(items.keys()).index(bit)\n",
        "  print(index)\n",
        "  child = list(parent)\n",
        "  print(child)\n",
        "  if parent[index] == '1':\n",
        "    child[index] = '0'\n",
        "  else:\n",
        "    child[index] = '1'\n",
        "  mutation_bits.append(bit)\n",
        "  return ''.join(child)"
      ],
      "metadata": {
        "id": "YARAN9NJtAzv"
      },
      "execution_count": 163,
      "outputs": []
    },
    {
      "cell_type": "code",
      "source": [
        "def fitness(chromosome):\n",
        "  total_weight = 0\n",
        "  total_value = 0\n",
        "\n",
        "  for i in items.keys():\n",
        "    index = list(items.keys()).index(i)\n",
        "    if chromosome[index] == '1':\n",
        "      total_weight = total_weight + items[i]['weight']\n",
        "      total_value = total_value + items[i]['value']\n",
        "    if total_weight > maximum_capacity:\n",
        "      return 0\n",
        "  return total_value\n"
      ],
      "metadata": {
        "id": "p9lZ692GuB90"
      },
      "execution_count": 164,
      "outputs": []
    },
    {
      "cell_type": "code",
      "source": [
        "for iter in range(iteration):\n",
        "  fitness_value = []\n",
        "  for chromosome in population:\n",
        "    fitness_value.append(fitness(chromosome))\n",
        "\n",
        "  sorted_chromosome = sorted(zip(fitness_value, population), reverse=True)\n",
        "  sorted_population = [chromosome for _, chromosome in sorted_chromosome]\n",
        "\n",
        "  selected_population = [sorted_population[0], sorted_population[1]]\n",
        "\n",
        "  offspring1, offspring2 = crossover(sorted_population[2], sorted_population[3])\n",
        "  offspring1 = mutation(offspring1)\n",
        "\n",
        "  population = selected_population + [offspring1, offspring2]\n",
        "print(\"Final population after 10 iterations:\")\n",
        "print(population)"
      ],
      "metadata": {
        "id": "zsJw8Mu3th0d",
        "colab": {
          "base_uri": "https://localhost:8080/"
        },
        "outputId": "f5e7e073-3923-47df-d84b-8ce134a482a5"
      },
      "execution_count": 165,
      "outputs": [
        {
          "output_type": "stream",
          "name": "stdout",
          "text": [
            "3\n",
            "['1', '1', '0', '1']\n",
            "2\n",
            "['1', '0', '1', '1']\n",
            "1\n",
            "['1', '0', '0', '1']\n",
            "0\n",
            "['1', '0', '0', '1']\n",
            "3\n",
            "['1', '1', '0', '0']\n",
            "2\n",
            "['1', '1', '0', '1']\n",
            "1\n",
            "['1', '1', '1', '1']\n",
            "0\n",
            "['1', '1', '1', '1']\n",
            "3\n",
            "['1', '0', '1', '1']\n",
            "2\n",
            "['0', '0', '0', '0']\n",
            "Final population after 10 iterations:\n",
            "['1010', '1010', '0010', '0101']\n"
          ]
        }
      ]
    },
    {
      "cell_type": "code",
      "source": [
        "np.shape(fitness_value)"
      ],
      "metadata": {
        "colab": {
          "base_uri": "https://localhost:8080/"
        },
        "id": "cCCpZXiD8YVa",
        "outputId": "d11d1f3f-835e-4a53-8e1d-aecf903f15ba"
      },
      "execution_count": 166,
      "outputs": [
        {
          "output_type": "execute_result",
          "data": {
            "text/plain": [
              "(4,)"
            ]
          },
          "metadata": {},
          "execution_count": 166
        }
      ]
    },
    {
      "cell_type": "code",
      "source": [
        "items = {\n",
        "    'A': {'weight': 45, 'value': 3},\n",
        "    'B': {'weight': 40, 'value': 5},\n",
        "    'C': {'weight': 50, 'value': 8},\n",
        "    'D': {'weight': 90, 'value': 10}\n",
        "}\n",
        "\n",
        "population_size = 4\n",
        "maximum_capacity = 100\n",
        "population = ['1111', '1000', '1010', '1001']\n",
        "iterations = 100\n",
        "mutation_bits = ['D', 'C', 'B', 'A']"
      ],
      "metadata": {
        "id": "8jugxQIq-f33"
      },
      "execution_count": 207,
      "outputs": []
    },
    {
      "cell_type": "code",
      "source": [
        "def mutation(parent):\n",
        "  bit = mutation_bits.pop(0)\n",
        "  index = list(items.keys()).index(bit)\n",
        "  print (index)\n",
        "  child = list(parent)\n",
        "  print (child)\n",
        "  if parent[index] == '1':\n",
        "    child[index] = '0'\n",
        "  else:\n",
        "    child[index] = '1'\n",
        "  mutation_bits.append(bit)\n",
        "  return ''.join(child)\n"
      ],
      "metadata": {
        "id": "2szw0SllNdyi"
      },
      "execution_count": 214,
      "outputs": []
    },
    {
      "cell_type": "code",
      "source": [
        "def crossover(parent1, parent2):\n",
        "  mid = len(parent1) // 2\n",
        "\n",
        "  child1 = parent1[:mid] + parent2[mid:]\n",
        "  child2 = parent2[:mid] + parent1[mid:]\n",
        "\n",
        "  return child1, child2"
      ],
      "metadata": {
        "id": "CGoZu1aOOPse"
      },
      "execution_count": 215,
      "outputs": []
    },
    {
      "cell_type": "code",
      "source": [
        "def fitness(chromosome):\n",
        "  total_weight = 0\n",
        "  total_value = 0\n",
        "\n",
        "  for i in range(len(chromosome)):\n",
        "    if chromosome[i] == '1':\n",
        "      total_weight += total_weight\n",
        "      total_value += total_value\n",
        "    if total_weight > maximum_capacity:\n",
        "      return 0\n",
        "\n",
        "  return total_value"
      ],
      "metadata": {
        "id": "DRYmi0d5ORrY"
      },
      "execution_count": 216,
      "outputs": []
    },
    {
      "cell_type": "code",
      "source": [
        "for i in range(iterations):\n",
        "  fitness_value = []\n",
        "\n",
        "  for j in population:\n",
        "    fitness_value.append(fitness(j))\n",
        "\n",
        "  sorted_chromosome = sorted(zip(fitness_value, population), reverse=True)\n",
        "  sorted_population = [chromosome for _, chromosome in sorted_chromosome]\n",
        "\n",
        "  selected_population = [sorted_population[0], sorted_population[1]]\n",
        "\n",
        "  offspring1, offspring2 = crossover(sorted_population[2], sorted_population[3])\n",
        "  offspring1 = mutation(offspring1)\n",
        "\n",
        "  population = selected_population + [offspring1, offspring2]\n",
        "print(\"Final population after 100 iterations:\")\n",
        "print(population)\n",
        "\n"
      ],
      "metadata": {
        "colab": {
          "base_uri": "https://localhost:8080/"
        },
        "id": "FbbGZE1iO_Nq",
        "outputId": "f0feb6db-1338-438b-a435-57d160c9854a"
      },
      "execution_count": 217,
      "outputs": [
        {
          "output_type": "stream",
          "name": "stdout",
          "text": [
            "3\n",
            "['1', '0', '1', '1']\n",
            "2\n",
            "['1', '0', '0', '0']\n",
            "1\n",
            "['1', '0', '1', '0']\n",
            "0\n",
            "['1', '1', '1', '0']\n",
            "3\n",
            "['0', '1', '1', '0']\n",
            "2\n",
            "['0', '1', '1', '0']\n",
            "1\n",
            "['0', '1', '1', '1']\n",
            "0\n",
            "['0', '0', '0', '0']\n",
            "3\n",
            "['1', '0', '1', '1']\n",
            "2\n",
            "['1', '0', '0', '0']\n",
            "1\n",
            "['1', '0', '1', '0']\n",
            "0\n",
            "['1', '1', '1', '0']\n",
            "3\n",
            "['0', '1', '1', '0']\n",
            "2\n",
            "['0', '1', '1', '0']\n",
            "1\n",
            "['0', '1', '1', '1']\n",
            "0\n",
            "['0', '0', '0', '0']\n",
            "3\n",
            "['1', '0', '1', '1']\n",
            "2\n",
            "['1', '0', '0', '0']\n",
            "1\n",
            "['1', '0', '1', '0']\n",
            "0\n",
            "['1', '1', '1', '0']\n",
            "3\n",
            "['0', '1', '1', '0']\n",
            "2\n",
            "['0', '1', '1', '0']\n",
            "1\n",
            "['0', '1', '1', '1']\n",
            "0\n",
            "['0', '0', '0', '0']\n",
            "3\n",
            "['1', '0', '1', '1']\n",
            "2\n",
            "['1', '0', '0', '0']\n",
            "1\n",
            "['1', '0', '1', '0']\n",
            "0\n",
            "['1', '1', '1', '0']\n",
            "3\n",
            "['0', '1', '1', '0']\n",
            "2\n",
            "['0', '1', '1', '0']\n",
            "1\n",
            "['0', '1', '1', '1']\n",
            "0\n",
            "['0', '0', '0', '0']\n",
            "3\n",
            "['1', '0', '1', '1']\n",
            "2\n",
            "['1', '0', '0', '0']\n",
            "1\n",
            "['1', '0', '1', '0']\n",
            "0\n",
            "['1', '1', '1', '0']\n",
            "3\n",
            "['0', '1', '1', '0']\n",
            "2\n",
            "['0', '1', '1', '0']\n",
            "1\n",
            "['0', '1', '1', '1']\n",
            "0\n",
            "['0', '0', '0', '0']\n",
            "3\n",
            "['1', '0', '1', '1']\n",
            "2\n",
            "['1', '0', '0', '0']\n",
            "1\n",
            "['1', '0', '1', '0']\n",
            "0\n",
            "['1', '1', '1', '0']\n",
            "3\n",
            "['0', '1', '1', '0']\n",
            "2\n",
            "['0', '1', '1', '0']\n",
            "1\n",
            "['0', '1', '1', '1']\n",
            "0\n",
            "['0', '0', '0', '0']\n",
            "3\n",
            "['1', '0', '1', '1']\n",
            "2\n",
            "['1', '0', '0', '0']\n",
            "1\n",
            "['1', '0', '1', '0']\n",
            "0\n",
            "['1', '1', '1', '0']\n",
            "3\n",
            "['0', '1', '1', '0']\n",
            "2\n",
            "['0', '1', '1', '0']\n",
            "1\n",
            "['0', '1', '1', '1']\n",
            "0\n",
            "['0', '0', '0', '0']\n",
            "3\n",
            "['1', '0', '1', '1']\n",
            "2\n",
            "['1', '0', '0', '0']\n",
            "1\n",
            "['1', '0', '1', '0']\n",
            "0\n",
            "['1', '1', '1', '0']\n",
            "3\n",
            "['0', '1', '1', '0']\n",
            "2\n",
            "['0', '1', '1', '0']\n",
            "1\n",
            "['0', '1', '1', '1']\n",
            "0\n",
            "['0', '0', '0', '0']\n",
            "3\n",
            "['1', '0', '1', '1']\n",
            "2\n",
            "['1', '0', '0', '0']\n",
            "1\n",
            "['1', '0', '1', '0']\n",
            "0\n",
            "['1', '1', '1', '0']\n",
            "3\n",
            "['0', '1', '1', '0']\n",
            "2\n",
            "['0', '1', '1', '0']\n",
            "1\n",
            "['0', '1', '1', '1']\n",
            "0\n",
            "['0', '0', '0', '0']\n",
            "3\n",
            "['1', '0', '1', '1']\n",
            "2\n",
            "['1', '0', '0', '0']\n",
            "1\n",
            "['1', '0', '1', '0']\n",
            "0\n",
            "['1', '1', '1', '0']\n",
            "3\n",
            "['0', '1', '1', '0']\n",
            "2\n",
            "['0', '1', '1', '0']\n",
            "1\n",
            "['0', '1', '1', '1']\n",
            "0\n",
            "['0', '0', '0', '0']\n",
            "3\n",
            "['1', '0', '1', '1']\n",
            "2\n",
            "['1', '0', '0', '0']\n",
            "1\n",
            "['1', '0', '1', '0']\n",
            "0\n",
            "['1', '1', '1', '0']\n",
            "3\n",
            "['0', '1', '1', '0']\n",
            "2\n",
            "['0', '1', '1', '0']\n",
            "1\n",
            "['0', '1', '1', '1']\n",
            "0\n",
            "['0', '0', '0', '0']\n",
            "3\n",
            "['1', '0', '1', '1']\n",
            "2\n",
            "['1', '0', '0', '0']\n",
            "1\n",
            "['1', '0', '1', '0']\n",
            "0\n",
            "['1', '1', '1', '0']\n",
            "3\n",
            "['0', '1', '1', '0']\n",
            "2\n",
            "['0', '1', '1', '0']\n",
            "1\n",
            "['0', '1', '1', '1']\n",
            "0\n",
            "['0', '0', '0', '0']\n",
            "3\n",
            "['1', '0', '1', '1']\n",
            "2\n",
            "['1', '0', '0', '0']\n",
            "1\n",
            "['1', '0', '1', '0']\n",
            "0\n",
            "['1', '1', '1', '0']\n",
            "Final population after 100 iterations:\n",
            "['1111', '1111', '0110', '0010']\n"
          ]
        }
      ]
    },
    {
      "cell_type": "code",
      "source": [],
      "metadata": {
        "id": "vGYfW4hMRSqr"
      },
      "execution_count": null,
      "outputs": []
    }
  ]
}
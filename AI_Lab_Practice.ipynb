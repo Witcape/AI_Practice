{
  "nbformat": 4,
  "nbformat_minor": 0,
  "metadata": {
    "colab": {
      "provenance": [],
      "collapsed_sections": [
        "uiVGCaw27K3-"
      ],
      "authorship_tag": "ABX9TyP334fECOsqhCT+BAXVvJyM",
      "include_colab_link": true
    },
    "kernelspec": {
      "name": "python3",
      "display_name": "Python 3"
    },
    "language_info": {
      "name": "python"
    }
  },
  "cells": [
    {
      "cell_type": "markdown",
      "metadata": {
        "id": "view-in-github",
        "colab_type": "text"
      },
      "source": [
        "<a href=\"https://colab.research.google.com/github/Witcape/AI_Practice/blob/main/AI_Lab_Practice.ipynb\" target=\"_parent\"><img src=\"https://colab.research.google.com/assets/colab-badge.svg\" alt=\"Open In Colab\"/></a>"
      ]
    },
    {
      "cell_type": "markdown",
      "source": [
        "## Question 5.1"
      ],
      "metadata": {
        "id": "uiVGCaw27K3-"
      }
    },
    {
      "cell_type": "code",
      "execution_count": 30,
      "metadata": {
        "id": "6b8BpjJurE_6"
      },
      "outputs": [],
      "source": [
        "import numpy as np\n",
        "import matplotlib.pyplot as plt\n",
        "import random"
      ]
    },
    {
      "cell_type": "code",
      "source": [
        "# Solve the given 0/1 knapsack problem by considering the following points:\n",
        "# Chromosome is a 4-bit string. – {xA xB xC xD}\n",
        "\n",
        "# Population size = 4, Maximum Capacity of the bag (W) = 100.\n",
        "# First two fittest chromosomes selected as it is.\n",
        "# 3rd and 4th fittest use for one-point crossover in the middle followed by single bit mutation of first offspring.\n",
        "# Bits chosen for mutation follows this cyclic order (xD, xC, xB, xA).\n",
        "# Initial population: {1 1 1 1, 1 0 0 0, 1 0 1 0, 1 0 0 1}.\n",
        "# Output the result after 10 iterations."
      ],
      "metadata": {
        "id": "nhZmdGo1rNSK"
      },
      "execution_count": 2,
      "outputs": []
    },
    {
      "cell_type": "code",
      "source": [
        "items = {\n",
        "    'A': {'weight': 45, 'value': 3},\n",
        "    'B': {'weight': 40, 'value': 5},\n",
        "    'C': {'weight': 50, 'value': 8},\n",
        "    'D': {'weight': 90, 'value': 10}\n",
        "}\n",
        "\n",
        "population_size = 4\n",
        "maximum_capacity = 100\n",
        "population = ['1111', '1000', '1010', '1001']\n",
        "iteration = 10\n",
        "mutation_bits = ['D', 'C', 'B', 'A']"
      ],
      "metadata": {
        "id": "6AuXWkeZraBR"
      },
      "execution_count": 37,
      "outputs": []
    },
    {
      "cell_type": "code",
      "source": [
        "def One_pt_crossover(parent1, parent2):\n",
        "  mid = len(parent1) // 2\n",
        "  offspring1 = parent1[:mid] + parent2[mid:]\n",
        "  offspring2 = parent2[mid:] + parent1[:mid]\n",
        "  return offspring1, offspring2"
      ],
      "metadata": {
        "id": "4dn0Mifgrysc"
      },
      "execution_count": 16,
      "outputs": []
    },
    {
      "cell_type": "code",
      "source": [
        "def mutate(chromosome):\n",
        "\tmutation_point = random.randint(0, len(items)-1)\n",
        "\tif chromosome[mutation_point] == '0':\n",
        "\t\tchromosome[mutation_point] = '1'\n",
        "\telse:\n",
        "\t\tchromosome[mutation_point] = '0'\n",
        "\treturn chromosome"
      ],
      "metadata": {
        "id": "YARAN9NJtAzv"
      },
      "execution_count": 32,
      "outputs": []
    },
    {
      "cell_type": "code",
      "source": [
        "def fitness(chromosome):\n",
        "    total_weight = 0\n",
        "    total_value = 0\n",
        "\n",
        "    for item, bit in zip(items.keys(), chromosome):\n",
        "        if bit == '1':\n",
        "            total_weight += items[item]['weight']\n",
        "            total_value += items[item]['value']\n",
        "    if total_weight <= maximum_capacity:\n",
        "      return total_value\n",
        "    else:\n",
        "      return 0"
      ],
      "metadata": {
        "id": "p9lZ692GuB90"
      },
      "execution_count": 33,
      "outputs": []
    },
    {
      "cell_type": "code",
      "source": [
        "for iter in range(iteration):\n",
        "    print(f\"iter {iter + 1}:\")\n",
        "\n",
        "    fitness_scores = [fitness(chromosome) for chromosome in population]\n",
        "    print(f\"Fitness scores: {fitness_scores}\")\n",
        "\n",
        "    sorted_population = [chromosome for _, chromosome in sorted(zip(fitness_scores, population), reverse=True)]\n",
        "    selected_population = sorted_population[:2]\n",
        "    print(f\"Selected population: {selected_population}\")\n",
        "\n",
        "    offspring1, offspring2 = One_pt_crossover(sorted_population[-1], sorted_population[-2])\n",
        "    print(f\"Offspring 1: {offspring1}\")\n",
        "    print(f\"Offspring 2: {offspring2}\")\n",
        "\n",
        "    mutated_offspring1 = Mutation(offspring1)\n",
        "    print(f\"Mutated offspring 1: {mutated_offspring1}\")\n",
        "\n",
        "    population = selected_population + [mutated_offspring1]\n",
        "    print(\"--------------------------------\")"
      ],
      "metadata": {
        "colab": {
          "base_uri": "https://localhost:8080/",
          "height": 506
        },
        "id": "zsJw8Mu3th0d",
        "outputId": "9345c8cf-ca6d-4ed6-bf6c-f42b48f36687"
      },
      "execution_count": 38,
      "outputs": [
        {
          "output_type": "stream",
          "name": "stdout",
          "text": [
            "iter 1:\n",
            "Fitness scores: [0, 3, 11, 0]\n",
            "Selected population: ['1010', '1000']\n",
            "Offspring 1: 1011\n",
            "Offspring 2: 1110\n",
            "Mutated offspring 1: ['1', '1', '1', '1']\n",
            "--------------------------------\n",
            "iter 2:\n",
            "Fitness scores: [11, 3, 0]\n",
            "Selected population: ['1010', '1000']\n"
          ]
        },
        {
          "output_type": "error",
          "ename": "TypeError",
          "evalue": "can only concatenate list (not \"str\") to list",
          "traceback": [
            "\u001b[0;31m---------------------------------------------------------------------------\u001b[0m",
            "\u001b[0;31mTypeError\u001b[0m                                 Traceback (most recent call last)",
            "\u001b[0;32m<ipython-input-38-2998bb9ebf3b>\u001b[0m in \u001b[0;36m<cell line: 1>\u001b[0;34m()\u001b[0m\n\u001b[1;32m      9\u001b[0m     \u001b[0mprint\u001b[0m\u001b[0;34m(\u001b[0m\u001b[0;34mf\"Selected population: {selected_population}\"\u001b[0m\u001b[0;34m)\u001b[0m\u001b[0;34m\u001b[0m\u001b[0;34m\u001b[0m\u001b[0m\n\u001b[1;32m     10\u001b[0m \u001b[0;34m\u001b[0m\u001b[0m\n\u001b[0;32m---> 11\u001b[0;31m     \u001b[0moffspring1\u001b[0m\u001b[0;34m,\u001b[0m \u001b[0moffspring2\u001b[0m \u001b[0;34m=\u001b[0m \u001b[0mOne_pt_crossover\u001b[0m\u001b[0;34m(\u001b[0m\u001b[0msorted_population\u001b[0m\u001b[0;34m[\u001b[0m\u001b[0;34m-\u001b[0m\u001b[0;36m1\u001b[0m\u001b[0;34m]\u001b[0m\u001b[0;34m,\u001b[0m \u001b[0msorted_population\u001b[0m\u001b[0;34m[\u001b[0m\u001b[0;34m-\u001b[0m\u001b[0;36m2\u001b[0m\u001b[0;34m]\u001b[0m\u001b[0;34m)\u001b[0m\u001b[0;34m\u001b[0m\u001b[0;34m\u001b[0m\u001b[0m\n\u001b[0m\u001b[1;32m     12\u001b[0m     \u001b[0mprint\u001b[0m\u001b[0;34m(\u001b[0m\u001b[0;34mf\"Offspring 1: {offspring1}\"\u001b[0m\u001b[0;34m)\u001b[0m\u001b[0;34m\u001b[0m\u001b[0;34m\u001b[0m\u001b[0m\n\u001b[1;32m     13\u001b[0m     \u001b[0mprint\u001b[0m\u001b[0;34m(\u001b[0m\u001b[0;34mf\"Offspring 2: {offspring2}\"\u001b[0m\u001b[0;34m)\u001b[0m\u001b[0;34m\u001b[0m\u001b[0;34m\u001b[0m\u001b[0m\n",
            "\u001b[0;32m<ipython-input-16-669f683f9a84>\u001b[0m in \u001b[0;36mOne_pt_crossover\u001b[0;34m(parent1, parent2)\u001b[0m\n\u001b[1;32m      1\u001b[0m \u001b[0;32mdef\u001b[0m \u001b[0mOne_pt_crossover\u001b[0m\u001b[0;34m(\u001b[0m\u001b[0mparent1\u001b[0m\u001b[0;34m,\u001b[0m \u001b[0mparent2\u001b[0m\u001b[0;34m)\u001b[0m\u001b[0;34m:\u001b[0m\u001b[0;34m\u001b[0m\u001b[0;34m\u001b[0m\u001b[0m\n\u001b[1;32m      2\u001b[0m   \u001b[0mmid\u001b[0m \u001b[0;34m=\u001b[0m \u001b[0mlen\u001b[0m\u001b[0;34m(\u001b[0m\u001b[0mparent1\u001b[0m\u001b[0;34m)\u001b[0m \u001b[0;34m//\u001b[0m \u001b[0;36m2\u001b[0m\u001b[0;34m\u001b[0m\u001b[0;34m\u001b[0m\u001b[0m\n\u001b[0;32m----> 3\u001b[0;31m   \u001b[0moffspring1\u001b[0m \u001b[0;34m=\u001b[0m \u001b[0mparent1\u001b[0m\u001b[0;34m[\u001b[0m\u001b[0;34m:\u001b[0m\u001b[0mmid\u001b[0m\u001b[0;34m]\u001b[0m \u001b[0;34m+\u001b[0m \u001b[0mparent2\u001b[0m\u001b[0;34m[\u001b[0m\u001b[0mmid\u001b[0m\u001b[0;34m:\u001b[0m\u001b[0;34m]\u001b[0m\u001b[0;34m\u001b[0m\u001b[0;34m\u001b[0m\u001b[0m\n\u001b[0m\u001b[1;32m      4\u001b[0m   \u001b[0moffspring2\u001b[0m \u001b[0;34m=\u001b[0m \u001b[0mparent2\u001b[0m\u001b[0;34m[\u001b[0m\u001b[0mmid\u001b[0m\u001b[0;34m:\u001b[0m\u001b[0;34m]\u001b[0m \u001b[0;34m+\u001b[0m \u001b[0mparent1\u001b[0m\u001b[0;34m[\u001b[0m\u001b[0;34m:\u001b[0m\u001b[0mmid\u001b[0m\u001b[0;34m]\u001b[0m\u001b[0;34m\u001b[0m\u001b[0;34m\u001b[0m\u001b[0m\n\u001b[1;32m      5\u001b[0m   \u001b[0;32mreturn\u001b[0m \u001b[0moffspring1\u001b[0m\u001b[0;34m,\u001b[0m \u001b[0moffspring2\u001b[0m\u001b[0;34m\u001b[0m\u001b[0;34m\u001b[0m\u001b[0m\n",
            "\u001b[0;31mTypeError\u001b[0m: can only concatenate list (not \"str\") to list"
          ]
        }
      ]
    },
    {
      "cell_type": "markdown",
      "source": [
        "## Question 5.2\n"
      ],
      "metadata": {
        "id": "NEHzqGLp7VTE"
      }
    },
    {
      "cell_type": "code",
      "source": [
        "items = {\n",
        "    'A': {'weight': 45, 'value': 3},\n",
        "    'B': {'weight': 40, 'value': 5},\n",
        "    'C': {'weight': 50, 'value': 8},\n",
        "    'D': {'weight': 90, 'value': 10}\n",
        "}\n",
        "\n",
        "population_size = 4\n",
        "MAX_CAPACITY = 100\n",
        "population = ['1111', '1000', '1010', '1001']\n",
        "iteration = 10\n",
        "MUTATION_BITS = ['D', 'C', 'B', 'A']"
      ],
      "metadata": {
        "id": "UMPQy7vk9fvR"
      },
      "execution_count": 46,
      "outputs": []
    },
    {
      "cell_type": "code",
      "source": [
        "def get_fitness(chromosome):\n",
        "  total_weight = 0\n",
        "  total_value = 0\n",
        "\n",
        "  for item in items.keys():\n",
        "    index = list(items.keys()).index(item)\n",
        "    bit = chromosome[index]\n",
        "    if bit == '1':\n",
        "        total_weight += items[item]['weight']\n",
        "\n",
        "  for item in items.keys():\n",
        "    index = list(items.keys()).index(item)\n",
        "    bit = chromosome[index]\n",
        "    if bit == '1':\n",
        "        total_value += items[item]['value']\n",
        "\n",
        "  if total_weight <= MAX_CAPACITY:\n",
        "    return total_value\n",
        "  else:\n",
        "    return 0"
      ],
      "metadata": {
        "id": "Lo4DjBCX7TwR"
      },
      "execution_count": 41,
      "outputs": []
    },
    {
      "cell_type": "code",
      "source": [
        "def crossover(parent1, parent2):\n",
        "  midpoint = len(parent1) // 2\n",
        "  offspring1 = parent1[:midpoint] + parent2[midpoint:]\n",
        "  offspring2 = parent2[:midpoint] + parent1[midpoint:]\n",
        "  return offspring1, offspring2"
      ],
      "metadata": {
        "id": "4JYBdFfmzNg-"
      },
      "execution_count": 52,
      "outputs": []
    },
    {
      "cell_type": "code",
      "source": [
        "def mutation(chromosome):\n",
        "  #Single-bit mutation\n",
        "  mutated_chromosome = list(chromosome)\n",
        "  item_keys = list(items.keys())  #for manipulation\n",
        "\n",
        "  for bit in MUTATION_BITS:\n",
        "    index = item_keys.index(bit)  #extract index and corresponding bit\n",
        "    if chromosome[index] == '0':\n",
        "      mutated_chromosome[index] = '1'\n",
        "    else:\n",
        "      mutated_chromosome[index] = '0'\n",
        "  return ''.join(mutated_chromosome)"
      ],
      "metadata": {
        "id": "fn0bAkGm9onG"
      },
      "execution_count": 53,
      "outputs": []
    },
    {
      "cell_type": "code",
      "source": [
        "for iteration in range(iteration):\n",
        "\n",
        "  print(f\"Iteration {iteration + 1}:\")\n",
        "  fitness_scores = [get_fitness(chromosome) for chromosome in population]\n",
        "  print(f\"Fitness scores: {fitness_scores}\")\n",
        "\n",
        "\n",
        "  sorted_population = [chromosome for _, chromosome in\n",
        "  sorted(zip(fitness_scores, population), reverse=True)]\n",
        "  print(sorted_population)\n",
        "  selected_population = sorted_population[:2]\n",
        "  print(f\"Selected population: {selected_population}\")\n",
        "\n",
        "  offspring1, offspring2 = crossover(sorted_population[-1], sorted_population[-2])\n",
        "  print(f\"Offspring 1: {offspring1}\")\n",
        "  print(f\"Offspring 2: {offspring2}\")\n",
        "\n",
        "  mutated_offspring1 = mutation(offspring1)\n",
        "  print(f\"Mutated offspring 1: {mutated_offspring1}\")\n",
        "\n",
        "  population = selected_population + [mutated_offspring1]\n",
        "  print(\"--------------------------------\")\n",
        "\n",
        "best_chromosome = max(population, key=get_fitness)\n",
        "print(f\"Best solution: {best_chromosome}\")\n",
        "print(f\"Total value: {get_fitness(best_chromosome)}\")"
      ],
      "metadata": {
        "colab": {
          "base_uri": "https://localhost:8080/"
        },
        "id": "G_wAo86b9rNY",
        "outputId": "c192afd3-8848-4d48-c0c3-781a3eead19e"
      },
      "execution_count": 55,
      "outputs": [
        {
          "output_type": "stream",
          "name": "stdout",
          "text": [
            "Best solution: 1010\n",
            "Total value: 11\n"
          ]
        }
      ]
    },
    {
      "cell_type": "code",
      "source": [],
      "metadata": {
        "id": "2WeASFb_92O8"
      },
      "execution_count": null,
      "outputs": []
    },
    {
      "cell_type": "markdown",
      "source": [
        "## Practice 5.1 & 5.2"
      ],
      "metadata": {
        "id": "7uqrMKwg_NJ5"
      }
    },
    {
      "cell_type": "code",
      "source": [
        "items = {\n",
        "    'A' : {'weight': 2, 'value': 3},\n",
        "    'B' : {'weight': 3, 'value': 5},\n",
        "    'C' : {'weight': 4, 'value': 7},\n",
        "    'D' : {'weight': 5, 'value': 9}\n",
        "}\n",
        "\n",
        "population_size = 4\n",
        "population = ['1111', '1000', '1010', '1001']\n",
        "mutation_bits = ['C','A','B','D']\n",
        "MAX_CAPACITY = 9\n",
        "iteration = 10"
      ],
      "metadata": {
        "id": "Q2xSkZsR_Qhd"
      },
      "execution_count": 57,
      "outputs": []
    },
    {
      "cell_type": "code",
      "source": [
        "def crossover(parent1, parent2):\n",
        "  mid = len(parent1)\n",
        "\n",
        "  offspring1 = parent1[:mid] + parent2[mid:]\n",
        "  offspring2 = parent2[:mid] + parent1[mid:]\n",
        "\n",
        "  return offspring1, offspring2"
      ],
      "metadata": {
        "id": "fTKqqUo3_0QM"
      },
      "execution_count": 62,
      "outputs": []
    },
    {
      "cell_type": "code",
      "source": [
        "def mutation(chromosome):\n",
        "  mutated_chromosome = list(chromosome)\n",
        "  item_keys = list(items.keys())\n",
        "\n",
        "  for bit in mutation_bits:\n",
        "    index = item_keys.index(bit)\n",
        "    if chromosome[index] == '0':\n",
        "      mutated_chromosome[index] = '1'\n",
        "    else:\n",
        "      mutated_chromosome[index] = '0'\n",
        "  return ''.join(mutated_chromosome)"
      ],
      "metadata": {
        "id": "HBkDYJOMAyvl"
      },
      "execution_count": 63,
      "outputs": []
    },
    {
      "cell_type": "code",
      "source": [
        "def get_fitness(chromosome):\n",
        "    total_weight = 0\n",
        "    total_value = 0\n",
        "\n",
        "    for item, bit in zip(items.keys(), chromosome):\n",
        "        if bit == '1':\n",
        "            total_weight += items[item]['weight']\n",
        "            total_value += items[item]['value']\n",
        "\n",
        "    return total_value if total_weight <= MAX_CAPACITY else 0\n"
      ],
      "metadata": {
        "id": "j4lCPzMxBgHo"
      },
      "execution_count": 74,
      "outputs": []
    },
    {
      "cell_type": "code",
      "source": [
        "for iteration in range(iteration):\n",
        "\n",
        "  fitness_scores = [get_fitness(chromosome) for chromosome in population]\n",
        "\n",
        "  sorted_population = [chromosome for _, chromosome in\n",
        "  sorted(zip(fitness_scores, population), reverse=True)]\n",
        "  selected_population = sorted_population[:2]\n",
        "\n",
        "  offspring1, offspring2 = crossover(sorted_population[2], sorted_population[3])\n",
        "\n",
        "  mutated_offspring1 = mutation(offspring1)\n",
        "\n",
        "  population = selected_population + [mutated_offspring1]\n",
        "\n",
        "best_chromosome = max(population, key=get_fitness)\n",
        "print(f\"Best solution: {best_chromosome}\")\n",
        "print(f\"Total value: {get_fitness(best_chromosome)}\")"
      ],
      "metadata": {
        "colab": {
          "base_uri": "https://localhost:8080/"
        },
        "id": "Atr8JekxDJ3V",
        "outputId": "97fbb72a-e92c-4012-f5fc-05b938d242c8"
      },
      "execution_count": 75,
      "outputs": [
        {
          "output_type": "stream",
          "name": "stdout",
          "text": [
            "Best solution: 1001\n",
            "Total value: 12\n"
          ]
        }
      ]
    },
    {
      "cell_type": "code",
      "source": [],
      "metadata": {
        "id": "2alElsqgEi-X"
      },
      "execution_count": null,
      "outputs": []
    },
    {
      "cell_type": "code",
      "source": [],
      "metadata": {
        "id": "UgjAs5KwGbBl"
      },
      "execution_count": null,
      "outputs": []
    },
    {
      "cell_type": "markdown",
      "source": [
        "## Question 3\n"
      ],
      "metadata": {
        "id": "3DKdBUtWGcLR"
      }
    },
    {
      "cell_type": "code",
      "source": [
        "def heuristic(solution):\n",
        "  clause1 = (not solution[0] or solution[3])\n",
        "  clause2 = (solution[2] or solution[1])\n",
        "  clause3 = (not solution[2] or not solution[3])\n",
        "  clause4 = (not solution[3] or not solution[1])\n",
        "  num_satisfied_clauses = sum([clause1, clause2, clause3, clause4])\n",
        "  return num_satisfied_clauses"
      ],
      "metadata": {
        "id": "LbrNlgA6Geui"
      },
      "execution_count": 76,
      "outputs": []
    },
    {
      "cell_type": "code",
      "source": [
        "def movegen(solution):\n",
        "  new_solution = list(solution)\n",
        "  index_to_flip = random.randint(0, 3)\n",
        "  new_solution[index_to_flip] = not new_solution[index_to_flip]\n",
        "  return new_solution"
      ],
      "metadata": {
        "id": "N6o1bVOgGf9m"
      },
      "execution_count": 77,
      "outputs": []
    },
    {
      "cell_type": "code",
      "source": [
        "import math\n",
        "def simulated_annealing(initial_solution, T=500, cooling_function=lambda T: T - 50):\n",
        "    current_solution = initial_solution\n",
        "    current_value = heuristic(current_solution)\n",
        "    while T > 0:\n",
        "        new_solution = movegen(current_solution)\n",
        "        new_value = heuristic(new_solution)\n",
        "        delta_E = new_value - current_value\n",
        "        if delta_E > 0:\n",
        "            current_solution = new_solution\n",
        "            current_value = new_value\n",
        "            print('Temperature: ', T)\n",
        "            print('Solution :', current_solution)\n",
        "        T = cooling_function(T)\n",
        "\n",
        "    return current_solution, current_value"
      ],
      "metadata": {
        "id": "zcj3_CceGxgK"
      },
      "execution_count": 78,
      "outputs": []
    },
    {
      "cell_type": "code",
      "source": [
        "def main():\n",
        "  initial_solution = [True, True, True,True]\n",
        "  final_solution, final_value = simulated_annealing(initial_solution, T=500)\n",
        "  print('Final Solution: ', final_solution)\n",
        "\n",
        "main()"
      ],
      "metadata": {
        "colab": {
          "base_uri": "https://localhost:8080/"
        },
        "id": "VpssnH-LHkkI",
        "outputId": "22b47094-18da-456e-f55a-086e5a1b8b3a"
      },
      "execution_count": 79,
      "outputs": [
        {
          "output_type": "stream",
          "name": "stdout",
          "text": [
            "Temperature:  500\n",
            "Solution : [True, True, True, False]\n",
            "Temperature:  450\n",
            "Solution : [False, True, True, False]\n",
            "Final Solution:  [False, True, True, False]\n"
          ]
        }
      ]
    },
    {
      "cell_type": "code",
      "source": [
        "#genetic, knn, block world, 8 puzzle, tower of Hanoi"
      ],
      "metadata": {
        "id": "hGY4p4WYHpRM"
      },
      "execution_count": 1,
      "outputs": []
    },
    {
      "cell_type": "markdown",
      "source": [
        "## 8 Puzzle"
      ],
      "metadata": {
        "id": "C8JdWGAOpw7o"
      }
    },
    {
      "cell_type": "code",
      "source": [
        "import copy\n",
        "import numpy as np\n",
        "from heapq import heappush, heappop"
      ],
      "metadata": {
        "id": "etU8V35mj6F0"
      },
      "execution_count": 3,
      "outputs": []
    },
    {
      "cell_type": "code",
      "source": [
        "def find_blank(board):\n",
        "    for i in range(3):\n",
        "        for j in range(3):\n",
        "            if board[i][j] == 0:\n",
        "                return i, j"
      ],
      "metadata": {
        "id": "Q7b7JT1Sj8UU"
      },
      "execution_count": 6,
      "outputs": []
    },
    {
      "cell_type": "code",
      "source": [
        "def is_goal_state(board):\n",
        "  if board == [[1, 2, 3], [4, 0, 6], [7, 5, 8]]:\n",
        "    return 1\n",
        "  return 0"
      ],
      "metadata": {
        "id": "hCO-h0PskKlY"
      },
      "execution_count": 15,
      "outputs": []
    },
    {
      "cell_type": "code",
      "source": [
        "def move_blank(board, direction):\n",
        "  blank_i, blank_j = find_blank(board)\n",
        "\n",
        "  if direction == 'Up' and blank_i > 0:\n",
        "    board[blank_i][blank_j], board[blank_i - 1][blank_j] = board[blank_i-1][blank_j], board[blank_i][blank_j]\n",
        "\n",
        "  if direction == 'Down' and blank_i < 2:\n",
        "    board[blank_i][blank_j], board[blank_i + 1][blank_j] = board[blank_i+1][blank_j], board[blank_i][blank_j]\n",
        "\n",
        "  if direction == 'Left' and blank_j > 0:\n",
        "    board[blank_i][blank_j], board[blank_i][blank_j - 1] = board[blank_i][blank_j - 1], board[blank_i][blank_j]\n",
        "\n",
        "  if direction == 'Right' and blank_j < 2:\n",
        "    board[blank_i][blank_j], board[blank_i][blank_j + 1] = board[blank_i][blank_j + 1], board[blank_i][blank_j]"
      ],
      "metadata": {
        "id": "ncEMULj0ksSV"
      },
      "execution_count": 21,
      "outputs": []
    },
    {
      "cell_type": "code",
      "source": [
        "def dfs(board, depth_limit, path = []):\n",
        "  if is_goal_state(board):\n",
        "    return path + [board]\n",
        "  if len(path) >= depth_limit:\n",
        "    return None\n",
        "\n",
        "  directions = ['Up','Down','Left','Right']\n",
        "  for dir in directions:\n",
        "    new_board = copy.deepcopy(board)\n",
        "    move_blank(new_board, dir)\n",
        "    result = dfs(new_board, depth_limit, path + [new_board])\n",
        "    if result:\n",
        "      return result\n",
        "  return None"
      ],
      "metadata": {
        "id": "oDo0baGplwH1"
      },
      "execution_count": 22,
      "outputs": []
    },
    {
      "cell_type": "code",
      "source": [
        "initial_state = [\n",
        "    [1, 2, 3],\n",
        "    [4, 5, 6],\n",
        "    [0, 7, 8]\n",
        "]\n",
        "\n",
        "solution_path = dfs(initial_state, depth_limit=10)\n",
        "if solution_path:\n",
        "    print(\"Solution found:\")\n",
        "    for step, state in enumerate(solution_path):\n",
        "        print(f\"Step {step}:\")\n",
        "        for row in state:\n",
        "            print(row)\n",
        "else:\n",
        "    print(\"Solution not found within the depth limit.\")"
      ],
      "metadata": {
        "colab": {
          "base_uri": "https://localhost:8080/"
        },
        "id": "okVLERotncCV",
        "outputId": "7ad5cf15-95e3-4eb2-aeb5-25a3b54a7692"
      },
      "execution_count": 25,
      "outputs": [
        {
          "output_type": "stream",
          "name": "stdout",
          "text": [
            "Solution found:\n",
            "Step 0:\n",
            "[1, 2, 3]\n",
            "[0, 5, 6]\n",
            "[4, 7, 8]\n",
            "Step 1:\n",
            "[0, 2, 3]\n",
            "[1, 5, 6]\n",
            "[4, 7, 8]\n",
            "Step 2:\n",
            "[0, 2, 3]\n",
            "[1, 5, 6]\n",
            "[4, 7, 8]\n",
            "Step 3:\n",
            "[0, 2, 3]\n",
            "[1, 5, 6]\n",
            "[4, 7, 8]\n",
            "Step 4:\n",
            "[0, 2, 3]\n",
            "[1, 5, 6]\n",
            "[4, 7, 8]\n",
            "Step 5:\n",
            "[0, 2, 3]\n",
            "[1, 5, 6]\n",
            "[4, 7, 8]\n",
            "Step 6:\n",
            "[1, 2, 3]\n",
            "[0, 5, 6]\n",
            "[4, 7, 8]\n",
            "Step 7:\n",
            "[1, 2, 3]\n",
            "[4, 5, 6]\n",
            "[0, 7, 8]\n",
            "Step 8:\n",
            "[1, 2, 3]\n",
            "[4, 5, 6]\n",
            "[7, 0, 8]\n",
            "Step 9:\n",
            "[1, 2, 3]\n",
            "[4, 0, 6]\n",
            "[7, 5, 8]\n",
            "Step 10:\n",
            "[1, 2, 3]\n",
            "[4, 0, 6]\n",
            "[7, 5, 8]\n"
          ]
        }
      ]
    },
    {
      "cell_type": "markdown",
      "source": [
        "## Block World"
      ],
      "metadata": {
        "id": "3_3rPZFsp1HQ"
      }
    },
    {
      "cell_type": "code",
      "source": [],
      "metadata": {
        "id": "X8w278pVns2H"
      },
      "execution_count": null,
      "outputs": []
    }
  ]
}
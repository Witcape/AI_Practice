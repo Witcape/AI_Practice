{
  "nbformat": 4,
  "nbformat_minor": 0,
  "metadata": {
    "colab": {
      "provenance": [],
      "include_colab_link": true
    },
    "kernelspec": {
      "name": "python3",
      "display_name": "Python 3"
    },
    "language_info": {
      "name": "python"
    }
  },
  "cells": [
    {
      "cell_type": "markdown",
      "metadata": {
        "id": "view-in-github",
        "colab_type": "text"
      },
      "source": [
        "<a href=\"https://colab.research.google.com/github/Witcape/AI_Practice/blob/main/graph_rag_NEO4J.ipynb\" target=\"_parent\"><img src=\"https://colab.research.google.com/assets/colab-badge.svg\" alt=\"Open In Colab\"/></a>"
      ]
    },
    {
      "cell_type": "code",
      "source": [
        "# !pip install langchain-experimental langchain-community langchain networkx langchain-google-genai langchain-core json-repair"
      ],
      "metadata": {
        "id": "x1xnr5GGyTRg"
      },
      "execution_count": 1,
      "outputs": []
    },
    {
      "cell_type": "code",
      "execution_count": 2,
      "metadata": {
        "id": "D5WvDx7wxOhE"
      },
      "outputs": [],
      "source": [
        "# import os\n",
        "# import time\n",
        "# import networkx as nx\n",
        "# import google.generativeai as genai\n",
        "# from langchain_experimental.graph_transformers import LLMGraphTransformer\n",
        "# from langchain_google_genai import GoogleGenerativeAI\n",
        "# from langchain.chains import GraphQAChain\n",
        "# from langchain_core.documents import Document\n",
        "# from langchain_community.graphs.networkx_graph import NetworkxEntityGraph"
      ]
    },
    {
      "cell_type": "code",
      "source": [
        "# import google.generativeai as genai\n",
        "# from google.colab import userdata\n",
        "\n",
        "# GOOGLE_API_KEY=userdata.get('GOOGLE_API_KEY')\n",
        "# genai.configure(api_key=GOOGLE_API_KEY)\n",
        "# llm = GoogleGenerativeAI(model=\"gemini-pro\", google_api_key=GOOGLE_API_KEY)"
      ],
      "metadata": {
        "id": "AodhDowAx6kw"
      },
      "execution_count": 3,
      "outputs": []
    },
    {
      "cell_type": "code",
      "source": [
        "# # Input text\n",
        "# doc_text = \"\"\"\n",
        "# A traveler, John Doe, lost his black Samsonite suitcase at JFK Airport on February 20th.\n",
        "# He last saw it at the security checkpoint in Terminal 4 before proceeding to Gate B22 for his flight to London.\n",
        "# The suitcase contains important documents, a laptop, and personal belongings.\n",
        "# Airport security reviewed footage from multiple CCTV cameras along the route from security to the boarding gate.\n",
        "# It was last seen near a coffee shop in the terminal before disappearing from view.\n",
        "# The airport authorities are investigating whether it was misplaced, stolen, or mistakenly taken by another passenger.\n",
        "# \"\"\"\n",
        "\n",
        "# documents = [Document(page_content=doc_text)]"
      ],
      "metadata": {
        "id": "hmcipNeAyhOk"
      },
      "execution_count": 4,
      "outputs": []
    },
    {
      "cell_type": "code",
      "source": [
        "# # Initialize the Graph Transformer\n",
        "# llm_transformer = LLMGraphTransformer(llm=llm)\n",
        "# graph_documents = llm_transformer.convert_to_graph_documents(documents)\n",
        "\n",
        "# # Filter Graph Transformer\n",
        "# llm_transformer_filtered = LLMGraphTransformer(\n",
        "#     llm=llm,\n",
        "#     allowed_nodes=[\"Person\", \"Item\", \"Location\", \"Event\"],\n",
        "#     allowed_relationships=[\"LAST_SEEN_AT\", \"OWNED_BY\", \"INVESTIGATED_BY\", \"RECORDED_BY\", \"CONNECTED_TO\", \"CONTAINS\"],\n",
        "# )\n",
        "# graph_documents_filtered = llm_transformer_filtered.convert_to_graph_documents(documents)\n",
        "\n",
        "# # Create NetworkX Graph\n",
        "# graph = NetworkxEntityGraph()"
      ],
      "metadata": {
        "id": "j0AHAb3nzVOU"
      },
      "execution_count": 5,
      "outputs": []
    },
    {
      "cell_type": "code",
      "source": [
        "# # Add nodes to the graph\n",
        "# for node in graph_documents_filtered[0].nodes:\n",
        "#     graph.add_node(node.id)\n",
        "\n",
        "# # Add edges to the graph\n",
        "# for edge in graph_documents_filtered[0].relationships:\n",
        "#     graph._graph.add_edge(edge.source.id, edge.target.id, relation=edge.type)\n"
      ],
      "metadata": {
        "id": "mUM6Y2hmzX4y"
      },
      "execution_count": 6,
      "outputs": []
    },
    {
      "cell_type": "code",
      "source": [
        "# # Initialize the GraphQAChain\n",
        "# chain = GraphQAChain.from_llm(llm=llm, graph=graph, verbose=True)"
      ],
      "metadata": {
        "id": "FBrM75Zezbjp"
      },
      "execution_count": 7,
      "outputs": []
    },
    {
      "cell_type": "code",
      "source": [
        "# # Query the graph\n",
        "# question = \"Where was john doe's suitcase seen?\"\n",
        "# response = chain.run(question)\n",
        "# print(response)"
      ],
      "metadata": {
        "id": "PC3LvK3azelp"
      },
      "execution_count": 8,
      "outputs": []
    },
    {
      "cell_type": "code",
      "source": [
        "!pip install langchain-experimental langchain-community langchain networkx langchain-google-genai langchain-core json-repair matplotlib neo4j pyvis"
      ],
      "metadata": {
        "colab": {
          "base_uri": "https://localhost:8080/"
        },
        "id": "STn-o3lWze43",
        "outputId": "e98258ea-21ff-4102-bf6a-f6fee148c8cf"
      },
      "execution_count": 9,
      "outputs": [
        {
          "output_type": "stream",
          "name": "stdout",
          "text": [
            "Requirement already satisfied: langchain-experimental in /usr/local/lib/python3.11/dist-packages (0.3.4)\n",
            "Requirement already satisfied: langchain-community in /usr/local/lib/python3.11/dist-packages (0.3.18)\n",
            "Requirement already satisfied: langchain in /usr/local/lib/python3.11/dist-packages (0.3.19)\n",
            "Requirement already satisfied: networkx in /usr/local/lib/python3.11/dist-packages (3.4.2)\n",
            "Requirement already satisfied: langchain-google-genai in /usr/local/lib/python3.11/dist-packages (2.0.11)\n",
            "Requirement already satisfied: langchain-core in /usr/local/lib/python3.11/dist-packages (0.3.37)\n",
            "Requirement already satisfied: json-repair in /usr/local/lib/python3.11/dist-packages (0.39.1)\n",
            "Requirement already satisfied: matplotlib in /usr/local/lib/python3.11/dist-packages (3.10.0)\n",
            "Requirement already satisfied: neo4j in /usr/local/lib/python3.11/dist-packages (5.28.1)\n",
            "Requirement already satisfied: pyvis in /usr/local/lib/python3.11/dist-packages (0.3.2)\n",
            "Requirement already satisfied: SQLAlchemy<3,>=1.4 in /usr/local/lib/python3.11/dist-packages (from langchain-community) (2.0.38)\n",
            "Requirement already satisfied: requests<3,>=2 in /usr/local/lib/python3.11/dist-packages (from langchain-community) (2.32.3)\n",
            "Requirement already satisfied: PyYAML>=5.3 in /usr/local/lib/python3.11/dist-packages (from langchain-community) (6.0.2)\n",
            "Requirement already satisfied: aiohttp<4.0.0,>=3.8.3 in /usr/local/lib/python3.11/dist-packages (from langchain-community) (3.11.12)\n",
            "Requirement already satisfied: tenacity!=8.4.0,<10,>=8.1.0 in /usr/local/lib/python3.11/dist-packages (from langchain-community) (9.0.0)\n",
            "Requirement already satisfied: dataclasses-json<0.7,>=0.5.7 in /usr/local/lib/python3.11/dist-packages (from langchain-community) (0.6.7)\n",
            "Requirement already satisfied: pydantic-settings<3.0.0,>=2.4.0 in /usr/local/lib/python3.11/dist-packages (from langchain-community) (2.8.0)\n",
            "Requirement already satisfied: langsmith<0.4,>=0.1.125 in /usr/local/lib/python3.11/dist-packages (from langchain-community) (0.3.9)\n",
            "Requirement already satisfied: httpx-sse<1.0.0,>=0.4.0 in /usr/local/lib/python3.11/dist-packages (from langchain-community) (0.4.0)\n",
            "Requirement already satisfied: numpy<2,>=1.26.4 in /usr/local/lib/python3.11/dist-packages (from langchain-community) (1.26.4)\n",
            "Requirement already satisfied: langchain-text-splitters<1.0.0,>=0.3.6 in /usr/local/lib/python3.11/dist-packages (from langchain) (0.3.6)\n",
            "Requirement already satisfied: pydantic<3.0.0,>=2.7.4 in /usr/local/lib/python3.11/dist-packages (from langchain) (2.10.6)\n",
            "Requirement already satisfied: filetype<2.0.0,>=1.2.0 in /usr/local/lib/python3.11/dist-packages (from langchain-google-genai) (1.2.0)\n",
            "Requirement already satisfied: google-ai-generativelanguage<0.7.0,>=0.6.16 in /usr/local/lib/python3.11/dist-packages (from langchain-google-genai) (0.6.16)\n",
            "Requirement already satisfied: jsonpatch<2.0,>=1.33 in /usr/local/lib/python3.11/dist-packages (from langchain-core) (1.33)\n",
            "Requirement already satisfied: packaging<25,>=23.2 in /usr/local/lib/python3.11/dist-packages (from langchain-core) (24.2)\n",
            "Requirement already satisfied: typing-extensions>=4.7 in /usr/local/lib/python3.11/dist-packages (from langchain-core) (4.12.2)\n",
            "Requirement already satisfied: contourpy>=1.0.1 in /usr/local/lib/python3.11/dist-packages (from matplotlib) (1.3.1)\n",
            "Requirement already satisfied: cycler>=0.10 in /usr/local/lib/python3.11/dist-packages (from matplotlib) (0.12.1)\n",
            "Requirement already satisfied: fonttools>=4.22.0 in /usr/local/lib/python3.11/dist-packages (from matplotlib) (4.56.0)\n",
            "Requirement already satisfied: kiwisolver>=1.3.1 in /usr/local/lib/python3.11/dist-packages (from matplotlib) (1.4.8)\n",
            "Requirement already satisfied: pillow>=8 in /usr/local/lib/python3.11/dist-packages (from matplotlib) (11.1.0)\n",
            "Requirement already satisfied: pyparsing>=2.3.1 in /usr/local/lib/python3.11/dist-packages (from matplotlib) (3.2.1)\n",
            "Requirement already satisfied: python-dateutil>=2.7 in /usr/local/lib/python3.11/dist-packages (from matplotlib) (2.8.2)\n",
            "Requirement already satisfied: pytz in /usr/local/lib/python3.11/dist-packages (from neo4j) (2025.1)\n",
            "Requirement already satisfied: ipython>=5.3.0 in /usr/local/lib/python3.11/dist-packages (from pyvis) (7.34.0)\n",
            "Requirement already satisfied: jinja2>=2.9.6 in /usr/local/lib/python3.11/dist-packages (from pyvis) (3.1.5)\n",
            "Requirement already satisfied: jsonpickle>=1.4.1 in /usr/local/lib/python3.11/dist-packages (from pyvis) (4.0.2)\n",
            "Requirement already satisfied: aiohappyeyeballs>=2.3.0 in /usr/local/lib/python3.11/dist-packages (from aiohttp<4.0.0,>=3.8.3->langchain-community) (2.4.6)\n",
            "Requirement already satisfied: aiosignal>=1.1.2 in /usr/local/lib/python3.11/dist-packages (from aiohttp<4.0.0,>=3.8.3->langchain-community) (1.3.2)\n",
            "Requirement already satisfied: attrs>=17.3.0 in /usr/local/lib/python3.11/dist-packages (from aiohttp<4.0.0,>=3.8.3->langchain-community) (25.1.0)\n",
            "Requirement already satisfied: frozenlist>=1.1.1 in /usr/local/lib/python3.11/dist-packages (from aiohttp<4.0.0,>=3.8.3->langchain-community) (1.5.0)\n",
            "Requirement already satisfied: multidict<7.0,>=4.5 in /usr/local/lib/python3.11/dist-packages (from aiohttp<4.0.0,>=3.8.3->langchain-community) (6.1.0)\n",
            "Requirement already satisfied: propcache>=0.2.0 in /usr/local/lib/python3.11/dist-packages (from aiohttp<4.0.0,>=3.8.3->langchain-community) (0.3.0)\n",
            "Requirement already satisfied: yarl<2.0,>=1.17.0 in /usr/local/lib/python3.11/dist-packages (from aiohttp<4.0.0,>=3.8.3->langchain-community) (1.18.3)\n",
            "Requirement already satisfied: marshmallow<4.0.0,>=3.18.0 in /usr/local/lib/python3.11/dist-packages (from dataclasses-json<0.7,>=0.5.7->langchain-community) (3.26.1)\n",
            "Requirement already satisfied: typing-inspect<1,>=0.4.0 in /usr/local/lib/python3.11/dist-packages (from dataclasses-json<0.7,>=0.5.7->langchain-community) (0.9.0)\n",
            "Requirement already satisfied: google-api-core!=2.0.*,!=2.1.*,!=2.10.*,!=2.2.*,!=2.3.*,!=2.4.*,!=2.5.*,!=2.6.*,!=2.7.*,!=2.8.*,!=2.9.*,<3.0.0dev,>=1.34.1 in /usr/local/lib/python3.11/dist-packages (from google-api-core[grpc]!=2.0.*,!=2.1.*,!=2.10.*,!=2.2.*,!=2.3.*,!=2.4.*,!=2.5.*,!=2.6.*,!=2.7.*,!=2.8.*,!=2.9.*,<3.0.0dev,>=1.34.1->google-ai-generativelanguage<0.7.0,>=0.6.16->langchain-google-genai) (2.24.1)\n",
            "Requirement already satisfied: google-auth!=2.24.0,!=2.25.0,<3.0.0dev,>=2.14.1 in /usr/local/lib/python3.11/dist-packages (from google-ai-generativelanguage<0.7.0,>=0.6.16->langchain-google-genai) (2.27.0)\n",
            "Requirement already satisfied: proto-plus<2.0.0dev,>=1.22.3 in /usr/local/lib/python3.11/dist-packages (from google-ai-generativelanguage<0.7.0,>=0.6.16->langchain-google-genai) (1.26.0)\n",
            "Requirement already satisfied: protobuf!=4.21.0,!=4.21.1,!=4.21.2,!=4.21.3,!=4.21.4,!=4.21.5,<6.0.0dev,>=3.20.2 in /usr/local/lib/python3.11/dist-packages (from google-ai-generativelanguage<0.7.0,>=0.6.16->langchain-google-genai) (4.25.6)\n",
            "Requirement already satisfied: setuptools>=18.5 in /usr/local/lib/python3.11/dist-packages (from ipython>=5.3.0->pyvis) (75.1.0)\n",
            "Requirement already satisfied: jedi>=0.16 in /usr/local/lib/python3.11/dist-packages (from ipython>=5.3.0->pyvis) (0.19.2)\n",
            "Requirement already satisfied: decorator in /usr/local/lib/python3.11/dist-packages (from ipython>=5.3.0->pyvis) (4.4.2)\n",
            "Requirement already satisfied: pickleshare in /usr/local/lib/python3.11/dist-packages (from ipython>=5.3.0->pyvis) (0.7.5)\n",
            "Requirement already satisfied: traitlets>=4.2 in /usr/local/lib/python3.11/dist-packages (from ipython>=5.3.0->pyvis) (5.7.1)\n",
            "Requirement already satisfied: prompt-toolkit!=3.0.0,!=3.0.1,<3.1.0,>=2.0.0 in /usr/local/lib/python3.11/dist-packages (from ipython>=5.3.0->pyvis) (3.0.50)\n",
            "Requirement already satisfied: pygments in /usr/local/lib/python3.11/dist-packages (from ipython>=5.3.0->pyvis) (2.18.0)\n",
            "Requirement already satisfied: backcall in /usr/local/lib/python3.11/dist-packages (from ipython>=5.3.0->pyvis) (0.2.0)\n",
            "Requirement already satisfied: matplotlib-inline in /usr/local/lib/python3.11/dist-packages (from ipython>=5.3.0->pyvis) (0.1.7)\n",
            "Requirement already satisfied: pexpect>4.3 in /usr/local/lib/python3.11/dist-packages (from ipython>=5.3.0->pyvis) (4.9.0)\n",
            "Requirement already satisfied: MarkupSafe>=2.0 in /usr/local/lib/python3.11/dist-packages (from jinja2>=2.9.6->pyvis) (3.0.2)\n",
            "Requirement already satisfied: jsonpointer>=1.9 in /usr/local/lib/python3.11/dist-packages (from jsonpatch<2.0,>=1.33->langchain-core) (3.0.0)\n",
            "Requirement already satisfied: httpx<1,>=0.23.0 in /usr/local/lib/python3.11/dist-packages (from langsmith<0.4,>=0.1.125->langchain-community) (0.28.1)\n",
            "Requirement already satisfied: orjson<4.0.0,>=3.9.14 in /usr/local/lib/python3.11/dist-packages (from langsmith<0.4,>=0.1.125->langchain-community) (3.10.15)\n",
            "Requirement already satisfied: requests-toolbelt<2.0.0,>=1.0.0 in /usr/local/lib/python3.11/dist-packages (from langsmith<0.4,>=0.1.125->langchain-community) (1.0.0)\n",
            "Requirement already satisfied: zstandard<0.24.0,>=0.23.0 in /usr/local/lib/python3.11/dist-packages (from langsmith<0.4,>=0.1.125->langchain-community) (0.23.0)\n",
            "Requirement already satisfied: annotated-types>=0.6.0 in /usr/local/lib/python3.11/dist-packages (from pydantic<3.0.0,>=2.7.4->langchain) (0.7.0)\n",
            "Requirement already satisfied: pydantic-core==2.27.2 in /usr/local/lib/python3.11/dist-packages (from pydantic<3.0.0,>=2.7.4->langchain) (2.27.2)\n",
            "Requirement already satisfied: python-dotenv>=0.21.0 in /usr/local/lib/python3.11/dist-packages (from pydantic-settings<3.0.0,>=2.4.0->langchain-community) (1.0.1)\n",
            "Requirement already satisfied: six>=1.5 in /usr/local/lib/python3.11/dist-packages (from python-dateutil>=2.7->matplotlib) (1.17.0)\n",
            "Requirement already satisfied: charset-normalizer<4,>=2 in /usr/local/lib/python3.11/dist-packages (from requests<3,>=2->langchain-community) (3.4.1)\n",
            "Requirement already satisfied: idna<4,>=2.5 in /usr/local/lib/python3.11/dist-packages (from requests<3,>=2->langchain-community) (3.10)\n",
            "Requirement already satisfied: urllib3<3,>=1.21.1 in /usr/local/lib/python3.11/dist-packages (from requests<3,>=2->langchain-community) (2.3.0)\n",
            "Requirement already satisfied: certifi>=2017.4.17 in /usr/local/lib/python3.11/dist-packages (from requests<3,>=2->langchain-community) (2025.1.31)\n",
            "Requirement already satisfied: greenlet!=0.4.17 in /usr/local/lib/python3.11/dist-packages (from SQLAlchemy<3,>=1.4->langchain-community) (3.1.1)\n",
            "Requirement already satisfied: googleapis-common-protos<2.0.dev0,>=1.56.2 in /usr/local/lib/python3.11/dist-packages (from google-api-core!=2.0.*,!=2.1.*,!=2.10.*,!=2.2.*,!=2.3.*,!=2.4.*,!=2.5.*,!=2.6.*,!=2.7.*,!=2.8.*,!=2.9.*,<3.0.0dev,>=1.34.1->google-api-core[grpc]!=2.0.*,!=2.1.*,!=2.10.*,!=2.2.*,!=2.3.*,!=2.4.*,!=2.5.*,!=2.6.*,!=2.7.*,!=2.8.*,!=2.9.*,<3.0.0dev,>=1.34.1->google-ai-generativelanguage<0.7.0,>=0.6.16->langchain-google-genai) (1.68.0)\n",
            "Requirement already satisfied: grpcio<2.0dev,>=1.33.2 in /usr/local/lib/python3.11/dist-packages (from google-api-core[grpc]!=2.0.*,!=2.1.*,!=2.10.*,!=2.2.*,!=2.3.*,!=2.4.*,!=2.5.*,!=2.6.*,!=2.7.*,!=2.8.*,!=2.9.*,<3.0.0dev,>=1.34.1->google-ai-generativelanguage<0.7.0,>=0.6.16->langchain-google-genai) (1.70.0)\n",
            "Requirement already satisfied: grpcio-status<2.0.dev0,>=1.33.2 in /usr/local/lib/python3.11/dist-packages (from google-api-core[grpc]!=2.0.*,!=2.1.*,!=2.10.*,!=2.2.*,!=2.3.*,!=2.4.*,!=2.5.*,!=2.6.*,!=2.7.*,!=2.8.*,!=2.9.*,<3.0.0dev,>=1.34.1->google-ai-generativelanguage<0.7.0,>=0.6.16->langchain-google-genai) (1.62.3)\n",
            "Requirement already satisfied: cachetools<6.0,>=2.0.0 in /usr/local/lib/python3.11/dist-packages (from google-auth!=2.24.0,!=2.25.0,<3.0.0dev,>=2.14.1->google-ai-generativelanguage<0.7.0,>=0.6.16->langchain-google-genai) (5.5.2)\n",
            "Requirement already satisfied: pyasn1-modules>=0.2.1 in /usr/local/lib/python3.11/dist-packages (from google-auth!=2.24.0,!=2.25.0,<3.0.0dev,>=2.14.1->google-ai-generativelanguage<0.7.0,>=0.6.16->langchain-google-genai) (0.4.1)\n",
            "Requirement already satisfied: rsa<5,>=3.1.4 in /usr/local/lib/python3.11/dist-packages (from google-auth!=2.24.0,!=2.25.0,<3.0.0dev,>=2.14.1->google-ai-generativelanguage<0.7.0,>=0.6.16->langchain-google-genai) (4.9)\n",
            "Requirement already satisfied: anyio in /usr/local/lib/python3.11/dist-packages (from httpx<1,>=0.23.0->langsmith<0.4,>=0.1.125->langchain-community) (3.7.1)\n",
            "Requirement already satisfied: httpcore==1.* in /usr/local/lib/python3.11/dist-packages (from httpx<1,>=0.23.0->langsmith<0.4,>=0.1.125->langchain-community) (1.0.7)\n",
            "Requirement already satisfied: h11<0.15,>=0.13 in /usr/local/lib/python3.11/dist-packages (from httpcore==1.*->httpx<1,>=0.23.0->langsmith<0.4,>=0.1.125->langchain-community) (0.14.0)\n",
            "Requirement already satisfied: parso<0.9.0,>=0.8.4 in /usr/local/lib/python3.11/dist-packages (from jedi>=0.16->ipython>=5.3.0->pyvis) (0.8.4)\n",
            "Requirement already satisfied: ptyprocess>=0.5 in /usr/local/lib/python3.11/dist-packages (from pexpect>4.3->ipython>=5.3.0->pyvis) (0.7.0)\n",
            "Requirement already satisfied: wcwidth in /usr/local/lib/python3.11/dist-packages (from prompt-toolkit!=3.0.0,!=3.0.1,<3.1.0,>=2.0.0->ipython>=5.3.0->pyvis) (0.2.13)\n",
            "Requirement already satisfied: mypy-extensions>=0.3.0 in /usr/local/lib/python3.11/dist-packages (from typing-inspect<1,>=0.4.0->dataclasses-json<0.7,>=0.5.7->langchain-community) (1.0.0)\n",
            "Requirement already satisfied: pyasn1<0.7.0,>=0.4.6 in /usr/local/lib/python3.11/dist-packages (from pyasn1-modules>=0.2.1->google-auth!=2.24.0,!=2.25.0,<3.0.0dev,>=2.14.1->google-ai-generativelanguage<0.7.0,>=0.6.16->langchain-google-genai) (0.6.1)\n",
            "Requirement already satisfied: sniffio>=1.1 in /usr/local/lib/python3.11/dist-packages (from anyio->httpx<1,>=0.23.0->langsmith<0.4,>=0.1.125->langchain-community) (1.3.1)\n"
          ]
        }
      ]
    },
    {
      "cell_type": "code",
      "source": [
        "import os\n",
        "import time\n",
        "import networkx as nx\n",
        "import requests\n",
        "import matplotlib.pyplot as plt\n",
        "import json\n",
        "import google.generativeai as genai\n",
        "from langchain_experimental.graph_transformers import LLMGraphTransformer\n",
        "from langchain_google_genai import GoogleGenerativeAI\n",
        "from langchain.chains import GraphQAChain  # Fixed import\n",
        "from langchain_core.documents import Document\n",
        "from langchain_community.graphs.networkx_graph import NetworkxEntityGraph"
      ],
      "metadata": {
        "id": "Pp1khBlo0vgk"
      },
      "execution_count": 10,
      "outputs": []
    },
    {
      "cell_type": "code",
      "source": [
        "import google.generativeai as genai\n",
        "from google.colab import userdata\n",
        "\n",
        "GOOGLE_API_KEY=userdata.get('GOOGLE_API_KEY')\n",
        "genai.configure(api_key=GOOGLE_API_KEY)\n",
        "llm = GoogleGenerativeAI(model=\"gemini-2.0-flash\", google_api_key=GOOGLE_API_KEY)"
      ],
      "metadata": {
        "id": "YzRiyYEh031e"
      },
      "execution_count": 11,
      "outputs": []
    },
    {
      "cell_type": "code",
      "source": [
        "# Input text - Lost suitcase scenario\n",
        "text = \"\"\"\n",
        "A black suitcase was lost at JFK Airport. Last seen at the security checkpoint in Terminal 4 at 3:30 PM\n",
        "\"\"\"\n",
        "\n",
        "documents = [Document(page_content=text)]"
      ],
      "metadata": {
        "id": "RDttBa792L5r"
      },
      "execution_count": 12,
      "outputs": []
    },
    {
      "cell_type": "code",
      "source": [
        "# Initialize the Graph Transformer\n",
        "llm_transformer = LLMGraphTransformer(llm=llm)\n",
        "graph_documents = llm_transformer.convert_to_graph_documents(documents)"
      ],
      "metadata": {
        "id": "uY3W51UB2NxY"
      },
      "execution_count": 13,
      "outputs": []
    },
    {
      "cell_type": "code",
      "source": [
        "response = requests.get(\"http://34.136.67.113:1234/getAllClassNames\")\n",
        "data = response.json()\n",
        "classNames = data[\"classNames\"]\n",
        "print(\"Allowed Class Names:\", classNames)"
      ],
      "metadata": {
        "colab": {
          "base_uri": "https://localhost:8080/"
        },
        "id": "QVE8qIkqNIRb",
        "outputId": "c4970cea-df57-4eca-87cf-7a380c201e7a"
      },
      "execution_count": 14,
      "outputs": [
        {
          "output_type": "stream",
          "name": "stdout",
          "text": [
            "Allowed Class Names: ['arachnid', 'armadillo', 'bear', 'bird', 'bug', 'butterfly', 'cat', 'coral', 'crocodile', 'crustacean', 'dinosaur', 'dog', 'echinoderms', 'ferret', 'fish', 'flower', 'frog', 'fruit', 'fungus', 'hog', 'lizard', 'marine mammals', 'marsupial', 'mollusk', 'mongoose', 'monotreme', 'person', 'plant', 'primate', 'rabbit', 'rodent', 'salamander', 'shark', 'sloth', 'snake', 'trilobite', 'turtle', 'ungulate', 'vegetable', 'wild cat', 'wild dog', 'accessory', 'aircraft', 'ball', 'boat', 'building', 'clothing', 'container', 'cooking', 'decor', 'electronics', 'fence', 'food', 'furniture', 'hat', 'instrument', 'lab equipment', 'other', 'outdoor scene', 'paper', 'sports equipment', 'technology', 'tool', 'toy', 'train', 'vehicle', 'weapon', 'croodile']\n"
          ]
        }
      ]
    },
    {
      "cell_type": "code",
      "source": [
        "# llm_transformer_filtered = LLMGraphTransformer(\n",
        "#     llm=llm,\n",
        "#     allowed_nodes=classNames,\n",
        "# )\n",
        "# graph_documents_filtered = llm_transformer_filtered.convert_to_graph_documents(documents)"
      ],
      "metadata": {
        "id": "GvB1MvZU2QPO"
      },
      "execution_count": 15,
      "outputs": []
    },
    {
      "cell_type": "code",
      "source": [
        "# Create NetworkX Graph\n",
        "graph = NetworkxEntityGraph()"
      ],
      "metadata": {
        "id": "j3CeFQhO2R3B"
      },
      "execution_count": 16,
      "outputs": []
    },
    {
      "cell_type": "code",
      "source": [
        "# # Manually add nodes and edges\n",
        "# for doc in graph_documents_filtered:\n",
        "#     for node in doc.nodes:\n",
        "#         graph._graph.add_node(node.id, type=node.type)\n",
        "#     for edge in doc.relationships:\n",
        "#         graph._graph.add_edge(edge.source?.id, edge.target.id, relation=edge.type)"
      ],
      "metadata": {
        "id": "wLrNjKDX2Tpd"
      },
      "execution_count": 17,
      "outputs": []
    },
    {
      "cell_type": "code",
      "source": [
        "# AUTOMATIC NODE GEN\n",
        "\n",
        "for doc in graph_documents:\n",
        "    for node in doc.nodes:\n",
        "        graph._graph.add_node(node.id, label=node.type)\n",
        "    for edge in doc.relationships:\n",
        "        graph._graph.add_edge(edge.source.id, edge.target.id, relation=edge.type)"
      ],
      "metadata": {
        "id": "5z008D5N6_8U"
      },
      "execution_count": 18,
      "outputs": []
    },
    {
      "cell_type": "code",
      "source": [
        "# Debug: Print extracted graph structure\n",
        "print(\"\\nExtracted Graph Documents:\\n\", graph_documents)\n",
        "print(\"\\nGenerated Graph Nodes:\", graph._graph.nodes(data=True))\n",
        "print(\"\\nGenerated Graph Edges:\", graph._graph.edges(data=True))\n",
        "\n"
      ],
      "metadata": {
        "colab": {
          "base_uri": "https://localhost:8080/"
        },
        "id": "c-UEbc_02XA_",
        "outputId": "ff45a7b6-3a58-40e6-f1a5-1bb6a75d8653"
      },
      "execution_count": 19,
      "outputs": [
        {
          "output_type": "stream",
          "name": "stdout",
          "text": [
            "\n",
            "Extracted Graph Documents:\n",
            " [GraphDocument(nodes=[Node(id='security checkpoint', type='Location', properties={}), Node(id='Terminal 4', type='Location', properties={}), Node(id='black suitcase', type='Object', properties={}), Node(id='JFK Airport', type='Location', properties={})], relationships=[Relationship(source=Node(id='black suitcase', type='Object', properties={}), target=Node(id='JFK Airport', type='Location', properties={}), type='LOCATED_AT', properties={}), Relationship(source=Node(id='black suitcase', type='Object', properties={}), target=Node(id='security checkpoint', type='Location', properties={}), type='LAST_SEEN', properties={}), Relationship(source=Node(id='security checkpoint', type='Location', properties={}), target=Node(id='Terminal 4', type='Location', properties={}), type='LOCATED_IN', properties={})], source=Document(metadata={}, page_content='\\nA black suitcase was lost at JFK Airport. Last seen at the security checkpoint in Terminal 4 at 3:30 PM\\n'))]\n",
            "\n",
            "Generated Graph Nodes: [('security checkpoint', {'label': 'Location'}), ('Terminal 4', {'label': 'Location'}), ('black suitcase', {'label': 'Object'}), ('JFK Airport', {'label': 'Location'})]\n",
            "\n",
            "Generated Graph Edges: [('security checkpoint', 'Terminal 4', {'relation': 'LOCATED_IN'}), ('black suitcase', 'JFK Airport', {'relation': 'LOCATED_AT'}), ('black suitcase', 'security checkpoint', {'relation': 'LAST_SEEN'})]\n"
          ]
        }
      ]
    },
    {
      "cell_type": "code",
      "source": [
        "# Initialize the GraphQAChain\n",
        "chain = GraphQAChain.from_llm(llm=llm, graph=graph, verbose=True)"
      ],
      "metadata": {
        "id": "4xaCai732YcR"
      },
      "execution_count": 20,
      "outputs": []
    },
    {
      "cell_type": "code",
      "source": [
        "question = f\"Based on this, {graph_documents}. Where was the suitcase seen\"\n",
        "response = chain.run(question)\n",
        "print(\"\\nGraph Query Response:\", response)"
      ],
      "metadata": {
        "colab": {
          "base_uri": "https://localhost:8080/"
        },
        "id": "lyaAuCLg2ZpP",
        "outputId": "8572dfdc-1254-4aaa-8147-45fef6f8a5b1"
      },
      "execution_count": 21,
      "outputs": [
        {
          "output_type": "stream",
          "name": "stdout",
          "text": [
            "\n",
            "\n",
            "\u001b[1m> Entering new GraphQAChain chain...\u001b[0m\n"
          ]
        },
        {
          "output_type": "stream",
          "name": "stderr",
          "text": [
            "<ipython-input-21-a4b9414d050a>:2: LangChainDeprecationWarning: The method `Chain.run` was deprecated in langchain 0.1.0 and will be removed in 1.0. Use :meth:`~invoke` instead.\n",
            "  response = chain.run(question)\n"
          ]
        },
        {
          "output_type": "stream",
          "name": "stdout",
          "text": [
            "Entities Extracted:\n",
            "\u001b[32;1m\u001b[1;3mJFK Airport, Terminal 4\u001b[0m\n",
            "Full Context:\n",
            "\u001b[32;1m\u001b[1;3m\u001b[0m\n",
            "\n",
            "\u001b[1m> Finished chain.\u001b[0m\n",
            "\n",
            "Graph Query Response: The suitcase was last seen at the security checkpoint.\n"
          ]
        }
      ]
    },
    {
      "cell_type": "code",
      "source": [
        "question = f\"Using the provided {graph_documents}, generate a relevant className to categorize the given item. Then, check if this className matches any existing category in {classNames}. If no match is found, suggest a meaningful and appropriate class name based on the item's characteristics. Provide a single word answer\"\n",
        "selectedClassName = chain.run(question)\n",
        "print(\"\\nGraph Query Response:\", selectedClassName)\n"
      ],
      "metadata": {
        "colab": {
          "base_uri": "https://localhost:8080/"
        },
        "id": "bbuyAgIqOL4b",
        "outputId": "308f9fe4-8f73-4963-981c-4284456cb466"
      },
      "execution_count": 22,
      "outputs": [
        {
          "output_type": "stream",
          "name": "stdout",
          "text": [
            "\n",
            "\n",
            "\u001b[1m> Entering new GraphQAChain chain...\u001b[0m\n",
            "Entities Extracted:\n",
            "\u001b[32;1m\u001b[1;3mGraphDocument, Node, Location, Terminal 4, Object, JFK Airport, Relationship, Document\u001b[0m\n",
            "Full Context:\n",
            "\u001b[32;1m\u001b[1;3m\u001b[0m\n",
            "\n",
            "\u001b[1m> Finished chain.\u001b[0m\n",
            "\n",
            "Graph Query Response: container\n"
          ]
        }
      ]
    },
    {
      "cell_type": "code",
      "source": [
        "import requests\n",
        "response=requests.get(f\"http://34.136.67.113:1234/getCategoriesByClassName?className={selectedClassName}\")\n",
        "data=response.json();\n",
        "categories = data.get(\"categories\", [])\n",
        "print(categories)"
      ],
      "metadata": {
        "colab": {
          "base_uri": "https://localhost:8080/"
        },
        "id": "BrWuZOVXOL6-",
        "outputId": "8b12fa6e-5d74-4ba2-cac7-e90935e5dd37"
      },
      "execution_count": 23,
      "outputs": [
        {
          "output_type": "stream",
          "name": "stdout",
          "text": [
            "['luggage']\n"
          ]
        }
      ]
    },
    {
      "cell_type": "code",
      "source": [
        "question = f\"Based on {graph_documents} and the class name {selectedClassName}, select the single best category from {categories} that best fits our item. If none of the existing categories are suitable, create a broad and meaningful category that falls under the class name {selectedClassName}. The category name should be in snake_case format (lowercase with underscores) and can be one or two words. Ensure that the class name and category name are not the same.Give one word answer\"\n",
        "selectedCategoryName = chain.run(question)\n",
        "print(\"\\nGraph Query Response:\", selectedCategoryName)"
      ],
      "metadata": {
        "colab": {
          "base_uri": "https://localhost:8080/"
        },
        "id": "E4tfipZMOL9U",
        "outputId": "49c401ff-7f54-49d1-9433-5d81faa5f557"
      },
      "execution_count": 24,
      "outputs": [
        {
          "output_type": "stream",
          "name": "stdout",
          "text": [
            "\n",
            "\n",
            "\u001b[1m> Entering new GraphQAChain chain...\u001b[0m\n",
            "Entities Extracted:\n",
            "\u001b[32;1m\u001b[1;3mGraphDocument, Node, Location, Terminal 4, Object, JFK Airport, Relationship, Document\u001b[0m\n",
            "Full Context:\n",
            "\u001b[32;1m\u001b[1;3m\u001b[0m\n",
            "\n",
            "\u001b[1m> Finished chain.\u001b[0m\n",
            "\n",
            "Graph Query Response: luggage\n"
          ]
        }
      ]
    },
    {
      "cell_type": "code",
      "source": [
        "\n",
        "\n",
        "# Generate the metadata\n",
        "question = f\"\"\"\n",
        "Given the following data:\n",
        "- Selected Category Name: {selectedCategoryName}\n",
        "- Selected Class Name: {selectedClassName}\n",
        "- Graph Documents: {graph_documents}\n",
        "\n",
        "Please generate the body for the API request to the `/generateEntry` endpoint. The metadata should be a JSON object containing:\n",
        "1. Key-value pairs extracted from the document, segregated based on the properties of the item, such as:\n",
        "   - \"color\"\n",
        "   - \"shape\"\n",
        "   - \"size\"\n",
        "   - And any other relevant attributes.\n",
        "2. A key called `metadata` that contains the full textual content of the document in a single paragraph without any blank lines.\n",
        "\n",
        "Format the body as a JSON object.\n",
        "\"\"\"\n",
        "\n",
        "metadata = chain.run(question)\n",
        "print(\"Generated Metadata:\")\n",
        "print(metadata)\n",
        "\n",
        "# Step 1: Clean the metadata string (remove code block markers if present)\n",
        "metadata = metadata.strip().strip(\"```json\").strip(\"```\").strip()\n",
        "\n",
        "# Step 2: Parse the metadata string into a Python dictionary\n",
        "try:\n",
        "    metadata_dict = json.loads(metadata)\n",
        "except json.JSONDecodeError as e:\n",
        "    print(f\"Failed to parse metadata as JSON: {e}\")\n",
        "    metadata_dict = {}\n",
        "\n",
        "# Prepare the request body\n",
        "print(\"Request Body:\")\n",
        "print(metadata_dict)\n",
        "\n"
      ],
      "metadata": {
        "colab": {
          "base_uri": "https://localhost:8080/"
        },
        "id": "_wouzOhMNWCY",
        "outputId": "9389e665-2d3b-4b9a-975c-2f9badffc017"
      },
      "execution_count": 25,
      "outputs": [
        {
          "output_type": "stream",
          "name": "stdout",
          "text": [
            "\n",
            "\n",
            "\u001b[1m> Entering new GraphQAChain chain...\u001b[0m\n",
            "Entities Extracted:\n",
            "\u001b[32;1m\u001b[1;3mJFK Airport, Terminal 4\u001b[0m\n",
            "Full Context:\n",
            "\u001b[32;1m\u001b[1;3m\u001b[0m\n",
            "\n",
            "\u001b[1m> Finished chain.\u001b[0m\n",
            "Generated Metadata:\n",
            "```json\n",
            "{\n",
            "  \"category\": \"luggage\",\n",
            "  \"class_name\": \"container\",\n",
            "  \"metadata\": {\n",
            "    \"color\": \"black\",\n",
            "    \"metadata\": \"A black suitcase was lost at JFK Airport. Last seen at the security checkpoint in Terminal 4 at 3:30 PM\"\n",
            "  }\n",
            "}\n",
            "```\n",
            "Request Body:\n",
            "{'category': 'luggage', 'class_name': 'container', 'metadata': {'color': 'black', 'metadata': 'A black suitcase was lost at JFK Airport. Last seen at the security checkpoint in Terminal 4 at 3:30 PM'}}\n"
          ]
        }
      ]
    },
    {
      "cell_type": "code",
      "source": [
        "import requests\n",
        "import json\n",
        "\n",
        "# Define the API URL\n",
        "api_url = f\"http://34.136.67.113:1234/generateEntry?className={selectedClassName}&categoryName={selectedCategoryName}\"\n",
        "response = requests.post(api_url, timeout=10)\n",
        "data = response.json()\n",
        "\n",
        "# Use the element ID of the Entry node\n",
        "generated_element_id = data[\"element_id\"]"
      ],
      "metadata": {
        "id": "-jNdfcnNARn0"
      },
      "execution_count": 26,
      "outputs": []
    },
    {
      "cell_type": "code",
      "source": [
        "\n",
        "\n",
        "# Define the prompt for generating the Cypher query\n",
        "prompt = f\"\"\"\n",
        "Given the following metadata dictionary:\n",
        "{metadata}\n",
        "\n",
        "Generate a Cypher query to create nodes and relationships in a Neo4j database based on the metadata. Follow these rules:\n",
        "1. For each key-value pair in the metadata (except the `metadata` key), create a node with the following properties:\n",
        "   - `id`: A unique identifier (use the key name).\n",
        "   - `type`: The key name (e.g., \"color\", \"shape\").\n",
        "   - `value`: The value associated with the key.\n",
        "2. Create a relationship between the `Entry` node (with elementId: \"{generated_element_id}\") and each of these nodes.\n",
        "3. The `metadata` key should be stored as a property of the `Entry` node.\n",
        "\n",
        "Return only the Cypher query.\n",
        "\"\"\"\n",
        "\n",
        "# Generate the Cypher query using the chain\n",
        "cypher_query = chain.run(prompt)\n",
        "print(\"\\nGraph Query Response:\", cypher_query)"
      ],
      "metadata": {
        "colab": {
          "base_uri": "https://localhost:8080/"
        },
        "id": "qGGSVJYx2tmQ",
        "outputId": "f4003d08-efee-4bce-ff28-f547d8588208"
      },
      "execution_count": 27,
      "outputs": [
        {
          "output_type": "stream",
          "name": "stdout",
          "text": [
            "\n",
            "\n",
            "\u001b[1m> Entering new GraphQAChain chain...\u001b[0m\n",
            "Entities Extracted:\n",
            "\u001b[32;1m\u001b[1;3mJFK Airport, Terminal 4\u001b[0m\n",
            "Full Context:\n",
            "\u001b[32;1m\u001b[1;3m\u001b[0m\n",
            "\n",
            "\u001b[1m> Finished chain.\u001b[0m\n",
            "\n",
            "Graph Query Response: ```cypher\n",
            "MATCH (e:Entry) WHERE elementId(e) = \"4:bbc0cf5b-04b8-41ed-ae87-9d2c891c4da3:92\"\n",
            "WITH e\n",
            "SET e.metadata = \"A black suitcase was lost at JFK Airport. Last seen at the security checkpoint in Terminal 4 at 3:30 PM\"\n",
            "WITH e\n",
            "CREATE (c:Color {id: \"color\", type: \"color\", value: \"black\"})\n",
            "CREATE (e)-[:HAS_ATTRIBUTE]->(c)\n",
            "```\n"
          ]
        }
      ]
    },
    {
      "cell_type": "code",
      "source": [
        "from neo4j import GraphDatabase\n",
        "import os\n",
        "\n",
        "# Neo4j connection details\n",
        "NEO4J_URI = os.getenv(\"NEO4J_URI\", \"neo4j+s://a28c510a.databases.neo4j.io\")  # Removed extra space\n",
        "NEO4J_USER = os.getenv(\"NEO4J_USER\", \"neo4j\")\n",
        "NEO4J_PASSWORD = os.getenv(\"NEO4J_PASSWORD\", \"vTEJ9e3B3C5gf38onxFbhdqU8elzxvB79vprKDxjbLU\")\n",
        "\n",
        "# Initialize Neo4j driver\n",
        "driver = GraphDatabase.driver(NEO4J_URI, auth=(NEO4J_USER, NEO4J_PASSWORD))\n",
        "\n",
        "# Function to clean the Cypher query (remove Markdown syntax)\n",
        "def clean_cypher_query(query):\n",
        "    # Remove ```cypher and ``` markers\n",
        "    if query.startswith(\"```cypher\") and query.endswith(\"```\"):\n",
        "        query = query[len(\"```cypher\"):-len(\"```\")].strip()\n",
        "    return query\n",
        "\n",
        "# Function to execute the Cypher query with retry mechanism\n",
        "def execute_cypher_query_with_retry(query, max_retries=5):\n",
        "    # Clean the query before execution\n",
        "    query = clean_cypher_query(query)\n",
        "\n",
        "    retry_count = 0\n",
        "    while retry_count < max_retries:\n",
        "        try:\n",
        "            with driver.session() as session:\n",
        "                # Run the query\n",
        "                result = session.run(query)\n",
        "                # Print the result (if any)\n",
        "                for record in result:\n",
        "                    print(record)\n",
        "            print(\"Query executed successfully!\")\n",
        "            break  # Exit the loop if the query succeeds\n",
        "        except Exception as e:\n",
        "            retry_count += 1\n",
        "            print(f\"Attempt {retry_count} failed with error: {e}\")\n",
        "            if retry_count < max_retries:\n",
        "                print(\"Retrying...\")\n",
        "            else:\n",
        "                print(\"Max retries reached. Exiting.\")\n",
        "                print(f\"Last Cypher query attempted:\\n{query}\")\n",
        "                print(f\"Error received: {e}\")\n",
        "        finally:\n",
        "            if retry_count >= max_retries:\n",
        "                driver.close()  # Close the driver connection after max retries\n",
        "\n",
        "# Execute the query with retry mechanism\n",
        "execute_cypher_query_with_retry(cypher_query)"
      ],
      "metadata": {
        "colab": {
          "base_uri": "https://localhost:8080/"
        },
        "id": "nEF-nMSN3UCm",
        "outputId": "6e944b4d-0bfb-4aea-f72c-bb7f30141ab4"
      },
      "execution_count": 28,
      "outputs": [
        {
          "output_type": "stream",
          "name": "stdout",
          "text": [
            "Query executed successfully!\n"
          ]
        }
      ]
    },
    {
      "cell_type": "code",
      "source": [
        "from pyvis.network import Network\n",
        "from IPython.display import display, HTML\n",
        "\n",
        "# Function to fetch graph data from Neo4j\n",
        "def fetch_graph_data():\n",
        "    query = \"\"\"\n",
        "    MATCH (n)-[r]->(m)\n",
        "    RETURN n, r, m\n",
        "    LIMIT 100\n",
        "    \"\"\"\n",
        "    with driver.session() as session:\n",
        "        result = session.run(query)\n",
        "        return [record for record in result]\n",
        "\n",
        "# Function to visualize the graph using pyvis\n",
        "def visualize_graph(data):\n",
        "    # Create a pyvis network\n",
        "    net = Network(\n",
        "        notebook=True,\n",
        "        height=\"600px\",\n",
        "        width=\"100%\",\n",
        "        bgcolor=\"#222222\",\n",
        "        font_color=\"white\",\n",
        "        cdn_resources=\"remote\"  # Use 'remote' or 'in_line' to avoid CDN issues\n",
        "    )\n",
        "\n",
        "    # Define a list of colors for each level\n",
        "    colors = [\"red\", \"green\", \"blue\", \"orange\", \"purple\", \"yellow\", \"cyan\", \"magenta\"]\n",
        "\n",
        "    # Track the depth of each node\n",
        "    node_depths = {}  # Dictionary to store depth of each node\n",
        "    max_depth = 0  # Track the maximum depth\n",
        "\n",
        "    # Assign depths to nodes\n",
        "    for record in data:\n",
        "        source_node = record[\"n\"]\n",
        "        target_node = record[\"m\"]\n",
        "\n",
        "        # Assign depth to source node\n",
        "        if source_node.element_id not in node_depths:\n",
        "            node_depths[source_node.element_id] = 0  # Root node has depth 0\n",
        "\n",
        "        # Assign depth to target node\n",
        "        if target_node.element_id not in node_depths:\n",
        "            node_depths[target_node.element_id] = node_depths[source_node.element_id] + 1\n",
        "\n",
        "        # Update max_depth\n",
        "        if node_depths[target_node.element_id] > max_depth:\n",
        "            max_depth = node_depths[target_node.element_id]\n",
        "\n",
        "    # Add nodes and edges to the network\n",
        "    for record in data:\n",
        "        # Extract nodes and relationships\n",
        "        source_node = record[\"n\"]\n",
        "        target_node = record[\"m\"]\n",
        "        relationship = record[\"r\"]\n",
        "\n",
        "        # Get depth of source and target nodes\n",
        "        source_depth = node_depths[source_node.element_id]\n",
        "        target_depth = node_depths[target_node.element_id]\n",
        "\n",
        "        # Add source node with color based on depth\n",
        "        net.add_node(\n",
        "            source_node.element_id,\n",
        "            label=source_node.get(\"name\", \"Node\"),\n",
        "            title=str(source_node),\n",
        "            color=colors[source_depth % len(colors)]  # Assign color based on depth\n",
        "        )\n",
        "\n",
        "        # Add target node with color based on depth\n",
        "        net.add_node(\n",
        "            target_node.element_id,\n",
        "            label=target_node.get(\"name\", \"Node\"),\n",
        "            title=str(target_node),\n",
        "            color=colors[target_depth % len(colors)]  # Assign color based on depth\n",
        "        )\n",
        "\n",
        "        # Add edge (relationship)\n",
        "        net.add_edge(\n",
        "            source_node.element_id,\n",
        "            target_node.element_id,\n",
        "            label=relationship.type,\n",
        "            title=str(relationship)\n",
        "        )\n",
        "\n",
        "    # Show the graph\n",
        "    net.show(\"graph.html\")\n",
        "    return net\n",
        "\n",
        "# Fetch graph data from Neo4j\n",
        "graph_data = fetch_graph_data()\n",
        "\n",
        "# Visualize the graph\n",
        "net = visualize_graph(graph_data)\n",
        "\n",
        "# Display the graph in the notebook\n",
        "display(HTML(\"graph.html\"))"
      ],
      "metadata": {
        "colab": {
          "base_uri": "https://localhost:8080/",
          "height": 651
        },
        "id": "K3sqerqyBoBN",
        "outputId": "e7e2f426-7f87-4d01-99cd-edc5017d8a73"
      },
      "execution_count": 29,
      "outputs": [
        {
          "output_type": "stream",
          "name": "stdout",
          "text": [
            "graph.html\n"
          ]
        },
        {
          "output_type": "display_data",
          "data": {
            "text/plain": [
              "<IPython.core.display.HTML object>"
            ],
            "text/html": [
              "<html>\n",
              "    <head>\n",
              "        <meta charset=\"utf-8\">\n",
              "        \n",
              "            <script>function neighbourhoodHighlight(params) {\n",
              "  // console.log(\"in nieghbourhoodhighlight\");\n",
              "  allNodes = nodes.get({ returnType: \"Object\" });\n",
              "  // originalNodes = JSON.parse(JSON.stringify(allNodes));\n",
              "  // if something is selected:\n",
              "  if (params.nodes.length > 0) {\n",
              "    highlightActive = true;\n",
              "    var i, j;\n",
              "    var selectedNode = params.nodes[0];\n",
              "    var degrees = 2;\n",
              "\n",
              "    // mark all nodes as hard to read.\n",
              "    for (let nodeId in allNodes) {\n",
              "      // nodeColors[nodeId] = allNodes[nodeId].color;\n",
              "      allNodes[nodeId].color = \"rgba(200,200,200,0.5)\";\n",
              "      if (allNodes[nodeId].hiddenLabel === undefined) {\n",
              "        allNodes[nodeId].hiddenLabel = allNodes[nodeId].label;\n",
              "        allNodes[nodeId].label = undefined;\n",
              "      }\n",
              "    }\n",
              "    var connectedNodes = network.getConnectedNodes(selectedNode);\n",
              "    var allConnectedNodes = [];\n",
              "\n",
              "    // get the second degree nodes\n",
              "    for (i = 1; i < degrees; i++) {\n",
              "      for (j = 0; j < connectedNodes.length; j++) {\n",
              "        allConnectedNodes = allConnectedNodes.concat(\n",
              "          network.getConnectedNodes(connectedNodes[j])\n",
              "        );\n",
              "      }\n",
              "    }\n",
              "\n",
              "    // all second degree nodes get a different color and their label back\n",
              "    for (i = 0; i < allConnectedNodes.length; i++) {\n",
              "      // allNodes[allConnectedNodes[i]].color = \"pink\";\n",
              "      allNodes[allConnectedNodes[i]].color = \"rgba(150,150,150,0.75)\";\n",
              "      if (allNodes[allConnectedNodes[i]].hiddenLabel !== undefined) {\n",
              "        allNodes[allConnectedNodes[i]].label =\n",
              "          allNodes[allConnectedNodes[i]].hiddenLabel;\n",
              "        allNodes[allConnectedNodes[i]].hiddenLabel = undefined;\n",
              "      }\n",
              "    }\n",
              "\n",
              "    // all first degree nodes get their own color and their label back\n",
              "    for (i = 0; i < connectedNodes.length; i++) {\n",
              "      // allNodes[connectedNodes[i]].color = undefined;\n",
              "      allNodes[connectedNodes[i]].color = nodeColors[connectedNodes[i]];\n",
              "      if (allNodes[connectedNodes[i]].hiddenLabel !== undefined) {\n",
              "        allNodes[connectedNodes[i]].label =\n",
              "          allNodes[connectedNodes[i]].hiddenLabel;\n",
              "        allNodes[connectedNodes[i]].hiddenLabel = undefined;\n",
              "      }\n",
              "    }\n",
              "\n",
              "    // the main node gets its own color and its label back.\n",
              "    // allNodes[selectedNode].color = undefined;\n",
              "    allNodes[selectedNode].color = nodeColors[selectedNode];\n",
              "    if (allNodes[selectedNode].hiddenLabel !== undefined) {\n",
              "      allNodes[selectedNode].label = allNodes[selectedNode].hiddenLabel;\n",
              "      allNodes[selectedNode].hiddenLabel = undefined;\n",
              "    }\n",
              "  } else if (highlightActive === true) {\n",
              "    // console.log(\"highlightActive was true\");\n",
              "    // reset all nodes\n",
              "    for (let nodeId in allNodes) {\n",
              "      // allNodes[nodeId].color = \"purple\";\n",
              "      allNodes[nodeId].color = nodeColors[nodeId];\n",
              "      // delete allNodes[nodeId].color;\n",
              "      if (allNodes[nodeId].hiddenLabel !== undefined) {\n",
              "        allNodes[nodeId].label = allNodes[nodeId].hiddenLabel;\n",
              "        allNodes[nodeId].hiddenLabel = undefined;\n",
              "      }\n",
              "    }\n",
              "    highlightActive = false;\n",
              "  }\n",
              "\n",
              "  // transform the object into an array\n",
              "  var updateArray = [];\n",
              "  if (params.nodes.length > 0) {\n",
              "    for (let nodeId in allNodes) {\n",
              "      if (allNodes.hasOwnProperty(nodeId)) {\n",
              "        // console.log(allNodes[nodeId]);\n",
              "        updateArray.push(allNodes[nodeId]);\n",
              "      }\n",
              "    }\n",
              "    nodes.update(updateArray);\n",
              "  } else {\n",
              "    // console.log(\"Nothing was selected\");\n",
              "    for (let nodeId in allNodes) {\n",
              "      if (allNodes.hasOwnProperty(nodeId)) {\n",
              "        // console.log(allNodes[nodeId]);\n",
              "        // allNodes[nodeId].color = {};\n",
              "        updateArray.push(allNodes[nodeId]);\n",
              "      }\n",
              "    }\n",
              "    nodes.update(updateArray);\n",
              "  }\n",
              "}\n",
              "\n",
              "function filterHighlight(params) {\n",
              "  allNodes = nodes.get({ returnType: \"Object\" });\n",
              "  // if something is selected:\n",
              "  if (params.nodes.length > 0) {\n",
              "    filterActive = true;\n",
              "    let selectedNodes = params.nodes;\n",
              "\n",
              "    // hiding all nodes and saving the label\n",
              "    for (let nodeId in allNodes) {\n",
              "      allNodes[nodeId].hidden = true;\n",
              "      if (allNodes[nodeId].savedLabel === undefined) {\n",
              "        allNodes[nodeId].savedLabel = allNodes[nodeId].label;\n",
              "        allNodes[nodeId].label = undefined;\n",
              "      }\n",
              "    }\n",
              "\n",
              "    for (let i=0; i < selectedNodes.length; i++) {\n",
              "      allNodes[selectedNodes[i]].hidden = false;\n",
              "      if (allNodes[selectedNodes[i]].savedLabel !== undefined) {\n",
              "        allNodes[selectedNodes[i]].label = allNodes[selectedNodes[i]].savedLabel;\n",
              "        allNodes[selectedNodes[i]].savedLabel = undefined;\n",
              "      }\n",
              "    }\n",
              "\n",
              "  } else if (filterActive === true) {\n",
              "    // reset all nodes\n",
              "    for (let nodeId in allNodes) {\n",
              "      allNodes[nodeId].hidden = false;\n",
              "      if (allNodes[nodeId].savedLabel !== undefined) {\n",
              "        allNodes[nodeId].label = allNodes[nodeId].savedLabel;\n",
              "        allNodes[nodeId].savedLabel = undefined;\n",
              "      }\n",
              "    }\n",
              "    filterActive = false;\n",
              "  }\n",
              "\n",
              "  // transform the object into an array\n",
              "  var updateArray = [];\n",
              "  if (params.nodes.length > 0) {\n",
              "    for (let nodeId in allNodes) {\n",
              "      if (allNodes.hasOwnProperty(nodeId)) {\n",
              "        updateArray.push(allNodes[nodeId]);\n",
              "      }\n",
              "    }\n",
              "    nodes.update(updateArray);\n",
              "  } else {\n",
              "    for (let nodeId in allNodes) {\n",
              "      if (allNodes.hasOwnProperty(nodeId)) {\n",
              "        updateArray.push(allNodes[nodeId]);\n",
              "      }\n",
              "    }\n",
              "    nodes.update(updateArray);\n",
              "  }\n",
              "}\n",
              "\n",
              "function selectNode(nodes) {\n",
              "  network.selectNodes(nodes);\n",
              "  neighbourhoodHighlight({ nodes: nodes });\n",
              "  return nodes;\n",
              "}\n",
              "\n",
              "function selectNodes(nodes) {\n",
              "  network.selectNodes(nodes);\n",
              "  filterHighlight({nodes: nodes});\n",
              "  return nodes;\n",
              "}\n",
              "\n",
              "function highlightFilter(filter) {\n",
              "  let selectedNodes = []\n",
              "  let selectedProp = filter['property']\n",
              "  if (filter['item'] === 'node') {\n",
              "    let allNodes = nodes.get({ returnType: \"Object\" });\n",
              "    for (let nodeId in allNodes) {\n",
              "      if (allNodes[nodeId][selectedProp] && filter['value'].includes((allNodes[nodeId][selectedProp]).toString())) {\n",
              "        selectedNodes.push(nodeId)\n",
              "      }\n",
              "    }\n",
              "  }\n",
              "  else if (filter['item'] === 'edge'){\n",
              "    let allEdges = edges.get({returnType: 'object'});\n",
              "    // check if the selected property exists for selected edge and select the nodes connected to the edge\n",
              "    for (let edge in allEdges) {\n",
              "      if (allEdges[edge][selectedProp] && filter['value'].includes((allEdges[edge][selectedProp]).toString())) {\n",
              "        selectedNodes.push(allEdges[edge]['from'])\n",
              "        selectedNodes.push(allEdges[edge]['to'])\n",
              "      }\n",
              "    }\n",
              "  }\n",
              "  selectNodes(selectedNodes)\n",
              "}</script>\n",
              "            <link rel=\"stylesheet\" href=\"https://cdnjs.cloudflare.com/ajax/libs/vis-network/9.1.2/dist/dist/vis-network.min.css\" integrity=\"sha512-WgxfT5LWjfszlPHXRmBWHkV2eceiWTOBvrKCNbdgDYTHrT2AeLCGbF4sZlZw3UMN3WtL0tGUoIAKsu8mllg/XA==\" crossorigin=\"anonymous\" referrerpolicy=\"no-referrer\" />\n",
              "            <script src=\"https://cdnjs.cloudflare.com/ajax/libs/vis-network/9.1.2/dist/vis-network.min.js\" integrity=\"sha512-LnvoEWDFrqGHlHmDD2101OrLcbsfkrzoSpvtSQtxK3RMnRV0eOkhhBN2dXHKRrUU8p2DGRTk35n4O8nWSVe1mQ==\" crossorigin=\"anonymous\" referrerpolicy=\"no-referrer\"></script>\n",
              "            \n",
              "            \n",
              "            \n",
              "            \n",
              "            \n",
              "            \n",
              "\n",
              "        \n",
              "<center>\n",
              "<h1></h1>\n",
              "</center>\n",
              "\n",
              "<!-- <link rel=\"stylesheet\" href=\"../node_modules/vis/dist/vis.min.css\" type=\"text/css\" />\n",
              "<script type=\"text/javascript\" src=\"../node_modules/vis/dist/vis.js\"> </script>-->\n",
              "        <link\n",
              "          href=\"https://cdn.jsdelivr.net/npm/bootstrap@5.0.0-beta3/dist/css/bootstrap.min.css\"\n",
              "          rel=\"stylesheet\"\n",
              "          integrity=\"sha384-eOJMYsd53ii+scO/bJGFsiCZc+5NDVN2yr8+0RDqr0Ql0h+rP48ckxlpbzKgwra6\"\n",
              "          crossorigin=\"anonymous\"\n",
              "        />\n",
              "        <script\n",
              "          src=\"https://cdn.jsdelivr.net/npm/bootstrap@5.0.0-beta3/dist/js/bootstrap.bundle.min.js\"\n",
              "          integrity=\"sha384-JEW9xMcG8R+pH31jmWH6WWP0WintQrMb4s7ZOdauHnUtxwoG2vI5DkLtS3qm9Ekf\"\n",
              "          crossorigin=\"anonymous\"\n",
              "        ></script>\n",
              "\n",
              "\n",
              "        <center>\n",
              "          <h1></h1>\n",
              "        </center>\n",
              "        <style type=\"text/css\">\n",
              "\n",
              "             #mynetwork {\n",
              "                 width: 100%;\n",
              "                 height: 600px;\n",
              "                 background-color: #222222;\n",
              "                 border: 1px solid lightgray;\n",
              "                 position: relative;\n",
              "                 float: left;\n",
              "             }\n",
              "\n",
              "             \n",
              "\n",
              "             \n",
              "\n",
              "             \n",
              "        </style>\n",
              "    </head>\n",
              "\n",
              "\n",
              "    <body>\n",
              "        <div class=\"card\" style=\"width: 100%\">\n",
              "            \n",
              "            \n",
              "            <div id=\"mynetwork\" class=\"card-body\"></div>\n",
              "        </div>\n",
              "\n",
              "        \n",
              "        \n",
              "\n",
              "        <script type=\"text/javascript\">\n",
              "\n",
              "              // initialize global variables.\n",
              "              var edges;\n",
              "              var nodes;\n",
              "              var allNodes;\n",
              "              var allEdges;\n",
              "              var nodeColors;\n",
              "              var originalNodes;\n",
              "              var network;\n",
              "              var container;\n",
              "              var options, data;\n",
              "              var filter = {\n",
              "                  item : '',\n",
              "                  property : '',\n",
              "                  value : []\n",
              "              };\n",
              "\n",
              "              \n",
              "\n",
              "              \n",
              "\n",
              "              // This method is responsible for drawing the graph, returns the drawn network\n",
              "              function drawGraph() {\n",
              "                  var container = document.getElementById('mynetwork');\n",
              "\n",
              "                  \n",
              "\n",
              "                  // parsing and collecting nodes and edges from the python\n",
              "                  nodes = new vis.DataSet([{\"color\": \"red\", \"font\": {\"color\": \"white\"}, \"id\": \"4:bbc0cf5b-04b8-41ed-ae87-9d2c891c4da3:0\", \"label\": \"Node\", \"shape\": \"dot\", \"title\": \"\\u003cNode element_id=\\u00274:bbc0cf5b-04b8-41ed-ae87-9d2c891c4da3:0\\u0027 labels=frozenset({\\u0027Class\\u0027}) properties={}\\u003e\"}, {\"color\": \"green\", \"font\": {\"color\": \"white\"}, \"id\": \"4:bbc0cf5b-04b8-41ed-ae87-9d2c891c4da3:1\", \"label\": \"arachnid\", \"shape\": \"dot\", \"title\": \"\\u003cNode element_id=\\u00274:bbc0cf5b-04b8-41ed-ae87-9d2c891c4da3:1\\u0027 labels=frozenset({\\u0027ClassNode\\u0027}) properties={\\u0027name\\u0027: \\u0027arachnid\\u0027}\\u003e\"}, {\"color\": \"green\", \"font\": {\"color\": \"white\"}, \"id\": \"4:bbc0cf5b-04b8-41ed-ae87-9d2c891c4da3:2\", \"label\": \"armadillo\", \"shape\": \"dot\", \"title\": \"\\u003cNode element_id=\\u00274:bbc0cf5b-04b8-41ed-ae87-9d2c891c4da3:2\\u0027 labels=frozenset({\\u0027ClassNode\\u0027}) properties={\\u0027name\\u0027: \\u0027armadillo\\u0027}\\u003e\"}, {\"color\": \"green\", \"font\": {\"color\": \"white\"}, \"id\": \"4:bbc0cf5b-04b8-41ed-ae87-9d2c891c4da3:3\", \"label\": \"bear\", \"shape\": \"dot\", \"title\": \"\\u003cNode element_id=\\u00274:bbc0cf5b-04b8-41ed-ae87-9d2c891c4da3:3\\u0027 labels=frozenset({\\u0027ClassNode\\u0027}) properties={\\u0027name\\u0027: \\u0027bear\\u0027}\\u003e\"}, {\"color\": \"green\", \"font\": {\"color\": \"white\"}, \"id\": \"4:bbc0cf5b-04b8-41ed-ae87-9d2c891c4da3:4\", \"label\": \"bird\", \"shape\": \"dot\", \"title\": \"\\u003cNode element_id=\\u00274:bbc0cf5b-04b8-41ed-ae87-9d2c891c4da3:4\\u0027 labels=frozenset({\\u0027ClassNode\\u0027}) properties={\\u0027name\\u0027: \\u0027bird\\u0027}\\u003e\"}, {\"color\": \"green\", \"font\": {\"color\": \"white\"}, \"id\": \"4:bbc0cf5b-04b8-41ed-ae87-9d2c891c4da3:5\", \"label\": \"bug\", \"shape\": \"dot\", \"title\": \"\\u003cNode element_id=\\u00274:bbc0cf5b-04b8-41ed-ae87-9d2c891c4da3:5\\u0027 labels=frozenset({\\u0027ClassNode\\u0027}) properties={\\u0027name\\u0027: \\u0027bug\\u0027}\\u003e\"}, {\"color\": \"green\", \"font\": {\"color\": \"white\"}, \"id\": \"4:bbc0cf5b-04b8-41ed-ae87-9d2c891c4da3:6\", \"label\": \"butterfly\", \"shape\": \"dot\", \"title\": \"\\u003cNode element_id=\\u00274:bbc0cf5b-04b8-41ed-ae87-9d2c891c4da3:6\\u0027 labels=frozenset({\\u0027ClassNode\\u0027}) properties={\\u0027name\\u0027: \\u0027butterfly\\u0027}\\u003e\"}, {\"color\": \"green\", \"font\": {\"color\": \"white\"}, \"id\": \"4:bbc0cf5b-04b8-41ed-ae87-9d2c891c4da3:7\", \"label\": \"cat\", \"shape\": \"dot\", \"title\": \"\\u003cNode element_id=\\u00274:bbc0cf5b-04b8-41ed-ae87-9d2c891c4da3:7\\u0027 labels=frozenset({\\u0027ClassNode\\u0027}) properties={\\u0027name\\u0027: \\u0027cat\\u0027}\\u003e\"}, {\"color\": \"green\", \"font\": {\"color\": \"white\"}, \"id\": \"4:bbc0cf5b-04b8-41ed-ae87-9d2c891c4da3:8\", \"label\": \"coral\", \"shape\": \"dot\", \"title\": \"\\u003cNode element_id=\\u00274:bbc0cf5b-04b8-41ed-ae87-9d2c891c4da3:8\\u0027 labels=frozenset({\\u0027ClassNode\\u0027}) properties={\\u0027name\\u0027: \\u0027coral\\u0027}\\u003e\"}, {\"color\": \"green\", \"font\": {\"color\": \"white\"}, \"id\": \"4:bbc0cf5b-04b8-41ed-ae87-9d2c891c4da3:9\", \"label\": \"crocodile\", \"shape\": \"dot\", \"title\": \"\\u003cNode element_id=\\u00274:bbc0cf5b-04b8-41ed-ae87-9d2c891c4da3:9\\u0027 labels=frozenset({\\u0027ClassNode\\u0027}) properties={\\u0027name\\u0027: \\u0027crocodile\\u0027}\\u003e\"}, {\"color\": \"green\", \"font\": {\"color\": \"white\"}, \"id\": \"4:bbc0cf5b-04b8-41ed-ae87-9d2c891c4da3:10\", \"label\": \"crustacean\", \"shape\": \"dot\", \"title\": \"\\u003cNode element_id=\\u00274:bbc0cf5b-04b8-41ed-ae87-9d2c891c4da3:10\\u0027 labels=frozenset({\\u0027ClassNode\\u0027}) properties={\\u0027name\\u0027: \\u0027crustacean\\u0027}\\u003e\"}, {\"color\": \"green\", \"font\": {\"color\": \"white\"}, \"id\": \"4:bbc0cf5b-04b8-41ed-ae87-9d2c891c4da3:11\", \"label\": \"dinosaur\", \"shape\": \"dot\", \"title\": \"\\u003cNode element_id=\\u00274:bbc0cf5b-04b8-41ed-ae87-9d2c891c4da3:11\\u0027 labels=frozenset({\\u0027ClassNode\\u0027}) properties={\\u0027name\\u0027: \\u0027dinosaur\\u0027}\\u003e\"}, {\"color\": \"green\", \"font\": {\"color\": \"white\"}, \"id\": \"4:bbc0cf5b-04b8-41ed-ae87-9d2c891c4da3:12\", \"label\": \"dog\", \"shape\": \"dot\", \"title\": \"\\u003cNode element_id=\\u00274:bbc0cf5b-04b8-41ed-ae87-9d2c891c4da3:12\\u0027 labels=frozenset({\\u0027ClassNode\\u0027}) properties={\\u0027name\\u0027: \\u0027dog\\u0027}\\u003e\"}, {\"color\": \"green\", \"font\": {\"color\": \"white\"}, \"id\": \"4:bbc0cf5b-04b8-41ed-ae87-9d2c891c4da3:13\", \"label\": \"echinoderms\", \"shape\": \"dot\", \"title\": \"\\u003cNode element_id=\\u00274:bbc0cf5b-04b8-41ed-ae87-9d2c891c4da3:13\\u0027 labels=frozenset({\\u0027ClassNode\\u0027}) properties={\\u0027name\\u0027: \\u0027echinoderms\\u0027}\\u003e\"}, {\"color\": \"green\", \"font\": {\"color\": \"white\"}, \"id\": \"4:bbc0cf5b-04b8-41ed-ae87-9d2c891c4da3:14\", \"label\": \"ferret\", \"shape\": \"dot\", \"title\": \"\\u003cNode element_id=\\u00274:bbc0cf5b-04b8-41ed-ae87-9d2c891c4da3:14\\u0027 labels=frozenset({\\u0027ClassNode\\u0027}) properties={\\u0027name\\u0027: \\u0027ferret\\u0027}\\u003e\"}, {\"color\": \"green\", \"font\": {\"color\": \"white\"}, \"id\": \"4:bbc0cf5b-04b8-41ed-ae87-9d2c891c4da3:15\", \"label\": \"fish\", \"shape\": \"dot\", \"title\": \"\\u003cNode element_id=\\u00274:bbc0cf5b-04b8-41ed-ae87-9d2c891c4da3:15\\u0027 labels=frozenset({\\u0027ClassNode\\u0027}) properties={\\u0027name\\u0027: \\u0027fish\\u0027}\\u003e\"}, {\"color\": \"green\", \"font\": {\"color\": \"white\"}, \"id\": \"4:bbc0cf5b-04b8-41ed-ae87-9d2c891c4da3:16\", \"label\": \"flower\", \"shape\": \"dot\", \"title\": \"\\u003cNode element_id=\\u00274:bbc0cf5b-04b8-41ed-ae87-9d2c891c4da3:16\\u0027 labels=frozenset({\\u0027ClassNode\\u0027}) properties={\\u0027name\\u0027: \\u0027flower\\u0027}\\u003e\"}, {\"color\": \"green\", \"font\": {\"color\": \"white\"}, \"id\": \"4:bbc0cf5b-04b8-41ed-ae87-9d2c891c4da3:17\", \"label\": \"frog\", \"shape\": \"dot\", \"title\": \"\\u003cNode element_id=\\u00274:bbc0cf5b-04b8-41ed-ae87-9d2c891c4da3:17\\u0027 labels=frozenset({\\u0027ClassNode\\u0027}) properties={\\u0027name\\u0027: \\u0027frog\\u0027}\\u003e\"}, {\"color\": \"green\", \"font\": {\"color\": \"white\"}, \"id\": \"4:bbc0cf5b-04b8-41ed-ae87-9d2c891c4da3:18\", \"label\": \"fruit\", \"shape\": \"dot\", \"title\": \"\\u003cNode element_id=\\u00274:bbc0cf5b-04b8-41ed-ae87-9d2c891c4da3:18\\u0027 labels=frozenset({\\u0027ClassNode\\u0027}) properties={\\u0027name\\u0027: \\u0027fruit\\u0027}\\u003e\"}, {\"color\": \"green\", \"font\": {\"color\": \"white\"}, \"id\": \"4:bbc0cf5b-04b8-41ed-ae87-9d2c891c4da3:19\", \"label\": \"fungus\", \"shape\": \"dot\", \"title\": \"\\u003cNode element_id=\\u00274:bbc0cf5b-04b8-41ed-ae87-9d2c891c4da3:19\\u0027 labels=frozenset({\\u0027ClassNode\\u0027}) properties={\\u0027name\\u0027: \\u0027fungus\\u0027}\\u003e\"}, {\"color\": \"green\", \"font\": {\"color\": \"white\"}, \"id\": \"4:bbc0cf5b-04b8-41ed-ae87-9d2c891c4da3:20\", \"label\": \"hog\", \"shape\": \"dot\", \"title\": \"\\u003cNode element_id=\\u00274:bbc0cf5b-04b8-41ed-ae87-9d2c891c4da3:20\\u0027 labels=frozenset({\\u0027ClassNode\\u0027}) properties={\\u0027name\\u0027: \\u0027hog\\u0027}\\u003e\"}, {\"color\": \"green\", \"font\": {\"color\": \"white\"}, \"id\": \"4:bbc0cf5b-04b8-41ed-ae87-9d2c891c4da3:21\", \"label\": \"lizard\", \"shape\": \"dot\", \"title\": \"\\u003cNode element_id=\\u00274:bbc0cf5b-04b8-41ed-ae87-9d2c891c4da3:21\\u0027 labels=frozenset({\\u0027ClassNode\\u0027}) properties={\\u0027name\\u0027: \\u0027lizard\\u0027}\\u003e\"}, {\"color\": \"green\", \"font\": {\"color\": \"white\"}, \"id\": \"4:bbc0cf5b-04b8-41ed-ae87-9d2c891c4da3:22\", \"label\": \"marine mammals\", \"shape\": \"dot\", \"title\": \"\\u003cNode element_id=\\u00274:bbc0cf5b-04b8-41ed-ae87-9d2c891c4da3:22\\u0027 labels=frozenset({\\u0027ClassNode\\u0027}) properties={\\u0027name\\u0027: \\u0027marine mammals\\u0027}\\u003e\"}, {\"color\": \"green\", \"font\": {\"color\": \"white\"}, \"id\": \"4:bbc0cf5b-04b8-41ed-ae87-9d2c891c4da3:23\", \"label\": \"marsupial\", \"shape\": \"dot\", \"title\": \"\\u003cNode element_id=\\u00274:bbc0cf5b-04b8-41ed-ae87-9d2c891c4da3:23\\u0027 labels=frozenset({\\u0027ClassNode\\u0027}) properties={\\u0027name\\u0027: \\u0027marsupial\\u0027}\\u003e\"}, {\"color\": \"green\", \"font\": {\"color\": \"white\"}, \"id\": \"4:bbc0cf5b-04b8-41ed-ae87-9d2c891c4da3:24\", \"label\": \"mollusk\", \"shape\": \"dot\", \"title\": \"\\u003cNode element_id=\\u00274:bbc0cf5b-04b8-41ed-ae87-9d2c891c4da3:24\\u0027 labels=frozenset({\\u0027ClassNode\\u0027}) properties={\\u0027name\\u0027: \\u0027mollusk\\u0027}\\u003e\"}, {\"color\": \"green\", \"font\": {\"color\": \"white\"}, \"id\": \"4:bbc0cf5b-04b8-41ed-ae87-9d2c891c4da3:25\", \"label\": \"mongoose\", \"shape\": \"dot\", \"title\": \"\\u003cNode element_id=\\u00274:bbc0cf5b-04b8-41ed-ae87-9d2c891c4da3:25\\u0027 labels=frozenset({\\u0027ClassNode\\u0027}) properties={\\u0027name\\u0027: \\u0027mongoose\\u0027}\\u003e\"}, {\"color\": \"green\", \"font\": {\"color\": \"white\"}, \"id\": \"4:bbc0cf5b-04b8-41ed-ae87-9d2c891c4da3:26\", \"label\": \"monotreme\", \"shape\": \"dot\", \"title\": \"\\u003cNode element_id=\\u00274:bbc0cf5b-04b8-41ed-ae87-9d2c891c4da3:26\\u0027 labels=frozenset({\\u0027ClassNode\\u0027}) properties={\\u0027name\\u0027: \\u0027monotreme\\u0027}\\u003e\"}, {\"color\": \"green\", \"font\": {\"color\": \"white\"}, \"id\": \"4:bbc0cf5b-04b8-41ed-ae87-9d2c891c4da3:27\", \"label\": \"person\", \"shape\": \"dot\", \"title\": \"\\u003cNode element_id=\\u00274:bbc0cf5b-04b8-41ed-ae87-9d2c891c4da3:27\\u0027 labels=frozenset({\\u0027ClassNode\\u0027}) properties={\\u0027name\\u0027: \\u0027person\\u0027}\\u003e\"}, {\"color\": \"green\", \"font\": {\"color\": \"white\"}, \"id\": \"4:bbc0cf5b-04b8-41ed-ae87-9d2c891c4da3:28\", \"label\": \"plant\", \"shape\": \"dot\", \"title\": \"\\u003cNode element_id=\\u00274:bbc0cf5b-04b8-41ed-ae87-9d2c891c4da3:28\\u0027 labels=frozenset({\\u0027ClassNode\\u0027}) properties={\\u0027name\\u0027: \\u0027plant\\u0027}\\u003e\"}, {\"color\": \"green\", \"font\": {\"color\": \"white\"}, \"id\": \"4:bbc0cf5b-04b8-41ed-ae87-9d2c891c4da3:29\", \"label\": \"primate\", \"shape\": \"dot\", \"title\": \"\\u003cNode element_id=\\u00274:bbc0cf5b-04b8-41ed-ae87-9d2c891c4da3:29\\u0027 labels=frozenset({\\u0027ClassNode\\u0027}) properties={\\u0027name\\u0027: \\u0027primate\\u0027}\\u003e\"}, {\"color\": \"green\", \"font\": {\"color\": \"white\"}, \"id\": \"4:bbc0cf5b-04b8-41ed-ae87-9d2c891c4da3:30\", \"label\": \"rabbit\", \"shape\": \"dot\", \"title\": \"\\u003cNode element_id=\\u00274:bbc0cf5b-04b8-41ed-ae87-9d2c891c4da3:30\\u0027 labels=frozenset({\\u0027ClassNode\\u0027}) properties={\\u0027name\\u0027: \\u0027rabbit\\u0027}\\u003e\"}, {\"color\": \"green\", \"font\": {\"color\": \"white\"}, \"id\": \"4:bbc0cf5b-04b8-41ed-ae87-9d2c891c4da3:31\", \"label\": \"rodent\", \"shape\": \"dot\", \"title\": \"\\u003cNode element_id=\\u00274:bbc0cf5b-04b8-41ed-ae87-9d2c891c4da3:31\\u0027 labels=frozenset({\\u0027ClassNode\\u0027}) properties={\\u0027name\\u0027: \\u0027rodent\\u0027}\\u003e\"}, {\"color\": \"green\", \"font\": {\"color\": \"white\"}, \"id\": \"4:bbc0cf5b-04b8-41ed-ae87-9d2c891c4da3:32\", \"label\": \"salamander\", \"shape\": \"dot\", \"title\": \"\\u003cNode element_id=\\u00274:bbc0cf5b-04b8-41ed-ae87-9d2c891c4da3:32\\u0027 labels=frozenset({\\u0027ClassNode\\u0027}) properties={\\u0027name\\u0027: \\u0027salamander\\u0027}\\u003e\"}, {\"color\": \"green\", \"font\": {\"color\": \"white\"}, \"id\": \"4:bbc0cf5b-04b8-41ed-ae87-9d2c891c4da3:33\", \"label\": \"shark\", \"shape\": \"dot\", \"title\": \"\\u003cNode element_id=\\u00274:bbc0cf5b-04b8-41ed-ae87-9d2c891c4da3:33\\u0027 labels=frozenset({\\u0027ClassNode\\u0027}) properties={\\u0027name\\u0027: \\u0027shark\\u0027}\\u003e\"}, {\"color\": \"green\", \"font\": {\"color\": \"white\"}, \"id\": \"4:bbc0cf5b-04b8-41ed-ae87-9d2c891c4da3:34\", \"label\": \"sloth\", \"shape\": \"dot\", \"title\": \"\\u003cNode element_id=\\u00274:bbc0cf5b-04b8-41ed-ae87-9d2c891c4da3:34\\u0027 labels=frozenset({\\u0027ClassNode\\u0027}) properties={\\u0027name\\u0027: \\u0027sloth\\u0027}\\u003e\"}, {\"color\": \"green\", \"font\": {\"color\": \"white\"}, \"id\": \"4:bbc0cf5b-04b8-41ed-ae87-9d2c891c4da3:35\", \"label\": \"snake\", \"shape\": \"dot\", \"title\": \"\\u003cNode element_id=\\u00274:bbc0cf5b-04b8-41ed-ae87-9d2c891c4da3:35\\u0027 labels=frozenset({\\u0027ClassNode\\u0027}) properties={\\u0027name\\u0027: \\u0027snake\\u0027}\\u003e\"}, {\"color\": \"green\", \"font\": {\"color\": \"white\"}, \"id\": \"4:bbc0cf5b-04b8-41ed-ae87-9d2c891c4da3:36\", \"label\": \"trilobite\", \"shape\": \"dot\", \"title\": \"\\u003cNode element_id=\\u00274:bbc0cf5b-04b8-41ed-ae87-9d2c891c4da3:36\\u0027 labels=frozenset({\\u0027ClassNode\\u0027}) properties={\\u0027name\\u0027: \\u0027trilobite\\u0027}\\u003e\"}, {\"color\": \"green\", \"font\": {\"color\": \"white\"}, \"id\": \"4:bbc0cf5b-04b8-41ed-ae87-9d2c891c4da3:37\", \"label\": \"turtle\", \"shape\": \"dot\", \"title\": \"\\u003cNode element_id=\\u00274:bbc0cf5b-04b8-41ed-ae87-9d2c891c4da3:37\\u0027 labels=frozenset({\\u0027ClassNode\\u0027}) properties={\\u0027name\\u0027: \\u0027turtle\\u0027}\\u003e\"}, {\"color\": \"green\", \"font\": {\"color\": \"white\"}, \"id\": \"4:bbc0cf5b-04b8-41ed-ae87-9d2c891c4da3:38\", \"label\": \"ungulate\", \"shape\": \"dot\", \"title\": \"\\u003cNode element_id=\\u00274:bbc0cf5b-04b8-41ed-ae87-9d2c891c4da3:38\\u0027 labels=frozenset({\\u0027ClassNode\\u0027}) properties={\\u0027name\\u0027: \\u0027ungulate\\u0027}\\u003e\"}, {\"color\": \"green\", \"font\": {\"color\": \"white\"}, \"id\": \"4:bbc0cf5b-04b8-41ed-ae87-9d2c891c4da3:39\", \"label\": \"vegetable\", \"shape\": \"dot\", \"title\": \"\\u003cNode element_id=\\u00274:bbc0cf5b-04b8-41ed-ae87-9d2c891c4da3:39\\u0027 labels=frozenset({\\u0027ClassNode\\u0027}) properties={\\u0027name\\u0027: \\u0027vegetable\\u0027}\\u003e\"}, {\"color\": \"green\", \"font\": {\"color\": \"white\"}, \"id\": \"4:bbc0cf5b-04b8-41ed-ae87-9d2c891c4da3:40\", \"label\": \"wild cat\", \"shape\": \"dot\", \"title\": \"\\u003cNode element_id=\\u00274:bbc0cf5b-04b8-41ed-ae87-9d2c891c4da3:40\\u0027 labels=frozenset({\\u0027ClassNode\\u0027}) properties={\\u0027name\\u0027: \\u0027wild cat\\u0027}\\u003e\"}, {\"color\": \"green\", \"font\": {\"color\": \"white\"}, \"id\": \"4:bbc0cf5b-04b8-41ed-ae87-9d2c891c4da3:41\", \"label\": \"wild dog\", \"shape\": \"dot\", \"title\": \"\\u003cNode element_id=\\u00274:bbc0cf5b-04b8-41ed-ae87-9d2c891c4da3:41\\u0027 labels=frozenset({\\u0027ClassNode\\u0027}) properties={\\u0027name\\u0027: \\u0027wild dog\\u0027}\\u003e\"}, {\"color\": \"green\", \"font\": {\"color\": \"white\"}, \"id\": \"4:bbc0cf5b-04b8-41ed-ae87-9d2c891c4da3:42\", \"label\": \"accessory\", \"shape\": \"dot\", \"title\": \"\\u003cNode element_id=\\u00274:bbc0cf5b-04b8-41ed-ae87-9d2c891c4da3:42\\u0027 labels=frozenset({\\u0027ClassNode\\u0027}) properties={\\u0027name\\u0027: \\u0027accessory\\u0027}\\u003e\"}, {\"color\": \"green\", \"font\": {\"color\": \"white\"}, \"id\": \"4:bbc0cf5b-04b8-41ed-ae87-9d2c891c4da3:43\", \"label\": \"aircraft\", \"shape\": \"dot\", \"title\": \"\\u003cNode element_id=\\u00274:bbc0cf5b-04b8-41ed-ae87-9d2c891c4da3:43\\u0027 labels=frozenset({\\u0027ClassNode\\u0027}) properties={\\u0027name\\u0027: \\u0027aircraft\\u0027}\\u003e\"}, {\"color\": \"green\", \"font\": {\"color\": \"white\"}, \"id\": \"4:bbc0cf5b-04b8-41ed-ae87-9d2c891c4da3:44\", \"label\": \"ball\", \"shape\": \"dot\", \"title\": \"\\u003cNode element_id=\\u00274:bbc0cf5b-04b8-41ed-ae87-9d2c891c4da3:44\\u0027 labels=frozenset({\\u0027ClassNode\\u0027}) properties={\\u0027name\\u0027: \\u0027ball\\u0027}\\u003e\"}, {\"color\": \"green\", \"font\": {\"color\": \"white\"}, \"id\": \"4:bbc0cf5b-04b8-41ed-ae87-9d2c891c4da3:45\", \"label\": \"boat\", \"shape\": \"dot\", \"title\": \"\\u003cNode element_id=\\u00274:bbc0cf5b-04b8-41ed-ae87-9d2c891c4da3:45\\u0027 labels=frozenset({\\u0027ClassNode\\u0027}) properties={\\u0027name\\u0027: \\u0027boat\\u0027}\\u003e\"}, {\"color\": \"green\", \"font\": {\"color\": \"white\"}, \"id\": \"4:bbc0cf5b-04b8-41ed-ae87-9d2c891c4da3:46\", \"label\": \"building\", \"shape\": \"dot\", \"title\": \"\\u003cNode element_id=\\u00274:bbc0cf5b-04b8-41ed-ae87-9d2c891c4da3:46\\u0027 labels=frozenset({\\u0027ClassNode\\u0027}) properties={\\u0027name\\u0027: \\u0027building\\u0027}\\u003e\"}, {\"color\": \"green\", \"font\": {\"color\": \"white\"}, \"id\": \"4:bbc0cf5b-04b8-41ed-ae87-9d2c891c4da3:47\", \"label\": \"clothing\", \"shape\": \"dot\", \"title\": \"\\u003cNode element_id=\\u00274:bbc0cf5b-04b8-41ed-ae87-9d2c891c4da3:47\\u0027 labels=frozenset({\\u0027ClassNode\\u0027}) properties={\\u0027name\\u0027: \\u0027clothing\\u0027}\\u003e\"}, {\"color\": \"green\", \"font\": {\"color\": \"white\"}, \"id\": \"4:bbc0cf5b-04b8-41ed-ae87-9d2c891c4da3:48\", \"label\": \"container\", \"shape\": \"dot\", \"title\": \"\\u003cNode element_id=\\u00274:bbc0cf5b-04b8-41ed-ae87-9d2c891c4da3:48\\u0027 labels=frozenset({\\u0027ClassNode\\u0027}) properties={\\u0027name\\u0027: \\u0027container\\u0027}\\u003e\"}, {\"color\": \"green\", \"font\": {\"color\": \"white\"}, \"id\": \"4:bbc0cf5b-04b8-41ed-ae87-9d2c891c4da3:49\", \"label\": \"cooking\", \"shape\": \"dot\", \"title\": \"\\u003cNode element_id=\\u00274:bbc0cf5b-04b8-41ed-ae87-9d2c891c4da3:49\\u0027 labels=frozenset({\\u0027ClassNode\\u0027}) properties={\\u0027name\\u0027: \\u0027cooking\\u0027}\\u003e\"}, {\"color\": \"green\", \"font\": {\"color\": \"white\"}, \"id\": \"4:bbc0cf5b-04b8-41ed-ae87-9d2c891c4da3:50\", \"label\": \"decor\", \"shape\": \"dot\", \"title\": \"\\u003cNode element_id=\\u00274:bbc0cf5b-04b8-41ed-ae87-9d2c891c4da3:50\\u0027 labels=frozenset({\\u0027ClassNode\\u0027}) properties={\\u0027name\\u0027: \\u0027decor\\u0027}\\u003e\"}, {\"color\": \"green\", \"font\": {\"color\": \"white\"}, \"id\": \"4:bbc0cf5b-04b8-41ed-ae87-9d2c891c4da3:51\", \"label\": \"electronics\", \"shape\": \"dot\", \"title\": \"\\u003cNode element_id=\\u00274:bbc0cf5b-04b8-41ed-ae87-9d2c891c4da3:51\\u0027 labels=frozenset({\\u0027ClassNode\\u0027}) properties={\\u0027name\\u0027: \\u0027electronics\\u0027}\\u003e\"}, {\"color\": \"green\", \"font\": {\"color\": \"white\"}, \"id\": \"4:bbc0cf5b-04b8-41ed-ae87-9d2c891c4da3:52\", \"label\": \"fence\", \"shape\": \"dot\", \"title\": \"\\u003cNode element_id=\\u00274:bbc0cf5b-04b8-41ed-ae87-9d2c891c4da3:52\\u0027 labels=frozenset({\\u0027ClassNode\\u0027}) properties={\\u0027name\\u0027: \\u0027fence\\u0027}\\u003e\"}, {\"color\": \"green\", \"font\": {\"color\": \"white\"}, \"id\": \"4:bbc0cf5b-04b8-41ed-ae87-9d2c891c4da3:53\", \"label\": \"food\", \"shape\": \"dot\", \"title\": \"\\u003cNode element_id=\\u00274:bbc0cf5b-04b8-41ed-ae87-9d2c891c4da3:53\\u0027 labels=frozenset({\\u0027ClassNode\\u0027}) properties={\\u0027name\\u0027: \\u0027food\\u0027}\\u003e\"}, {\"color\": \"green\", \"font\": {\"color\": \"white\"}, \"id\": \"4:bbc0cf5b-04b8-41ed-ae87-9d2c891c4da3:54\", \"label\": \"furniture\", \"shape\": \"dot\", \"title\": \"\\u003cNode element_id=\\u00274:bbc0cf5b-04b8-41ed-ae87-9d2c891c4da3:54\\u0027 labels=frozenset({\\u0027ClassNode\\u0027}) properties={\\u0027name\\u0027: \\u0027furniture\\u0027}\\u003e\"}, {\"color\": \"green\", \"font\": {\"color\": \"white\"}, \"id\": \"4:bbc0cf5b-04b8-41ed-ae87-9d2c891c4da3:55\", \"label\": \"hat\", \"shape\": \"dot\", \"title\": \"\\u003cNode element_id=\\u00274:bbc0cf5b-04b8-41ed-ae87-9d2c891c4da3:55\\u0027 labels=frozenset({\\u0027ClassNode\\u0027}) properties={\\u0027name\\u0027: \\u0027hat\\u0027}\\u003e\"}, {\"color\": \"green\", \"font\": {\"color\": \"white\"}, \"id\": \"4:bbc0cf5b-04b8-41ed-ae87-9d2c891c4da3:56\", \"label\": \"instrument\", \"shape\": \"dot\", \"title\": \"\\u003cNode element_id=\\u00274:bbc0cf5b-04b8-41ed-ae87-9d2c891c4da3:56\\u0027 labels=frozenset({\\u0027ClassNode\\u0027}) properties={\\u0027name\\u0027: \\u0027instrument\\u0027}\\u003e\"}, {\"color\": \"green\", \"font\": {\"color\": \"white\"}, \"id\": \"4:bbc0cf5b-04b8-41ed-ae87-9d2c891c4da3:57\", \"label\": \"lab equipment\", \"shape\": \"dot\", \"title\": \"\\u003cNode element_id=\\u00274:bbc0cf5b-04b8-41ed-ae87-9d2c891c4da3:57\\u0027 labels=frozenset({\\u0027ClassNode\\u0027}) properties={\\u0027name\\u0027: \\u0027lab equipment\\u0027}\\u003e\"}, {\"color\": \"green\", \"font\": {\"color\": \"white\"}, \"id\": \"4:bbc0cf5b-04b8-41ed-ae87-9d2c891c4da3:58\", \"label\": \"other\", \"shape\": \"dot\", \"title\": \"\\u003cNode element_id=\\u00274:bbc0cf5b-04b8-41ed-ae87-9d2c891c4da3:58\\u0027 labels=frozenset({\\u0027ClassNode\\u0027}) properties={\\u0027name\\u0027: \\u0027other\\u0027}\\u003e\"}, {\"color\": \"green\", \"font\": {\"color\": \"white\"}, \"id\": \"4:bbc0cf5b-04b8-41ed-ae87-9d2c891c4da3:59\", \"label\": \"outdoor scene\", \"shape\": \"dot\", \"title\": \"\\u003cNode element_id=\\u00274:bbc0cf5b-04b8-41ed-ae87-9d2c891c4da3:59\\u0027 labels=frozenset({\\u0027ClassNode\\u0027}) properties={\\u0027name\\u0027: \\u0027outdoor scene\\u0027}\\u003e\"}, {\"color\": \"green\", \"font\": {\"color\": \"white\"}, \"id\": \"4:bbc0cf5b-04b8-41ed-ae87-9d2c891c4da3:60\", \"label\": \"paper\", \"shape\": \"dot\", \"title\": \"\\u003cNode element_id=\\u00274:bbc0cf5b-04b8-41ed-ae87-9d2c891c4da3:60\\u0027 labels=frozenset({\\u0027ClassNode\\u0027}) properties={\\u0027name\\u0027: \\u0027paper\\u0027}\\u003e\"}, {\"color\": \"green\", \"font\": {\"color\": \"white\"}, \"id\": \"4:bbc0cf5b-04b8-41ed-ae87-9d2c891c4da3:61\", \"label\": \"sports equipment\", \"shape\": \"dot\", \"title\": \"\\u003cNode element_id=\\u00274:bbc0cf5b-04b8-41ed-ae87-9d2c891c4da3:61\\u0027 labels=frozenset({\\u0027ClassNode\\u0027}) properties={\\u0027name\\u0027: \\u0027sports equipment\\u0027}\\u003e\"}, {\"color\": \"green\", \"font\": {\"color\": \"white\"}, \"id\": \"4:bbc0cf5b-04b8-41ed-ae87-9d2c891c4da3:62\", \"label\": \"technology\", \"shape\": \"dot\", \"title\": \"\\u003cNode element_id=\\u00274:bbc0cf5b-04b8-41ed-ae87-9d2c891c4da3:62\\u0027 labels=frozenset({\\u0027ClassNode\\u0027}) properties={\\u0027name\\u0027: \\u0027technology\\u0027}\\u003e\"}, {\"color\": \"green\", \"font\": {\"color\": \"white\"}, \"id\": \"4:bbc0cf5b-04b8-41ed-ae87-9d2c891c4da3:63\", \"label\": \"tool\", \"shape\": \"dot\", \"title\": \"\\u003cNode element_id=\\u00274:bbc0cf5b-04b8-41ed-ae87-9d2c891c4da3:63\\u0027 labels=frozenset({\\u0027ClassNode\\u0027}) properties={\\u0027name\\u0027: \\u0027tool\\u0027}\\u003e\"}, {\"color\": \"green\", \"font\": {\"color\": \"white\"}, \"id\": \"4:bbc0cf5b-04b8-41ed-ae87-9d2c891c4da3:64\", \"label\": \"toy\", \"shape\": \"dot\", \"title\": \"\\u003cNode element_id=\\u00274:bbc0cf5b-04b8-41ed-ae87-9d2c891c4da3:64\\u0027 labels=frozenset({\\u0027ClassNode\\u0027}) properties={\\u0027name\\u0027: \\u0027toy\\u0027}\\u003e\"}, {\"color\": \"green\", \"font\": {\"color\": \"white\"}, \"id\": \"4:bbc0cf5b-04b8-41ed-ae87-9d2c891c4da3:65\", \"label\": \"train\", \"shape\": \"dot\", \"title\": \"\\u003cNode element_id=\\u00274:bbc0cf5b-04b8-41ed-ae87-9d2c891c4da3:65\\u0027 labels=frozenset({\\u0027ClassNode\\u0027}) properties={\\u0027name\\u0027: \\u0027train\\u0027}\\u003e\"}, {\"color\": \"green\", \"font\": {\"color\": \"white\"}, \"id\": \"4:bbc0cf5b-04b8-41ed-ae87-9d2c891c4da3:66\", \"label\": \"vehicle\", \"shape\": \"dot\", \"title\": \"\\u003cNode element_id=\\u00274:bbc0cf5b-04b8-41ed-ae87-9d2c891c4da3:66\\u0027 labels=frozenset({\\u0027ClassNode\\u0027}) properties={\\u0027name\\u0027: \\u0027vehicle\\u0027}\\u003e\"}, {\"color\": \"green\", \"font\": {\"color\": \"white\"}, \"id\": \"4:bbc0cf5b-04b8-41ed-ae87-9d2c891c4da3:67\", \"label\": \"weapon\", \"shape\": \"dot\", \"title\": \"\\u003cNode element_id=\\u00274:bbc0cf5b-04b8-41ed-ae87-9d2c891c4da3:67\\u0027 labels=frozenset({\\u0027ClassNode\\u0027}) properties={\\u0027name\\u0027: \\u0027weapon\\u0027}\\u003e\"}, {\"color\": \"green\", \"font\": {\"color\": \"white\"}, \"id\": \"4:bbc0cf5b-04b8-41ed-ae87-9d2c891c4da3:70\", \"label\": \"croodile\", \"shape\": \"dot\", \"title\": \"\\u003cNode element_id=\\u00274:bbc0cf5b-04b8-41ed-ae87-9d2c891c4da3:70\\u0027 labels=frozenset({\\u0027ClassNode\\u0027}) properties={\\u0027name\\u0027: \\u0027croodile\\u0027}\\u003e\"}, {\"color\": \"blue\", \"font\": {\"color\": \"white\"}, \"id\": \"4:bbc0cf5b-04b8-41ed-ae87-9d2c891c4da3:68\", \"label\": \"luggage\", \"shape\": \"dot\", \"title\": \"\\u003cNode element_id=\\u00274:bbc0cf5b-04b8-41ed-ae87-9d2c891c4da3:68\\u0027 labels=frozenset({\\u0027CategoryNode\\u0027}) properties={\\u0027name\\u0027: \\u0027luggage\\u0027}\\u003e\"}, {\"color\": \"orange\", \"font\": {\"color\": \"white\"}, \"id\": \"4:bbc0cf5b-04b8-41ed-ae87-9d2c891c4da3:69\", \"label\": \"Node\", \"shape\": \"dot\", \"title\": \"\\u003cNode element_id=\\u00274:bbc0cf5b-04b8-41ed-ae87-9d2c891c4da3:69\\u0027 labels=frozenset({\\u0027Entry\\u0027}) properties={\\u0027uid\\u0027: \\u002707e14896-71b7-4712-8cd5-4ff77c982b5e\\u0027, \\u0027image\\u0027: \\u0027/images/hammer_003.jpg\\u0027, \\u0027metadata\\u0027: \\u0027{\\\"metadata\\\": \\\"{\\\\\\\\\\\"color\\\\\\\\\\\": \\\\\\\\\\\"black\\\\\\\\\\\", \\\\\\\\\\\"type\\\\\\\\\\\": \\\\\\\\\\\"suitcase\\\\\\\\\\\", \\\\\\\\\\\"text\\\\\\\\\\\": \\\\\\\\\\\"Lost Luggage Report: - Item: Black Suitcase - Last Seen Location: Security checkpoint, Terminal 4, JFK Airport - Last Seen Time: 3:30 PM\\\\\\\\\\\"}\\\"}\\u0027, \\u0027embedding\\u0027: []}\\u003e\"}, {\"color\": \"orange\", \"font\": {\"color\": \"white\"}, \"id\": \"4:bbc0cf5b-04b8-41ed-ae87-9d2c891c4da3:73\", \"label\": \"Node\", \"shape\": \"dot\", \"title\": \"\\u003cNode element_id=\\u00274:bbc0cf5b-04b8-41ed-ae87-9d2c891c4da3:73\\u0027 labels=frozenset({\\u0027Entry\\u0027}) properties={\\u0027metadata\\u0027: \\u0027Lost Luggage Report: - Item: Black Suitcase - Last Seen Location: Security checkpoint, Terminal 4, JFK Airport - Last Seen Time: 3:30 PM\\u0027}\\u003e\"}, {\"color\": \"orange\", \"font\": {\"color\": \"white\"}, \"id\": \"4:bbc0cf5b-04b8-41ed-ae87-9d2c891c4da3:78\", \"label\": \"Node\", \"shape\": \"dot\", \"title\": \"\\u003cNode element_id=\\u00274:bbc0cf5b-04b8-41ed-ae87-9d2c891c4da3:78\\u0027 labels=frozenset({\\u0027Entry\\u0027}) properties={\\u0027metadata\\u0027: \\u0027A black suitcase was lost at JFK Airport. Last seen at the security checkpoint in Terminal 4 at 3:30 PM\\u0027}\\u003e\"}, {\"color\": \"orange\", \"font\": {\"color\": \"white\"}, \"id\": \"4:bbc0cf5b-04b8-41ed-ae87-9d2c891c4da3:83\", \"label\": \"Node\", \"shape\": \"dot\", \"title\": \"\\u003cNode element_id=\\u00274:bbc0cf5b-04b8-41ed-ae87-9d2c891c4da3:83\\u0027 labels=frozenset({\\u0027Entry\\u0027}) properties={\\u0027metadata\\u0027: \\u0027Incident Report: Lost Suitcase at JFK Airport John Doe, a traveler, reported losing his black Samsonite suitcase at JFK Airport on February 20th at 3:45 PM. He last physically saw the suitcase at the security checkpoint in Terminal 4 at 3:30 PM before proceeding towards Gate B22 for his flight to London. The suitcase was recorded on CCTV footage at 3:35 PM near the duty-free store, and at 3:40 PM near a coffee shop in Terminal 4. At 3:50 PM, security footage showed an unknown individual picking up a suitcase near the coffee shop and walking towards the exit. The airport authorities and security team are currently investigating the case, reviewing CCTV footage, and checking passenger logs to determine whether it was misplaced, stolen, or mistakenly taken by another passenger.\\u0027}\\u003e\"}, {\"color\": \"orange\", \"font\": {\"color\": \"white\"}, \"id\": \"4:bbc0cf5b-04b8-41ed-ae87-9d2c891c4da3:87\", \"label\": \"Node\", \"shape\": \"dot\", \"title\": \"\\u003cNode element_id=\\u00274:bbc0cf5b-04b8-41ed-ae87-9d2c891c4da3:87\\u0027 labels=frozenset({\\u0027Entry\\u0027}) properties={\\u0027metadata\\u0027: \\u0027Lost Luggage Report:- Item: Black Suitcase- Last Seen Location: Security checkpoint, Terminal 4, JFK Airport- Last Seen Time: 3:30 PM\\u0027}\\u003e\"}, {\"color\": \"orange\", \"font\": {\"color\": \"white\"}, \"id\": \"4:bbc0cf5b-04b8-41ed-ae87-9d2c891c4da3:92\", \"label\": \"Node\", \"shape\": \"dot\", \"title\": \"\\u003cNode element_id=\\u00274:bbc0cf5b-04b8-41ed-ae87-9d2c891c4da3:92\\u0027 labels=frozenset({\\u0027Entry\\u0027}) properties={\\u0027metadata\\u0027: \\u0027A black suitcase was lost at JFK Airport. Last seen at the security checkpoint in Terminal 4 at 3:30 PM\\u0027}\\u003e\"}, {\"color\": \"blue\", \"font\": {\"color\": \"white\"}, \"id\": \"4:bbc0cf5b-04b8-41ed-ae87-9d2c891c4da3:71\", \"label\": \"america\", \"shape\": \"dot\", \"title\": \"\\u003cNode element_id=\\u00274:bbc0cf5b-04b8-41ed-ae87-9d2c891c4da3:71\\u0027 labels=frozenset({\\u0027CategoryNode\\u0027}) properties={\\u0027name\\u0027: \\u0027america\\u0027}\\u003e\"}, {\"color\": \"orange\", \"font\": {\"color\": \"white\"}, \"id\": \"4:bbc0cf5b-04b8-41ed-ae87-9d2c891c4da3:72\", \"label\": \"Node\", \"shape\": \"dot\", \"title\": \"\\u003cNode element_id=\\u00274:bbc0cf5b-04b8-41ed-ae87-9d2c891c4da3:72\\u0027 labels=frozenset({\\u0027Entry\\u0027}) properties={}\\u003e\"}, {\"color\": \"purple\", \"font\": {\"color\": \"white\"}, \"id\": \"4:bbc0cf5b-04b8-41ed-ae87-9d2c891c4da3:74\", \"label\": \"Node\", \"shape\": \"dot\", \"title\": \"\\u003cNode element_id=\\u00274:bbc0cf5b-04b8-41ed-ae87-9d2c891c4da3:74\\u0027 labels=frozenset({\\u0027Property\\u0027}) properties={\\u0027id\\u0027: \\u0027color\\u0027, \\u0027type\\u0027: \\u0027color\\u0027, \\u0027value\\u0027: \\u0027black\\u0027}\\u003e\"}, {\"color\": \"purple\", \"font\": {\"color\": \"white\"}, \"id\": \"4:bbc0cf5b-04b8-41ed-ae87-9d2c891c4da3:75\", \"label\": \"Node\", \"shape\": \"dot\", \"title\": \"\\u003cNode element_id=\\u00274:bbc0cf5b-04b8-41ed-ae87-9d2c891c4da3:75\\u0027 labels=frozenset({\\u0027Property\\u0027}) properties={\\u0027id\\u0027: \\u0027shape\\u0027, \\u0027type\\u0027: \\u0027shape\\u0027}\\u003e\"}, {\"color\": \"purple\", \"font\": {\"color\": \"white\"}, \"id\": \"4:bbc0cf5b-04b8-41ed-ae87-9d2c891c4da3:76\", \"label\": \"Node\", \"shape\": \"dot\", \"title\": \"\\u003cNode element_id=\\u00274:bbc0cf5b-04b8-41ed-ae87-9d2c891c4da3:76\\u0027 labels=frozenset({\\u0027Property\\u0027}) properties={\\u0027id\\u0027: \\u0027size\\u0027, \\u0027type\\u0027: \\u0027size\\u0027}\\u003e\"}, {\"color\": \"purple\", \"font\": {\"color\": \"white\"}, \"id\": \"4:bbc0cf5b-04b8-41ed-ae87-9d2c891c4da3:77\", \"label\": \"Node\", \"shape\": \"dot\", \"title\": \"\\u003cNode element_id=\\u00274:bbc0cf5b-04b8-41ed-ae87-9d2c891c4da3:77\\u0027 labels=frozenset({\\u0027Property\\u0027}) properties={\\u0027id\\u0027: \\u0027type\\u0027, \\u0027type\\u0027: \\u0027type\\u0027, \\u0027value\\u0027: \\u0027suitcase\\u0027}\\u003e\"}, {\"color\": \"purple\", \"font\": {\"color\": \"white\"}, \"id\": \"4:bbc0cf5b-04b8-41ed-ae87-9d2c891c4da3:81\", \"label\": \"Node\", \"shape\": \"dot\", \"title\": \"\\u003cNode element_id=\\u00274:bbc0cf5b-04b8-41ed-ae87-9d2c891c4da3:81\\u0027 labels=frozenset({\\u0027Class\\u0027}) properties={\\u0027id\\u0027: \\u0027class\\u0027, \\u0027type\\u0027: \\u0027class\\u0027, \\u0027value\\u0027: \\u0027container\\u0027}\\u003e\"}, {\"color\": \"purple\", \"font\": {\"color\": \"white\"}, \"id\": \"4:bbc0cf5b-04b8-41ed-ae87-9d2c891c4da3:80\", \"label\": \"Node\", \"shape\": \"dot\", \"title\": \"\\u003cNode element_id=\\u00274:bbc0cf5b-04b8-41ed-ae87-9d2c891c4da3:80\\u0027 labels=frozenset({\\u0027Category\\u0027}) properties={\\u0027id\\u0027: \\u0027category\\u0027, \\u0027type\\u0027: \\u0027category\\u0027, \\u0027value\\u0027: \\u0027luggage\\u0027}\\u003e\"}, {\"color\": \"purple\", \"font\": {\"color\": \"white\"}, \"id\": \"4:bbc0cf5b-04b8-41ed-ae87-9d2c891c4da3:82\", \"label\": \"Node\", \"shape\": \"dot\", \"title\": \"\\u003cNode element_id=\\u00274:bbc0cf5b-04b8-41ed-ae87-9d2c891c4da3:82\\u0027 labels=frozenset({\\u0027Property\\u0027}) properties={\\u0027id\\u0027: \\u0027color\\u0027, \\u0027type\\u0027: \\u0027color\\u0027, \\u0027value\\u0027: \\u0027black\\u0027}\\u003e\"}, {\"color\": \"purple\", \"font\": {\"color\": \"white\"}, \"id\": \"4:bbc0cf5b-04b8-41ed-ae87-9d2c891c4da3:79\", \"label\": \"Node\", \"shape\": \"dot\", \"title\": \"\\u003cNode element_id=\\u00274:bbc0cf5b-04b8-41ed-ae87-9d2c891c4da3:79\\u0027 labels=frozenset({\\u0027Item\\u0027}) properties={\\u0027id\\u0027: \\u0027item\\u0027, \\u0027type\\u0027: \\u0027item\\u0027, \\u0027value\\u0027: \\u0027black suitcase\\u0027}\\u003e\"}, {\"color\": \"purple\", \"font\": {\"color\": \"white\"}, \"id\": \"4:bbc0cf5b-04b8-41ed-ae87-9d2c891c4da3:84\", \"label\": \"Node\", \"shape\": \"dot\", \"title\": \"\\u003cNode element_id=\\u00274:bbc0cf5b-04b8-41ed-ae87-9d2c891c4da3:84\\u0027 labels=frozenset({\\u0027Property\\u0027}) properties={\\u0027id\\u0027: \\u0027color\\u0027, \\u0027type\\u0027: \\u0027color\\u0027, \\u0027value\\u0027: \\u0027black\\u0027}\\u003e\"}, {\"color\": \"purple\", \"font\": {\"color\": \"white\"}, \"id\": \"4:bbc0cf5b-04b8-41ed-ae87-9d2c891c4da3:85\", \"label\": \"Node\", \"shape\": \"dot\", \"title\": \"\\u003cNode element_id=\\u00274:bbc0cf5b-04b8-41ed-ae87-9d2c891c4da3:85\\u0027 labels=frozenset({\\u0027Property\\u0027}) properties={\\u0027id\\u0027: \\u0027brand\\u0027, \\u0027type\\u0027: \\u0027brand\\u0027, \\u0027value\\u0027: \\u0027Samsonite\\u0027}\\u003e\"}, {\"color\": \"purple\", \"font\": {\"color\": \"white\"}, \"id\": \"4:bbc0cf5b-04b8-41ed-ae87-9d2c891c4da3:86\", \"label\": \"Node\", \"shape\": \"dot\", \"title\": \"\\u003cNode element_id=\\u00274:bbc0cf5b-04b8-41ed-ae87-9d2c891c4da3:86\\u0027 labels=frozenset({\\u0027Property\\u0027}) properties={\\u0027id\\u0027: \\u0027type\\u0027, \\u0027type\\u0027: \\u0027type\\u0027, \\u0027value\\u0027: \\u0027suitcase\\u0027}\\u003e\"}, {\"color\": \"purple\", \"font\": {\"color\": \"white\"}, \"id\": \"4:bbc0cf5b-04b8-41ed-ae87-9d2c891c4da3:88\", \"label\": \"Node\", \"shape\": \"dot\", \"title\": \"\\u003cNode element_id=\\u00274:bbc0cf5b-04b8-41ed-ae87-9d2c891c4da3:88\\u0027 labels=frozenset({\\u0027color\\u0027}) properties={\\u0027id\\u0027: \\u0027color\\u0027, \\u0027type\\u0027: \\u0027color\\u0027, \\u0027value\\u0027: \\u0027black\\u0027}\\u003e\"}, {\"color\": \"purple\", \"font\": {\"color\": \"white\"}, \"id\": \"4:bbc0cf5b-04b8-41ed-ae87-9d2c891c4da3:89\", \"label\": \"Node\", \"shape\": \"dot\", \"title\": \"\\u003cNode element_id=\\u00274:bbc0cf5b-04b8-41ed-ae87-9d2c891c4da3:89\\u0027 labels=frozenset({\\u0027shape\\u0027}) properties={\\u0027id\\u0027: \\u0027shape\\u0027, \\u0027type\\u0027: \\u0027shape\\u0027, \\u0027value\\u0027: \\u0027suitcase\\u0027}\\u003e\"}, {\"color\": \"purple\", \"font\": {\"color\": \"white\"}, \"id\": \"4:bbc0cf5b-04b8-41ed-ae87-9d2c891c4da3:90\", \"label\": \"Node\", \"shape\": \"dot\", \"title\": \"\\u003cNode element_id=\\u00274:bbc0cf5b-04b8-41ed-ae87-9d2c891c4da3:90\\u0027 labels=frozenset({\\u0027Color\\u0027}) properties={\\u0027id\\u0027: \\u0027color\\u0027, \\u0027type\\u0027: \\u0027color\\u0027, \\u0027value\\u0027: \\u0027black\\u0027}\\u003e\"}, {\"color\": \"purple\", \"font\": {\"color\": \"white\"}, \"id\": \"4:bbc0cf5b-04b8-41ed-ae87-9d2c891c4da3:91\", \"label\": \"Node\", \"shape\": \"dot\", \"title\": \"\\u003cNode element_id=\\u00274:bbc0cf5b-04b8-41ed-ae87-9d2c891c4da3:91\\u0027 labels=frozenset({\\u0027Shape\\u0027}) properties={\\u0027id\\u0027: \\u0027shape\\u0027, \\u0027type\\u0027: \\u0027shape\\u0027, \\u0027value\\u0027: \\u0027suitcase\\u0027}\\u003e\"}, {\"color\": \"purple\", \"font\": {\"color\": \"white\"}, \"id\": \"4:bbc0cf5b-04b8-41ed-ae87-9d2c891c4da3:93\", \"label\": \"Node\", \"shape\": \"dot\", \"title\": \"\\u003cNode element_id=\\u00274:bbc0cf5b-04b8-41ed-ae87-9d2c891c4da3:93\\u0027 labels=frozenset({\\u0027Color\\u0027}) properties={\\u0027id\\u0027: \\u0027color\\u0027, \\u0027type\\u0027: \\u0027color\\u0027, \\u0027value\\u0027: \\u0027black\\u0027}\\u003e\"}]);\n",
              "                  edges = new vis.DataSet([{\"from\": \"4:bbc0cf5b-04b8-41ed-ae87-9d2c891c4da3:0\", \"label\": \"HAS_CLASS\", \"title\": \"\\u003cRelationship element_id=\\u00275:bbc0cf5b-04b8-41ed-ae87-9d2c891c4da3:1152921504606846976\\u0027 nodes=(\\u003cNode element_id=\\u00274:bbc0cf5b-04b8-41ed-ae87-9d2c891c4da3:0\\u0027 labels=frozenset({\\u0027Class\\u0027}) properties={}\\u003e, \\u003cNode element_id=\\u00274:bbc0cf5b-04b8-41ed-ae87-9d2c891c4da3:1\\u0027 labels=frozenset({\\u0027ClassNode\\u0027}) properties={\\u0027name\\u0027: \\u0027arachnid\\u0027}\\u003e) type=\\u0027HAS_CLASS\\u0027 properties={}\\u003e\", \"to\": \"4:bbc0cf5b-04b8-41ed-ae87-9d2c891c4da3:1\"}, {\"from\": \"4:bbc0cf5b-04b8-41ed-ae87-9d2c891c4da3:0\", \"label\": \"HAS_CLASS\", \"title\": \"\\u003cRelationship element_id=\\u00275:bbc0cf5b-04b8-41ed-ae87-9d2c891c4da3:1155173304420532224\\u0027 nodes=(\\u003cNode element_id=\\u00274:bbc0cf5b-04b8-41ed-ae87-9d2c891c4da3:0\\u0027 labels=frozenset({\\u0027Class\\u0027}) properties={}\\u003e, \\u003cNode element_id=\\u00274:bbc0cf5b-04b8-41ed-ae87-9d2c891c4da3:2\\u0027 labels=frozenset({\\u0027ClassNode\\u0027}) properties={\\u0027name\\u0027: \\u0027armadillo\\u0027}\\u003e) type=\\u0027HAS_CLASS\\u0027 properties={}\\u003e\", \"to\": \"4:bbc0cf5b-04b8-41ed-ae87-9d2c891c4da3:2\"}, {\"from\": \"4:bbc0cf5b-04b8-41ed-ae87-9d2c891c4da3:0\", \"label\": \"HAS_CLASS\", \"title\": \"\\u003cRelationship element_id=\\u00275:bbc0cf5b-04b8-41ed-ae87-9d2c891c4da3:1157425104234217472\\u0027 nodes=(\\u003cNode element_id=\\u00274:bbc0cf5b-04b8-41ed-ae87-9d2c891c4da3:0\\u0027 labels=frozenset({\\u0027Class\\u0027}) properties={}\\u003e, \\u003cNode element_id=\\u00274:bbc0cf5b-04b8-41ed-ae87-9d2c891c4da3:3\\u0027 labels=frozenset({\\u0027ClassNode\\u0027}) properties={\\u0027name\\u0027: \\u0027bear\\u0027}\\u003e) type=\\u0027HAS_CLASS\\u0027 properties={}\\u003e\", \"to\": \"4:bbc0cf5b-04b8-41ed-ae87-9d2c891c4da3:3\"}, {\"from\": \"4:bbc0cf5b-04b8-41ed-ae87-9d2c891c4da3:0\", \"label\": \"HAS_CLASS\", \"title\": \"\\u003cRelationship element_id=\\u00275:bbc0cf5b-04b8-41ed-ae87-9d2c891c4da3:1159676904047902720\\u0027 nodes=(\\u003cNode element_id=\\u00274:bbc0cf5b-04b8-41ed-ae87-9d2c891c4da3:0\\u0027 labels=frozenset({\\u0027Class\\u0027}) properties={}\\u003e, \\u003cNode element_id=\\u00274:bbc0cf5b-04b8-41ed-ae87-9d2c891c4da3:4\\u0027 labels=frozenset({\\u0027ClassNode\\u0027}) properties={\\u0027name\\u0027: \\u0027bird\\u0027}\\u003e) type=\\u0027HAS_CLASS\\u0027 properties={}\\u003e\", \"to\": \"4:bbc0cf5b-04b8-41ed-ae87-9d2c891c4da3:4\"}, {\"from\": \"4:bbc0cf5b-04b8-41ed-ae87-9d2c891c4da3:0\", \"label\": \"HAS_CLASS\", \"title\": \"\\u003cRelationship element_id=\\u00275:bbc0cf5b-04b8-41ed-ae87-9d2c891c4da3:1161928703861587968\\u0027 nodes=(\\u003cNode element_id=\\u00274:bbc0cf5b-04b8-41ed-ae87-9d2c891c4da3:0\\u0027 labels=frozenset({\\u0027Class\\u0027}) properties={}\\u003e, \\u003cNode element_id=\\u00274:bbc0cf5b-04b8-41ed-ae87-9d2c891c4da3:5\\u0027 labels=frozenset({\\u0027ClassNode\\u0027}) properties={\\u0027name\\u0027: \\u0027bug\\u0027}\\u003e) type=\\u0027HAS_CLASS\\u0027 properties={}\\u003e\", \"to\": \"4:bbc0cf5b-04b8-41ed-ae87-9d2c891c4da3:5\"}, {\"from\": \"4:bbc0cf5b-04b8-41ed-ae87-9d2c891c4da3:0\", \"label\": \"HAS_CLASS\", \"title\": \"\\u003cRelationship element_id=\\u00275:bbc0cf5b-04b8-41ed-ae87-9d2c891c4da3:1164180503675273216\\u0027 nodes=(\\u003cNode element_id=\\u00274:bbc0cf5b-04b8-41ed-ae87-9d2c891c4da3:0\\u0027 labels=frozenset({\\u0027Class\\u0027}) properties={}\\u003e, \\u003cNode element_id=\\u00274:bbc0cf5b-04b8-41ed-ae87-9d2c891c4da3:6\\u0027 labels=frozenset({\\u0027ClassNode\\u0027}) properties={\\u0027name\\u0027: \\u0027butterfly\\u0027}\\u003e) type=\\u0027HAS_CLASS\\u0027 properties={}\\u003e\", \"to\": \"4:bbc0cf5b-04b8-41ed-ae87-9d2c891c4da3:6\"}, {\"from\": \"4:bbc0cf5b-04b8-41ed-ae87-9d2c891c4da3:0\", \"label\": \"HAS_CLASS\", \"title\": \"\\u003cRelationship element_id=\\u00275:bbc0cf5b-04b8-41ed-ae87-9d2c891c4da3:1166432303488958464\\u0027 nodes=(\\u003cNode element_id=\\u00274:bbc0cf5b-04b8-41ed-ae87-9d2c891c4da3:0\\u0027 labels=frozenset({\\u0027Class\\u0027}) properties={}\\u003e, \\u003cNode element_id=\\u00274:bbc0cf5b-04b8-41ed-ae87-9d2c891c4da3:7\\u0027 labels=frozenset({\\u0027ClassNode\\u0027}) properties={\\u0027name\\u0027: \\u0027cat\\u0027}\\u003e) type=\\u0027HAS_CLASS\\u0027 properties={}\\u003e\", \"to\": \"4:bbc0cf5b-04b8-41ed-ae87-9d2c891c4da3:7\"}, {\"from\": \"4:bbc0cf5b-04b8-41ed-ae87-9d2c891c4da3:0\", \"label\": \"HAS_CLASS\", \"title\": \"\\u003cRelationship element_id=\\u00275:bbc0cf5b-04b8-41ed-ae87-9d2c891c4da3:1168684103302643712\\u0027 nodes=(\\u003cNode element_id=\\u00274:bbc0cf5b-04b8-41ed-ae87-9d2c891c4da3:0\\u0027 labels=frozenset({\\u0027Class\\u0027}) properties={}\\u003e, \\u003cNode element_id=\\u00274:bbc0cf5b-04b8-41ed-ae87-9d2c891c4da3:8\\u0027 labels=frozenset({\\u0027ClassNode\\u0027}) properties={\\u0027name\\u0027: \\u0027coral\\u0027}\\u003e) type=\\u0027HAS_CLASS\\u0027 properties={}\\u003e\", \"to\": \"4:bbc0cf5b-04b8-41ed-ae87-9d2c891c4da3:8\"}, {\"from\": \"4:bbc0cf5b-04b8-41ed-ae87-9d2c891c4da3:0\", \"label\": \"HAS_CLASS\", \"title\": \"\\u003cRelationship element_id=\\u00275:bbc0cf5b-04b8-41ed-ae87-9d2c891c4da3:1170935903116328960\\u0027 nodes=(\\u003cNode element_id=\\u00274:bbc0cf5b-04b8-41ed-ae87-9d2c891c4da3:0\\u0027 labels=frozenset({\\u0027Class\\u0027}) properties={}\\u003e, \\u003cNode element_id=\\u00274:bbc0cf5b-04b8-41ed-ae87-9d2c891c4da3:9\\u0027 labels=frozenset({\\u0027ClassNode\\u0027}) properties={\\u0027name\\u0027: \\u0027crocodile\\u0027}\\u003e) type=\\u0027HAS_CLASS\\u0027 properties={}\\u003e\", \"to\": \"4:bbc0cf5b-04b8-41ed-ae87-9d2c891c4da3:9\"}, {\"from\": \"4:bbc0cf5b-04b8-41ed-ae87-9d2c891c4da3:0\", \"label\": \"HAS_CLASS\", \"title\": \"\\u003cRelationship element_id=\\u00275:bbc0cf5b-04b8-41ed-ae87-9d2c891c4da3:1173187702930014208\\u0027 nodes=(\\u003cNode element_id=\\u00274:bbc0cf5b-04b8-41ed-ae87-9d2c891c4da3:0\\u0027 labels=frozenset({\\u0027Class\\u0027}) properties={}\\u003e, \\u003cNode element_id=\\u00274:bbc0cf5b-04b8-41ed-ae87-9d2c891c4da3:10\\u0027 labels=frozenset({\\u0027ClassNode\\u0027}) properties={\\u0027name\\u0027: \\u0027crustacean\\u0027}\\u003e) type=\\u0027HAS_CLASS\\u0027 properties={}\\u003e\", \"to\": \"4:bbc0cf5b-04b8-41ed-ae87-9d2c891c4da3:10\"}, {\"from\": \"4:bbc0cf5b-04b8-41ed-ae87-9d2c891c4da3:0\", \"label\": \"HAS_CLASS\", \"title\": \"\\u003cRelationship element_id=\\u00275:bbc0cf5b-04b8-41ed-ae87-9d2c891c4da3:1175439502743699456\\u0027 nodes=(\\u003cNode element_id=\\u00274:bbc0cf5b-04b8-41ed-ae87-9d2c891c4da3:0\\u0027 labels=frozenset({\\u0027Class\\u0027}) properties={}\\u003e, \\u003cNode element_id=\\u00274:bbc0cf5b-04b8-41ed-ae87-9d2c891c4da3:11\\u0027 labels=frozenset({\\u0027ClassNode\\u0027}) properties={\\u0027name\\u0027: \\u0027dinosaur\\u0027}\\u003e) type=\\u0027HAS_CLASS\\u0027 properties={}\\u003e\", \"to\": \"4:bbc0cf5b-04b8-41ed-ae87-9d2c891c4da3:11\"}, {\"from\": \"4:bbc0cf5b-04b8-41ed-ae87-9d2c891c4da3:0\", \"label\": \"HAS_CLASS\", \"title\": \"\\u003cRelationship element_id=\\u00275:bbc0cf5b-04b8-41ed-ae87-9d2c891c4da3:1177691302557384704\\u0027 nodes=(\\u003cNode element_id=\\u00274:bbc0cf5b-04b8-41ed-ae87-9d2c891c4da3:0\\u0027 labels=frozenset({\\u0027Class\\u0027}) properties={}\\u003e, \\u003cNode element_id=\\u00274:bbc0cf5b-04b8-41ed-ae87-9d2c891c4da3:12\\u0027 labels=frozenset({\\u0027ClassNode\\u0027}) properties={\\u0027name\\u0027: \\u0027dog\\u0027}\\u003e) type=\\u0027HAS_CLASS\\u0027 properties={}\\u003e\", \"to\": \"4:bbc0cf5b-04b8-41ed-ae87-9d2c891c4da3:12\"}, {\"from\": \"4:bbc0cf5b-04b8-41ed-ae87-9d2c891c4da3:0\", \"label\": \"HAS_CLASS\", \"title\": \"\\u003cRelationship element_id=\\u00275:bbc0cf5b-04b8-41ed-ae87-9d2c891c4da3:1179943102371069952\\u0027 nodes=(\\u003cNode element_id=\\u00274:bbc0cf5b-04b8-41ed-ae87-9d2c891c4da3:0\\u0027 labels=frozenset({\\u0027Class\\u0027}) properties={}\\u003e, \\u003cNode element_id=\\u00274:bbc0cf5b-04b8-41ed-ae87-9d2c891c4da3:13\\u0027 labels=frozenset({\\u0027ClassNode\\u0027}) properties={\\u0027name\\u0027: \\u0027echinoderms\\u0027}\\u003e) type=\\u0027HAS_CLASS\\u0027 properties={}\\u003e\", \"to\": \"4:bbc0cf5b-04b8-41ed-ae87-9d2c891c4da3:13\"}, {\"from\": \"4:bbc0cf5b-04b8-41ed-ae87-9d2c891c4da3:0\", \"label\": \"HAS_CLASS\", \"title\": \"\\u003cRelationship element_id=\\u00275:bbc0cf5b-04b8-41ed-ae87-9d2c891c4da3:1182194902184755200\\u0027 nodes=(\\u003cNode element_id=\\u00274:bbc0cf5b-04b8-41ed-ae87-9d2c891c4da3:0\\u0027 labels=frozenset({\\u0027Class\\u0027}) properties={}\\u003e, \\u003cNode element_id=\\u00274:bbc0cf5b-04b8-41ed-ae87-9d2c891c4da3:14\\u0027 labels=frozenset({\\u0027ClassNode\\u0027}) properties={\\u0027name\\u0027: \\u0027ferret\\u0027}\\u003e) type=\\u0027HAS_CLASS\\u0027 properties={}\\u003e\", \"to\": \"4:bbc0cf5b-04b8-41ed-ae87-9d2c891c4da3:14\"}, {\"from\": \"4:bbc0cf5b-04b8-41ed-ae87-9d2c891c4da3:0\", \"label\": \"HAS_CLASS\", \"title\": \"\\u003cRelationship element_id=\\u00275:bbc0cf5b-04b8-41ed-ae87-9d2c891c4da3:1184446701998440448\\u0027 nodes=(\\u003cNode element_id=\\u00274:bbc0cf5b-04b8-41ed-ae87-9d2c891c4da3:0\\u0027 labels=frozenset({\\u0027Class\\u0027}) properties={}\\u003e, \\u003cNode element_id=\\u00274:bbc0cf5b-04b8-41ed-ae87-9d2c891c4da3:15\\u0027 labels=frozenset({\\u0027ClassNode\\u0027}) properties={\\u0027name\\u0027: \\u0027fish\\u0027}\\u003e) type=\\u0027HAS_CLASS\\u0027 properties={}\\u003e\", \"to\": \"4:bbc0cf5b-04b8-41ed-ae87-9d2c891c4da3:15\"}, {\"from\": \"4:bbc0cf5b-04b8-41ed-ae87-9d2c891c4da3:0\", \"label\": \"HAS_CLASS\", \"title\": \"\\u003cRelationship element_id=\\u00275:bbc0cf5b-04b8-41ed-ae87-9d2c891c4da3:1186698501812125696\\u0027 nodes=(\\u003cNode element_id=\\u00274:bbc0cf5b-04b8-41ed-ae87-9d2c891c4da3:0\\u0027 labels=frozenset({\\u0027Class\\u0027}) properties={}\\u003e, \\u003cNode element_id=\\u00274:bbc0cf5b-04b8-41ed-ae87-9d2c891c4da3:16\\u0027 labels=frozenset({\\u0027ClassNode\\u0027}) properties={\\u0027name\\u0027: \\u0027flower\\u0027}\\u003e) type=\\u0027HAS_CLASS\\u0027 properties={}\\u003e\", \"to\": \"4:bbc0cf5b-04b8-41ed-ae87-9d2c891c4da3:16\"}, {\"from\": \"4:bbc0cf5b-04b8-41ed-ae87-9d2c891c4da3:0\", \"label\": \"HAS_CLASS\", \"title\": \"\\u003cRelationship element_id=\\u00275:bbc0cf5b-04b8-41ed-ae87-9d2c891c4da3:1188950301625810944\\u0027 nodes=(\\u003cNode element_id=\\u00274:bbc0cf5b-04b8-41ed-ae87-9d2c891c4da3:0\\u0027 labels=frozenset({\\u0027Class\\u0027}) properties={}\\u003e, \\u003cNode element_id=\\u00274:bbc0cf5b-04b8-41ed-ae87-9d2c891c4da3:17\\u0027 labels=frozenset({\\u0027ClassNode\\u0027}) properties={\\u0027name\\u0027: \\u0027frog\\u0027}\\u003e) type=\\u0027HAS_CLASS\\u0027 properties={}\\u003e\", \"to\": \"4:bbc0cf5b-04b8-41ed-ae87-9d2c891c4da3:17\"}, {\"from\": \"4:bbc0cf5b-04b8-41ed-ae87-9d2c891c4da3:0\", \"label\": \"HAS_CLASS\", \"title\": \"\\u003cRelationship element_id=\\u00275:bbc0cf5b-04b8-41ed-ae87-9d2c891c4da3:1191202101439496192\\u0027 nodes=(\\u003cNode element_id=\\u00274:bbc0cf5b-04b8-41ed-ae87-9d2c891c4da3:0\\u0027 labels=frozenset({\\u0027Class\\u0027}) properties={}\\u003e, \\u003cNode element_id=\\u00274:bbc0cf5b-04b8-41ed-ae87-9d2c891c4da3:18\\u0027 labels=frozenset({\\u0027ClassNode\\u0027}) properties={\\u0027name\\u0027: \\u0027fruit\\u0027}\\u003e) type=\\u0027HAS_CLASS\\u0027 properties={}\\u003e\", \"to\": \"4:bbc0cf5b-04b8-41ed-ae87-9d2c891c4da3:18\"}, {\"from\": \"4:bbc0cf5b-04b8-41ed-ae87-9d2c891c4da3:0\", \"label\": \"HAS_CLASS\", \"title\": \"\\u003cRelationship element_id=\\u00275:bbc0cf5b-04b8-41ed-ae87-9d2c891c4da3:1193453901253181440\\u0027 nodes=(\\u003cNode element_id=\\u00274:bbc0cf5b-04b8-41ed-ae87-9d2c891c4da3:0\\u0027 labels=frozenset({\\u0027Class\\u0027}) properties={}\\u003e, \\u003cNode element_id=\\u00274:bbc0cf5b-04b8-41ed-ae87-9d2c891c4da3:19\\u0027 labels=frozenset({\\u0027ClassNode\\u0027}) properties={\\u0027name\\u0027: \\u0027fungus\\u0027}\\u003e) type=\\u0027HAS_CLASS\\u0027 properties={}\\u003e\", \"to\": \"4:bbc0cf5b-04b8-41ed-ae87-9d2c891c4da3:19\"}, {\"from\": \"4:bbc0cf5b-04b8-41ed-ae87-9d2c891c4da3:0\", \"label\": \"HAS_CLASS\", \"title\": \"\\u003cRelationship element_id=\\u00275:bbc0cf5b-04b8-41ed-ae87-9d2c891c4da3:1195705701066866688\\u0027 nodes=(\\u003cNode element_id=\\u00274:bbc0cf5b-04b8-41ed-ae87-9d2c891c4da3:0\\u0027 labels=frozenset({\\u0027Class\\u0027}) properties={}\\u003e, \\u003cNode element_id=\\u00274:bbc0cf5b-04b8-41ed-ae87-9d2c891c4da3:20\\u0027 labels=frozenset({\\u0027ClassNode\\u0027}) properties={\\u0027name\\u0027: \\u0027hog\\u0027}\\u003e) type=\\u0027HAS_CLASS\\u0027 properties={}\\u003e\", \"to\": \"4:bbc0cf5b-04b8-41ed-ae87-9d2c891c4da3:20\"}, {\"from\": \"4:bbc0cf5b-04b8-41ed-ae87-9d2c891c4da3:0\", \"label\": \"HAS_CLASS\", \"title\": \"\\u003cRelationship element_id=\\u00275:bbc0cf5b-04b8-41ed-ae87-9d2c891c4da3:1197957500880551936\\u0027 nodes=(\\u003cNode element_id=\\u00274:bbc0cf5b-04b8-41ed-ae87-9d2c891c4da3:0\\u0027 labels=frozenset({\\u0027Class\\u0027}) properties={}\\u003e, \\u003cNode element_id=\\u00274:bbc0cf5b-04b8-41ed-ae87-9d2c891c4da3:21\\u0027 labels=frozenset({\\u0027ClassNode\\u0027}) properties={\\u0027name\\u0027: \\u0027lizard\\u0027}\\u003e) type=\\u0027HAS_CLASS\\u0027 properties={}\\u003e\", \"to\": \"4:bbc0cf5b-04b8-41ed-ae87-9d2c891c4da3:21\"}, {\"from\": \"4:bbc0cf5b-04b8-41ed-ae87-9d2c891c4da3:0\", \"label\": \"HAS_CLASS\", \"title\": \"\\u003cRelationship element_id=\\u00275:bbc0cf5b-04b8-41ed-ae87-9d2c891c4da3:1200209300694237184\\u0027 nodes=(\\u003cNode element_id=\\u00274:bbc0cf5b-04b8-41ed-ae87-9d2c891c4da3:0\\u0027 labels=frozenset({\\u0027Class\\u0027}) properties={}\\u003e, \\u003cNode element_id=\\u00274:bbc0cf5b-04b8-41ed-ae87-9d2c891c4da3:22\\u0027 labels=frozenset({\\u0027ClassNode\\u0027}) properties={\\u0027name\\u0027: \\u0027marine mammals\\u0027}\\u003e) type=\\u0027HAS_CLASS\\u0027 properties={}\\u003e\", \"to\": \"4:bbc0cf5b-04b8-41ed-ae87-9d2c891c4da3:22\"}, {\"from\": \"4:bbc0cf5b-04b8-41ed-ae87-9d2c891c4da3:0\", \"label\": \"HAS_CLASS\", \"title\": \"\\u003cRelationship element_id=\\u00275:bbc0cf5b-04b8-41ed-ae87-9d2c891c4da3:1202461100507922432\\u0027 nodes=(\\u003cNode element_id=\\u00274:bbc0cf5b-04b8-41ed-ae87-9d2c891c4da3:0\\u0027 labels=frozenset({\\u0027Class\\u0027}) properties={}\\u003e, \\u003cNode element_id=\\u00274:bbc0cf5b-04b8-41ed-ae87-9d2c891c4da3:23\\u0027 labels=frozenset({\\u0027ClassNode\\u0027}) properties={\\u0027name\\u0027: \\u0027marsupial\\u0027}\\u003e) type=\\u0027HAS_CLASS\\u0027 properties={}\\u003e\", \"to\": \"4:bbc0cf5b-04b8-41ed-ae87-9d2c891c4da3:23\"}, {\"from\": \"4:bbc0cf5b-04b8-41ed-ae87-9d2c891c4da3:0\", \"label\": \"HAS_CLASS\", \"title\": \"\\u003cRelationship element_id=\\u00275:bbc0cf5b-04b8-41ed-ae87-9d2c891c4da3:1204712900321607680\\u0027 nodes=(\\u003cNode element_id=\\u00274:bbc0cf5b-04b8-41ed-ae87-9d2c891c4da3:0\\u0027 labels=frozenset({\\u0027Class\\u0027}) properties={}\\u003e, \\u003cNode element_id=\\u00274:bbc0cf5b-04b8-41ed-ae87-9d2c891c4da3:24\\u0027 labels=frozenset({\\u0027ClassNode\\u0027}) properties={\\u0027name\\u0027: \\u0027mollusk\\u0027}\\u003e) type=\\u0027HAS_CLASS\\u0027 properties={}\\u003e\", \"to\": \"4:bbc0cf5b-04b8-41ed-ae87-9d2c891c4da3:24\"}, {\"from\": \"4:bbc0cf5b-04b8-41ed-ae87-9d2c891c4da3:0\", \"label\": \"HAS_CLASS\", \"title\": \"\\u003cRelationship element_id=\\u00275:bbc0cf5b-04b8-41ed-ae87-9d2c891c4da3:1206964700135292928\\u0027 nodes=(\\u003cNode element_id=\\u00274:bbc0cf5b-04b8-41ed-ae87-9d2c891c4da3:0\\u0027 labels=frozenset({\\u0027Class\\u0027}) properties={}\\u003e, \\u003cNode element_id=\\u00274:bbc0cf5b-04b8-41ed-ae87-9d2c891c4da3:25\\u0027 labels=frozenset({\\u0027ClassNode\\u0027}) properties={\\u0027name\\u0027: \\u0027mongoose\\u0027}\\u003e) type=\\u0027HAS_CLASS\\u0027 properties={}\\u003e\", \"to\": \"4:bbc0cf5b-04b8-41ed-ae87-9d2c891c4da3:25\"}, {\"from\": \"4:bbc0cf5b-04b8-41ed-ae87-9d2c891c4da3:0\", \"label\": \"HAS_CLASS\", \"title\": \"\\u003cRelationship element_id=\\u00275:bbc0cf5b-04b8-41ed-ae87-9d2c891c4da3:1209216499948978176\\u0027 nodes=(\\u003cNode element_id=\\u00274:bbc0cf5b-04b8-41ed-ae87-9d2c891c4da3:0\\u0027 labels=frozenset({\\u0027Class\\u0027}) properties={}\\u003e, \\u003cNode element_id=\\u00274:bbc0cf5b-04b8-41ed-ae87-9d2c891c4da3:26\\u0027 labels=frozenset({\\u0027ClassNode\\u0027}) properties={\\u0027name\\u0027: \\u0027monotreme\\u0027}\\u003e) type=\\u0027HAS_CLASS\\u0027 properties={}\\u003e\", \"to\": \"4:bbc0cf5b-04b8-41ed-ae87-9d2c891c4da3:26\"}, {\"from\": \"4:bbc0cf5b-04b8-41ed-ae87-9d2c891c4da3:0\", \"label\": \"HAS_CLASS\", \"title\": \"\\u003cRelationship element_id=\\u00275:bbc0cf5b-04b8-41ed-ae87-9d2c891c4da3:1211468299762663424\\u0027 nodes=(\\u003cNode element_id=\\u00274:bbc0cf5b-04b8-41ed-ae87-9d2c891c4da3:0\\u0027 labels=frozenset({\\u0027Class\\u0027}) properties={}\\u003e, \\u003cNode element_id=\\u00274:bbc0cf5b-04b8-41ed-ae87-9d2c891c4da3:27\\u0027 labels=frozenset({\\u0027ClassNode\\u0027}) properties={\\u0027name\\u0027: \\u0027person\\u0027}\\u003e) type=\\u0027HAS_CLASS\\u0027 properties={}\\u003e\", \"to\": \"4:bbc0cf5b-04b8-41ed-ae87-9d2c891c4da3:27\"}, {\"from\": \"4:bbc0cf5b-04b8-41ed-ae87-9d2c891c4da3:0\", \"label\": \"HAS_CLASS\", \"title\": \"\\u003cRelationship element_id=\\u00275:bbc0cf5b-04b8-41ed-ae87-9d2c891c4da3:1213720099576348672\\u0027 nodes=(\\u003cNode element_id=\\u00274:bbc0cf5b-04b8-41ed-ae87-9d2c891c4da3:0\\u0027 labels=frozenset({\\u0027Class\\u0027}) properties={}\\u003e, \\u003cNode element_id=\\u00274:bbc0cf5b-04b8-41ed-ae87-9d2c891c4da3:28\\u0027 labels=frozenset({\\u0027ClassNode\\u0027}) properties={\\u0027name\\u0027: \\u0027plant\\u0027}\\u003e) type=\\u0027HAS_CLASS\\u0027 properties={}\\u003e\", \"to\": \"4:bbc0cf5b-04b8-41ed-ae87-9d2c891c4da3:28\"}, {\"from\": \"4:bbc0cf5b-04b8-41ed-ae87-9d2c891c4da3:0\", \"label\": \"HAS_CLASS\", \"title\": \"\\u003cRelationship element_id=\\u00275:bbc0cf5b-04b8-41ed-ae87-9d2c891c4da3:1215971899390033920\\u0027 nodes=(\\u003cNode element_id=\\u00274:bbc0cf5b-04b8-41ed-ae87-9d2c891c4da3:0\\u0027 labels=frozenset({\\u0027Class\\u0027}) properties={}\\u003e, \\u003cNode element_id=\\u00274:bbc0cf5b-04b8-41ed-ae87-9d2c891c4da3:29\\u0027 labels=frozenset({\\u0027ClassNode\\u0027}) properties={\\u0027name\\u0027: \\u0027primate\\u0027}\\u003e) type=\\u0027HAS_CLASS\\u0027 properties={}\\u003e\", \"to\": \"4:bbc0cf5b-04b8-41ed-ae87-9d2c891c4da3:29\"}, {\"from\": \"4:bbc0cf5b-04b8-41ed-ae87-9d2c891c4da3:0\", \"label\": \"HAS_CLASS\", \"title\": \"\\u003cRelationship element_id=\\u00275:bbc0cf5b-04b8-41ed-ae87-9d2c891c4da3:1218223699203719168\\u0027 nodes=(\\u003cNode element_id=\\u00274:bbc0cf5b-04b8-41ed-ae87-9d2c891c4da3:0\\u0027 labels=frozenset({\\u0027Class\\u0027}) properties={}\\u003e, \\u003cNode element_id=\\u00274:bbc0cf5b-04b8-41ed-ae87-9d2c891c4da3:30\\u0027 labels=frozenset({\\u0027ClassNode\\u0027}) properties={\\u0027name\\u0027: \\u0027rabbit\\u0027}\\u003e) type=\\u0027HAS_CLASS\\u0027 properties={}\\u003e\", \"to\": \"4:bbc0cf5b-04b8-41ed-ae87-9d2c891c4da3:30\"}, {\"from\": \"4:bbc0cf5b-04b8-41ed-ae87-9d2c891c4da3:0\", \"label\": \"HAS_CLASS\", \"title\": \"\\u003cRelationship element_id=\\u00275:bbc0cf5b-04b8-41ed-ae87-9d2c891c4da3:1220475499017404416\\u0027 nodes=(\\u003cNode element_id=\\u00274:bbc0cf5b-04b8-41ed-ae87-9d2c891c4da3:0\\u0027 labels=frozenset({\\u0027Class\\u0027}) properties={}\\u003e, \\u003cNode element_id=\\u00274:bbc0cf5b-04b8-41ed-ae87-9d2c891c4da3:31\\u0027 labels=frozenset({\\u0027ClassNode\\u0027}) properties={\\u0027name\\u0027: \\u0027rodent\\u0027}\\u003e) type=\\u0027HAS_CLASS\\u0027 properties={}\\u003e\", \"to\": \"4:bbc0cf5b-04b8-41ed-ae87-9d2c891c4da3:31\"}, {\"from\": \"4:bbc0cf5b-04b8-41ed-ae87-9d2c891c4da3:0\", \"label\": \"HAS_CLASS\", \"title\": \"\\u003cRelationship element_id=\\u00275:bbc0cf5b-04b8-41ed-ae87-9d2c891c4da3:1222727298831089664\\u0027 nodes=(\\u003cNode element_id=\\u00274:bbc0cf5b-04b8-41ed-ae87-9d2c891c4da3:0\\u0027 labels=frozenset({\\u0027Class\\u0027}) properties={}\\u003e, \\u003cNode element_id=\\u00274:bbc0cf5b-04b8-41ed-ae87-9d2c891c4da3:32\\u0027 labels=frozenset({\\u0027ClassNode\\u0027}) properties={\\u0027name\\u0027: \\u0027salamander\\u0027}\\u003e) type=\\u0027HAS_CLASS\\u0027 properties={}\\u003e\", \"to\": \"4:bbc0cf5b-04b8-41ed-ae87-9d2c891c4da3:32\"}, {\"from\": \"4:bbc0cf5b-04b8-41ed-ae87-9d2c891c4da3:0\", \"label\": \"HAS_CLASS\", \"title\": \"\\u003cRelationship element_id=\\u00275:bbc0cf5b-04b8-41ed-ae87-9d2c891c4da3:1224979098644774912\\u0027 nodes=(\\u003cNode element_id=\\u00274:bbc0cf5b-04b8-41ed-ae87-9d2c891c4da3:0\\u0027 labels=frozenset({\\u0027Class\\u0027}) properties={}\\u003e, \\u003cNode element_id=\\u00274:bbc0cf5b-04b8-41ed-ae87-9d2c891c4da3:33\\u0027 labels=frozenset({\\u0027ClassNode\\u0027}) properties={\\u0027name\\u0027: \\u0027shark\\u0027}\\u003e) type=\\u0027HAS_CLASS\\u0027 properties={}\\u003e\", \"to\": \"4:bbc0cf5b-04b8-41ed-ae87-9d2c891c4da3:33\"}, {\"from\": \"4:bbc0cf5b-04b8-41ed-ae87-9d2c891c4da3:0\", \"label\": \"HAS_CLASS\", \"title\": \"\\u003cRelationship element_id=\\u00275:bbc0cf5b-04b8-41ed-ae87-9d2c891c4da3:1227230898458460160\\u0027 nodes=(\\u003cNode element_id=\\u00274:bbc0cf5b-04b8-41ed-ae87-9d2c891c4da3:0\\u0027 labels=frozenset({\\u0027Class\\u0027}) properties={}\\u003e, \\u003cNode element_id=\\u00274:bbc0cf5b-04b8-41ed-ae87-9d2c891c4da3:34\\u0027 labels=frozenset({\\u0027ClassNode\\u0027}) properties={\\u0027name\\u0027: \\u0027sloth\\u0027}\\u003e) type=\\u0027HAS_CLASS\\u0027 properties={}\\u003e\", \"to\": \"4:bbc0cf5b-04b8-41ed-ae87-9d2c891c4da3:34\"}, {\"from\": \"4:bbc0cf5b-04b8-41ed-ae87-9d2c891c4da3:0\", \"label\": \"HAS_CLASS\", \"title\": \"\\u003cRelationship element_id=\\u00275:bbc0cf5b-04b8-41ed-ae87-9d2c891c4da3:1229482698272145408\\u0027 nodes=(\\u003cNode element_id=\\u00274:bbc0cf5b-04b8-41ed-ae87-9d2c891c4da3:0\\u0027 labels=frozenset({\\u0027Class\\u0027}) properties={}\\u003e, \\u003cNode element_id=\\u00274:bbc0cf5b-04b8-41ed-ae87-9d2c891c4da3:35\\u0027 labels=frozenset({\\u0027ClassNode\\u0027}) properties={\\u0027name\\u0027: \\u0027snake\\u0027}\\u003e) type=\\u0027HAS_CLASS\\u0027 properties={}\\u003e\", \"to\": \"4:bbc0cf5b-04b8-41ed-ae87-9d2c891c4da3:35\"}, {\"from\": \"4:bbc0cf5b-04b8-41ed-ae87-9d2c891c4da3:0\", \"label\": \"HAS_CLASS\", \"title\": \"\\u003cRelationship element_id=\\u00275:bbc0cf5b-04b8-41ed-ae87-9d2c891c4da3:1231734498085830656\\u0027 nodes=(\\u003cNode element_id=\\u00274:bbc0cf5b-04b8-41ed-ae87-9d2c891c4da3:0\\u0027 labels=frozenset({\\u0027Class\\u0027}) properties={}\\u003e, \\u003cNode element_id=\\u00274:bbc0cf5b-04b8-41ed-ae87-9d2c891c4da3:36\\u0027 labels=frozenset({\\u0027ClassNode\\u0027}) properties={\\u0027name\\u0027: \\u0027trilobite\\u0027}\\u003e) type=\\u0027HAS_CLASS\\u0027 properties={}\\u003e\", \"to\": \"4:bbc0cf5b-04b8-41ed-ae87-9d2c891c4da3:36\"}, {\"from\": \"4:bbc0cf5b-04b8-41ed-ae87-9d2c891c4da3:0\", \"label\": \"HAS_CLASS\", \"title\": \"\\u003cRelationship element_id=\\u00275:bbc0cf5b-04b8-41ed-ae87-9d2c891c4da3:1233986297899515904\\u0027 nodes=(\\u003cNode element_id=\\u00274:bbc0cf5b-04b8-41ed-ae87-9d2c891c4da3:0\\u0027 labels=frozenset({\\u0027Class\\u0027}) properties={}\\u003e, \\u003cNode element_id=\\u00274:bbc0cf5b-04b8-41ed-ae87-9d2c891c4da3:37\\u0027 labels=frozenset({\\u0027ClassNode\\u0027}) properties={\\u0027name\\u0027: \\u0027turtle\\u0027}\\u003e) type=\\u0027HAS_CLASS\\u0027 properties={}\\u003e\", \"to\": \"4:bbc0cf5b-04b8-41ed-ae87-9d2c891c4da3:37\"}, {\"from\": \"4:bbc0cf5b-04b8-41ed-ae87-9d2c891c4da3:0\", \"label\": \"HAS_CLASS\", \"title\": \"\\u003cRelationship element_id=\\u00275:bbc0cf5b-04b8-41ed-ae87-9d2c891c4da3:1236238097713201152\\u0027 nodes=(\\u003cNode element_id=\\u00274:bbc0cf5b-04b8-41ed-ae87-9d2c891c4da3:0\\u0027 labels=frozenset({\\u0027Class\\u0027}) properties={}\\u003e, \\u003cNode element_id=\\u00274:bbc0cf5b-04b8-41ed-ae87-9d2c891c4da3:38\\u0027 labels=frozenset({\\u0027ClassNode\\u0027}) properties={\\u0027name\\u0027: \\u0027ungulate\\u0027}\\u003e) type=\\u0027HAS_CLASS\\u0027 properties={}\\u003e\", \"to\": \"4:bbc0cf5b-04b8-41ed-ae87-9d2c891c4da3:38\"}, {\"from\": \"4:bbc0cf5b-04b8-41ed-ae87-9d2c891c4da3:0\", \"label\": \"HAS_CLASS\", \"title\": \"\\u003cRelationship element_id=\\u00275:bbc0cf5b-04b8-41ed-ae87-9d2c891c4da3:1238489897526886400\\u0027 nodes=(\\u003cNode element_id=\\u00274:bbc0cf5b-04b8-41ed-ae87-9d2c891c4da3:0\\u0027 labels=frozenset({\\u0027Class\\u0027}) properties={}\\u003e, \\u003cNode element_id=\\u00274:bbc0cf5b-04b8-41ed-ae87-9d2c891c4da3:39\\u0027 labels=frozenset({\\u0027ClassNode\\u0027}) properties={\\u0027name\\u0027: \\u0027vegetable\\u0027}\\u003e) type=\\u0027HAS_CLASS\\u0027 properties={}\\u003e\", \"to\": \"4:bbc0cf5b-04b8-41ed-ae87-9d2c891c4da3:39\"}, {\"from\": \"4:bbc0cf5b-04b8-41ed-ae87-9d2c891c4da3:0\", \"label\": \"HAS_CLASS\", \"title\": \"\\u003cRelationship element_id=\\u00275:bbc0cf5b-04b8-41ed-ae87-9d2c891c4da3:1240741697340571648\\u0027 nodes=(\\u003cNode element_id=\\u00274:bbc0cf5b-04b8-41ed-ae87-9d2c891c4da3:0\\u0027 labels=frozenset({\\u0027Class\\u0027}) properties={}\\u003e, \\u003cNode element_id=\\u00274:bbc0cf5b-04b8-41ed-ae87-9d2c891c4da3:40\\u0027 labels=frozenset({\\u0027ClassNode\\u0027}) properties={\\u0027name\\u0027: \\u0027wild cat\\u0027}\\u003e) type=\\u0027HAS_CLASS\\u0027 properties={}\\u003e\", \"to\": \"4:bbc0cf5b-04b8-41ed-ae87-9d2c891c4da3:40\"}, {\"from\": \"4:bbc0cf5b-04b8-41ed-ae87-9d2c891c4da3:0\", \"label\": \"HAS_CLASS\", \"title\": \"\\u003cRelationship element_id=\\u00275:bbc0cf5b-04b8-41ed-ae87-9d2c891c4da3:1242993497154256896\\u0027 nodes=(\\u003cNode element_id=\\u00274:bbc0cf5b-04b8-41ed-ae87-9d2c891c4da3:0\\u0027 labels=frozenset({\\u0027Class\\u0027}) properties={}\\u003e, \\u003cNode element_id=\\u00274:bbc0cf5b-04b8-41ed-ae87-9d2c891c4da3:41\\u0027 labels=frozenset({\\u0027ClassNode\\u0027}) properties={\\u0027name\\u0027: \\u0027wild dog\\u0027}\\u003e) type=\\u0027HAS_CLASS\\u0027 properties={}\\u003e\", \"to\": \"4:bbc0cf5b-04b8-41ed-ae87-9d2c891c4da3:41\"}, {\"from\": \"4:bbc0cf5b-04b8-41ed-ae87-9d2c891c4da3:0\", \"label\": \"HAS_CLASS\", \"title\": \"\\u003cRelationship element_id=\\u00275:bbc0cf5b-04b8-41ed-ae87-9d2c891c4da3:1245245296967942144\\u0027 nodes=(\\u003cNode element_id=\\u00274:bbc0cf5b-04b8-41ed-ae87-9d2c891c4da3:0\\u0027 labels=frozenset({\\u0027Class\\u0027}) properties={}\\u003e, \\u003cNode element_id=\\u00274:bbc0cf5b-04b8-41ed-ae87-9d2c891c4da3:42\\u0027 labels=frozenset({\\u0027ClassNode\\u0027}) properties={\\u0027name\\u0027: \\u0027accessory\\u0027}\\u003e) type=\\u0027HAS_CLASS\\u0027 properties={}\\u003e\", \"to\": \"4:bbc0cf5b-04b8-41ed-ae87-9d2c891c4da3:42\"}, {\"from\": \"4:bbc0cf5b-04b8-41ed-ae87-9d2c891c4da3:0\", \"label\": \"HAS_CLASS\", \"title\": \"\\u003cRelationship element_id=\\u00275:bbc0cf5b-04b8-41ed-ae87-9d2c891c4da3:1247497096781627392\\u0027 nodes=(\\u003cNode element_id=\\u00274:bbc0cf5b-04b8-41ed-ae87-9d2c891c4da3:0\\u0027 labels=frozenset({\\u0027Class\\u0027}) properties={}\\u003e, \\u003cNode element_id=\\u00274:bbc0cf5b-04b8-41ed-ae87-9d2c891c4da3:43\\u0027 labels=frozenset({\\u0027ClassNode\\u0027}) properties={\\u0027name\\u0027: \\u0027aircraft\\u0027}\\u003e) type=\\u0027HAS_CLASS\\u0027 properties={}\\u003e\", \"to\": \"4:bbc0cf5b-04b8-41ed-ae87-9d2c891c4da3:43\"}, {\"from\": \"4:bbc0cf5b-04b8-41ed-ae87-9d2c891c4da3:0\", \"label\": \"HAS_CLASS\", \"title\": \"\\u003cRelationship element_id=\\u00275:bbc0cf5b-04b8-41ed-ae87-9d2c891c4da3:1249748896595312640\\u0027 nodes=(\\u003cNode element_id=\\u00274:bbc0cf5b-04b8-41ed-ae87-9d2c891c4da3:0\\u0027 labels=frozenset({\\u0027Class\\u0027}) properties={}\\u003e, \\u003cNode element_id=\\u00274:bbc0cf5b-04b8-41ed-ae87-9d2c891c4da3:44\\u0027 labels=frozenset({\\u0027ClassNode\\u0027}) properties={\\u0027name\\u0027: \\u0027ball\\u0027}\\u003e) type=\\u0027HAS_CLASS\\u0027 properties={}\\u003e\", \"to\": \"4:bbc0cf5b-04b8-41ed-ae87-9d2c891c4da3:44\"}, {\"from\": \"4:bbc0cf5b-04b8-41ed-ae87-9d2c891c4da3:0\", \"label\": \"HAS_CLASS\", \"title\": \"\\u003cRelationship element_id=\\u00275:bbc0cf5b-04b8-41ed-ae87-9d2c891c4da3:1252000696408997888\\u0027 nodes=(\\u003cNode element_id=\\u00274:bbc0cf5b-04b8-41ed-ae87-9d2c891c4da3:0\\u0027 labels=frozenset({\\u0027Class\\u0027}) properties={}\\u003e, \\u003cNode element_id=\\u00274:bbc0cf5b-04b8-41ed-ae87-9d2c891c4da3:45\\u0027 labels=frozenset({\\u0027ClassNode\\u0027}) properties={\\u0027name\\u0027: \\u0027boat\\u0027}\\u003e) type=\\u0027HAS_CLASS\\u0027 properties={}\\u003e\", \"to\": \"4:bbc0cf5b-04b8-41ed-ae87-9d2c891c4da3:45\"}, {\"from\": \"4:bbc0cf5b-04b8-41ed-ae87-9d2c891c4da3:0\", \"label\": \"HAS_CLASS\", \"title\": \"\\u003cRelationship element_id=\\u00275:bbc0cf5b-04b8-41ed-ae87-9d2c891c4da3:1254252496222683136\\u0027 nodes=(\\u003cNode element_id=\\u00274:bbc0cf5b-04b8-41ed-ae87-9d2c891c4da3:0\\u0027 labels=frozenset({\\u0027Class\\u0027}) properties={}\\u003e, \\u003cNode element_id=\\u00274:bbc0cf5b-04b8-41ed-ae87-9d2c891c4da3:46\\u0027 labels=frozenset({\\u0027ClassNode\\u0027}) properties={\\u0027name\\u0027: \\u0027building\\u0027}\\u003e) type=\\u0027HAS_CLASS\\u0027 properties={}\\u003e\", \"to\": \"4:bbc0cf5b-04b8-41ed-ae87-9d2c891c4da3:46\"}, {\"from\": \"4:bbc0cf5b-04b8-41ed-ae87-9d2c891c4da3:0\", \"label\": \"HAS_CLASS\", \"title\": \"\\u003cRelationship element_id=\\u00275:bbc0cf5b-04b8-41ed-ae87-9d2c891c4da3:1256504296036368384\\u0027 nodes=(\\u003cNode element_id=\\u00274:bbc0cf5b-04b8-41ed-ae87-9d2c891c4da3:0\\u0027 labels=frozenset({\\u0027Class\\u0027}) properties={}\\u003e, \\u003cNode element_id=\\u00274:bbc0cf5b-04b8-41ed-ae87-9d2c891c4da3:47\\u0027 labels=frozenset({\\u0027ClassNode\\u0027}) properties={\\u0027name\\u0027: \\u0027clothing\\u0027}\\u003e) type=\\u0027HAS_CLASS\\u0027 properties={}\\u003e\", \"to\": \"4:bbc0cf5b-04b8-41ed-ae87-9d2c891c4da3:47\"}, {\"from\": \"4:bbc0cf5b-04b8-41ed-ae87-9d2c891c4da3:0\", \"label\": \"HAS_CLASS\", \"title\": \"\\u003cRelationship element_id=\\u00275:bbc0cf5b-04b8-41ed-ae87-9d2c891c4da3:1258756095850053632\\u0027 nodes=(\\u003cNode element_id=\\u00274:bbc0cf5b-04b8-41ed-ae87-9d2c891c4da3:0\\u0027 labels=frozenset({\\u0027Class\\u0027}) properties={}\\u003e, \\u003cNode element_id=\\u00274:bbc0cf5b-04b8-41ed-ae87-9d2c891c4da3:48\\u0027 labels=frozenset({\\u0027ClassNode\\u0027}) properties={\\u0027name\\u0027: \\u0027container\\u0027}\\u003e) type=\\u0027HAS_CLASS\\u0027 properties={}\\u003e\", \"to\": \"4:bbc0cf5b-04b8-41ed-ae87-9d2c891c4da3:48\"}, {\"from\": \"4:bbc0cf5b-04b8-41ed-ae87-9d2c891c4da3:0\", \"label\": \"HAS_CLASS\", \"title\": \"\\u003cRelationship element_id=\\u00275:bbc0cf5b-04b8-41ed-ae87-9d2c891c4da3:1261007895663738880\\u0027 nodes=(\\u003cNode element_id=\\u00274:bbc0cf5b-04b8-41ed-ae87-9d2c891c4da3:0\\u0027 labels=frozenset({\\u0027Class\\u0027}) properties={}\\u003e, \\u003cNode element_id=\\u00274:bbc0cf5b-04b8-41ed-ae87-9d2c891c4da3:49\\u0027 labels=frozenset({\\u0027ClassNode\\u0027}) properties={\\u0027name\\u0027: \\u0027cooking\\u0027}\\u003e) type=\\u0027HAS_CLASS\\u0027 properties={}\\u003e\", \"to\": \"4:bbc0cf5b-04b8-41ed-ae87-9d2c891c4da3:49\"}, {\"from\": \"4:bbc0cf5b-04b8-41ed-ae87-9d2c891c4da3:0\", \"label\": \"HAS_CLASS\", \"title\": \"\\u003cRelationship element_id=\\u00275:bbc0cf5b-04b8-41ed-ae87-9d2c891c4da3:1263259695477424128\\u0027 nodes=(\\u003cNode element_id=\\u00274:bbc0cf5b-04b8-41ed-ae87-9d2c891c4da3:0\\u0027 labels=frozenset({\\u0027Class\\u0027}) properties={}\\u003e, \\u003cNode element_id=\\u00274:bbc0cf5b-04b8-41ed-ae87-9d2c891c4da3:50\\u0027 labels=frozenset({\\u0027ClassNode\\u0027}) properties={\\u0027name\\u0027: \\u0027decor\\u0027}\\u003e) type=\\u0027HAS_CLASS\\u0027 properties={}\\u003e\", \"to\": \"4:bbc0cf5b-04b8-41ed-ae87-9d2c891c4da3:50\"}, {\"from\": \"4:bbc0cf5b-04b8-41ed-ae87-9d2c891c4da3:0\", \"label\": \"HAS_CLASS\", \"title\": \"\\u003cRelationship element_id=\\u00275:bbc0cf5b-04b8-41ed-ae87-9d2c891c4da3:1265511495291109376\\u0027 nodes=(\\u003cNode element_id=\\u00274:bbc0cf5b-04b8-41ed-ae87-9d2c891c4da3:0\\u0027 labels=frozenset({\\u0027Class\\u0027}) properties={}\\u003e, \\u003cNode element_id=\\u00274:bbc0cf5b-04b8-41ed-ae87-9d2c891c4da3:51\\u0027 labels=frozenset({\\u0027ClassNode\\u0027}) properties={\\u0027name\\u0027: \\u0027electronics\\u0027}\\u003e) type=\\u0027HAS_CLASS\\u0027 properties={}\\u003e\", \"to\": \"4:bbc0cf5b-04b8-41ed-ae87-9d2c891c4da3:51\"}, {\"from\": \"4:bbc0cf5b-04b8-41ed-ae87-9d2c891c4da3:0\", \"label\": \"HAS_CLASS\", \"title\": \"\\u003cRelationship element_id=\\u00275:bbc0cf5b-04b8-41ed-ae87-9d2c891c4da3:1267763295104794624\\u0027 nodes=(\\u003cNode element_id=\\u00274:bbc0cf5b-04b8-41ed-ae87-9d2c891c4da3:0\\u0027 labels=frozenset({\\u0027Class\\u0027}) properties={}\\u003e, \\u003cNode element_id=\\u00274:bbc0cf5b-04b8-41ed-ae87-9d2c891c4da3:52\\u0027 labels=frozenset({\\u0027ClassNode\\u0027}) properties={\\u0027name\\u0027: \\u0027fence\\u0027}\\u003e) type=\\u0027HAS_CLASS\\u0027 properties={}\\u003e\", \"to\": \"4:bbc0cf5b-04b8-41ed-ae87-9d2c891c4da3:52\"}, {\"from\": \"4:bbc0cf5b-04b8-41ed-ae87-9d2c891c4da3:0\", \"label\": \"HAS_CLASS\", \"title\": \"\\u003cRelationship element_id=\\u00275:bbc0cf5b-04b8-41ed-ae87-9d2c891c4da3:1270015094918479872\\u0027 nodes=(\\u003cNode element_id=\\u00274:bbc0cf5b-04b8-41ed-ae87-9d2c891c4da3:0\\u0027 labels=frozenset({\\u0027Class\\u0027}) properties={}\\u003e, \\u003cNode element_id=\\u00274:bbc0cf5b-04b8-41ed-ae87-9d2c891c4da3:53\\u0027 labels=frozenset({\\u0027ClassNode\\u0027}) properties={\\u0027name\\u0027: \\u0027food\\u0027}\\u003e) type=\\u0027HAS_CLASS\\u0027 properties={}\\u003e\", \"to\": \"4:bbc0cf5b-04b8-41ed-ae87-9d2c891c4da3:53\"}, {\"from\": \"4:bbc0cf5b-04b8-41ed-ae87-9d2c891c4da3:0\", \"label\": \"HAS_CLASS\", \"title\": \"\\u003cRelationship element_id=\\u00275:bbc0cf5b-04b8-41ed-ae87-9d2c891c4da3:1272266894732165120\\u0027 nodes=(\\u003cNode element_id=\\u00274:bbc0cf5b-04b8-41ed-ae87-9d2c891c4da3:0\\u0027 labels=frozenset({\\u0027Class\\u0027}) properties={}\\u003e, \\u003cNode element_id=\\u00274:bbc0cf5b-04b8-41ed-ae87-9d2c891c4da3:54\\u0027 labels=frozenset({\\u0027ClassNode\\u0027}) properties={\\u0027name\\u0027: \\u0027furniture\\u0027}\\u003e) type=\\u0027HAS_CLASS\\u0027 properties={}\\u003e\", \"to\": \"4:bbc0cf5b-04b8-41ed-ae87-9d2c891c4da3:54\"}, {\"from\": \"4:bbc0cf5b-04b8-41ed-ae87-9d2c891c4da3:0\", \"label\": \"HAS_CLASS\", \"title\": \"\\u003cRelationship element_id=\\u00275:bbc0cf5b-04b8-41ed-ae87-9d2c891c4da3:1274518694545850368\\u0027 nodes=(\\u003cNode element_id=\\u00274:bbc0cf5b-04b8-41ed-ae87-9d2c891c4da3:0\\u0027 labels=frozenset({\\u0027Class\\u0027}) properties={}\\u003e, \\u003cNode element_id=\\u00274:bbc0cf5b-04b8-41ed-ae87-9d2c891c4da3:55\\u0027 labels=frozenset({\\u0027ClassNode\\u0027}) properties={\\u0027name\\u0027: \\u0027hat\\u0027}\\u003e) type=\\u0027HAS_CLASS\\u0027 properties={}\\u003e\", \"to\": \"4:bbc0cf5b-04b8-41ed-ae87-9d2c891c4da3:55\"}, {\"from\": \"4:bbc0cf5b-04b8-41ed-ae87-9d2c891c4da3:0\", \"label\": \"HAS_CLASS\", \"title\": \"\\u003cRelationship element_id=\\u00275:bbc0cf5b-04b8-41ed-ae87-9d2c891c4da3:1276770494359535616\\u0027 nodes=(\\u003cNode element_id=\\u00274:bbc0cf5b-04b8-41ed-ae87-9d2c891c4da3:0\\u0027 labels=frozenset({\\u0027Class\\u0027}) properties={}\\u003e, \\u003cNode element_id=\\u00274:bbc0cf5b-04b8-41ed-ae87-9d2c891c4da3:56\\u0027 labels=frozenset({\\u0027ClassNode\\u0027}) properties={\\u0027name\\u0027: \\u0027instrument\\u0027}\\u003e) type=\\u0027HAS_CLASS\\u0027 properties={}\\u003e\", \"to\": \"4:bbc0cf5b-04b8-41ed-ae87-9d2c891c4da3:56\"}, {\"from\": \"4:bbc0cf5b-04b8-41ed-ae87-9d2c891c4da3:0\", \"label\": \"HAS_CLASS\", \"title\": \"\\u003cRelationship element_id=\\u00275:bbc0cf5b-04b8-41ed-ae87-9d2c891c4da3:1279022294173220864\\u0027 nodes=(\\u003cNode element_id=\\u00274:bbc0cf5b-04b8-41ed-ae87-9d2c891c4da3:0\\u0027 labels=frozenset({\\u0027Class\\u0027}) properties={}\\u003e, \\u003cNode element_id=\\u00274:bbc0cf5b-04b8-41ed-ae87-9d2c891c4da3:57\\u0027 labels=frozenset({\\u0027ClassNode\\u0027}) properties={\\u0027name\\u0027: \\u0027lab equipment\\u0027}\\u003e) type=\\u0027HAS_CLASS\\u0027 properties={}\\u003e\", \"to\": \"4:bbc0cf5b-04b8-41ed-ae87-9d2c891c4da3:57\"}, {\"from\": \"4:bbc0cf5b-04b8-41ed-ae87-9d2c891c4da3:0\", \"label\": \"HAS_CLASS\", \"title\": \"\\u003cRelationship element_id=\\u00275:bbc0cf5b-04b8-41ed-ae87-9d2c891c4da3:1281274093986906112\\u0027 nodes=(\\u003cNode element_id=\\u00274:bbc0cf5b-04b8-41ed-ae87-9d2c891c4da3:0\\u0027 labels=frozenset({\\u0027Class\\u0027}) properties={}\\u003e, \\u003cNode element_id=\\u00274:bbc0cf5b-04b8-41ed-ae87-9d2c891c4da3:58\\u0027 labels=frozenset({\\u0027ClassNode\\u0027}) properties={\\u0027name\\u0027: \\u0027other\\u0027}\\u003e) type=\\u0027HAS_CLASS\\u0027 properties={}\\u003e\", \"to\": \"4:bbc0cf5b-04b8-41ed-ae87-9d2c891c4da3:58\"}, {\"from\": \"4:bbc0cf5b-04b8-41ed-ae87-9d2c891c4da3:0\", \"label\": \"HAS_CLASS\", \"title\": \"\\u003cRelationship element_id=\\u00275:bbc0cf5b-04b8-41ed-ae87-9d2c891c4da3:1283525893800591360\\u0027 nodes=(\\u003cNode element_id=\\u00274:bbc0cf5b-04b8-41ed-ae87-9d2c891c4da3:0\\u0027 labels=frozenset({\\u0027Class\\u0027}) properties={}\\u003e, \\u003cNode element_id=\\u00274:bbc0cf5b-04b8-41ed-ae87-9d2c891c4da3:59\\u0027 labels=frozenset({\\u0027ClassNode\\u0027}) properties={\\u0027name\\u0027: \\u0027outdoor scene\\u0027}\\u003e) type=\\u0027HAS_CLASS\\u0027 properties={}\\u003e\", \"to\": \"4:bbc0cf5b-04b8-41ed-ae87-9d2c891c4da3:59\"}, {\"from\": \"4:bbc0cf5b-04b8-41ed-ae87-9d2c891c4da3:0\", \"label\": \"HAS_CLASS\", \"title\": \"\\u003cRelationship element_id=\\u00275:bbc0cf5b-04b8-41ed-ae87-9d2c891c4da3:1285777693614276608\\u0027 nodes=(\\u003cNode element_id=\\u00274:bbc0cf5b-04b8-41ed-ae87-9d2c891c4da3:0\\u0027 labels=frozenset({\\u0027Class\\u0027}) properties={}\\u003e, \\u003cNode element_id=\\u00274:bbc0cf5b-04b8-41ed-ae87-9d2c891c4da3:60\\u0027 labels=frozenset({\\u0027ClassNode\\u0027}) properties={\\u0027name\\u0027: \\u0027paper\\u0027}\\u003e) type=\\u0027HAS_CLASS\\u0027 properties={}\\u003e\", \"to\": \"4:bbc0cf5b-04b8-41ed-ae87-9d2c891c4da3:60\"}, {\"from\": \"4:bbc0cf5b-04b8-41ed-ae87-9d2c891c4da3:0\", \"label\": \"HAS_CLASS\", \"title\": \"\\u003cRelationship element_id=\\u00275:bbc0cf5b-04b8-41ed-ae87-9d2c891c4da3:1288029493427961856\\u0027 nodes=(\\u003cNode element_id=\\u00274:bbc0cf5b-04b8-41ed-ae87-9d2c891c4da3:0\\u0027 labels=frozenset({\\u0027Class\\u0027}) properties={}\\u003e, \\u003cNode element_id=\\u00274:bbc0cf5b-04b8-41ed-ae87-9d2c891c4da3:61\\u0027 labels=frozenset({\\u0027ClassNode\\u0027}) properties={\\u0027name\\u0027: \\u0027sports equipment\\u0027}\\u003e) type=\\u0027HAS_CLASS\\u0027 properties={}\\u003e\", \"to\": \"4:bbc0cf5b-04b8-41ed-ae87-9d2c891c4da3:61\"}, {\"from\": \"4:bbc0cf5b-04b8-41ed-ae87-9d2c891c4da3:0\", \"label\": \"HAS_CLASS\", \"title\": \"\\u003cRelationship element_id=\\u00275:bbc0cf5b-04b8-41ed-ae87-9d2c891c4da3:1290281293241647104\\u0027 nodes=(\\u003cNode element_id=\\u00274:bbc0cf5b-04b8-41ed-ae87-9d2c891c4da3:0\\u0027 labels=frozenset({\\u0027Class\\u0027}) properties={}\\u003e, \\u003cNode element_id=\\u00274:bbc0cf5b-04b8-41ed-ae87-9d2c891c4da3:62\\u0027 labels=frozenset({\\u0027ClassNode\\u0027}) properties={\\u0027name\\u0027: \\u0027technology\\u0027}\\u003e) type=\\u0027HAS_CLASS\\u0027 properties={}\\u003e\", \"to\": \"4:bbc0cf5b-04b8-41ed-ae87-9d2c891c4da3:62\"}, {\"from\": \"4:bbc0cf5b-04b8-41ed-ae87-9d2c891c4da3:0\", \"label\": \"HAS_CLASS\", \"title\": \"\\u003cRelationship element_id=\\u00275:bbc0cf5b-04b8-41ed-ae87-9d2c891c4da3:1292533093055332352\\u0027 nodes=(\\u003cNode element_id=\\u00274:bbc0cf5b-04b8-41ed-ae87-9d2c891c4da3:0\\u0027 labels=frozenset({\\u0027Class\\u0027}) properties={}\\u003e, \\u003cNode element_id=\\u00274:bbc0cf5b-04b8-41ed-ae87-9d2c891c4da3:63\\u0027 labels=frozenset({\\u0027ClassNode\\u0027}) properties={\\u0027name\\u0027: \\u0027tool\\u0027}\\u003e) type=\\u0027HAS_CLASS\\u0027 properties={}\\u003e\", \"to\": \"4:bbc0cf5b-04b8-41ed-ae87-9d2c891c4da3:63\"}, {\"from\": \"4:bbc0cf5b-04b8-41ed-ae87-9d2c891c4da3:0\", \"label\": \"HAS_CLASS\", \"title\": \"\\u003cRelationship element_id=\\u00275:bbc0cf5b-04b8-41ed-ae87-9d2c891c4da3:1294784892869017600\\u0027 nodes=(\\u003cNode element_id=\\u00274:bbc0cf5b-04b8-41ed-ae87-9d2c891c4da3:0\\u0027 labels=frozenset({\\u0027Class\\u0027}) properties={}\\u003e, \\u003cNode element_id=\\u00274:bbc0cf5b-04b8-41ed-ae87-9d2c891c4da3:64\\u0027 labels=frozenset({\\u0027ClassNode\\u0027}) properties={\\u0027name\\u0027: \\u0027toy\\u0027}\\u003e) type=\\u0027HAS_CLASS\\u0027 properties={}\\u003e\", \"to\": \"4:bbc0cf5b-04b8-41ed-ae87-9d2c891c4da3:64\"}, {\"from\": \"4:bbc0cf5b-04b8-41ed-ae87-9d2c891c4da3:0\", \"label\": \"HAS_CLASS\", \"title\": \"\\u003cRelationship element_id=\\u00275:bbc0cf5b-04b8-41ed-ae87-9d2c891c4da3:1297036692682702848\\u0027 nodes=(\\u003cNode element_id=\\u00274:bbc0cf5b-04b8-41ed-ae87-9d2c891c4da3:0\\u0027 labels=frozenset({\\u0027Class\\u0027}) properties={}\\u003e, \\u003cNode element_id=\\u00274:bbc0cf5b-04b8-41ed-ae87-9d2c891c4da3:65\\u0027 labels=frozenset({\\u0027ClassNode\\u0027}) properties={\\u0027name\\u0027: \\u0027train\\u0027}\\u003e) type=\\u0027HAS_CLASS\\u0027 properties={}\\u003e\", \"to\": \"4:bbc0cf5b-04b8-41ed-ae87-9d2c891c4da3:65\"}, {\"from\": \"4:bbc0cf5b-04b8-41ed-ae87-9d2c891c4da3:0\", \"label\": \"HAS_CLASS\", \"title\": \"\\u003cRelationship element_id=\\u00275:bbc0cf5b-04b8-41ed-ae87-9d2c891c4da3:1299288492496388096\\u0027 nodes=(\\u003cNode element_id=\\u00274:bbc0cf5b-04b8-41ed-ae87-9d2c891c4da3:0\\u0027 labels=frozenset({\\u0027Class\\u0027}) properties={}\\u003e, \\u003cNode element_id=\\u00274:bbc0cf5b-04b8-41ed-ae87-9d2c891c4da3:66\\u0027 labels=frozenset({\\u0027ClassNode\\u0027}) properties={\\u0027name\\u0027: \\u0027vehicle\\u0027}\\u003e) type=\\u0027HAS_CLASS\\u0027 properties={}\\u003e\", \"to\": \"4:bbc0cf5b-04b8-41ed-ae87-9d2c891c4da3:66\"}, {\"from\": \"4:bbc0cf5b-04b8-41ed-ae87-9d2c891c4da3:0\", \"label\": \"HAS_CLASS\", \"title\": \"\\u003cRelationship element_id=\\u00275:bbc0cf5b-04b8-41ed-ae87-9d2c891c4da3:1301540292310073344\\u0027 nodes=(\\u003cNode element_id=\\u00274:bbc0cf5b-04b8-41ed-ae87-9d2c891c4da3:0\\u0027 labels=frozenset({\\u0027Class\\u0027}) properties={}\\u003e, \\u003cNode element_id=\\u00274:bbc0cf5b-04b8-41ed-ae87-9d2c891c4da3:67\\u0027 labels=frozenset({\\u0027ClassNode\\u0027}) properties={\\u0027name\\u0027: \\u0027weapon\\u0027}\\u003e) type=\\u0027HAS_CLASS\\u0027 properties={}\\u003e\", \"to\": \"4:bbc0cf5b-04b8-41ed-ae87-9d2c891c4da3:67\"}, {\"from\": \"4:bbc0cf5b-04b8-41ed-ae87-9d2c891c4da3:0\", \"label\": \"HAS_CLASS\", \"title\": \"\\u003cRelationship element_id=\\u00275:bbc0cf5b-04b8-41ed-ae87-9d2c891c4da3:6917529027641081926\\u0027 nodes=(\\u003cNode element_id=\\u00274:bbc0cf5b-04b8-41ed-ae87-9d2c891c4da3:0\\u0027 labels=frozenset({\\u0027Class\\u0027}) properties={}\\u003e, \\u003cNode element_id=\\u00274:bbc0cf5b-04b8-41ed-ae87-9d2c891c4da3:70\\u0027 labels=frozenset({\\u0027ClassNode\\u0027}) properties={\\u0027name\\u0027: \\u0027croodile\\u0027}\\u003e) type=\\u0027HAS_CLASS\\u0027 properties={}\\u003e\", \"to\": \"4:bbc0cf5b-04b8-41ed-ae87-9d2c891c4da3:70\"}, {\"from\": \"4:bbc0cf5b-04b8-41ed-ae87-9d2c891c4da3:48\", \"label\": \"HAS_CATEGORY\", \"title\": \"\\u003cRelationship element_id=\\u00275:bbc0cf5b-04b8-41ed-ae87-9d2c891c4da3:6917530127152709700\\u0027 nodes=(\\u003cNode element_id=\\u00274:bbc0cf5b-04b8-41ed-ae87-9d2c891c4da3:48\\u0027 labels=frozenset({\\u0027ClassNode\\u0027}) properties={\\u0027name\\u0027: \\u0027container\\u0027}\\u003e, \\u003cNode element_id=\\u00274:bbc0cf5b-04b8-41ed-ae87-9d2c891c4da3:68\\u0027 labels=frozenset({\\u0027CategoryNode\\u0027}) properties={\\u0027name\\u0027: \\u0027luggage\\u0027}\\u003e) type=\\u0027HAS_CATEGORY\\u0027 properties={}\\u003e\", \"to\": \"4:bbc0cf5b-04b8-41ed-ae87-9d2c891c4da3:68\"}, {\"from\": \"4:bbc0cf5b-04b8-41ed-ae87-9d2c891c4da3:68\", \"label\": \"HAS_ENTRY\", \"title\": \"\\u003cRelationship element_id=\\u00275:bbc0cf5b-04b8-41ed-ae87-9d2c891c4da3:6917531226664337477\\u0027 nodes=(\\u003cNode element_id=\\u00274:bbc0cf5b-04b8-41ed-ae87-9d2c891c4da3:68\\u0027 labels=frozenset({\\u0027CategoryNode\\u0027}) properties={\\u0027name\\u0027: \\u0027luggage\\u0027}\\u003e, \\u003cNode element_id=\\u00274:bbc0cf5b-04b8-41ed-ae87-9d2c891c4da3:69\\u0027 labels=frozenset({\\u0027Entry\\u0027}) properties={\\u0027uid\\u0027: \\u002707e14896-71b7-4712-8cd5-4ff77c982b5e\\u0027, \\u0027image\\u0027: \\u0027/images/hammer_003.jpg\\u0027, \\u0027metadata\\u0027: \\u0027{\\\"metadata\\\": \\\"{\\\\\\\\\\\"color\\\\\\\\\\\": \\\\\\\\\\\"black\\\\\\\\\\\", \\\\\\\\\\\"type\\\\\\\\\\\": \\\\\\\\\\\"suitcase\\\\\\\\\\\", \\\\\\\\\\\"text\\\\\\\\\\\": \\\\\\\\\\\"Lost Luggage Report: - Item: Black Suitcase - Last Seen Location: Security checkpoint, Terminal 4, JFK Airport - Last Seen Time: 3:30 PM\\\\\\\\\\\"}\\\"}\\u0027, \\u0027embedding\\u0027: []}\\u003e) type=\\u0027HAS_ENTRY\\u0027 properties={}\\u003e\", \"to\": \"4:bbc0cf5b-04b8-41ed-ae87-9d2c891c4da3:69\"}, {\"from\": \"4:bbc0cf5b-04b8-41ed-ae87-9d2c891c4da3:68\", \"label\": \"HAS_ENTRY\", \"title\": \"\\u003cRelationship element_id=\\u00275:bbc0cf5b-04b8-41ed-ae87-9d2c891c4da3:6917531226664337481\\u0027 nodes=(\\u003cNode element_id=\\u00274:bbc0cf5b-04b8-41ed-ae87-9d2c891c4da3:68\\u0027 labels=frozenset({\\u0027CategoryNode\\u0027}) properties={\\u0027name\\u0027: \\u0027luggage\\u0027}\\u003e, \\u003cNode element_id=\\u00274:bbc0cf5b-04b8-41ed-ae87-9d2c891c4da3:73\\u0027 labels=frozenset({\\u0027Entry\\u0027}) properties={\\u0027metadata\\u0027: \\u0027Lost Luggage Report: - Item: Black Suitcase - Last Seen Location: Security checkpoint, Terminal 4, JFK Airport - Last Seen Time: 3:30 PM\\u0027}\\u003e) type=\\u0027HAS_ENTRY\\u0027 properties={}\\u003e\", \"to\": \"4:bbc0cf5b-04b8-41ed-ae87-9d2c891c4da3:73\"}, {\"from\": \"4:bbc0cf5b-04b8-41ed-ae87-9d2c891c4da3:68\", \"label\": \"HAS_ENTRY\", \"title\": \"\\u003cRelationship element_id=\\u00275:bbc0cf5b-04b8-41ed-ae87-9d2c891c4da3:6917531226664337486\\u0027 nodes=(\\u003cNode element_id=\\u00274:bbc0cf5b-04b8-41ed-ae87-9d2c891c4da3:68\\u0027 labels=frozenset({\\u0027CategoryNode\\u0027}) properties={\\u0027name\\u0027: \\u0027luggage\\u0027}\\u003e, \\u003cNode element_id=\\u00274:bbc0cf5b-04b8-41ed-ae87-9d2c891c4da3:78\\u0027 labels=frozenset({\\u0027Entry\\u0027}) properties={\\u0027metadata\\u0027: \\u0027A black suitcase was lost at JFK Airport. Last seen at the security checkpoint in Terminal 4 at 3:30 PM\\u0027}\\u003e) type=\\u0027HAS_ENTRY\\u0027 properties={}\\u003e\", \"to\": \"4:bbc0cf5b-04b8-41ed-ae87-9d2c891c4da3:78\"}, {\"from\": \"4:bbc0cf5b-04b8-41ed-ae87-9d2c891c4da3:68\", \"label\": \"HAS_ENTRY\", \"title\": \"\\u003cRelationship element_id=\\u00275:bbc0cf5b-04b8-41ed-ae87-9d2c891c4da3:6917531226664337491\\u0027 nodes=(\\u003cNode element_id=\\u00274:bbc0cf5b-04b8-41ed-ae87-9d2c891c4da3:68\\u0027 labels=frozenset({\\u0027CategoryNode\\u0027}) properties={\\u0027name\\u0027: \\u0027luggage\\u0027}\\u003e, \\u003cNode element_id=\\u00274:bbc0cf5b-04b8-41ed-ae87-9d2c891c4da3:83\\u0027 labels=frozenset({\\u0027Entry\\u0027}) properties={\\u0027metadata\\u0027: \\u0027Incident Report: Lost Suitcase at JFK Airport John Doe, a traveler, reported losing his black Samsonite suitcase at JFK Airport on February 20th at 3:45 PM. He last physically saw the suitcase at the security checkpoint in Terminal 4 at 3:30 PM before proceeding towards Gate B22 for his flight to London. The suitcase was recorded on CCTV footage at 3:35 PM near the duty-free store, and at 3:40 PM near a coffee shop in Terminal 4. At 3:50 PM, security footage showed an unknown individual picking up a suitcase near the coffee shop and walking towards the exit. The airport authorities and security team are currently investigating the case, reviewing CCTV footage, and checking passenger logs to determine whether it was misplaced, stolen, or mistakenly taken by another passenger.\\u0027}\\u003e) type=\\u0027HAS_ENTRY\\u0027 properties={}\\u003e\", \"to\": \"4:bbc0cf5b-04b8-41ed-ae87-9d2c891c4da3:83\"}, {\"from\": \"4:bbc0cf5b-04b8-41ed-ae87-9d2c891c4da3:68\", \"label\": \"HAS_ENTRY\", \"title\": \"\\u003cRelationship element_id=\\u00275:bbc0cf5b-04b8-41ed-ae87-9d2c891c4da3:6917531226664337495\\u0027 nodes=(\\u003cNode element_id=\\u00274:bbc0cf5b-04b8-41ed-ae87-9d2c891c4da3:68\\u0027 labels=frozenset({\\u0027CategoryNode\\u0027}) properties={\\u0027name\\u0027: \\u0027luggage\\u0027}\\u003e, \\u003cNode element_id=\\u00274:bbc0cf5b-04b8-41ed-ae87-9d2c891c4da3:87\\u0027 labels=frozenset({\\u0027Entry\\u0027}) properties={\\u0027metadata\\u0027: \\u0027Lost Luggage Report:- Item: Black Suitcase- Last Seen Location: Security checkpoint, Terminal 4, JFK Airport- Last Seen Time: 3:30 PM\\u0027}\\u003e) type=\\u0027HAS_ENTRY\\u0027 properties={}\\u003e\", \"to\": \"4:bbc0cf5b-04b8-41ed-ae87-9d2c891c4da3:87\"}, {\"from\": \"4:bbc0cf5b-04b8-41ed-ae87-9d2c891c4da3:68\", \"label\": \"HAS_ENTRY\", \"title\": \"\\u003cRelationship element_id=\\u00275:bbc0cf5b-04b8-41ed-ae87-9d2c891c4da3:6917531226664337500\\u0027 nodes=(\\u003cNode element_id=\\u00274:bbc0cf5b-04b8-41ed-ae87-9d2c891c4da3:68\\u0027 labels=frozenset({\\u0027CategoryNode\\u0027}) properties={\\u0027name\\u0027: \\u0027luggage\\u0027}\\u003e, \\u003cNode element_id=\\u00274:bbc0cf5b-04b8-41ed-ae87-9d2c891c4da3:92\\u0027 labels=frozenset({\\u0027Entry\\u0027}) properties={\\u0027metadata\\u0027: \\u0027A black suitcase was lost at JFK Airport. Last seen at the security checkpoint in Terminal 4 at 3:30 PM\\u0027}\\u003e) type=\\u0027HAS_ENTRY\\u0027 properties={}\\u003e\", \"to\": \"4:bbc0cf5b-04b8-41ed-ae87-9d2c891c4da3:92\"}, {\"from\": \"4:bbc0cf5b-04b8-41ed-ae87-9d2c891c4da3:70\", \"label\": \"HAS_CATEGORY\", \"title\": \"\\u003cRelationship element_id=\\u00275:bbc0cf5b-04b8-41ed-ae87-9d2c891c4da3:6917530127152709703\\u0027 nodes=(\\u003cNode element_id=\\u00274:bbc0cf5b-04b8-41ed-ae87-9d2c891c4da3:70\\u0027 labels=frozenset({\\u0027ClassNode\\u0027}) properties={\\u0027name\\u0027: \\u0027croodile\\u0027}\\u003e, \\u003cNode element_id=\\u00274:bbc0cf5b-04b8-41ed-ae87-9d2c891c4da3:71\\u0027 labels=frozenset({\\u0027CategoryNode\\u0027}) properties={\\u0027name\\u0027: \\u0027america\\u0027}\\u003e) type=\\u0027HAS_CATEGORY\\u0027 properties={}\\u003e\", \"to\": \"4:bbc0cf5b-04b8-41ed-ae87-9d2c891c4da3:71\"}, {\"from\": \"4:bbc0cf5b-04b8-41ed-ae87-9d2c891c4da3:71\", \"label\": \"HAS_ENTRY\", \"title\": \"\\u003cRelationship element_id=\\u00275:bbc0cf5b-04b8-41ed-ae87-9d2c891c4da3:6917531226664337480\\u0027 nodes=(\\u003cNode element_id=\\u00274:bbc0cf5b-04b8-41ed-ae87-9d2c891c4da3:71\\u0027 labels=frozenset({\\u0027CategoryNode\\u0027}) properties={\\u0027name\\u0027: \\u0027america\\u0027}\\u003e, \\u003cNode element_id=\\u00274:bbc0cf5b-04b8-41ed-ae87-9d2c891c4da3:72\\u0027 labels=frozenset({\\u0027Entry\\u0027}) properties={}\\u003e) type=\\u0027HAS_ENTRY\\u0027 properties={}\\u003e\", \"to\": \"4:bbc0cf5b-04b8-41ed-ae87-9d2c891c4da3:72\"}, {\"from\": \"4:bbc0cf5b-04b8-41ed-ae87-9d2c891c4da3:73\", \"label\": \"HAS_PROPERTY\", \"title\": \"\\u003cRelationship element_id=\\u00275:bbc0cf5b-04b8-41ed-ae87-9d2c891c4da3:6917532326175965258\\u0027 nodes=(\\u003cNode element_id=\\u00274:bbc0cf5b-04b8-41ed-ae87-9d2c891c4da3:73\\u0027 labels=frozenset({\\u0027Entry\\u0027}) properties={\\u0027metadata\\u0027: \\u0027Lost Luggage Report: - Item: Black Suitcase - Last Seen Location: Security checkpoint, Terminal 4, JFK Airport - Last Seen Time: 3:30 PM\\u0027}\\u003e, \\u003cNode element_id=\\u00274:bbc0cf5b-04b8-41ed-ae87-9d2c891c4da3:74\\u0027 labels=frozenset({\\u0027Property\\u0027}) properties={\\u0027id\\u0027: \\u0027color\\u0027, \\u0027type\\u0027: \\u0027color\\u0027, \\u0027value\\u0027: \\u0027black\\u0027}\\u003e) type=\\u0027HAS_PROPERTY\\u0027 properties={}\\u003e\", \"to\": \"4:bbc0cf5b-04b8-41ed-ae87-9d2c891c4da3:74\"}, {\"from\": \"4:bbc0cf5b-04b8-41ed-ae87-9d2c891c4da3:73\", \"label\": \"HAS_PROPERTY\", \"title\": \"\\u003cRelationship element_id=\\u00275:bbc0cf5b-04b8-41ed-ae87-9d2c891c4da3:6917532326175965259\\u0027 nodes=(\\u003cNode element_id=\\u00274:bbc0cf5b-04b8-41ed-ae87-9d2c891c4da3:73\\u0027 labels=frozenset({\\u0027Entry\\u0027}) properties={\\u0027metadata\\u0027: \\u0027Lost Luggage Report: - Item: Black Suitcase - Last Seen Location: Security checkpoint, Terminal 4, JFK Airport - Last Seen Time: 3:30 PM\\u0027}\\u003e, \\u003cNode element_id=\\u00274:bbc0cf5b-04b8-41ed-ae87-9d2c891c4da3:75\\u0027 labels=frozenset({\\u0027Property\\u0027}) properties={\\u0027id\\u0027: \\u0027shape\\u0027, \\u0027type\\u0027: \\u0027shape\\u0027}\\u003e) type=\\u0027HAS_PROPERTY\\u0027 properties={}\\u003e\", \"to\": \"4:bbc0cf5b-04b8-41ed-ae87-9d2c891c4da3:75\"}, {\"from\": \"4:bbc0cf5b-04b8-41ed-ae87-9d2c891c4da3:73\", \"label\": \"HAS_PROPERTY\", \"title\": \"\\u003cRelationship element_id=\\u00275:bbc0cf5b-04b8-41ed-ae87-9d2c891c4da3:6917532326175965260\\u0027 nodes=(\\u003cNode element_id=\\u00274:bbc0cf5b-04b8-41ed-ae87-9d2c891c4da3:73\\u0027 labels=frozenset({\\u0027Entry\\u0027}) properties={\\u0027metadata\\u0027: \\u0027Lost Luggage Report: - Item: Black Suitcase - Last Seen Location: Security checkpoint, Terminal 4, JFK Airport - Last Seen Time: 3:30 PM\\u0027}\\u003e, \\u003cNode element_id=\\u00274:bbc0cf5b-04b8-41ed-ae87-9d2c891c4da3:76\\u0027 labels=frozenset({\\u0027Property\\u0027}) properties={\\u0027id\\u0027: \\u0027size\\u0027, \\u0027type\\u0027: \\u0027size\\u0027}\\u003e) type=\\u0027HAS_PROPERTY\\u0027 properties={}\\u003e\", \"to\": \"4:bbc0cf5b-04b8-41ed-ae87-9d2c891c4da3:76\"}, {\"from\": \"4:bbc0cf5b-04b8-41ed-ae87-9d2c891c4da3:73\", \"label\": \"HAS_PROPERTY\", \"title\": \"\\u003cRelationship element_id=\\u00275:bbc0cf5b-04b8-41ed-ae87-9d2c891c4da3:6917532326175965261\\u0027 nodes=(\\u003cNode element_id=\\u00274:bbc0cf5b-04b8-41ed-ae87-9d2c891c4da3:73\\u0027 labels=frozenset({\\u0027Entry\\u0027}) properties={\\u0027metadata\\u0027: \\u0027Lost Luggage Report: - Item: Black Suitcase - Last Seen Location: Security checkpoint, Terminal 4, JFK Airport - Last Seen Time: 3:30 PM\\u0027}\\u003e, \\u003cNode element_id=\\u00274:bbc0cf5b-04b8-41ed-ae87-9d2c891c4da3:77\\u0027 labels=frozenset({\\u0027Property\\u0027}) properties={\\u0027id\\u0027: \\u0027type\\u0027, \\u0027type\\u0027: \\u0027type\\u0027, \\u0027value\\u0027: \\u0027suitcase\\u0027}\\u003e) type=\\u0027HAS_PROPERTY\\u0027 properties={}\\u003e\", \"to\": \"4:bbc0cf5b-04b8-41ed-ae87-9d2c891c4da3:77\"}, {\"from\": \"4:bbc0cf5b-04b8-41ed-ae87-9d2c891c4da3:78\", \"label\": \"HAS_CLASS\", \"title\": \"\\u003cRelationship element_id=\\u00275:bbc0cf5b-04b8-41ed-ae87-9d2c891c4da3:6917529027641081937\\u0027 nodes=(\\u003cNode element_id=\\u00274:bbc0cf5b-04b8-41ed-ae87-9d2c891c4da3:78\\u0027 labels=frozenset({\\u0027Entry\\u0027}) properties={\\u0027metadata\\u0027: \\u0027A black suitcase was lost at JFK Airport. Last seen at the security checkpoint in Terminal 4 at 3:30 PM\\u0027}\\u003e, \\u003cNode element_id=\\u00274:bbc0cf5b-04b8-41ed-ae87-9d2c891c4da3:81\\u0027 labels=frozenset({\\u0027Class\\u0027}) properties={\\u0027id\\u0027: \\u0027class\\u0027, \\u0027type\\u0027: \\u0027class\\u0027, \\u0027value\\u0027: \\u0027container\\u0027}\\u003e) type=\\u0027HAS_CLASS\\u0027 properties={}\\u003e\", \"to\": \"4:bbc0cf5b-04b8-41ed-ae87-9d2c891c4da3:81\"}, {\"from\": \"4:bbc0cf5b-04b8-41ed-ae87-9d2c891c4da3:78\", \"label\": \"HAS_CATEGORY\", \"title\": \"\\u003cRelationship element_id=\\u00275:bbc0cf5b-04b8-41ed-ae87-9d2c891c4da3:6917530127152709712\\u0027 nodes=(\\u003cNode element_id=\\u00274:bbc0cf5b-04b8-41ed-ae87-9d2c891c4da3:78\\u0027 labels=frozenset({\\u0027Entry\\u0027}) properties={\\u0027metadata\\u0027: \\u0027A black suitcase was lost at JFK Airport. Last seen at the security checkpoint in Terminal 4 at 3:30 PM\\u0027}\\u003e, \\u003cNode element_id=\\u00274:bbc0cf5b-04b8-41ed-ae87-9d2c891c4da3:80\\u0027 labels=frozenset({\\u0027Category\\u0027}) properties={\\u0027id\\u0027: \\u0027category\\u0027, \\u0027type\\u0027: \\u0027category\\u0027, \\u0027value\\u0027: \\u0027luggage\\u0027}\\u003e) type=\\u0027HAS_CATEGORY\\u0027 properties={}\\u003e\", \"to\": \"4:bbc0cf5b-04b8-41ed-ae87-9d2c891c4da3:80\"}, {\"from\": \"4:bbc0cf5b-04b8-41ed-ae87-9d2c891c4da3:78\", \"label\": \"HAS_PROPERTY\", \"title\": \"\\u003cRelationship element_id=\\u00275:bbc0cf5b-04b8-41ed-ae87-9d2c891c4da3:6917532326175965266\\u0027 nodes=(\\u003cNode element_id=\\u00274:bbc0cf5b-04b8-41ed-ae87-9d2c891c4da3:78\\u0027 labels=frozenset({\\u0027Entry\\u0027}) properties={\\u0027metadata\\u0027: \\u0027A black suitcase was lost at JFK Airport. Last seen at the security checkpoint in Terminal 4 at 3:30 PM\\u0027}\\u003e, \\u003cNode element_id=\\u00274:bbc0cf5b-04b8-41ed-ae87-9d2c891c4da3:82\\u0027 labels=frozenset({\\u0027Property\\u0027}) properties={\\u0027id\\u0027: \\u0027color\\u0027, \\u0027type\\u0027: \\u0027color\\u0027, \\u0027value\\u0027: \\u0027black\\u0027}\\u003e) type=\\u0027HAS_PROPERTY\\u0027 properties={}\\u003e\", \"to\": \"4:bbc0cf5b-04b8-41ed-ae87-9d2c891c4da3:82\"}, {\"from\": \"4:bbc0cf5b-04b8-41ed-ae87-9d2c891c4da3:78\", \"label\": \"HAS_ITEM\", \"title\": \"\\u003cRelationship element_id=\\u00275:bbc0cf5b-04b8-41ed-ae87-9d2c891c4da3:6917533425687593039\\u0027 nodes=(\\u003cNode element_id=\\u00274:bbc0cf5b-04b8-41ed-ae87-9d2c891c4da3:78\\u0027 labels=frozenset({\\u0027Entry\\u0027}) properties={\\u0027metadata\\u0027: \\u0027A black suitcase was lost at JFK Airport. Last seen at the security checkpoint in Terminal 4 at 3:30 PM\\u0027}\\u003e, \\u003cNode element_id=\\u00274:bbc0cf5b-04b8-41ed-ae87-9d2c891c4da3:79\\u0027 labels=frozenset({\\u0027Item\\u0027}) properties={\\u0027id\\u0027: \\u0027item\\u0027, \\u0027type\\u0027: \\u0027item\\u0027, \\u0027value\\u0027: \\u0027black suitcase\\u0027}\\u003e) type=\\u0027HAS_ITEM\\u0027 properties={}\\u003e\", \"to\": \"4:bbc0cf5b-04b8-41ed-ae87-9d2c891c4da3:79\"}, {\"from\": \"4:bbc0cf5b-04b8-41ed-ae87-9d2c891c4da3:81\", \"label\": \"HAS_CLASS\", \"title\": \"\\u003cRelationship element_id=\\u00275:bbc0cf5b-04b8-41ed-ae87-9d2c891c4da3:1155173304420532305\\u0027 nodes=(\\u003cNode element_id=\\u00274:bbc0cf5b-04b8-41ed-ae87-9d2c891c4da3:81\\u0027 labels=frozenset({\\u0027Class\\u0027}) properties={\\u0027id\\u0027: \\u0027class\\u0027, \\u0027type\\u0027: \\u0027class\\u0027, \\u0027value\\u0027: \\u0027container\\u0027}\\u003e, \\u003cNode element_id=\\u00274:bbc0cf5b-04b8-41ed-ae87-9d2c891c4da3:48\\u0027 labels=frozenset({\\u0027ClassNode\\u0027}) properties={\\u0027name\\u0027: \\u0027container\\u0027}\\u003e) type=\\u0027HAS_CLASS\\u0027 properties={}\\u003e\", \"to\": \"4:bbc0cf5b-04b8-41ed-ae87-9d2c891c4da3:48\"}, {\"from\": \"4:bbc0cf5b-04b8-41ed-ae87-9d2c891c4da3:83\", \"label\": \"HAS_PROPERTY\", \"title\": \"\\u003cRelationship element_id=\\u00275:bbc0cf5b-04b8-41ed-ae87-9d2c891c4da3:6917532326175965268\\u0027 nodes=(\\u003cNode element_id=\\u00274:bbc0cf5b-04b8-41ed-ae87-9d2c891c4da3:83\\u0027 labels=frozenset({\\u0027Entry\\u0027}) properties={\\u0027metadata\\u0027: \\u0027Incident Report: Lost Suitcase at JFK Airport John Doe, a traveler, reported losing his black Samsonite suitcase at JFK Airport on February 20th at 3:45 PM. He last physically saw the suitcase at the security checkpoint in Terminal 4 at 3:30 PM before proceeding towards Gate B22 for his flight to London. The suitcase was recorded on CCTV footage at 3:35 PM near the duty-free store, and at 3:40 PM near a coffee shop in Terminal 4. At 3:50 PM, security footage showed an unknown individual picking up a suitcase near the coffee shop and walking towards the exit. The airport authorities and security team are currently investigating the case, reviewing CCTV footage, and checking passenger logs to determine whether it was misplaced, stolen, or mistakenly taken by another passenger.\\u0027}\\u003e, \\u003cNode element_id=\\u00274:bbc0cf5b-04b8-41ed-ae87-9d2c891c4da3:84\\u0027 labels=frozenset({\\u0027Property\\u0027}) properties={\\u0027id\\u0027: \\u0027color\\u0027, \\u0027type\\u0027: \\u0027color\\u0027, \\u0027value\\u0027: \\u0027black\\u0027}\\u003e) type=\\u0027HAS_PROPERTY\\u0027 properties={}\\u003e\", \"to\": \"4:bbc0cf5b-04b8-41ed-ae87-9d2c891c4da3:84\"}, {\"from\": \"4:bbc0cf5b-04b8-41ed-ae87-9d2c891c4da3:83\", \"label\": \"HAS_PROPERTY\", \"title\": \"\\u003cRelationship element_id=\\u00275:bbc0cf5b-04b8-41ed-ae87-9d2c891c4da3:6917532326175965269\\u0027 nodes=(\\u003cNode element_id=\\u00274:bbc0cf5b-04b8-41ed-ae87-9d2c891c4da3:83\\u0027 labels=frozenset({\\u0027Entry\\u0027}) properties={\\u0027metadata\\u0027: \\u0027Incident Report: Lost Suitcase at JFK Airport John Doe, a traveler, reported losing his black Samsonite suitcase at JFK Airport on February 20th at 3:45 PM. He last physically saw the suitcase at the security checkpoint in Terminal 4 at 3:30 PM before proceeding towards Gate B22 for his flight to London. The suitcase was recorded on CCTV footage at 3:35 PM near the duty-free store, and at 3:40 PM near a coffee shop in Terminal 4. At 3:50 PM, security footage showed an unknown individual picking up a suitcase near the coffee shop and walking towards the exit. The airport authorities and security team are currently investigating the case, reviewing CCTV footage, and checking passenger logs to determine whether it was misplaced, stolen, or mistakenly taken by another passenger.\\u0027}\\u003e, \\u003cNode element_id=\\u00274:bbc0cf5b-04b8-41ed-ae87-9d2c891c4da3:85\\u0027 labels=frozenset({\\u0027Property\\u0027}) properties={\\u0027id\\u0027: \\u0027brand\\u0027, \\u0027type\\u0027: \\u0027brand\\u0027, \\u0027value\\u0027: \\u0027Samsonite\\u0027}\\u003e) type=\\u0027HAS_PROPERTY\\u0027 properties={}\\u003e\", \"to\": \"4:bbc0cf5b-04b8-41ed-ae87-9d2c891c4da3:85\"}, {\"from\": \"4:bbc0cf5b-04b8-41ed-ae87-9d2c891c4da3:83\", \"label\": \"HAS_PROPERTY\", \"title\": \"\\u003cRelationship element_id=\\u00275:bbc0cf5b-04b8-41ed-ae87-9d2c891c4da3:6917532326175965270\\u0027 nodes=(\\u003cNode element_id=\\u00274:bbc0cf5b-04b8-41ed-ae87-9d2c891c4da3:83\\u0027 labels=frozenset({\\u0027Entry\\u0027}) properties={\\u0027metadata\\u0027: \\u0027Incident Report: Lost Suitcase at JFK Airport John Doe, a traveler, reported losing his black Samsonite suitcase at JFK Airport on February 20th at 3:45 PM. He last physically saw the suitcase at the security checkpoint in Terminal 4 at 3:30 PM before proceeding towards Gate B22 for his flight to London. The suitcase was recorded on CCTV footage at 3:35 PM near the duty-free store, and at 3:40 PM near a coffee shop in Terminal 4. At 3:50 PM, security footage showed an unknown individual picking up a suitcase near the coffee shop and walking towards the exit. The airport authorities and security team are currently investigating the case, reviewing CCTV footage, and checking passenger logs to determine whether it was misplaced, stolen, or mistakenly taken by another passenger.\\u0027}\\u003e, \\u003cNode element_id=\\u00274:bbc0cf5b-04b8-41ed-ae87-9d2c891c4da3:86\\u0027 labels=frozenset({\\u0027Property\\u0027}) properties={\\u0027id\\u0027: \\u0027type\\u0027, \\u0027type\\u0027: \\u0027type\\u0027, \\u0027value\\u0027: \\u0027suitcase\\u0027}\\u003e) type=\\u0027HAS_PROPERTY\\u0027 properties={}\\u003e\", \"to\": \"4:bbc0cf5b-04b8-41ed-ae87-9d2c891c4da3:86\"}, {\"from\": \"4:bbc0cf5b-04b8-41ed-ae87-9d2c891c4da3:87\", \"label\": \"HAS_ATTRIBUTE\", \"title\": \"\\u003cRelationship element_id=\\u00275:bbc0cf5b-04b8-41ed-ae87-9d2c891c4da3:6917534525199220824\\u0027 nodes=(\\u003cNode element_id=\\u00274:bbc0cf5b-04b8-41ed-ae87-9d2c891c4da3:87\\u0027 labels=frozenset({\\u0027Entry\\u0027}) properties={\\u0027metadata\\u0027: \\u0027Lost Luggage Report:- Item: Black Suitcase- Last Seen Location: Security checkpoint, Terminal 4, JFK Airport- Last Seen Time: 3:30 PM\\u0027}\\u003e, \\u003cNode element_id=\\u00274:bbc0cf5b-04b8-41ed-ae87-9d2c891c4da3:88\\u0027 labels=frozenset({\\u0027color\\u0027}) properties={\\u0027id\\u0027: \\u0027color\\u0027, \\u0027type\\u0027: \\u0027color\\u0027, \\u0027value\\u0027: \\u0027black\\u0027}\\u003e) type=\\u0027HAS_ATTRIBUTE\\u0027 properties={}\\u003e\", \"to\": \"4:bbc0cf5b-04b8-41ed-ae87-9d2c891c4da3:88\"}, {\"from\": \"4:bbc0cf5b-04b8-41ed-ae87-9d2c891c4da3:87\", \"label\": \"HAS_ATTRIBUTE\", \"title\": \"\\u003cRelationship element_id=\\u00275:bbc0cf5b-04b8-41ed-ae87-9d2c891c4da3:6917534525199220825\\u0027 nodes=(\\u003cNode element_id=\\u00274:bbc0cf5b-04b8-41ed-ae87-9d2c891c4da3:87\\u0027 labels=frozenset({\\u0027Entry\\u0027}) properties={\\u0027metadata\\u0027: \\u0027Lost Luggage Report:- Item: Black Suitcase- Last Seen Location: Security checkpoint, Terminal 4, JFK Airport- Last Seen Time: 3:30 PM\\u0027}\\u003e, \\u003cNode element_id=\\u00274:bbc0cf5b-04b8-41ed-ae87-9d2c891c4da3:89\\u0027 labels=frozenset({\\u0027shape\\u0027}) properties={\\u0027id\\u0027: \\u0027shape\\u0027, \\u0027type\\u0027: \\u0027shape\\u0027, \\u0027value\\u0027: \\u0027suitcase\\u0027}\\u003e) type=\\u0027HAS_ATTRIBUTE\\u0027 properties={}\\u003e\", \"to\": \"4:bbc0cf5b-04b8-41ed-ae87-9d2c891c4da3:89\"}, {\"from\": \"4:bbc0cf5b-04b8-41ed-ae87-9d2c891c4da3:87\", \"label\": \"HAS_ATTRIBUTE\", \"title\": \"\\u003cRelationship element_id=\\u00275:bbc0cf5b-04b8-41ed-ae87-9d2c891c4da3:6917534525199220826\\u0027 nodes=(\\u003cNode element_id=\\u00274:bbc0cf5b-04b8-41ed-ae87-9d2c891c4da3:87\\u0027 labels=frozenset({\\u0027Entry\\u0027}) properties={\\u0027metadata\\u0027: \\u0027Lost Luggage Report:- Item: Black Suitcase- Last Seen Location: Security checkpoint, Terminal 4, JFK Airport- Last Seen Time: 3:30 PM\\u0027}\\u003e, \\u003cNode element_id=\\u00274:bbc0cf5b-04b8-41ed-ae87-9d2c891c4da3:90\\u0027 labels=frozenset({\\u0027Color\\u0027}) properties={\\u0027id\\u0027: \\u0027color\\u0027, \\u0027type\\u0027: \\u0027color\\u0027, \\u0027value\\u0027: \\u0027black\\u0027}\\u003e) type=\\u0027HAS_ATTRIBUTE\\u0027 properties={}\\u003e\", \"to\": \"4:bbc0cf5b-04b8-41ed-ae87-9d2c891c4da3:90\"}, {\"from\": \"4:bbc0cf5b-04b8-41ed-ae87-9d2c891c4da3:87\", \"label\": \"HAS_ATTRIBUTE\", \"title\": \"\\u003cRelationship element_id=\\u00275:bbc0cf5b-04b8-41ed-ae87-9d2c891c4da3:6917534525199220827\\u0027 nodes=(\\u003cNode element_id=\\u00274:bbc0cf5b-04b8-41ed-ae87-9d2c891c4da3:87\\u0027 labels=frozenset({\\u0027Entry\\u0027}) properties={\\u0027metadata\\u0027: \\u0027Lost Luggage Report:- Item: Black Suitcase- Last Seen Location: Security checkpoint, Terminal 4, JFK Airport- Last Seen Time: 3:30 PM\\u0027}\\u003e, \\u003cNode element_id=\\u00274:bbc0cf5b-04b8-41ed-ae87-9d2c891c4da3:91\\u0027 labels=frozenset({\\u0027Shape\\u0027}) properties={\\u0027id\\u0027: \\u0027shape\\u0027, \\u0027type\\u0027: \\u0027shape\\u0027, \\u0027value\\u0027: \\u0027suitcase\\u0027}\\u003e) type=\\u0027HAS_ATTRIBUTE\\u0027 properties={}\\u003e\", \"to\": \"4:bbc0cf5b-04b8-41ed-ae87-9d2c891c4da3:91\"}, {\"from\": \"4:bbc0cf5b-04b8-41ed-ae87-9d2c891c4da3:92\", \"label\": \"HAS_ATTRIBUTE\", \"title\": \"\\u003cRelationship element_id=\\u00275:bbc0cf5b-04b8-41ed-ae87-9d2c891c4da3:6917534525199220829\\u0027 nodes=(\\u003cNode element_id=\\u00274:bbc0cf5b-04b8-41ed-ae87-9d2c891c4da3:92\\u0027 labels=frozenset({\\u0027Entry\\u0027}) properties={\\u0027metadata\\u0027: \\u0027A black suitcase was lost at JFK Airport. Last seen at the security checkpoint in Terminal 4 at 3:30 PM\\u0027}\\u003e, \\u003cNode element_id=\\u00274:bbc0cf5b-04b8-41ed-ae87-9d2c891c4da3:93\\u0027 labels=frozenset({\\u0027Color\\u0027}) properties={\\u0027id\\u0027: \\u0027color\\u0027, \\u0027type\\u0027: \\u0027color\\u0027, \\u0027value\\u0027: \\u0027black\\u0027}\\u003e) type=\\u0027HAS_ATTRIBUTE\\u0027 properties={}\\u003e\", \"to\": \"4:bbc0cf5b-04b8-41ed-ae87-9d2c891c4da3:93\"}]);\n",
              "\n",
              "                  nodeColors = {};\n",
              "                  allNodes = nodes.get({ returnType: \"Object\" });\n",
              "                  for (nodeId in allNodes) {\n",
              "                    nodeColors[nodeId] = allNodes[nodeId].color;\n",
              "                  }\n",
              "                  allEdges = edges.get({ returnType: \"Object\" });\n",
              "                  // adding nodes and edges to the graph\n",
              "                  data = {nodes: nodes, edges: edges};\n",
              "\n",
              "                  var options = {\n",
              "    \"configure\": {\n",
              "        \"enabled\": false\n",
              "    },\n",
              "    \"edges\": {\n",
              "        \"color\": {\n",
              "            \"inherit\": true\n",
              "        },\n",
              "        \"smooth\": {\n",
              "            \"enabled\": true,\n",
              "            \"type\": \"dynamic\"\n",
              "        }\n",
              "    },\n",
              "    \"interaction\": {\n",
              "        \"dragNodes\": true,\n",
              "        \"hideEdgesOnDrag\": false,\n",
              "        \"hideNodesOnDrag\": false\n",
              "    },\n",
              "    \"physics\": {\n",
              "        \"enabled\": true,\n",
              "        \"stabilization\": {\n",
              "            \"enabled\": true,\n",
              "            \"fit\": true,\n",
              "            \"iterations\": 1000,\n",
              "            \"onlyDynamicEdges\": false,\n",
              "            \"updateInterval\": 50\n",
              "        }\n",
              "    }\n",
              "};\n",
              "\n",
              "                  \n",
              "\n",
              "\n",
              "                  \n",
              "\n",
              "                  network = new vis.Network(container, data, options);\n",
              "\n",
              "                  \n",
              "\n",
              "                  \n",
              "\n",
              "                  \n",
              "\n",
              "\n",
              "                  \n",
              "\n",
              "                  return network;\n",
              "\n",
              "              }\n",
              "              drawGraph();\n",
              "        </script>\n",
              "    </body>\n",
              "</html>"
            ]
          },
          "metadata": {}
        }
      ]
    },
    {
      "cell_type": "code",
      "source": [
        "# Visualize the graph\n",
        "def visualize_graph(graph):\n",
        "    plt.figure(figsize=(10, 6))\n",
        "    pos = nx.spring_layout(graph._graph)\n",
        "    labels = nx.get_edge_attributes(graph._graph, 'relation')\n",
        "    nx.draw(graph._graph, pos, with_labels=True, node_color='lightblue', edge_color='gray', node_size=3000, font_size=10, font_weight='bold')\n",
        "    nx.draw_networkx_edge_labels(graph._graph, pos, edge_labels=labels, font_size=8, font_color='red')\n",
        "    plt.title(\"Graph Representation of Lost Suitcase Case\")\n",
        "    plt.show()\n",
        "\n",
        "# Call visualization function\n",
        "visualize_graph(graph)"
      ],
      "metadata": {
        "colab": {
          "base_uri": "https://localhost:8080/",
          "height": 659
        },
        "id": "BdgrVfer2alj",
        "outputId": "762dad36-4fd9-403a-c66f-f6048836d151"
      },
      "execution_count": 30,
      "outputs": [
        {
          "output_type": "display_data",
          "data": {
            "text/plain": [
              "<Figure size 1000x600 with 1 Axes>"
            ],
            "image/png": "[encoded data removed]"
          },
          "metadata": {}
        }
      ]
    },
    {
      "cell_type": "code",
      "source": [
        "# Improved Input text - Lost suitcase scenario with clearer relationships\n",
        "doc_text = \"\"\"\n",
        "Incident Report: Lost Suitcase at JFK Airport\n",
        "\n",
        "John Doe, a traveler, reported losing his black Samsonite suitcase at JFK Airport on February 20th at 3:45 PM.\n",
        "He last physically saw the suitcase at the security checkpoint in Terminal 4 at 3:30 PM before proceeding towards Gate B22 for his flight to London.\n",
        "\n",
        "The suitcase was recorded on CCTV footage at 3:35 PM near the duty-free store, and at 3:40 PM near a coffee shop in Terminal 4.\n",
        "At 3:50 PM, security footage showed an unknown individual picking up a suitcase near the coffee shop and walking towards the exit.\n",
        "\n",
        "The airport authorities and security team are currently investigating the case, reviewing CCTV footage, and checking passenger logs to determine whether it was misplaced, stolen, or mistakenly taken by another passenger.\n",
        "\"\"\"\n",
        "\n",
        "documents = [Document(page_content=doc_text)]\n",
        "\n",
        "# Initialize the Graph Transformer\n",
        "llm_transformer = LLMGraphTransformer(llm=llm)\n",
        "graph_documents = llm_transformer.convert_to_graph_documents(documents)\n",
        "\n",
        "# Filter Graph Transformer\n",
        "llm_transformer_filtered = LLMGraphTransformer(\n",
        "    llm=llm,\n",
        "    allowed_nodes=[\"Person\", \"Item\", \"Location\", \"Event\"],\n",
        "    allowed_relationships=[\"LAST_SEEN_AT\", \"OWNED_BY\", \"INVESTIGATED_BY\", \"RECORDED_BY\", \"CONNECTED_TO\", \"CONTAINS\", \"PICKED_UP_BY\"],\n",
        ")\n",
        "graph_documents_filtered = llm_transformer_filtered.convert_to_graph_documents(documents)\n",
        "\n",
        "# Create NetworkX Graph\n",
        "graph = NetworkxEntityGraph()\n",
        "\n",
        "# Manually add nodes and edges\n",
        "for doc in graph_documents_filtered:\n",
        "    for node in doc.nodes:\n",
        "        graph._graph.add_node(node.id, type=node.type)\n",
        "    for edge in doc.relationships:\n",
        "        graph._graph.add_edge(edge.source.id, edge.target.id, relation=edge.type)\n",
        "\n",
        "# Debugging: Print extracted nodes and edges\n",
        "print(\"Extracted Nodes:\")\n",
        "print(graph._graph.nodes(data=True))\n",
        "print(\"\\nExtracted Edges:\")\n",
        "print(graph._graph.edges(data=True))\n",
        "\n",
        "# Initialize the GraphQAChain\n",
        "chain = GraphQAChain.from_llm(llm=llm, graph=graph, verbose=True)\n",
        "\n",
        "# Query the graph\n",
        "question = \"Where was John Doe's suitcase last seen?\"\n",
        "response = chain.run(question)\n",
        "print(\"\\nGraph Query Response:\", response)\n",
        "\n"
      ],
      "metadata": {
        "colab": {
          "base_uri": "https://localhost:8080/"
        },
        "id": "P9aNO1Kq2_rf",
        "outputId": "0355f36b-a6b7-4dac-f33d-90f6a81812cf"
      },
      "execution_count": 31,
      "outputs": [
        {
          "output_type": "stream",
          "name": "stdout",
          "text": [
            "Extracted Nodes:\n",
            "[('security checkpoint', {'type': 'Location'}), ('CCTV footage', {'type': 'Item'}), ('unknown individual', {'type': 'Person'}), ('duty-free store', {'type': 'Location'}), ('black Samsonite suitcase', {'type': 'Item'}), ('John Doe', {'type': 'Person'}), ('coffee shop', {'type': 'Location'}), ('suitcase', {'type': 'Item'}), ('passenger logs', {'type': 'Item'}), ('airport authorities', {'type': 'Person'})]\n",
            "\n",
            "Extracted Edges:\n",
            "[('unknown individual', 'suitcase', {'relation': 'PICKED_UP_BY'}), ('black Samsonite suitcase', 'security checkpoint', {'relation': 'LAST_SEEN_AT'}), ('black Samsonite suitcase', 'CCTV footage', {'relation': 'RECORDED_BY'}), ('black Samsonite suitcase', 'duty-free store', {'relation': 'LAST_SEEN_AT'}), ('black Samsonite suitcase', 'coffee shop', {'relation': 'LAST_SEEN_AT'}), ('John Doe', 'black Samsonite suitcase', {'relation': 'OWNED_BY'}), ('John Doe', 'security checkpoint', {'relation': 'LAST_SEEN_AT'}), ('airport authorities', 'CCTV footage', {'relation': 'INVESTIGATED_BY'}), ('airport authorities', 'passenger logs', {'relation': 'INVESTIGATED_BY'})]\n",
            "\n",
            "\n",
            "\u001b[1m> Entering new GraphQAChain chain...\u001b[0m\n",
            "Entities Extracted:\n",
            "\u001b[32;1m\u001b[1;3mJohn Doe\u001b[0m\n",
            "Full Context:\n",
            "\u001b[32;1m\u001b[1;3mJohn Doe OWNED_BY black Samsonite suitcase\n",
            "John Doe LAST_SEEN_AT security checkpoint\u001b[0m\n",
            "\n",
            "\u001b[1m> Finished chain.\u001b[0m\n",
            "\n",
            "Graph Query Response: I don't know. The knowledge triplets provide information about where John Doe was last seen, not his suitcase.\n"
          ]
        }
      ]
    },
    {
      "cell_type": "code",
      "source": [
        "\n",
        "# Improved input text - lost suitcase scenario\n",
        "doc_text = doc_text = \"\"\"\n",
        "Lost Luggage Report:\n",
        "- Item: Black Suitcase\n",
        "- Last Seen Location: Security checkpoint, Terminal 4, JFK Airport\n",
        "- Last Seen Time: 3:30 PM\n",
        "\"\"\"\n",
        "\n",
        "documents = [Document(page_content=doc_text)]\n",
        "\n",
        "# Retrieve allowed class names from remote endpoint\n",
        "response = requests.get(\"http://34.136.67.113:1234/getAllClassNames\")\n",
        "data = response.json()\n",
        "classNames = data[\"classNames\"]\n",
        "print(\"Allowed Class Names:\", classNames)\n",
        "\n",
        "# Initialize Graph Transformer (unfiltered)\n",
        "llm_transformer = LLMGraphTransformer(llm=llm)\n",
        "graph_documents = llm_transformer.convert_to_graph_documents(documents)\n",
        "\n",
        "# Filter Graph Transformer using allowed_nodes from classNames\n",
        "llm_transformer_filtered = LLMGraphTransformer(\n",
        "    llm=llm,\n",
        "    # allowed_nodes=classNames,\n",
        "    allowed_relationships=[\"LAST_SEEN_AT\", \"OWNED_BY\", \"INVESTIGATED_BY\", \"RECORDED_BY\", \"CONNECTED_TO\", \"CONTAINS\", \"PICKED_UP_BY\"],\n",
        "    # allowed_relationships can also be provided if needed\n",
        ")\n",
        "graph_documents_filtered = llm_transformer_filtered.convert_to_graph_documents(documents)\n",
        "\n",
        "# Create a NetworkX Graph\n",
        "graph = NetworkxEntityGraph()\n",
        "\n",
        "# Enforce allowed nodes by filtering out any node whose type isn't in the allowed set\n",
        "allowed_set = set(classNames)\n",
        "\n",
        "# Populate the graph dynamically, only including allowed nodes and edges\n",
        "for doc in graph_documents_filtered:\n",
        "    for node in doc.nodes:\n",
        "        if node.type in allowed_set:\n",
        "            graph._graph.add_node(node.id, type=node.type)\n",
        "    for edge in doc.relationships:\n",
        "        if edge.source.type in allowed_set and edge.target.type in allowed_set:\n",
        "            graph._graph.add_edge(edge.source.id, edge.target.id, relation=edge.type)\n",
        "\n",
        "# Debugging: Print extracted nodes and edges\n",
        "print(\"Extracted Nodes:\")\n",
        "print(graph._graph.nodes(data=True))\n",
        "print(\"\\nExtracted Edges:\")\n",
        "print(graph._graph.edges(data=True))\n",
        "\n",
        "# Initialize the GraphQAChain\n",
        "chain = GraphQAChain.from_llm(llm=llm, graph=graph, verbose=True)\n",
        "\n",
        "# Query the graph\n",
        "question = f\"Where is the suitcase?\"\n",
        "response = chain.run(question)\n",
        "print(\"\\nGraph Query Response:\", response)\n"
      ],
      "metadata": {
        "colab": {
          "base_uri": "https://localhost:8080/"
        },
        "id": "zTOTS9HkJQrt",
        "outputId": "e306f0d1-f5b6-43f1-d48a-7b7451bdff17"
      },
      "execution_count": 32,
      "outputs": [
        {
          "output_type": "stream",
          "name": "stdout",
          "text": [
            "Allowed Class Names: ['arachnid', 'armadillo', 'bear', 'bird', 'bug', 'butterfly', 'cat', 'coral', 'crocodile', 'crustacean', 'dinosaur', 'dog', 'echinoderms', 'ferret', 'fish', 'flower', 'frog', 'fruit', 'fungus', 'hog', 'lizard', 'marine mammals', 'marsupial', 'mollusk', 'mongoose', 'monotreme', 'person', 'plant', 'primate', 'rabbit', 'rodent', 'salamander', 'shark', 'sloth', 'snake', 'trilobite', 'turtle', 'ungulate', 'vegetable', 'wild cat', 'wild dog', 'accessory', 'aircraft', 'ball', 'boat', 'building', 'clothing', 'container', 'cooking', 'decor', 'electronics', 'fence', 'food', 'furniture', 'hat', 'instrument', 'lab equipment', 'other', 'outdoor scene', 'paper', 'sports equipment', 'technology', 'tool', 'toy', 'train', 'vehicle', 'weapon', 'croodile']\n",
            "Extracted Nodes:\n",
            "[]\n",
            "\n",
            "Extracted Edges:\n",
            "[]\n",
            "\n",
            "\n",
            "\u001b[1m> Entering new GraphQAChain chain...\u001b[0m\n",
            "Entities Extracted:\n",
            "\u001b[32;1m\u001b[1;3mNONE\u001b[0m\n",
            "Full Context:\n",
            "\u001b[32;1m\u001b[1;3m\u001b[0m\n",
            "\n",
            "\u001b[1m> Finished chain.\u001b[0m\n",
            "\n",
            "Graph Query Response: I need the knowledge triplets to answer the question \"Where is the suitcase?\". Please provide them.\n"
          ]
        }
      ]
    },
    {
      "cell_type": "code",
      "source": [
        "question = f\"Choose a single best class that our item fits in from the the list of {classNames}, take this as context, {new_response}\"\n",
        "new_response = chain.run(question)\n",
        "print(\"\\nGraph Query Response:\", response)"
      ],
      "metadata": {
        "id": "c2QwgFqlKHUd",
        "colab": {
          "base_uri": "https://localhost:8080/",
          "height": 176
        },
        "outputId": "30dab8e6-52e4-4d8f-f928-3a6f8fee7942"
      },
      "execution_count": 33,
      "outputs": [
        {
          "output_type": "error",
          "ename": "NameError",
          "evalue": "name 'new_response' is not defined",
          "traceback": [
            "\u001b[0;31m---------------------------------------------------------------------------\u001b[0m",
            "\u001b[0;31mNameError\u001b[0m                                 Traceback (most recent call last)",
            "\u001b[0;32m<ipython-input-33-ff85c44b936c>\u001b[0m in \u001b[0;36m<cell line: 0>\u001b[0;34m()\u001b[0m\n\u001b[0;32m----> 1\u001b[0;31m \u001b[0mquestion\u001b[0m \u001b[0;34m=\u001b[0m \u001b[0;34mf\"Choose a single best class that our item fits in from the the list of {classNames}, take this as context, {new_response}\"\u001b[0m\u001b[0;34m\u001b[0m\u001b[0;34m\u001b[0m\u001b[0m\n\u001b[0m\u001b[1;32m      2\u001b[0m \u001b[0mnew_response\u001b[0m \u001b[0;34m=\u001b[0m \u001b[0mchain\u001b[0m\u001b[0;34m.\u001b[0m\u001b[0mrun\u001b[0m\u001b[0;34m(\u001b[0m\u001b[0mquestion\u001b[0m\u001b[0;34m)\u001b[0m\u001b[0;34m\u001b[0m\u001b[0;34m\u001b[0m\u001b[0m\n\u001b[1;32m      3\u001b[0m \u001b[0mprint\u001b[0m\u001b[0;34m(\u001b[0m\u001b[0;34m\"\\nGraph Query Response:\"\u001b[0m\u001b[0;34m,\u001b[0m \u001b[0mresponse\u001b[0m\u001b[0;34m)\u001b[0m\u001b[0;34m\u001b[0m\u001b[0;34m\u001b[0m\u001b[0m\n",
            "\u001b[0;31mNameError\u001b[0m: name 'new_response' is not defined"
          ]
        }
      ]
    },
    {
      "cell_type": "code",
      "source": [
        "# Visualize the graph\n",
        "def visualize_graph(graph):\n",
        "    plt.figure(figsize=(10, 6))\n",
        "    pos = nx.spring_layout(graph._graph)\n",
        "    labels = nx.get_edge_attributes(graph._graph, 'relation')\n",
        "    nx.draw(graph._graph, pos, with_labels=True, node_color='lightblue', edge_color='gray', node_size=3000, font_size=10, font_weight='bold')\n",
        "    nx.draw_networkx_edge_labels(graph._graph, pos, edge_labels=labels, font_size=8, font_color='red')\n",
        "    plt.title(\"Graph Representation of Lost Suitcase Case\")\n",
        "    plt.show()\n",
        "\n",
        "# Call visualization function\n",
        "visualize_graph(graph)"
      ],
      "metadata": {
        "id": "TIPyXofU_T1j"
      },
      "execution_count": null,
      "outputs": []
    },
    {
      "cell_type": "code",
      "source": [],
      "metadata": {
        "id": "qHWMILOi8CSW"
      },
      "execution_count": null,
      "outputs": []
    },
    {
      "cell_type": "code",
      "source": [],
      "metadata": {
        "id": "TL6fAfmlLcTI"
      },
      "execution_count": null,
      "outputs": []
    },
    {
      "cell_type": "code",
      "source": [],
      "metadata": {
        "id": "21xZQ48JLcU_"
      },
      "execution_count": null,
      "outputs": []
    },
    {
      "cell_type": "code",
      "source": [],
      "metadata": {
        "id": "KRRziR1SLcXb"
      },
      "execution_count": null,
      "outputs": []
    },
    {
      "cell_type": "code",
      "source": [],
      "metadata": {
        "id": "aZ0G1O5-LcZb"
      },
      "execution_count": null,
      "outputs": []
    },
    {
      "cell_type": "code",
      "source": [],
      "metadata": {
        "id": "5xvdCrebLccE"
      },
      "execution_count": null,
      "outputs": []
    },
    {
      "cell_type": "code",
      "source": [],
      "metadata": {
        "id": "3IhezR7vLcen"
      },
      "execution_count": null,
      "outputs": []
    },
    {
      "cell_type": "code",
      "source": [],
      "metadata": {
        "id": "yPMfPyx6Mp7T"
      },
      "execution_count": null,
      "outputs": []
    }
  ]
}
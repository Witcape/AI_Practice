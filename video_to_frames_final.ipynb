{
  "nbformat": 4,
  "nbformat_minor": 0,
  "metadata": {
    "colab": {
      "provenance": [],
      "authorship_tag": "ABX9TyM5TCG5jOOAUGzhEuURZ9UM",
      "include_colab_link": true
    },
    "kernelspec": {
      "name": "python3",
      "display_name": "Python 3"
    },
    "language_info": {
      "name": "python"
    }
  },
  "cells": [
    {
      "cell_type": "markdown",
      "metadata": {
        "id": "view-in-github",
        "colab_type": "text"
      },
      "source": [
        "<a href=\"https://colab.research.google.com/github/Witcape/AI_Practice/blob/main/video_to_frames_final.ipynb\" target=\"_parent\"><img src=\"https://colab.research.google.com/assets/colab-badge.svg\" alt=\"Open In Colab\"/></a>"
      ]
    },
    {
      "cell_type": "code",
      "execution_count": 11,
      "metadata": {
        "id": "IPbiXi_tulId"
      },
      "outputs": [],
      "source": [
        "import cv2\n",
        "import os\n",
        "\n",
        "def video_to_frame(video_path, output_folder, start_index=0):\n",
        "    video_capture = cv2.VideoCapture(video_path)\n",
        "\n",
        "    if not video_capture.isOpened():\n",
        "        print(f\"Error: Could not open video {video_path}\")\n",
        "        return start_index\n",
        "\n",
        "    fps = video_capture.get(cv2.CAP_PROP_FPS)\n",
        "    frame_interval = int(fps / 0.25)\n",
        "\n",
        "    if not os.path.exists(output_folder):\n",
        "        os.makedirs(output_folder)\n",
        "\n",
        "    frame_count = 0\n",
        "    saved_frame_count = start_index\n",
        "\n",
        "    while True:\n",
        "        ret, frame = video_capture.read()\n",
        "        if not ret:\n",
        "            break\n",
        "\n",
        "        if frame_count % frame_interval == 0:\n",
        "            output_path = os.path.join(output_folder, f\"frame_{saved_frame_count:06d}.png\")\n",
        "            cv2.imwrite(output_path, frame)\n",
        "            saved_frame_count += 1\n",
        "\n",
        "        frame_count += 1\n",
        "\n",
        "    video_capture.release()\n",
        "    print(f\"Frames saved from {video_path}\")\n",
        "    return saved_frame_count"
      ]
    },
    {
      "cell_type": "code",
      "source": [
        "input_folder = '/content/Vids'  # Folder containing the videos\n",
        "output_folder = '/content/Frames'   # Base folder to save frames\n",
        "\n",
        "index = 0\n",
        "for filename in os.listdir(input_folder):\n",
        "    if filename.lower().endswith(('.mp4', '.avi', '.mov', '.mkv')):\n",
        "        video_path = os.path.join(input_folder, filename)\n",
        "        index = video_to_frame(video_path, output_folder, start_index=index)"
      ],
      "metadata": {
        "colab": {
          "base_uri": "https://localhost:8080/"
        },
        "id": "Ubtg2RIo3QCK",
        "outputId": "bea19dc4-28c3-4b56-c91d-0bc4227808df"
      },
      "execution_count": 15,
      "outputs": [
        {
          "output_type": "stream",
          "name": "stdout",
          "text": [
            "Error: Could not open video /content/Vids/IMG_3991.MOV\n",
            "Frames saved from /content/Vids/VIDEO-2025-03-17-14-40-05.mp4\n",
            "Frames saved from /content/Vids/1024514474-preview.mp4\n"
          ]
        }
      ]
    },
    {
      "cell_type": "code",
      "source": [],
      "metadata": {
        "id": "2osgTxwT3TpC"
      },
      "execution_count": null,
      "outputs": []
    }
  ]
}
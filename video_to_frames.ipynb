{
  "nbformat": 4,
  "nbformat_minor": 0,
  "metadata": {
    "colab": {
      "provenance": [],
      "authorship_tag": "ABX9TyMyLOfmzPzr1YAG73q3uZGJ",
      "include_colab_link": true
    },
    "kernelspec": {
      "name": "python3",
      "display_name": "Python 3"
    },
    "language_info": {
      "name": "python"
    }
  },
  "cells": [
    {
      "cell_type": "markdown",
      "metadata": {
        "id": "view-in-github",
        "colab_type": "text"
      },
      "source": [
        "<a href=\"https://colab.research.google.com/github/Witcape/AI_Practice/blob/main/video_to_frames.ipynb\" target=\"_parent\"><img src=\"https://colab.research.google.com/assets/colab-badge.svg\" alt=\"Open In Colab\"/></a>"
      ]
    },
    {
      "cell_type": "code",
      "execution_count": 1,
      "metadata": {
        "colab": {
          "base_uri": "https://localhost:8080/"
        },
        "id": "IPbiXi_tulId",
        "outputId": "c77d2608-1f00-4c91-815c-83e10a6d65f5"
      },
      "outputs": [
        {
          "output_type": "stream",
          "name": "stdout",
          "text": [
            "Frames saved in /content/Frames\n"
          ]
        }
      ],
      "source": [
        "import cv2\n",
        "import os\n",
        "\n",
        "def video_to_frame(video_path, output_folder):\n",
        "    # Open video file\n",
        "    video_capture = cv2.VideoCapture(video_path)\n",
        "\n",
        "    # Check if video opened successfully\n",
        "    if not video_capture.isOpened():\n",
        "        print(\"Error: Could not open video.\")\n",
        "        return\n",
        "\n",
        "    # Get the frames per second of the video\n",
        "    fps = video_capture.get(cv2.CAP_PROP_FPS)\n",
        "\n",
        "    # We want to capture 0.25 frames per second, so we need to skip frames\n",
        "    frame_interval = int(fps / 0.25)\n",
        "\n",
        "    if not os.path.exists(output_folder):\n",
        "        os.makedirs(output_folder)\n",
        "\n",
        "    frame_count = 0\n",
        "    saved_frame_count = 0\n",
        "    while True:\n",
        "        ret, frame = video_capture.read()\n",
        "        if not ret:\n",
        "            break\n",
        "\n",
        "        # Capture only every frame_interval frames (i.e., 0.25 frames per second)\n",
        "        if frame_count % frame_interval == 0:\n",
        "            output_path = os.path.join(output_folder, f\"frame_{saved_frame_count:04d}.png\")\n",
        "            cv2.imwrite(output_path, frame)\n",
        "\n",
        "            saved_frame_count += 1\n",
        "\n",
        "        frame_count += 1\n",
        "\n",
        "    # Release video capture object\n",
        "    video_capture.release()\n",
        "    print(f\"Frames saved in {output_folder}\")\n",
        "\n",
        "# Example usage\n",
        "video_path = '/content/1024514474-preview.mp4'  # Path to your pre-captured video file\n",
        "output_folder = '/content/Frames'  # Folder to save frames\n",
        "video_to_frame(video_path, output_folder)"
      ]
    },
    {
      "cell_type": "code",
      "source": [],
      "metadata": {
        "id": "pkYZNzUPyWUv"
      },
      "execution_count": null,
      "outputs": []
    }
  ]
}
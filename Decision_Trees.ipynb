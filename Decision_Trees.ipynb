{
  "nbformat": 4,
  "nbformat_minor": 0,
  "metadata": {
    "colab": {
      "provenance": [],
      "authorship_tag": "ABX9TyM5T8qqR15mMxkYWzthmO7u",
      "include_colab_link": true
    },
    "kernelspec": {
      "name": "python3",
      "display_name": "Python 3"
    },
    "language_info": {
      "name": "python"
    }
  },
  "cells": [
    {
      "cell_type": "markdown",
      "metadata": {
        "id": "view-in-github",
        "colab_type": "text"
      },
      "source": [
        "<a href=\"https://colab.research.google.com/github/Witcape/Decision-Trees/blob/main/Decision_Trees.ipynb\" target=\"_parent\"><img src=\"https://colab.research.google.com/assets/colab-badge.svg\" alt=\"Open In Colab\"/></a>"
      ]
    },
    {
      "cell_type": "code",
      "execution_count": 3,
      "metadata": {
        "id": "fSyRYof3DeER"
      },
      "outputs": [],
      "source": [
        "import pandas as pd\n",
        "import numpy as np\n",
        "import matplotlib.pyplot as plt"
      ]
    },
    {
      "cell_type": "code",
      "source": [
        "x_train = np.array([[1, 1, 1],\n",
        "[0, 0, 1],\n",
        " [0, 1, 0],\n",
        " [1, 0, 1],\n",
        " [1, 1, 1],\n",
        " [1, 1, 0],\n",
        " [0, 0, 0],\n",
        " [1, 1, 0],\n",
        " [0, 1, 0],\n",
        " [0, 1, 0]])\n",
        "\n",
        "y_train = np.array([1, 1, 0, 0, 1, 1, 0, 1, 0, 0]) # 1 is cat and 0 is not cat"
      ],
      "metadata": {
        "id": "MqcezhH_ESMZ"
      },
      "execution_count": 33,
      "outputs": []
    },
    {
      "cell_type": "code",
      "source": [
        "def entropy(p):\n",
        "  if p==0 or p==1:\n",
        "    return 0\n",
        "  else:\n",
        "    return -p * np.log2(p) - (1- p)*np.log2(1 - p)\n",
        "print(entropy(0.3))"
      ],
      "metadata": {
        "colab": {
          "base_uri": "https://localhost:8080/"
        },
        "id": "tFirbggJEe1z",
        "outputId": "9862c7ac-2839-49b8-b09a-7e7d1dd5eea3"
      },
      "execution_count": 34,
      "outputs": [
        {
          "output_type": "stream",
          "name": "stdout",
          "text": [
            "0.8812908992306927\n"
          ]
        }
      ]
    },
    {
      "cell_type": "code",
      "source": [
        "def split_indices(X, index_feature):\n",
        "\n",
        "  left_indices = []\n",
        "  right_indices = []\n",
        "  for i,x in enumerate(X):\n",
        "    if x[index_feature] == 1:\n",
        "      left_indices.append(i)\n",
        "    else:\n",
        "      right_indices.append(i)\n",
        "  return left_indices, right_indices"
      ],
      "metadata": {
        "id": "8IIsqMWUFEpb"
      },
      "execution_count": 35,
      "outputs": []
    },
    {
      "cell_type": "code",
      "source": [
        "split_indices(X_train, 0)"
      ],
      "metadata": {
        "colab": {
          "base_uri": "https://localhost:8080/"
        },
        "id": "U2GLyTKXGB3r",
        "outputId": "7cf8ec72-1605-450b-9664-a38037703e49"
      },
      "execution_count": 36,
      "outputs": [
        {
          "output_type": "execute_result",
          "data": {
            "text/plain": [
              "([0, 3, 4, 5, 7], [1, 2, 6, 8, 9])"
            ]
          },
          "metadata": {},
          "execution_count": 36
        }
      ]
    },
    {
      "cell_type": "code",
      "source": [
        "def weighted_entropy(X, Y, left, right):\n",
        "  w_left = len(left) / len(X)\n",
        "  w_right = len(right) / len(X)\n",
        "  p_left = sum(Y[left]) / len(left)\n",
        "  p_right = sum(Y[right]) / len(right)\n",
        "  weighted_entropy = w_left * entropy(p_left) + w_right * entropy(p_right)\n",
        "  return weighted_entropy"
      ],
      "metadata": {
        "id": "gD3TL1bxGMjr"
      },
      "execution_count": 37,
      "outputs": []
    },
    {
      "cell_type": "code",
      "source": [
        "left_indices, right_indices = split_indices(X_train, 0)\n",
        "weighted_entropy(x_train, y_train, left_indices, right_indices)"
      ],
      "metadata": {
        "colab": {
          "base_uri": "https://localhost:8080/"
        },
        "id": "H465hz9kIyV_",
        "outputId": "be5ea211-ba18-4d47-edf7-fa5a2e06b5a9"
      },
      "execution_count": 38,
      "outputs": [
        {
          "output_type": "execute_result",
          "data": {
            "text/plain": [
              "0.7219280948873623"
            ]
          },
          "metadata": {},
          "execution_count": 38
        }
      ]
    },
    {
      "cell_type": "code",
      "source": [
        "def info_gain(X, Y, left, right):\n",
        "  p_node = sum(Y) / len(Y)\n",
        "  h_node = entropy(p_node)\n",
        "\n",
        "  w_entropy = weighted_entropy(X, Y, left, right)\n",
        "  return h_node - w_entropy"
      ],
      "metadata": {
        "id": "RzAF6fbQI6iN"
      },
      "execution_count": 43,
      "outputs": []
    },
    {
      "cell_type": "code",
      "source": [
        "info_gain(x_train, y_train, left_indices, right_indices)"
      ],
      "metadata": {
        "colab": {
          "base_uri": "https://localhost:8080/"
        },
        "id": "TGiQXJy3tSDM",
        "outputId": "16c1aaac-eed7-4d01-be9f-967a9661ef56"
      },
      "execution_count": 44,
      "outputs": [
        {
          "output_type": "execute_result",
          "data": {
            "text/plain": [
              "0.2780719051126377"
            ]
          },
          "metadata": {},
          "execution_count": 44
        }
      ]
    },
    {
      "cell_type": "markdown",
      "source": [
        "Now let's do this for all the features, so we can know which one is the best"
      ],
      "metadata": {
        "id": "snX6QBQruYfP"
      }
    },
    {
      "cell_type": "code",
      "source": [
        "for i, feature_name in enumerate(['Ear Shape', 'Face Shape', 'Whiskers']):\n",
        "  left_indices, right_indices = split_indices(x_train, i)\n",
        "  print(f'In feature {feature_name}, info gain is {info_gain(x_train, y_train, left_indices, right_indices)}')"
      ],
      "metadata": {
        "id": "YYZfgVZzuX05",
        "outputId": "8aa3dad7-94cd-4fb4-9406-c86d480c6274",
        "colab": {
          "base_uri": "https://localhost:8080/"
        }
      },
      "execution_count": 54,
      "outputs": [
        {
          "output_type": "stream",
          "name": "stdout",
          "text": [
            "In feature Ear Shape, info gain is 0.2780719051126377\n",
            "In feature Face Shape, info gain is 0.034851554559677034\n",
            "In feature Whiskers, info gain is 0.12451124978365313\n"
          ]
        }
      ]
    },
    {
      "cell_type": "code",
      "source": [],
      "metadata": {
        "id": "LpErQQF6wLk-"
      },
      "execution_count": null,
      "outputs": []
    }
  ]
}
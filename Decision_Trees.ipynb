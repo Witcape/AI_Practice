{
  "nbformat": 4,
  "nbformat_minor": 0,
  "metadata": {
    "colab": {
      "provenance": [],
      "authorship_tag": "ABX9TyOqgu4Ax6JODf8zEGxOH5o8",
      "include_colab_link": true
    },
    "kernelspec": {
      "name": "python3",
      "display_name": "Python 3"
    },
    "language_info": {
      "name": "python"
    }
  },
  "cells": [
    {
      "cell_type": "markdown",
      "metadata": {
        "id": "view-in-github",
        "colab_type": "text"
      },
      "source": [
        "<a href=\"https://colab.research.google.com/github/Witcape/Decision-Trees/blob/main/Decision_Trees.ipynb\" target=\"_parent\"><img src=\"https://colab.research.google.com/assets/colab-badge.svg\" alt=\"Open In Colab\"/></a>"
      ]
    },
    {
      "cell_type": "code",
      "execution_count": 1,
      "metadata": {
        "id": "fSyRYof3DeER"
      },
      "outputs": [],
      "source": [
        "import pandas as pd\n",
        "import numpy as np\n",
        "import matplotlib.pyplot as plt"
      ]
    },
    {
      "cell_type": "code",
      "source": [
        "X_train = np.array([[1, 1, 1],\n",
        "[0, 0, 1],\n",
        " [0, 1, 0],\n",
        " [1, 0, 1],\n",
        " [1, 1, 1],\n",
        " [1, 1, 0],\n",
        " [0, 0, 0],\n",
        " [1, 1, 0],\n",
        " [0, 1, 0],\n",
        " [0, 1, 0]])\n",
        "\n",
        "y_train = np.array([1, 1, 0, 0, 1, 1, 0, 1, 0, 0]) # 1 is cat and 0 is not cat"
      ],
      "metadata": {
        "id": "MqcezhH_ESMZ"
      },
      "execution_count": 3,
      "outputs": []
    },
    {
      "cell_type": "code",
      "source": [
        "def entropy(p):\n",
        "  if p==0 or p==1:\n",
        "    return 0\n",
        "  else:\n",
        "    return -p * np.log2(p) - (1- p)*np.log2(1 - p)\n",
        "print(entropy(0.3))"
      ],
      "metadata": {
        "colab": {
          "base_uri": "https://localhost:8080/"
        },
        "id": "tFirbggJEe1z",
        "outputId": "3ff1d47b-6cae-4c70-b395-a57e40ae0883"
      },
      "execution_count": 7,
      "outputs": [
        {
          "output_type": "stream",
          "name": "stdout",
          "text": [
            "0.8812908992306927\n"
          ]
        }
      ]
    },
    {
      "cell_type": "code",
      "source": [
        "def split_indices(X, index_feature):\n",
        "\n",
        "  left_indices = []\n",
        "  right_indices = []\n",
        "  for i,x in enumerate(X):\n",
        "    if x[index_feature] == 1:\n",
        "      left_indices.append(i)\n",
        "    else:\n",
        "      right_indices.append(i)\n",
        "  return left_indices, right_indices"
      ],
      "metadata": {
        "id": "8IIsqMWUFEpb"
      },
      "execution_count": 12,
      "outputs": []
    },
    {
      "cell_type": "code",
      "source": [
        "split_indices(X_train, 0)"
      ],
      "metadata": {
        "id": "U2GLyTKXGB3r",
        "outputId": "45a580d0-2080-4cf8-dac8-9acec8a67414",
        "colab": {
          "base_uri": "https://localhost:8080/"
        }
      },
      "execution_count": 14,
      "outputs": [
        {
          "output_type": "execute_result",
          "data": {
            "text/plain": [
              "([0, 3, 4, 5, 7], [1, 2, 6, 8, 9])"
            ]
          },
          "metadata": {},
          "execution_count": 14
        }
      ]
    },
    {
      "cell_type": "code",
      "source": [
        "def weighted_entropy(X, left, right):\n",
        "  w_left = len(left) / len(X)\n",
        "  w_right = len(right) / len(X)\n",
        "  p_left = sum(left) / len(left)\n",
        "  p_right = sum(right) / len(right)\n",
        "  weighted_entropy = w_left * entropy(p_left) + w_right * entropy(p_right)\n",
        "  return weighted_entropy"
      ],
      "metadata": {
        "id": "gD3TL1bxGMjr"
      },
      "execution_count": 20,
      "outputs": []
    },
    {
      "cell_type": "code",
      "source": [
        "left_indices, right_indices = split_indices(X_train, 0)\n",
        "weighted_entropy(X_train, left_indices, right_indices)"
      ],
      "metadata": {
        "id": "H465hz9kIyV_",
        "outputId": "703b0630-472f-4cf1-bd48-1abdbb53fdbf",
        "colab": {
          "base_uri": "https://localhost:8080/"
        }
      },
      "execution_count": 21,
      "outputs": [
        {
          "output_type": "stream",
          "name": "stderr",
          "text": [
            "<ipython-input-7-f6b7250ba043>:5: RuntimeWarning: invalid value encountered in log2\n",
            "  return -p * np.log2(p) - (1- p)*np.log2(1 - p)\n"
          ]
        },
        {
          "output_type": "execute_result",
          "data": {
            "text/plain": [
              "nan"
            ]
          },
          "metadata": {},
          "execution_count": 21
        }
      ]
    },
    {
      "cell_type": "code",
      "source": [],
      "metadata": {
        "id": "RzAF6fbQI6iN"
      },
      "execution_count": null,
      "outputs": []
    }
  ]
}
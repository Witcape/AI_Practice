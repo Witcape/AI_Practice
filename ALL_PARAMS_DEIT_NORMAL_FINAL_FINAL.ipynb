{
  "nbformat": 4,
  "nbformat_minor": 0,
  "metadata": {
    "colab": {
      "provenance": [],
      "gpuType": "T4",
      "include_colab_link": true
    },
    "kernelspec": {
      "name": "python3",
      "display_name": "Python 3"
    },
    "language_info": {
      "name": "python"
    },
    "accelerator": "GPU",
    "widgets": {
      "application/vnd.jupyter.widget-state+json": {
        "6a446db4761b4bccbc9948547932f898": {
          "model_module": "@jupyter-widgets/controls",
          "model_name": "HBoxModel",
          "model_module_version": "1.5.0",
          "state": {
            "_dom_classes": [],
            "_model_module": "@jupyter-widgets/controls",
            "_model_module_version": "1.5.0",
            "_model_name": "HBoxModel",
            "_view_count": null,
            "_view_module": "@jupyter-widgets/controls",
            "_view_module_version": "1.5.0",
            "_view_name": "HBoxView",
            "box_style": "",
            "children": [
              "IPY_MODEL_07aa82d269ca4c52ad9d76d648d38e00",
              "IPY_MODEL_baf2fa2aa72c4929a49c1940868a36d1",
              "IPY_MODEL_f9839345d6e342aabfc97939433b5183"
            ],
            "layout": "IPY_MODEL_d9838f925b694575869cd9cc4224f586"
          }
        },
        "07aa82d269ca4c52ad9d76d648d38e00": {
          "model_module": "@jupyter-widgets/controls",
          "model_name": "HTMLModel",
          "model_module_version": "1.5.0",
          "state": {
            "_dom_classes": [],
            "_model_module": "@jupyter-widgets/controls",
            "_model_module_version": "1.5.0",
            "_model_name": "HTMLModel",
            "_view_count": null,
            "_view_module": "@jupyter-widgets/controls",
            "_view_module_version": "1.5.0",
            "_view_name": "HTMLView",
            "description": "",
            "description_tooltip": null,
            "layout": "IPY_MODEL_135ca36c217846f2bc11eafb91932f58",
            "placeholder": "​",
            "style": "IPY_MODEL_d2e69c0bb7234f1e83110742fcb1bf27",
            "value": "config.json: 100%"
          }
        },
        "baf2fa2aa72c4929a49c1940868a36d1": {
          "model_module": "@jupyter-widgets/controls",
          "model_name": "FloatProgressModel",
          "model_module_version": "1.5.0",
          "state": {
            "_dom_classes": [],
            "_model_module": "@jupyter-widgets/controls",
            "_model_module_version": "1.5.0",
            "_model_name": "FloatProgressModel",
            "_view_count": null,
            "_view_module": "@jupyter-widgets/controls",
            "_view_module_version": "1.5.0",
            "_view_name": "ProgressView",
            "bar_style": "success",
            "description": "",
            "description_tooltip": null,
            "layout": "IPY_MODEL_07d1920be75f4b24809b6cb14fcc369d",
            "max": 69594,
            "min": 0,
            "orientation": "horizontal",
            "style": "IPY_MODEL_4a9475712ca14bb59acf0e337f1420e8",
            "value": 69594
          }
        },
        "f9839345d6e342aabfc97939433b5183": {
          "model_module": "@jupyter-widgets/controls",
          "model_name": "HTMLModel",
          "model_module_version": "1.5.0",
          "state": {
            "_dom_classes": [],
            "_model_module": "@jupyter-widgets/controls",
            "_model_module_version": "1.5.0",
            "_model_name": "HTMLModel",
            "_view_count": null,
            "_view_module": "@jupyter-widgets/controls",
            "_view_module_version": "1.5.0",
            "_view_name": "HTMLView",
            "description": "",
            "description_tooltip": null,
            "layout": "IPY_MODEL_530b8e3941f8481db57dd659fdb9d88b",
            "placeholder": "​",
            "style": "IPY_MODEL_55e5567ae8a3408fb8a2171d08d0d960",
            "value": " 69.6k/69.6k [00:00&lt;00:00, 3.98MB/s]"
          }
        },
        "d9838f925b694575869cd9cc4224f586": {
          "model_module": "@jupyter-widgets/base",
          "model_name": "LayoutModel",
          "model_module_version": "1.2.0",
          "state": {
            "_model_module": "@jupyter-widgets/base",
            "_model_module_version": "1.2.0",
            "_model_name": "LayoutModel",
            "_view_count": null,
            "_view_module": "@jupyter-widgets/base",
            "_view_module_version": "1.2.0",
            "_view_name": "LayoutView",
            "align_content": null,
            "align_items": null,
            "align_self": null,
            "border": null,
            "bottom": null,
            "display": null,
            "flex": null,
            "flex_flow": null,
            "grid_area": null,
            "grid_auto_columns": null,
            "grid_auto_flow": null,
            "grid_auto_rows": null,
            "grid_column": null,
            "grid_gap": null,
            "grid_row": null,
            "grid_template_areas": null,
            "grid_template_columns": null,
            "grid_template_rows": null,
            "height": null,
            "justify_content": null,
            "justify_items": null,
            "left": null,
            "margin": null,
            "max_height": null,
            "max_width": null,
            "min_height": null,
            "min_width": null,
            "object_fit": null,
            "object_position": null,
            "order": null,
            "overflow": null,
            "overflow_x": null,
            "overflow_y": null,
            "padding": null,
            "right": null,
            "top": null,
            "visibility": null,
            "width": null
          }
        },
        "135ca36c217846f2bc11eafb91932f58": {
          "model_module": "@jupyter-widgets/base",
          "model_name": "LayoutModel",
          "model_module_version": "1.2.0",
          "state": {
            "_model_module": "@jupyter-widgets/base",
            "_model_module_version": "1.2.0",
            "_model_name": "LayoutModel",
            "_view_count": null,
            "_view_module": "@jupyter-widgets/base",
            "_view_module_version": "1.2.0",
            "_view_name": "LayoutView",
            "align_content": null,
            "align_items": null,
            "align_self": null,
            "border": null,
            "bottom": null,
            "display": null,
            "flex": null,
            "flex_flow": null,
            "grid_area": null,
            "grid_auto_columns": null,
            "grid_auto_flow": null,
            "grid_auto_rows": null,
            "grid_column": null,
            "grid_gap": null,
            "grid_row": null,
            "grid_template_areas": null,
            "grid_template_columns": null,
            "grid_template_rows": null,
            "height": null,
            "justify_content": null,
            "justify_items": null,
            "left": null,
            "margin": null,
            "max_height": null,
            "max_width": null,
            "min_height": null,
            "min_width": null,
            "object_fit": null,
            "object_position": null,
            "order": null,
            "overflow": null,
            "overflow_x": null,
            "overflow_y": null,
            "padding": null,
            "right": null,
            "top": null,
            "visibility": null,
            "width": null
          }
        },
        "d2e69c0bb7234f1e83110742fcb1bf27": {
          "model_module": "@jupyter-widgets/controls",
          "model_name": "DescriptionStyleModel",
          "model_module_version": "1.5.0",
          "state": {
            "_model_module": "@jupyter-widgets/controls",
            "_model_module_version": "1.5.0",
            "_model_name": "DescriptionStyleModel",
            "_view_count": null,
            "_view_module": "@jupyter-widgets/base",
            "_view_module_version": "1.2.0",
            "_view_name": "StyleView",
            "description_width": ""
          }
        },
        "07d1920be75f4b24809b6cb14fcc369d": {
          "model_module": "@jupyter-widgets/base",
          "model_name": "LayoutModel",
          "model_module_version": "1.2.0",
          "state": {
            "_model_module": "@jupyter-widgets/base",
            "_model_module_version": "1.2.0",
            "_model_name": "LayoutModel",
            "_view_count": null,
            "_view_module": "@jupyter-widgets/base",
            "_view_module_version": "1.2.0",
            "_view_name": "LayoutView",
            "align_content": null,
            "align_items": null,
            "align_self": null,
            "border": null,
            "bottom": null,
            "display": null,
            "flex": null,
            "flex_flow": null,
            "grid_area": null,
            "grid_auto_columns": null,
            "grid_auto_flow": null,
            "grid_auto_rows": null,
            "grid_column": null,
            "grid_gap": null,
            "grid_row": null,
            "grid_template_areas": null,
            "grid_template_columns": null,
            "grid_template_rows": null,
            "height": null,
            "justify_content": null,
            "justify_items": null,
            "left": null,
            "margin": null,
            "max_height": null,
            "max_width": null,
            "min_height": null,
            "min_width": null,
            "object_fit": null,
            "object_position": null,
            "order": null,
            "overflow": null,
            "overflow_x": null,
            "overflow_y": null,
            "padding": null,
            "right": null,
            "top": null,
            "visibility": null,
            "width": null
          }
        },
        "4a9475712ca14bb59acf0e337f1420e8": {
          "model_module": "@jupyter-widgets/controls",
          "model_name": "ProgressStyleModel",
          "model_module_version": "1.5.0",
          "state": {
            "_model_module": "@jupyter-widgets/controls",
            "_model_module_version": "1.5.0",
            "_model_name": "ProgressStyleModel",
            "_view_count": null,
            "_view_module": "@jupyter-widgets/base",
            "_view_module_version": "1.2.0",
            "_view_name": "StyleView",
            "bar_color": null,
            "description_width": ""
          }
        },
        "530b8e3941f8481db57dd659fdb9d88b": {
          "model_module": "@jupyter-widgets/base",
          "model_name": "LayoutModel",
          "model_module_version": "1.2.0",
          "state": {
            "_model_module": "@jupyter-widgets/base",
            "_model_module_version": "1.2.0",
            "_model_name": "LayoutModel",
            "_view_count": null,
            "_view_module": "@jupyter-widgets/base",
            "_view_module_version": "1.2.0",
            "_view_name": "LayoutView",
            "align_content": null,
            "align_items": null,
            "align_self": null,
            "border": null,
            "bottom": null,
            "display": null,
            "flex": null,
            "flex_flow": null,
            "grid_area": null,
            "grid_auto_columns": null,
            "grid_auto_flow": null,
            "grid_auto_rows": null,
            "grid_column": null,
            "grid_gap": null,
            "grid_row": null,
            "grid_template_areas": null,
            "grid_template_columns": null,
            "grid_template_rows": null,
            "height": null,
            "justify_content": null,
            "justify_items": null,
            "left": null,
            "margin": null,
            "max_height": null,
            "max_width": null,
            "min_height": null,
            "min_width": null,
            "object_fit": null,
            "object_position": null,
            "order": null,
            "overflow": null,
            "overflow_x": null,
            "overflow_y": null,
            "padding": null,
            "right": null,
            "top": null,
            "visibility": null,
            "width": null
          }
        },
        "55e5567ae8a3408fb8a2171d08d0d960": {
          "model_module": "@jupyter-widgets/controls",
          "model_name": "DescriptionStyleModel",
          "model_module_version": "1.5.0",
          "state": {
            "_model_module": "@jupyter-widgets/controls",
            "_model_module_version": "1.5.0",
            "_model_name": "DescriptionStyleModel",
            "_view_count": null,
            "_view_module": "@jupyter-widgets/base",
            "_view_module_version": "1.2.0",
            "_view_name": "StyleView",
            "description_width": ""
          }
        },
        "386f4b2888e1498d80504b83b89e2aa7": {
          "model_module": "@jupyter-widgets/controls",
          "model_name": "HBoxModel",
          "model_module_version": "1.5.0",
          "state": {
            "_dom_classes": [],
            "_model_module": "@jupyter-widgets/controls",
            "_model_module_version": "1.5.0",
            "_model_name": "HBoxModel",
            "_view_count": null,
            "_view_module": "@jupyter-widgets/controls",
            "_view_module_version": "1.5.0",
            "_view_name": "HBoxView",
            "box_style": "",
            "children": [
              "IPY_MODEL_2554dad15c31442ca56372ede020c98a",
              "IPY_MODEL_a00d94c119c3409da00eef79c294be76",
              "IPY_MODEL_bbd9203cef1d49eba5905ebff2ca0e83"
            ],
            "layout": "IPY_MODEL_7c2b2fc3bad14a9da3b7daa61f586f55"
          }
        },
        "2554dad15c31442ca56372ede020c98a": {
          "model_module": "@jupyter-widgets/controls",
          "model_name": "HTMLModel",
          "model_module_version": "1.5.0",
          "state": {
            "_dom_classes": [],
            "_model_module": "@jupyter-widgets/controls",
            "_model_module_version": "1.5.0",
            "_model_name": "HTMLModel",
            "_view_count": null,
            "_view_module": "@jupyter-widgets/controls",
            "_view_module_version": "1.5.0",
            "_view_name": "HTMLView",
            "description": "",
            "description_tooltip": null,
            "layout": "IPY_MODEL_2eb7ca4877084150ae6c77e301646324",
            "placeholder": "​",
            "style": "IPY_MODEL_deddaf71e6b44b60a3af253a1602a4ab",
            "value": "pytorch_model.bin: 100%"
          }
        },
        "a00d94c119c3409da00eef79c294be76": {
          "model_module": "@jupyter-widgets/controls",
          "model_name": "FloatProgressModel",
          "model_module_version": "1.5.0",
          "state": {
            "_dom_classes": [],
            "_model_module": "@jupyter-widgets/controls",
            "_model_module_version": "1.5.0",
            "_model_name": "FloatProgressModel",
            "_view_count": null,
            "_view_module": "@jupyter-widgets/controls",
            "_view_module_version": "1.5.0",
            "_view_name": "ProgressView",
            "bar_style": "success",
            "description": "",
            "description_tooltip": null,
            "layout": "IPY_MODEL_74af71ccd23e46c5a402ec9afd71912c",
            "max": 346351599,
            "min": 0,
            "orientation": "horizontal",
            "style": "IPY_MODEL_339e36f5e53e44308bdca7efadd3e9d8",
            "value": 346351599
          }
        },
        "bbd9203cef1d49eba5905ebff2ca0e83": {
          "model_module": "@jupyter-widgets/controls",
          "model_name": "HTMLModel",
          "model_module_version": "1.5.0",
          "state": {
            "_dom_classes": [],
            "_model_module": "@jupyter-widgets/controls",
            "_model_module_version": "1.5.0",
            "_model_name": "HTMLModel",
            "_view_count": null,
            "_view_module": "@jupyter-widgets/controls",
            "_view_module_version": "1.5.0",
            "_view_name": "HTMLView",
            "description": "",
            "description_tooltip": null,
            "layout": "IPY_MODEL_93634b682abe4aa3a567c4e3d0bcdcaa",
            "placeholder": "​",
            "style": "IPY_MODEL_6ce964e5e7a24576925832976131de91",
            "value": " 346M/346M [00:02&lt;00:00, 201MB/s]"
          }
        },
        "7c2b2fc3bad14a9da3b7daa61f586f55": {
          "model_module": "@jupyter-widgets/base",
          "model_name": "LayoutModel",
          "model_module_version": "1.2.0",
          "state": {
            "_model_module": "@jupyter-widgets/base",
            "_model_module_version": "1.2.0",
            "_model_name": "LayoutModel",
            "_view_count": null,
            "_view_module": "@jupyter-widgets/base",
            "_view_module_version": "1.2.0",
            "_view_name": "LayoutView",
            "align_content": null,
            "align_items": null,
            "align_self": null,
            "border": null,
            "bottom": null,
            "display": null,
            "flex": null,
            "flex_flow": null,
            "grid_area": null,
            "grid_auto_columns": null,
            "grid_auto_flow": null,
            "grid_auto_rows": null,
            "grid_column": null,
            "grid_gap": null,
            "grid_row": null,
            "grid_template_areas": null,
            "grid_template_columns": null,
            "grid_template_rows": null,
            "height": null,
            "justify_content": null,
            "justify_items": null,
            "left": null,
            "margin": null,
            "max_height": null,
            "max_width": null,
            "min_height": null,
            "min_width": null,
            "object_fit": null,
            "object_position": null,
            "order": null,
            "overflow": null,
            "overflow_x": null,
            "overflow_y": null,
            "padding": null,
            "right": null,
            "top": null,
            "visibility": null,
            "width": null
          }
        },
        "2eb7ca4877084150ae6c77e301646324": {
          "model_module": "@jupyter-widgets/base",
          "model_name": "LayoutModel",
          "model_module_version": "1.2.0",
          "state": {
            "_model_module": "@jupyter-widgets/base",
            "_model_module_version": "1.2.0",
            "_model_name": "LayoutModel",
            "_view_count": null,
            "_view_module": "@jupyter-widgets/base",
            "_view_module_version": "1.2.0",
            "_view_name": "LayoutView",
            "align_content": null,
            "align_items": null,
            "align_self": null,
            "border": null,
            "bottom": null,
            "display": null,
            "flex": null,
            "flex_flow": null,
            "grid_area": null,
            "grid_auto_columns": null,
            "grid_auto_flow": null,
            "grid_auto_rows": null,
            "grid_column": null,
            "grid_gap": null,
            "grid_row": null,
            "grid_template_areas": null,
            "grid_template_columns": null,
            "grid_template_rows": null,
            "height": null,
            "justify_content": null,
            "justify_items": null,
            "left": null,
            "margin": null,
            "max_height": null,
            "max_width": null,
            "min_height": null,
            "min_width": null,
            "object_fit": null,
            "object_position": null,
            "order": null,
            "overflow": null,
            "overflow_x": null,
            "overflow_y": null,
            "padding": null,
            "right": null,
            "top": null,
            "visibility": null,
            "width": null
          }
        },
        "deddaf71e6b44b60a3af253a1602a4ab": {
          "model_module": "@jupyter-widgets/controls",
          "model_name": "DescriptionStyleModel",
          "model_module_version": "1.5.0",
          "state": {
            "_model_module": "@jupyter-widgets/controls",
            "_model_module_version": "1.5.0",
            "_model_name": "DescriptionStyleModel",
            "_view_count": null,
            "_view_module": "@jupyter-widgets/base",
            "_view_module_version": "1.2.0",
            "_view_name": "StyleView",
            "description_width": ""
          }
        },
        "74af71ccd23e46c5a402ec9afd71912c": {
          "model_module": "@jupyter-widgets/base",
          "model_name": "LayoutModel",
          "model_module_version": "1.2.0",
          "state": {
            "_model_module": "@jupyter-widgets/base",
            "_model_module_version": "1.2.0",
            "_model_name": "LayoutModel",
            "_view_count": null,
            "_view_module": "@jupyter-widgets/base",
            "_view_module_version": "1.2.0",
            "_view_name": "LayoutView",
            "align_content": null,
            "align_items": null,
            "align_self": null,
            "border": null,
            "bottom": null,
            "display": null,
            "flex": null,
            "flex_flow": null,
            "grid_area": null,
            "grid_auto_columns": null,
            "grid_auto_flow": null,
            "grid_auto_rows": null,
            "grid_column": null,
            "grid_gap": null,
            "grid_row": null,
            "grid_template_areas": null,
            "grid_template_columns": null,
            "grid_template_rows": null,
            "height": null,
            "justify_content": null,
            "justify_items": null,
            "left": null,
            "margin": null,
            "max_height": null,
            "max_width": null,
            "min_height": null,
            "min_width": null,
            "object_fit": null,
            "object_position": null,
            "order": null,
            "overflow": null,
            "overflow_x": null,
            "overflow_y": null,
            "padding": null,
            "right": null,
            "top": null,
            "visibility": null,
            "width": null
          }
        },
        "339e36f5e53e44308bdca7efadd3e9d8": {
          "model_module": "@jupyter-widgets/controls",
          "model_name": "ProgressStyleModel",
          "model_module_version": "1.5.0",
          "state": {
            "_model_module": "@jupyter-widgets/controls",
            "_model_module_version": "1.5.0",
            "_model_name": "ProgressStyleModel",
            "_view_count": null,
            "_view_module": "@jupyter-widgets/base",
            "_view_module_version": "1.2.0",
            "_view_name": "StyleView",
            "bar_color": null,
            "description_width": ""
          }
        },
        "93634b682abe4aa3a567c4e3d0bcdcaa": {
          "model_module": "@jupyter-widgets/base",
          "model_name": "LayoutModel",
          "model_module_version": "1.2.0",
          "state": {
            "_model_module": "@jupyter-widgets/base",
            "_model_module_version": "1.2.0",
            "_model_name": "LayoutModel",
            "_view_count": null,
            "_view_module": "@jupyter-widgets/base",
            "_view_module_version": "1.2.0",
            "_view_name": "LayoutView",
            "align_content": null,
            "align_items": null,
            "align_self": null,
            "border": null,
            "bottom": null,
            "display": null,
            "flex": null,
            "flex_flow": null,
            "grid_area": null,
            "grid_auto_columns": null,
            "grid_auto_flow": null,
            "grid_auto_rows": null,
            "grid_column": null,
            "grid_gap": null,
            "grid_row": null,
            "grid_template_areas": null,
            "grid_template_columns": null,
            "grid_template_rows": null,
            "height": null,
            "justify_content": null,
            "justify_items": null,
            "left": null,
            "margin": null,
            "max_height": null,
            "max_width": null,
            "min_height": null,
            "min_width": null,
            "object_fit": null,
            "object_position": null,
            "order": null,
            "overflow": null,
            "overflow_x": null,
            "overflow_y": null,
            "padding": null,
            "right": null,
            "top": null,
            "visibility": null,
            "width": null
          }
        },
        "6ce964e5e7a24576925832976131de91": {
          "model_module": "@jupyter-widgets/controls",
          "model_name": "DescriptionStyleModel",
          "model_module_version": "1.5.0",
          "state": {
            "_model_module": "@jupyter-widgets/controls",
            "_model_module_version": "1.5.0",
            "_model_name": "DescriptionStyleModel",
            "_view_count": null,
            "_view_module": "@jupyter-widgets/base",
            "_view_module_version": "1.2.0",
            "_view_name": "StyleView",
            "description_width": ""
          }
        },
        "0d5343de9ce64717aa4c96123fc43bc1": {
          "model_module": "@jupyter-widgets/controls",
          "model_name": "HBoxModel",
          "model_module_version": "1.5.0",
          "state": {
            "_dom_classes": [],
            "_model_module": "@jupyter-widgets/controls",
            "_model_module_version": "1.5.0",
            "_model_name": "HBoxModel",
            "_view_count": null,
            "_view_module": "@jupyter-widgets/controls",
            "_view_module_version": "1.5.0",
            "_view_name": "HBoxView",
            "box_style": "",
            "children": [
              "IPY_MODEL_b6bfb1eb973b4e60b8ab2b916e725935",
              "IPY_MODEL_9ca082cba6c541c9aef67ec1fff408a8",
              "IPY_MODEL_a183596d79bb4fdf9111ea735ef8f74c"
            ],
            "layout": "IPY_MODEL_4c5cb073b58149e0b4fd99b9988af697"
          }
        },
        "b6bfb1eb973b4e60b8ab2b916e725935": {
          "model_module": "@jupyter-widgets/controls",
          "model_name": "HTMLModel",
          "model_module_version": "1.5.0",
          "state": {
            "_dom_classes": [],
            "_model_module": "@jupyter-widgets/controls",
            "_model_module_version": "1.5.0",
            "_model_name": "HTMLModel",
            "_view_count": null,
            "_view_module": "@jupyter-widgets/controls",
            "_view_module_version": "1.5.0",
            "_view_name": "HTMLView",
            "description": "",
            "description_tooltip": null,
            "layout": "IPY_MODEL_e2190c4202ae40a08caf562ac6ccea69",
            "placeholder": "​",
            "style": "IPY_MODEL_d1121ba778304b75a5ae62982c465e87",
            "value": "preprocessor_config.json: 100%"
          }
        },
        "9ca082cba6c541c9aef67ec1fff408a8": {
          "model_module": "@jupyter-widgets/controls",
          "model_name": "FloatProgressModel",
          "model_module_version": "1.5.0",
          "state": {
            "_dom_classes": [],
            "_model_module": "@jupyter-widgets/controls",
            "_model_module_version": "1.5.0",
            "_model_name": "FloatProgressModel",
            "_view_count": null,
            "_view_module": "@jupyter-widgets/controls",
            "_view_module_version": "1.5.0",
            "_view_name": "ProgressView",
            "bar_style": "success",
            "description": "",
            "description_tooltip": null,
            "layout": "IPY_MODEL_8c661de2057d4e669c209ffea0457c3f",
            "max": 160,
            "min": 0,
            "orientation": "horizontal",
            "style": "IPY_MODEL_16eb89dc172e4139873053273bb8dca1",
            "value": 160
          }
        },
        "a183596d79bb4fdf9111ea735ef8f74c": {
          "model_module": "@jupyter-widgets/controls",
          "model_name": "HTMLModel",
          "model_module_version": "1.5.0",
          "state": {
            "_dom_classes": [],
            "_model_module": "@jupyter-widgets/controls",
            "_model_module_version": "1.5.0",
            "_model_name": "HTMLModel",
            "_view_count": null,
            "_view_module": "@jupyter-widgets/controls",
            "_view_module_version": "1.5.0",
            "_view_name": "HTMLView",
            "description": "",
            "description_tooltip": null,
            "layout": "IPY_MODEL_57b2bc221f3d4e0a83671a850236201c",
            "placeholder": "​",
            "style": "IPY_MODEL_1867ddf12a6d4746a9b7e8b8e819ef2c",
            "value": " 160/160 [00:00&lt;00:00, 3.74kB/s]"
          }
        },
        "4c5cb073b58149e0b4fd99b9988af697": {
          "model_module": "@jupyter-widgets/base",
          "model_name": "LayoutModel",
          "model_module_version": "1.2.0",
          "state": {
            "_model_module": "@jupyter-widgets/base",
            "_model_module_version": "1.2.0",
            "_model_name": "LayoutModel",
            "_view_count": null,
            "_view_module": "@jupyter-widgets/base",
            "_view_module_version": "1.2.0",
            "_view_name": "LayoutView",
            "align_content": null,
            "align_items": null,
            "align_self": null,
            "border": null,
            "bottom": null,
            "display": null,
            "flex": null,
            "flex_flow": null,
            "grid_area": null,
            "grid_auto_columns": null,
            "grid_auto_flow": null,
            "grid_auto_rows": null,
            "grid_column": null,
            "grid_gap": null,
            "grid_row": null,
            "grid_template_areas": null,
            "grid_template_columns": null,
            "grid_template_rows": null,
            "height": null,
            "justify_content": null,
            "justify_items": null,
            "left": null,
            "margin": null,
            "max_height": null,
            "max_width": null,
            "min_height": null,
            "min_width": null,
            "object_fit": null,
            "object_position": null,
            "order": null,
            "overflow": null,
            "overflow_x": null,
            "overflow_y": null,
            "padding": null,
            "right": null,
            "top": null,
            "visibility": null,
            "width": null
          }
        },
        "e2190c4202ae40a08caf562ac6ccea69": {
          "model_module": "@jupyter-widgets/base",
          "model_name": "LayoutModel",
          "model_module_version": "1.2.0",
          "state": {
            "_model_module": "@jupyter-widgets/base",
            "_model_module_version": "1.2.0",
            "_model_name": "LayoutModel",
            "_view_count": null,
            "_view_module": "@jupyter-widgets/base",
            "_view_module_version": "1.2.0",
            "_view_name": "LayoutView",
            "align_content": null,
            "align_items": null,
            "align_self": null,
            "border": null,
            "bottom": null,
            "display": null,
            "flex": null,
            "flex_flow": null,
            "grid_area": null,
            "grid_auto_columns": null,
            "grid_auto_flow": null,
            "grid_auto_rows": null,
            "grid_column": null,
            "grid_gap": null,
            "grid_row": null,
            "grid_template_areas": null,
            "grid_template_columns": null,
            "grid_template_rows": null,
            "height": null,
            "justify_content": null,
            "justify_items": null,
            "left": null,
            "margin": null,
            "max_height": null,
            "max_width": null,
            "min_height": null,
            "min_width": null,
            "object_fit": null,
            "object_position": null,
            "order": null,
            "overflow": null,
            "overflow_x": null,
            "overflow_y": null,
            "padding": null,
            "right": null,
            "top": null,
            "visibility": null,
            "width": null
          }
        },
        "d1121ba778304b75a5ae62982c465e87": {
          "model_module": "@jupyter-widgets/controls",
          "model_name": "DescriptionStyleModel",
          "model_module_version": "1.5.0",
          "state": {
            "_model_module": "@jupyter-widgets/controls",
            "_model_module_version": "1.5.0",
            "_model_name": "DescriptionStyleModel",
            "_view_count": null,
            "_view_module": "@jupyter-widgets/base",
            "_view_module_version": "1.2.0",
            "_view_name": "StyleView",
            "description_width": ""
          }
        },
        "8c661de2057d4e669c209ffea0457c3f": {
          "model_module": "@jupyter-widgets/base",
          "model_name": "LayoutModel",
          "model_module_version": "1.2.0",
          "state": {
            "_model_module": "@jupyter-widgets/base",
            "_model_module_version": "1.2.0",
            "_model_name": "LayoutModel",
            "_view_count": null,
            "_view_module": "@jupyter-widgets/base",
            "_view_module_version": "1.2.0",
            "_view_name": "LayoutView",
            "align_content": null,
            "align_items": null,
            "align_self": null,
            "border": null,
            "bottom": null,
            "display": null,
            "flex": null,
            "flex_flow": null,
            "grid_area": null,
            "grid_auto_columns": null,
            "grid_auto_flow": null,
            "grid_auto_rows": null,
            "grid_column": null,
            "grid_gap": null,
            "grid_row": null,
            "grid_template_areas": null,
            "grid_template_columns": null,
            "grid_template_rows": null,
            "height": null,
            "justify_content": null,
            "justify_items": null,
            "left": null,
            "margin": null,
            "max_height": null,
            "max_width": null,
            "min_height": null,
            "min_width": null,
            "object_fit": null,
            "object_position": null,
            "order": null,
            "overflow": null,
            "overflow_x": null,
            "overflow_y": null,
            "padding": null,
            "right": null,
            "top": null,
            "visibility": null,
            "width": null
          }
        },
        "16eb89dc172e4139873053273bb8dca1": {
          "model_module": "@jupyter-widgets/controls",
          "model_name": "ProgressStyleModel",
          "model_module_version": "1.5.0",
          "state": {
            "_model_module": "@jupyter-widgets/controls",
            "_model_module_version": "1.5.0",
            "_model_name": "ProgressStyleModel",
            "_view_count": null,
            "_view_module": "@jupyter-widgets/base",
            "_view_module_version": "1.2.0",
            "_view_name": "StyleView",
            "bar_color": null,
            "description_width": ""
          }
        },
        "57b2bc221f3d4e0a83671a850236201c": {
          "model_module": "@jupyter-widgets/base",
          "model_name": "LayoutModel",
          "model_module_version": "1.2.0",
          "state": {
            "_model_module": "@jupyter-widgets/base",
            "_model_module_version": "1.2.0",
            "_model_name": "LayoutModel",
            "_view_count": null,
            "_view_module": "@jupyter-widgets/base",
            "_view_module_version": "1.2.0",
            "_view_name": "LayoutView",
            "align_content": null,
            "align_items": null,
            "align_self": null,
            "border": null,
            "bottom": null,
            "display": null,
            "flex": null,
            "flex_flow": null,
            "grid_area": null,
            "grid_auto_columns": null,
            "grid_auto_flow": null,
            "grid_auto_rows": null,
            "grid_column": null,
            "grid_gap": null,
            "grid_row": null,
            "grid_template_areas": null,
            "grid_template_columns": null,
            "grid_template_rows": null,
            "height": null,
            "justify_content": null,
            "justify_items": null,
            "left": null,
            "margin": null,
            "max_height": null,
            "max_width": null,
            "min_height": null,
            "min_width": null,
            "object_fit": null,
            "object_position": null,
            "order": null,
            "overflow": null,
            "overflow_x": null,
            "overflow_y": null,
            "padding": null,
            "right": null,
            "top": null,
            "visibility": null,
            "width": null
          }
        },
        "1867ddf12a6d4746a9b7e8b8e819ef2c": {
          "model_module": "@jupyter-widgets/controls",
          "model_name": "DescriptionStyleModel",
          "model_module_version": "1.5.0",
          "state": {
            "_model_module": "@jupyter-widgets/controls",
            "_model_module_version": "1.5.0",
            "_model_name": "DescriptionStyleModel",
            "_view_count": null,
            "_view_module": "@jupyter-widgets/base",
            "_view_module_version": "1.2.0",
            "_view_name": "StyleView",
            "description_width": ""
          }
        }
      }
    }
  },
  "cells": [
    {
      "cell_type": "markdown",
      "metadata": {
        "id": "view-in-github",
        "colab_type": "text"
      },
      "source": [
        "<a href=\"https://colab.research.google.com/github/Witcape/AI_Practice/blob/main/ALL_PARAMS_DEIT_NORMAL_FINAL_FINAL.ipynb\" target=\"_parent\"><img src=\"https://colab.research.google.com/assets/colab-badge.svg\" alt=\"Open In Colab\"/></a>"
      ]
    },
    {
      "cell_type": "code",
      "execution_count": 1,
      "metadata": {
        "id": "lSF9yLtI5Qid",
        "colab": {
          "base_uri": "https://localhost:8080/"
        },
        "outputId": "82d55bf3-a1da-464f-ea5d-59baa39545b8"
      },
      "outputs": [
        {
          "output_type": "stream",
          "name": "stdout",
          "text": [
            "Mounted at /content/drive\n"
          ]
        }
      ],
      "source": [
        "from google.colab import drive\n",
        "drive.mount('/content/drive')"
      ]
    },
    {
      "cell_type": "code",
      "source": [
        "pip install transformers datasets"
      ],
      "metadata": {
        "id": "2qHqMTXq5SZN",
        "colab": {
          "base_uri": "https://localhost:8080/"
        },
        "outputId": "111da801-fe78-4514-9c36-2c1a70055b2c"
      },
      "execution_count": 2,
      "outputs": [
        {
          "output_type": "stream",
          "name": "stdout",
          "text": [
            "Requirement already satisfied: transformers in /usr/local/lib/python3.10/dist-packages (4.47.1)\n",
            "Collecting datasets\n",
            "  Downloading datasets-3.2.0-py3-none-any.whl.metadata (20 kB)\n",
            "Requirement already satisfied: filelock in /usr/local/lib/python3.10/dist-packages (from transformers) (3.16.1)\n",
            "Requirement already satisfied: huggingface-hub<1.0,>=0.24.0 in /usr/local/lib/python3.10/dist-packages (from transformers) (0.27.0)\n",
            "Requirement already satisfied: numpy>=1.17 in /usr/local/lib/python3.10/dist-packages (from transformers) (1.26.4)\n",
            "Requirement already satisfied: packaging>=20.0 in /usr/local/lib/python3.10/dist-packages (from transformers) (24.2)\n",
            "Requirement already satisfied: pyyaml>=5.1 in /usr/local/lib/python3.10/dist-packages (from transformers) (6.0.2)\n",
            "Requirement already satisfied: regex!=2019.12.17 in /usr/local/lib/python3.10/dist-packages (from transformers) (2024.11.6)\n",
            "Requirement already satisfied: requests in /usr/local/lib/python3.10/dist-packages (from transformers) (2.32.3)\n",
            "Requirement already satisfied: tokenizers<0.22,>=0.21 in /usr/local/lib/python3.10/dist-packages (from transformers) (0.21.0)\n",
            "Requirement already satisfied: safetensors>=0.4.1 in /usr/local/lib/python3.10/dist-packages (from transformers) (0.4.5)\n",
            "Requirement already satisfied: tqdm>=4.27 in /usr/local/lib/python3.10/dist-packages (from transformers) (4.67.1)\n",
            "Requirement already satisfied: pyarrow>=15.0.0 in /usr/local/lib/python3.10/dist-packages (from datasets) (17.0.0)\n",
            "Collecting dill<0.3.9,>=0.3.0 (from datasets)\n",
            "  Downloading dill-0.3.8-py3-none-any.whl.metadata (10 kB)\n",
            "Requirement already satisfied: pandas in /usr/local/lib/python3.10/dist-packages (from datasets) (2.2.2)\n",
            "Collecting xxhash (from datasets)\n",
            "  Downloading xxhash-3.5.0-cp310-cp310-manylinux_2_17_x86_64.manylinux2014_x86_64.whl.metadata (12 kB)\n",
            "Collecting multiprocess<0.70.17 (from datasets)\n",
            "  Downloading multiprocess-0.70.16-py310-none-any.whl.metadata (7.2 kB)\n",
            "Installing collected packages: xxhash, fsspec, dill, multiprocess, datasets\n",
            "  Attempting uninstall: fsspec\n",
            "    Found existing installation: fsspec 2024.10.0\n",
            "    Uninstalling fsspec-2024.10.0:\n",
            "      Successfully uninstalled fsspec-2024.10.0\n",
            "\u001b[31mERROR: pip's dependency resolver does not currently take into account all the packages that are installed. This behaviour is the source of the following dependency conflicts.\n",
            "gcsfs 2024.10.0 requires fsspec==2024.10.0, but you have fsspec 2024.9.0 which is incompatible.\u001b[0m\u001b[31m\n",
            "\u001b[0mSuccessfully installed datasets-3.2.0 dill-0.3.8 fsspec-2024.9.0 multiprocess-0.70.16 xxhash-3.5.0\n"
          ]
        }
      ]
    },
    {
      "cell_type": "code",
      "source": [
        "!pip install torch\n",
        "!pip install torchvision\n",
        "import torch"
      ],
      "metadata": {
        "colab": {
          "base_uri": "https://localhost:8080/"
        },
        "id": "PMtuBEcq7SYS",
        "outputId": "555881fb-ba31-40ce-e129-159d46a59758"
      },
      "execution_count": 3,
      "outputs": [
        {
          "output_type": "stream",
          "name": "stdout",
          "text": [
            "Requirement already satisfied: torch in /usr/local/lib/python3.10/dist-packages (2.5.1+cu121)\n",
            "Requirement already satisfied: filelock in /usr/local/lib/python3.10/dist-packages (from torch) (3.16.1)\n",
            "Requirement already satisfied: typing-extensions>=4.8.0 in /usr/local/lib/python3.10/dist-packages (from torch) (4.12.2)\n",
            "Requirement already satisfied: networkx in /usr/local/lib/python3.10/dist-packages (from torch) (3.4.2)\n",
            "Requirement already satisfied: jinja2 in /usr/local/lib/python3.10/dist-packages (from torch) (3.1.4)\n",
            "Requirement already satisfied: fsspec in /usr/local/lib/python3.10/dist-packages (from torch) (2024.9.0)\n",
            "Requirement already satisfied: sympy==1.13.1 in /usr/local/lib/python3.10/dist-packages (from torch) (1.13.1)\n",
            "Requirement already satisfied: mpmath<1.4,>=1.1.0 in /usr/local/lib/python3.10/dist-packages (from sympy==1.13.1->torch) (1.3.0)\n",
            "Requirement already satisfied: MarkupSafe>=2.0 in /usr/local/lib/python3.10/dist-packages (from jinja2->torch) (3.0.2)\n",
            "Requirement already satisfied: torchvision in /usr/local/lib/python3.10/dist-packages (0.20.1+cu121)\n",
            "Requirement already satisfied: numpy in /usr/local/lib/python3.10/dist-packages (from torchvision) (1.26.4)\n",
            "Requirement already satisfied: torch==2.5.1 in /usr/local/lib/python3.10/dist-packages (from torchvision) (2.5.1+cu121)\n",
            "Requirement already satisfied: pillow!=8.3.*,>=5.3.0 in /usr/local/lib/python3.10/dist-packages (from torchvision) (11.0.0)\n",
            "Requirement already satisfied: filelock in /usr/local/lib/python3.10/dist-packages (from torch==2.5.1->torchvision) (3.16.1)\n",
            "Requirement already satisfied: typing-extensions>=4.8.0 in /usr/local/lib/python3.10/dist-packages (from torch==2.5.1->torchvision) (4.12.2)\n",
            "Requirement already satisfied: networkx in /usr/local/lib/python3.10/dist-packages (from torch==2.5.1->torchvision) (3.4.2)\n",
            "Requirement already satisfied: jinja2 in /usr/local/lib/python3.10/dist-packages (from torch==2.5.1->torchvision) (3.1.4)\n",
            "Requirement already satisfied: fsspec in /usr/local/lib/python3.10/dist-packages (from torch==2.5.1->torchvision) (2024.9.0)\n",
            "Requirement already satisfied: sympy==1.13.1 in /usr/local/lib/python3.10/dist-packages (from torch==2.5.1->torchvision) (1.13.1)\n",
            "Requirement already satisfied: mpmath<1.4,>=1.1.0 in /usr/local/lib/python3.10/dist-packages (from sympy==1.13.1->torch==2.5.1->torchvision) (1.3.0)\n",
            "Requirement already satisfied: MarkupSafe>=2.0 in /usr/local/lib/python3.10/dist-packages (from jinja2->torch==2.5.1->torchvision) (3.0.2)\n"
          ]
        }
      ]
    },
    {
      "cell_type": "code",
      "source": [
        "from datasets import load_dataset\n",
        "from torch.utils.data import DataLoader\n",
        "from torchvision.transforms import Compose, RandomResizedCrop, RandomHorizontalFlip, Normalize, ToTensor\n",
        "from transformers import AutoFeatureExtractor, ViTForImageClassification\n",
        "import tqdm"
      ],
      "metadata": {
        "id": "qIh2Bwmn5Sbi"
      },
      "execution_count": 4,
      "outputs": []
    },
    {
      "cell_type": "code",
      "source": [
        "# Load pre-trained DeiT model\n",
        "model = ViTForImageClassification.from_pretrained('facebook/deit-base-patch16-224')\n",
        "\n",
        "num_classes = 3\n",
        "model.classifier = torch.nn.Linear(model.classifier.in_features, num_classes)"
      ],
      "metadata": {
        "id": "qqCoE_uR6kbz",
        "colab": {
          "base_uri": "https://localhost:8080/",
          "height": 185,
          "referenced_widgets": [
            "6a446db4761b4bccbc9948547932f898",
            "07aa82d269ca4c52ad9d76d648d38e00",
            "baf2fa2aa72c4929a49c1940868a36d1",
            "f9839345d6e342aabfc97939433b5183",
            "d9838f925b694575869cd9cc4224f586",
            "135ca36c217846f2bc11eafb91932f58",
            "d2e69c0bb7234f1e83110742fcb1bf27",
            "07d1920be75f4b24809b6cb14fcc369d",
            "4a9475712ca14bb59acf0e337f1420e8",
            "530b8e3941f8481db57dd659fdb9d88b",
            "55e5567ae8a3408fb8a2171d08d0d960",
            "386f4b2888e1498d80504b83b89e2aa7",
            "2554dad15c31442ca56372ede020c98a",
            "a00d94c119c3409da00eef79c294be76",
            "bbd9203cef1d49eba5905ebff2ca0e83",
            "7c2b2fc3bad14a9da3b7daa61f586f55",
            "2eb7ca4877084150ae6c77e301646324",
            "deddaf71e6b44b60a3af253a1602a4ab",
            "74af71ccd23e46c5a402ec9afd71912c",
            "339e36f5e53e44308bdca7efadd3e9d8",
            "93634b682abe4aa3a567c4e3d0bcdcaa",
            "6ce964e5e7a24576925832976131de91"
          ]
        },
        "outputId": "531dcdc8-5895-4ed9-f84b-9ff5cb6a6236"
      },
      "execution_count": 5,
      "outputs": [
        {
          "output_type": "stream",
          "name": "stderr",
          "text": [
            "/usr/local/lib/python3.10/dist-packages/huggingface_hub/utils/_auth.py:94: UserWarning: \n",
            "The secret `HF_TOKEN` does not exist in your Colab secrets.\n",
            "To authenticate with the Hugging Face Hub, create a token in your settings tab (https://huggingface.co/settings/tokens), set it as secret in your Google Colab and restart your session.\n",
            "You will be able to reuse this secret in all of your notebooks.\n",
            "Please note that authentication is recommended but still optional to access public models or datasets.\n",
            "  warnings.warn(\n"
          ]
        },
        {
          "output_type": "display_data",
          "data": {
            "text/plain": [
              "config.json:   0%|          | 0.00/69.6k [00:00<?, ?B/s]"
            ],
            "application/vnd.jupyter.widget-view+json": {
              "version_major": 2,
              "version_minor": 0,
              "model_id": "6a446db4761b4bccbc9948547932f898"
            }
          },
          "metadata": {}
        },
        {
          "output_type": "display_data",
          "data": {
            "text/plain": [
              "pytorch_model.bin:   0%|          | 0.00/346M [00:00<?, ?B/s]"
            ],
            "application/vnd.jupyter.widget-view+json": {
              "version_major": 2,
              "version_minor": 0,
              "model_id": "386f4b2888e1498d80504b83b89e2aa7"
            }
          },
          "metadata": {}
        }
      ]
    },
    {
      "cell_type": "code",
      "source": [
        "# Feature extractor for DeiT\n",
        "feature_extractor = AutoFeatureExtractor.from_pretrained('facebook/deit-base-patch16-224')\n",
        "\n",
        "# Define image transformations\n",
        "transform = Compose([\n",
        "    RandomResizedCrop(224),\n",
        "    RandomHorizontalFlip(),\n",
        "    ToTensor(),\n",
        "    Normalize(mean=feature_extractor.image_mean, std=feature_extractor.image_std),\n",
        "])\n",
        "\n",
        "# Load dataset using ImageFolder\n",
        "from torchvision.datasets import ImageFolder\n",
        "train_dataset = ImageFolder(\"/content/drive/MyDrive/Final_Final/Train\", transform=transform)\n",
        "val_dataset = ImageFolder(\"/content/drive/MyDrive/Final_Final/Test\", transform=transform)\n",
        "\n",
        "# Create dataloaders\n",
        "train_loader = DataLoader(train_dataset, batch_size=32, shuffle=True)\n",
        "val_loader = DataLoader(val_dataset, batch_size=32)\n"
      ],
      "metadata": {
        "colab": {
          "base_uri": "https://localhost:8080/",
          "height": 104,
          "referenced_widgets": [
            "0d5343de9ce64717aa4c96123fc43bc1",
            "b6bfb1eb973b4e60b8ab2b916e725935",
            "9ca082cba6c541c9aef67ec1fff408a8",
            "a183596d79bb4fdf9111ea735ef8f74c",
            "4c5cb073b58149e0b4fd99b9988af697",
            "e2190c4202ae40a08caf562ac6ccea69",
            "d1121ba778304b75a5ae62982c465e87",
            "8c661de2057d4e669c209ffea0457c3f",
            "16eb89dc172e4139873053273bb8dca1",
            "57b2bc221f3d4e0a83671a850236201c",
            "1867ddf12a6d4746a9b7e8b8e819ef2c"
          ]
        },
        "id": "AwEbDIPn5Sd4",
        "outputId": "e9f4f8d8-7786-4dc8-f45c-3b070feea9d1"
      },
      "execution_count": 6,
      "outputs": [
        {
          "output_type": "display_data",
          "data": {
            "text/plain": [
              "preprocessor_config.json:   0%|          | 0.00/160 [00:00<?, ?B/s]"
            ],
            "application/vnd.jupyter.widget-view+json": {
              "version_major": 2,
              "version_minor": 0,
              "model_id": "0d5343de9ce64717aa4c96123fc43bc1"
            }
          },
          "metadata": {}
        },
        {
          "output_type": "stream",
          "name": "stderr",
          "text": [
            "/usr/local/lib/python3.10/dist-packages/transformers/models/vit/feature_extraction_vit.py:28: FutureWarning: The class ViTFeatureExtractor is deprecated and will be removed in version 5 of Transformers. Please use ViTImageProcessor instead.\n",
            "  warnings.warn(\n"
          ]
        }
      ]
    },
    {
      "cell_type": "code",
      "source": [
        "import torch\n",
        "from torch.optim import AdamW\n",
        "from torch.optim.lr_scheduler import CosineAnnealingLR\n",
        "from torch.nn import CrossEntropyLoss\n",
        "\n",
        "# Define optimizer and learning rate scheduler\n",
        "optimizer = AdamW(model.parameters(), lr=5e-5)\n",
        "scheduler = CosineAnnealingLR(optimizer, T_max=10)\n",
        "\n",
        "# Loss function\n",
        "criterion = CrossEntropyLoss()"
      ],
      "metadata": {
        "id": "r-BTfiqa5Sgg"
      },
      "execution_count": 7,
      "outputs": []
    },
    {
      "cell_type": "code",
      "source": [
        "# train_losses = []\n",
        "# val_losses = []\n",
        "# train_accuracies = []\n",
        "# val_accuracies = []\n",
        "\n",
        "# from tqdm import tqdm\n",
        "\n",
        "# device = torch.device(\"cuda\" if torch.cuda.is_available() else \"cpu\")\n",
        "# model.to(device)\n",
        "\n",
        "# # Header for epoch tracking\n",
        "# print(f\"{'Epoch':<8}{'Train Loss':<15}{'Val Loss':<15}{'Val Accuracy':<15}\")\n",
        "# print(\"-\" * 50)\n",
        "\n",
        "# for epoch in range(1, 11):  # Number of epochs\n",
        "#     # Training loop\n",
        "#     model.train()\n",
        "#     train_loss = 0\n",
        "#     for images, labels in tqdm(train_loader, desc=f\"Training Epoch {epoch}\", leave=False):\n",
        "#         images, labels = images.to(device), labels.to(device)\n",
        "\n",
        "#         optimizer.zero_grad()\n",
        "#         outputs = model(images).logits\n",
        "#         loss = criterion(outputs, labels)\n",
        "#         loss.backward()\n",
        "#         optimizer.step()\n",
        "\n",
        "#         train_loss += loss.item()\n",
        "\n",
        "#     train_losses.append(train_loss)\n",
        "#     train_accuracies.append(train_accuracy)\n",
        "\n",
        "#     train_loss /= len(train_loader)\n",
        "\n",
        "#     # Validation loop\n",
        "#     model.eval()\n",
        "#     val_loss, correct = 0, 0\n",
        "#     with torch.no_grad():\n",
        "#         for images, labels in tqdm(val_loader, desc=f\"Validation Epoch {epoch}\", leave=False):\n",
        "#             images, labels = images.to(device), labels.to(device)\n",
        "\n",
        "#             outputs = model(images).logits\n",
        "#             loss = criterion(outputs, labels)\n",
        "#             val_loss += loss.item()\n",
        "#             correct += (outputs.argmax(dim=1) == labels).sum().item()\n",
        "\n",
        "\n",
        "#     val_loss /= len(val_loader)\n",
        "#     val_accuracy = correct / len(val_dataset)\n",
        "#     val_losses.append(val_loss)\n",
        "#     val_accuracies.append(val_accuracy)\n",
        "\n",
        "#     # Log epoch results in a tabular format\n",
        "#     tqdm.write(f\"{epoch:<8}{train_loss:<15.4f}{val_loss:<15.4f}{val_accuracy:<15.4f}\")\n",
        "\n",
        "#     scheduler.step()\n"
      ],
      "metadata": {
        "id": "w1Ho67mX5Slv"
      },
      "execution_count": 8,
      "outputs": []
    },
    {
      "cell_type": "code",
      "source": [
        "train_losses = []\n",
        "val_losses = []\n",
        "train_accuracies = []\n",
        "val_accuracies = []\n",
        "\n",
        "from tqdm import tqdm\n",
        "\n",
        "device = torch.device(\"cuda\" if torch.cuda.is_available() else \"cpu\")\n",
        "model.to(device)\n",
        "\n",
        "# Header for epoch tracking\n",
        "print(f\"{'Epoch':<8}{'Train Loss':<15}{'Val Loss':<15}{'Train Acc':<15}{'Val Accuracy':<15}\")\n",
        "print(\"-\" * 60)\n",
        "\n",
        "for epoch in range(1, 11):  # Number of epochs\n",
        "    # Training loop\n",
        "    model.train()\n",
        "    train_loss = 0\n",
        "    correct = 0\n",
        "    total_train_samples = 0\n",
        "    for images, labels in tqdm(train_loader, desc=f\"Training Epoch {epoch}\", leave=False):\n",
        "        images, labels = images.to(device), labels.to(device)\n",
        "        total_train_samples += labels.size(0)\n",
        "\n",
        "        optimizer.zero_grad()\n",
        "        outputs = model(images).logits\n",
        "        loss = criterion(outputs, labels)\n",
        "        loss.backward()\n",
        "        optimizer.step()\n",
        "\n",
        "        train_loss += loss.item()\n",
        "        correct += (outputs.argmax(dim=1) == labels).sum().item()\n",
        "\n",
        "    train_loss /= len(train_loader)  # Average train loss\n",
        "    train_accuracy = correct / total_train_samples  # Train accuracy\n",
        "\n",
        "    train_losses.append(train_loss)\n",
        "    train_accuracies.append(train_accuracy)\n",
        "\n",
        "    # Validation loop\n",
        "    model.eval()\n",
        "    val_loss, correct = 0, 0\n",
        "    total_val_samples = 0\n",
        "    with torch.no_grad():\n",
        "        for images, labels in tqdm(val_loader, desc=f\"Validation Epoch {epoch}\", leave=False):\n",
        "            images, labels = images.to(device), labels.to(device)\n",
        "            total_val_samples += labels.size(0)\n",
        "\n",
        "            outputs = model(images).logits\n",
        "            loss = criterion(outputs, labels)\n",
        "            val_loss += loss.item()\n",
        "            correct += (outputs.argmax(dim=1) == labels).sum().item()\n",
        "\n",
        "    val_loss /= len(val_loader)  # Average validation loss\n",
        "    val_accuracy = correct / total_val_samples  # Validation accuracy\n",
        "\n",
        "    val_losses.append(val_loss)\n",
        "    val_accuracies.append(val_accuracy)\n",
        "\n",
        "    # Log epoch results in a tabular format\n",
        "    tqdm.write(f\"{epoch:<8}{train_loss:<15.4f}{val_loss:<15.4f}{train_accuracy:<15.4f}{val_accuracy:<15.4f}\")\n",
        "\n",
        "    scheduler.step()\n"
      ],
      "metadata": {
        "colab": {
          "base_uri": "https://localhost:8080/"
        },
        "id": "u_khoed4F3S2",
        "outputId": "beec834d-aa54-4b1f-8914-a14604136e4c"
      },
      "execution_count": 9,
      "outputs": [
        {
          "output_type": "stream",
          "name": "stdout",
          "text": [
            "Epoch   Train Loss     Val Loss       Train Acc      Val Accuracy   \n",
            "------------------------------------------------------------\n"
          ]
        },
        {
          "output_type": "stream",
          "name": "stderr",
          "text": []
        },
        {
          "output_type": "stream",
          "name": "stdout",
          "text": [
            "1       0.5565         0.2900         0.7575         0.8992         \n"
          ]
        },
        {
          "output_type": "stream",
          "name": "stderr",
          "text": []
        },
        {
          "output_type": "stream",
          "name": "stdout",
          "text": [
            "2       0.1846         0.2617         0.9423         0.9096         \n"
          ]
        },
        {
          "output_type": "stream",
          "name": "stderr",
          "text": []
        },
        {
          "output_type": "stream",
          "name": "stdout",
          "text": [
            "3       0.1004         0.3418         0.9688         0.9225         \n"
          ]
        },
        {
          "output_type": "stream",
          "name": "stderr",
          "text": []
        },
        {
          "output_type": "stream",
          "name": "stdout",
          "text": [
            "4       0.0544         0.2995         0.9815         0.9199         \n"
          ]
        },
        {
          "output_type": "stream",
          "name": "stderr",
          "text": []
        },
        {
          "output_type": "stream",
          "name": "stdout",
          "text": [
            "5       0.0684         0.3207         0.9827         0.9173         \n"
          ]
        },
        {
          "output_type": "stream",
          "name": "stderr",
          "text": []
        },
        {
          "output_type": "stream",
          "name": "stdout",
          "text": [
            "6       0.0413         0.3607         0.9885         0.9044         \n"
          ]
        },
        {
          "output_type": "stream",
          "name": "stderr",
          "text": []
        },
        {
          "output_type": "stream",
          "name": "stdout",
          "text": [
            "7       0.0371         0.3273         0.9861         0.9225         \n"
          ]
        },
        {
          "output_type": "stream",
          "name": "stderr",
          "text": []
        },
        {
          "output_type": "stream",
          "name": "stdout",
          "text": [
            "8       0.0371         0.3033         0.9873         0.9380         \n"
          ]
        },
        {
          "output_type": "stream",
          "name": "stderr",
          "text": []
        },
        {
          "output_type": "stream",
          "name": "stdout",
          "text": [
            "9       0.0306         0.3113         0.9896         0.9276         \n"
          ]
        },
        {
          "output_type": "stream",
          "name": "stderr",
          "text": [
            "                                                                    "
          ]
        },
        {
          "output_type": "stream",
          "name": "stdout",
          "text": [
            "10      0.0390         0.2973         0.9838         0.9328         \n"
          ]
        },
        {
          "output_type": "stream",
          "name": "stderr",
          "text": [
            "\r"
          ]
        }
      ]
    },
    {
      "cell_type": "code",
      "source": [
        "all_labels = []\n",
        "all_preds = []"
      ],
      "metadata": {
        "id": "7goktmnBOpL2"
      },
      "execution_count": 10,
      "outputs": []
    },
    {
      "cell_type": "code",
      "source": [
        "model.eval()\n",
        "val_loss, correct = 0, 0\n",
        "with torch.no_grad():\n",
        "    for images, labels in tqdm(val_loader, desc=f\"Validation Epoch {epoch}\", leave=False):\n",
        "        images, labels = images.to(device), labels.to(device)\n",
        "\n",
        "        # Model predictions\n",
        "        outputs = model(images).logits\n",
        "        loss = criterion(outputs, labels)\n",
        "        val_loss += loss.item()\n",
        "\n",
        "        # Collect predictions and true labels\n",
        "        all_labels.extend(labels.cpu().numpy())  # Convert to CPU and NumPy array\n",
        "        all_preds.extend(outputs.argmax(dim=1).cpu().numpy())  # Predicted labels\n",
        "\n",
        "        # Accuracy calculation\n",
        "        correct += (outputs.argmax(dim=1) == labels).sum().item()\n",
        "\n",
        "# Final loss and accuracy\n",
        "val_loss /= len(val_loader)\n",
        "final_accuracy = correct / len(val_dataset)\n",
        "\n",
        "print(\"\\nTraining Complete!\")\n",
        "print(f\"Final Validation Loss: {val_loss:.4f}\")\n",
        "print(f\"Final Validation Accuracy: {final_accuracy:.4f}\")"
      ],
      "metadata": {
        "colab": {
          "base_uri": "https://localhost:8080/"
        },
        "id": "yuaEokKS5SoT",
        "outputId": "2f15ff6a-8c48-4dc5-d658-9315085fdffc"
      },
      "execution_count": 11,
      "outputs": [
        {
          "output_type": "stream",
          "name": "stderr",
          "text": [
            "                                                                    "
          ]
        },
        {
          "output_type": "stream",
          "name": "stdout",
          "text": [
            "\n",
            "Training Complete!\n",
            "Final Validation Loss: 0.2940\n",
            "Final Validation Accuracy: 0.9380\n"
          ]
        },
        {
          "output_type": "stream",
          "name": "stderr",
          "text": [
            "\r"
          ]
        }
      ]
    },
    {
      "cell_type": "code",
      "source": [
        "import torch\n",
        "from sklearn.metrics import (confusion_matrix, precision_score, recall_score, f1_score,\n",
        "                             matthews_corrcoef, cohen_kappa_score)\n",
        "import matplotlib.pyplot as plt\n",
        "import seaborn as sns\n",
        "import numpy as np\n",
        "\n",
        "# Assuming 'all_labels' and 'all_preds' are collected from your validation loop\n",
        "\n",
        "# Calculate confusion matrix\n",
        "conf_matrix = confusion_matrix(all_labels, all_preds)\n",
        "num_classes = conf_matrix.shape[0]\n",
        "\n",
        "# Initialize variables for overall metrics\n",
        "total_TP, total_FN, total_TN, total_FP = 0, 0, 0, 0\n",
        "\n",
        "# Extract TN, FP, FN, TP and calculate per-class metrics\n",
        "per_class_metrics = []\n",
        "for i in range(num_classes):\n",
        "    TP = conf_matrix[i, i]\n",
        "    FN = conf_matrix[i, :].sum() - TP\n",
        "    FP = conf_matrix[:, i].sum() - TP\n",
        "    TN = conf_matrix.sum() - (TP + FP + FN)\n",
        "\n",
        "    # Accumulate overall values\n",
        "    total_TP += TP\n",
        "    total_FN += FN\n",
        "    total_FP += FP\n",
        "    total_TN += TN\n",
        "\n",
        "    # Append per-class metrics\n",
        "    per_class_metrics.append({\n",
        "        'class': f'Class {i}',\n",
        "        'accuracy': (TP + TN) / (TP + TN + FP + FN),\n",
        "        'sensitivity': TP / (TP + FN) if (TP + FN) > 0 else 0,  # Avoid division by zero\n",
        "        'specificity': TN / (TN + FP) if (TN + FP) > 0 else 0,  # Avoid division by zero\n",
        "    })\n"
      ],
      "metadata": {
        "id": "LKYuUOEqzSzb"
      },
      "execution_count": 12,
      "outputs": []
    },
    {
      "cell_type": "code",
      "source": [
        "accuracy = np.trace(conf_matrix) / conf_matrix.sum()\n",
        "sensitivity = total_TP / (total_TP + total_FN)\n",
        "specificity = total_TN / (total_TN + total_FP)\n",
        "\n",
        "# Calculate other metrics\n",
        "precision = precision_score(all_labels, all_preds, average=\"weighted\")\n",
        "f1 = f1_score(all_labels, all_preds, average=\"weighted\")\n",
        "mcc = matthews_corrcoef(all_labels, all_preds)\n",
        "kappa = cohen_kappa_score(all_labels, all_preds)\n",
        "\n",
        "# Print final overall values\n",
        "print(\"\\nOverall Metrics:\")\n",
        "print(f\"Overall Accuracy: {accuracy * 100:.2f}%\")\n",
        "print(f\"Overall Sensitivity (Recall): {sensitivity * 100:.2f}%\")\n",
        "print(f\"Overall Specificity: {specificity * 100:.2f}%\")\n",
        "print(f\"F1 Score (Weighted): {f1 * 100:.2f}%\")\n",
        "print(f\"Precision (Weighted): {precision * 100:.2f}%\")\n",
        "print(f\"Matthews Correlation Coefficient: {mcc:.4f}\")\n",
        "print(f\"Cohen's Kappa: {kappa:.4f}\")\n",
        "\n",
        "# To Copy easily:\n",
        "print(f\"{accuracy * 100:.2f}%\")\n",
        "print(f\"{sensitivity * 100:.2f}%\")\n",
        "print(f\"{specificity * 100:.2f}%\")\n",
        "print(f\"{f1 * 100:.2f}%\")\n",
        "print(f\"{precision * 100:.2f}%\")\n",
        "print(f\"{mcc:.4f}\")\n",
        "print(f\"{kappa:.4f}\")"
      ],
      "metadata": {
        "colab": {
          "base_uri": "https://localhost:8080/"
        },
        "id": "evE47YLczS1y",
        "outputId": "30a64735-01a8-49bb-ea43-8a02ff59b15d"
      },
      "execution_count": 13,
      "outputs": [
        {
          "output_type": "stream",
          "name": "stdout",
          "text": [
            "\n",
            "Overall Metrics:\n",
            "Overall Accuracy: 93.80%\n",
            "Overall Sensitivity (Recall): 93.80%\n",
            "Overall Specificity: 96.90%\n",
            "F1 Score (Weighted): 93.77%\n",
            "Precision (Weighted): 93.81%\n",
            "Matthews Correlation Coefficient: 0.9062\n",
            "Cohen's Kappa: 0.9058\n",
            "93.80%\n",
            "93.80%\n",
            "96.90%\n",
            "93.77%\n",
            "93.81%\n",
            "0.9062\n",
            "0.9058\n"
          ]
        }
      ]
    },
    {
      "cell_type": "code",
      "source": [
        "import matplotlib.pyplot as plt\n",
        "import seaborn as sns\n",
        "import numpy as np\n",
        "\n",
        "# Metrics summary (reuse variables from earlier calculations)\n",
        "metrics = {\n",
        "    \"Accuracy\": accuracy,\n",
        "    \"Sensitivity (Recall)\": np.mean(sensitivity),\n",
        "    \"Specificity\": np.mean(specificity),\n",
        "    \"F1 Score (Weighted)\": f1,\n",
        "    \"Precision (Weighted)\": precision,\n",
        "    \"MCC\": mcc,\n",
        "    \"Kappa\": kappa,\n",
        "}\n",
        "\n",
        "# Print all metrics for reference\n",
        "for key, value in metrics.items():\n",
        "    print(f\"{key}: {value:.4f}\")\n",
        "\n",
        "# Plot the confusion matrix\n",
        "plt.figure(figsize=(8, 6))\n",
        "sns.heatmap(conf_matrix, annot=True, fmt='d', cmap='Blues', xticklabels=True, yticklabels=True)\n",
        "plt.xlabel(\"Predicted Label\")\n",
        "plt.ylabel(\"True Label\")\n",
        "plt.title(\"Confusion Matrix\")\n",
        "plt.show()\n",
        "\n",
        "# Plot metrics as a bar chart\n",
        "plt.figure(figsize=(10, 6))\n",
        "plt.barh(list(metrics.keys()), list(metrics.values()), color=\"skyblue\")\n",
        "plt.xlabel(\"Metric Value\")\n",
        "plt.title(\"Model Performance Metrics\")\n",
        "plt.xlim(0, 1)  # Metrics are between 0 and 1\n",
        "plt.show()\n"
      ],
      "metadata": {
        "colab": {
          "base_uri": "https://localhost:8080/",
          "height": 1000
        },
        "id": "XLgiGsPXL1sU",
        "outputId": "e1672949-e102-40f7-c639-92051084fbf6"
      },
      "execution_count": 14,
      "outputs": [
        {
          "output_type": "stream",
          "name": "stdout",
          "text": [
            "Accuracy: 0.9380\n",
            "Sensitivity (Recall): 0.9380\n",
            "Specificity: 0.9690\n",
            "F1 Score (Weighted): 0.9377\n",
            "Precision (Weighted): 0.9381\n",
            "MCC: 0.9062\n",
            "Kappa: 0.9058\n"
          ]
        },
        {
          "output_type": "display_data",
          "data": {
            "text/plain": [
              "<Figure size 800x600 with 2 Axes>"
            ],
            "image/png": "[encoded data removed]"
          },
          "metadata": {}
        },
        {
          "output_type": "display_data",
          "data": {
            "text/plain": [
              "<Figure size 1000x600 with 1 Axes>"
            ],
            "image/png": "[encoded data removed]"
          },
          "metadata": {}
        }
      ]
    },
    {
      "cell_type": "code",
      "source": [
        "\n",
        "\n",
        "\n",
        "# # Calculate training accuracy\n",
        "# train_correct = 0\n",
        "# for images, labels in train_loader:\n",
        "#     images, labels = images.to(device), labels.to(device)\n",
        "#     outputs = model(images).logits\n",
        "#     train_correct += (outputs.argmax(dim=1) == labels).sum().item()\n",
        "# train_accuracy = train_correct / len(train_dataset)\n",
        "\n",
        "# # Append results for plotting\n",
        "# train_losses.append(train_loss)\n",
        "# val_losses.append(val_loss)\n",
        "# train_accuracies.append(train_accuracy)\n",
        "# val_accuracies.append(val_accuracy)\n"
      ],
      "metadata": {
        "id": "ROItGOduL1vT"
      },
      "execution_count": 15,
      "outputs": []
    },
    {
      "cell_type": "code",
      "source": [
        "epochs = range(1, len(train_losses) + 1)\n",
        "\n",
        "# Plot Loss Curves\n",
        "plt.figure(figsize=(10, 6))\n",
        "plt.plot(epochs, train_losses, label=\"Training Loss\", marker=\"o\")\n",
        "plt.plot(epochs, val_losses, label=\"Validation Loss\", marker=\"x\")\n",
        "plt.xlabel(\"Epochs\")\n",
        "plt.ylabel(\"Loss\")\n",
        "plt.title(\"Training and Validation Loss\")\n",
        "plt.legend()\n",
        "plt.show()\n",
        "\n",
        "\n",
        "# Plot Accuracy Curves\n",
        "plt.figure(figsize=(10, 6))\n",
        "plt.plot(epochs, train_accuracies, label=\"Training Accuracy\", marker=\"o\")\n",
        "plt.plot(epochs, val_accuracies, label=\"Validation Accuracy\", marker=\"x\")\n",
        "plt.xlabel(\"Epochs\")\n",
        "plt.ylabel(\"Accuracy\")\n",
        "plt.title(\"Training and Validation Accuracy\")\n",
        "plt.legend()\n",
        "plt.show()\n"
      ],
      "metadata": {
        "colab": {
          "base_uri": "https://localhost:8080/",
          "height": 1000
        },
        "id": "orgt0oobL1xz",
        "outputId": "48dbf56c-80bf-4f35-a0a7-83ee7b4c9502"
      },
      "execution_count": 16,
      "outputs": [
        {
          "output_type": "display_data",
          "data": {
            "text/plain": [
              "<Figure size 1000x600 with 1 Axes>"
            ],
            "image/png": "[encoded data removed]"
          },
          "metadata": {}
        },
        {
          "output_type": "display_data",
          "data": {
            "text/plain": [
              "<Figure size 1000x600 with 1 Axes>"
            ],
            "image/png": "[encoded data removed]"
          },
          "metadata": {}
        }
      ]
    },
    {
      "cell_type": "code",
      "source": [],
      "metadata": {
        "id": "kENb6pY3L10k"
      },
      "execution_count": 16,
      "outputs": []
    },
    {
      "cell_type": "code",
      "source": [
        "# plt.figure(figsize=(8, 6))\n",
        "# sns.heatmap(conf_matrix, annot=True, fmt='d', cmap='Blues', xticklabels=True, yticklabels=True)\n",
        "# plt.xlabel('Predicted Label')\n",
        "# plt.ylabel('True Label')\n",
        "# plt.title('Confusion Matrix')\n",
        "# plt.show()\n",
        "\n",
        "# # Plot Metrics\n",
        "# metrics = [accuracy, sensitivity, specificity, precision, f1, mcc, kappa]\n",
        "# metric_names = [\"Accuracy\", \"Sensitivity\", \"Specificity\", \"Precision\", \"F1 Score\", \"MCC\", \"Kappa\"]\n",
        "\n",
        "# plt.figure(figsize=(10, 6))\n",
        "# plt.barh(metric_names, metrics, color=\"skyblue\")\n",
        "# plt.xlabel(\"Metric Value\")\n",
        "# plt.title(\"Model Metrics\")\n",
        "# plt.xlim(0, 1)  # Metrics are between 0 and 1\n",
        "# plt.show()\n",
        "\n",
        "# # Assuming 'pretrained_vit_results' holds your loss and accuracy data for training and testing\n",
        "# epochs = range(1, len(pretrained_vit_results['train_loss']) + 1)\n",
        "\n",
        "# # Test Loss Curve\n",
        "# plt.figure(figsize=(10, 6))\n",
        "# plt.plot(epochs, pretrained_vit_results['test_loss'], label='Test Loss', marker='o')\n",
        "# plt.plot(epochs, pretrained_vit_results['train_loss'], label='Training Loss', marker='x')\n",
        "# plt.xlabel('Epochs')\n",
        "# plt.ylabel('Loss')\n",
        "# plt.title('Test and Training Loss Curve')\n",
        "# plt.legend()\n",
        "# plt.show()\n",
        "\n",
        "# print(\"Test Loss:\", pretrained_vit_results['test_loss'][-1])\n",
        "# print(\"Training Loss:\", pretrained_vit_results['train_loss'][-1])\n",
        "\n",
        "# # Test Accuracy Curve\n",
        "# plt.figure(figsize=(10, 6))\n",
        "# plt.plot(epochs, pretrained_vit_results['test_acc'], label='Test Accuracy', marker='o')\n",
        "# plt.plot(epochs, pretrained_vit_results['train_acc'], label='Training Accuracy', marker='x')\n",
        "# plt.xlabel('Epochs')\n",
        "# plt.ylabel('Accuracy')\n",
        "# plt.title('Test and Training Accuracy Curve')\n",
        "# plt.legend()\n",
        "# plt.show()\n",
        "\n",
        "# print(\"Test Accuracy:\", pretrained_vit_results['test_acc'][-1])\n",
        "# print(\"Training Accuracy:\", pretrained_vit_results['train_acc'][-1])"
      ],
      "metadata": {
        "id": "Qp9XGg-EzY2z"
      },
      "execution_count": 19,
      "outputs": []
    },
    {
      "cell_type": "code",
      "source": [],
      "metadata": {
        "id": "Kot08_BuzbOJ"
      },
      "execution_count": null,
      "outputs": []
    }
  ]
}